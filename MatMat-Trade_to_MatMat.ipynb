{
 "cells": [
  {
   "attachments": {},
   "cell_type": "markdown",
   "metadata": {},
   "source": [
    "# Exploratory notebook for IMACLIM data-use within MATMat-Trade to input in MatMat"
   ]
  },
  {
   "attachments": {},
   "cell_type": "markdown",
   "metadata": {},
   "source": [
    "### Imports "
   ]
  },
  {
   "cell_type": "code",
   "execution_count": 3,
   "metadata": {},
   "outputs": [],
   "source": [
    "# make the necessary imports\n",
    "import tqdm\n",
    "import shutil\n",
    "import warnings\n",
    "import pandas as pd\n",
    "import numpy as np\n",
    "import multiprocessing\n",
    "\n",
    "\n",
    "from main import Model,load_model\n",
    "from src.utils import footprint_extractor,get_import_mean_stressor,get_total_imports_region,recal_stressor_per_region,get_total_imports_region,multi_footprints_extractor,save_footprints,save_Coef_Row\n",
    "from src.scenarios import DICT_SCENARIOS\n",
    "from src.advance import extract_data\n",
    "from src.figures import*\n",
    "from src.stressors import GHG_STRESSOR_NAMES,GHG_AND_MATERIALS_PARAM,MATERIAL_STRESSOR_NAMES,STRESSOR_DICT_GHG_MAT_DETAIL"
   ]
  },
  {
   "attachments": {},
   "cell_type": "markdown",
   "metadata": {},
   "source": [
    "### Loading/building the model"
   ]
  },
  {
   "cell_type": "code",
   "execution_count": 5,
   "metadata": {},
   "outputs": [
    {
     "name": "stdout",
     "output_type": "stream",
     "text": [
      "Loading data... (may take a few minutes)\n",
      "Data loaded successfully !\n"
     ]
    }
   ],
   "source": [
    "#c'est ici que l'on choisis le niveau d'aggrégation, ils sont définis dans \"data/aggragation/NOM_DE_L_AGGREG.xlsx\"\n",
    "model_no_cap = Model(aggregation_name=\"MatMat_sectors_all_countries\",stressor_params=GHG_AND_MATERIALS_PARAM,exiobase_vanilla=True,calib=True)\n",
    "\n",
    "#Le paramètre \"exiobase_vanilla\" permet d'ignorer la recalibration sur la capital que tu avais mise en place, histoire d'avoir de résultats plus facilement comparable\n",
    "# si \"exiobase_vanilla\" = False alors la recalibration a lieu\n",
    "\n",
    "#ignore performace warnings\n",
    "warnings.simplefilter(action='ignore', category=pd.errors.PerformanceWarning)"
   ]
  },
  {
   "attachments": {},
   "cell_type": "markdown",
   "metadata": {},
   "source": [
    "### Building the counterfactual scenarios"
   ]
  },
  {
   "cell_type": "code",
   "execution_count": null,
   "metadata": {},
   "outputs": [],
   "source": [
    "scenario= \"INDC\"   #the scenarios of IMACLIM we will be using\n",
    "YEAR=2050\n",
    "\n",
    "model_no_cap.new_counterfactual(\"IMACLIM_all_\"+YEAR+\"_\"+scenario, DICT_SCENARIOS[\"emissivity_IMACLIM\"], year=YEAR,scenario=scenario)\n",
    "model_no_cap.modify_counterfactual(\"IMACLIM_all_\"+YEAR+\"_\"+scenario,DICT_SCENARIOS[\"technical_change_IMACLIM\"], year=YEAR,scenario=scenario)\n",
    "# We have created a counterfactual scenario named \"IMACLIM_all_2050_INDC\" for the year 2050 based on IMACLIM trends"
   ]
  },
  {
   "cell_type": "code",
   "execution_count": null,
   "metadata": {},
   "outputs": [],
   "source": [
    "# here we build the different variation of our trade sceanrios for both the base year and 2050\n",
    "\n",
    "# for the 2050 trade scenario we use the method \"modify counterfactual\" to apply the scenarios to the already existing counterfactual \"IMACLIM_all_2050_INDC\"\n",
    "\n",
    "model_no_cap.new_counterfactual(\"best_final\",DICT_SCENARIOS[\"best final demand\"])\n",
    "model_no_cap.new_counterfactual(\"best\",DICT_SCENARIOS[\"best\"])\n",
    "model_no_cap.modify_counterfactual(\"IMACLIM_all_2050_INDC\",DICT_SCENARIOS[\"best final demand\"],new_name=\"best_final_2050\")\n",
    "model_no_cap.modify_counterfactual(\"IMACLIM_all_2050_INDC\",DICT_SCENARIOS[\"best\"],new_name=\"best_2050\")\n",
    "model_no_cap.new_counterfactual(\"best_scope_1\",DICT_SCENARIOS[\"best\"],scope=1)\n",
    "model_no_cap.modify_counterfactual(\"IMACLIM_all_2050_INDC\",DICT_SCENARIOS[\"best\"],new_name=\"best_2050_scope_1\",scope=1)"
   ]
  },
  {
   "cell_type": "code",
   "execution_count": null,
   "metadata": {},
   "outputs": [],
   "source": [
    "model_no_cap.save()"
   ]
  },
  {
   "cell_type": "markdown",
   "metadata": {},
   "source": [
    "### Producing CoefRoW excels"
   ]
  },
  {
   "cell_type": "code",
   "execution_count": 6,
   "metadata": {},
   "outputs": [],
   "source": [
    "Model_name=\"MatMat_sectors_all_countries_without_capital\" # this is the name that will be used to name the excels\n",
    "Path=\"../Outputs/CoefRow/{}.xlsx\".format(Model_name) # path to save excels "
   ]
  },
  {
   "cell_type": "code",
   "execution_count": 7,
   "metadata": {},
   "outputs": [],
   "source": [
    "# opening the excels SRIO sheets to be able to translate from hybrid to monetaire units \n",
    "# make the necesssary adjustements to the path\n",
    "\n",
    "SRIO_hyb=pd.read_excel(\"../Data/MatMat/SRIO_FR 2015.xlsx\",sheet_name=\"hybride\",header=[0,1,2],index_col=[0,1,2,3])\n",
    "SRIO_monetaire=pd.read_excel(\"../Data/MatMat/SRIO_FR 2015.xlsx\",sheet_name=\"monetaire\",header=[0,1,2],index_col=[0,1,2,3])"
   ]
  },
  {
   "cell_type": "code",
   "execution_count": 8,
   "metadata": {},
   "outputs": [],
   "source": [
    "# isolating the gross outputs\n",
    "X_hyb=SRIO_hyb.loc[:,(slice(None),slice(None),\"x\")]\n",
    "X_monetaire=SRIO_monetaire.loc[:,(slice(None),slice(None),\"x\")]"
   ]
  },
  {
   "cell_type": "code",
   "execution_count": 9,
   "metadata": {},
   "outputs": [],
   "source": [
    "Transition_hybride_monetaire_RoW=(X_monetaire/X_hyb).fillna(0).loc[\"RoW\"]\n",
    "Transition_hybride_monetaire_RoW=Transition_hybride_monetaire_RoW.reset_index([\"category\",\"sub_category\"])[(\"Supply\",\"Supply\",\"x\")].fillna(0)"
   ]
  },
  {
   "cell_type": "code",
   "execution_count": 10,
   "metadata": {},
   "outputs": [],
   "source": [
    "save_Coef_Row(model_no_cap,Transition_hybride_monetaire_RoW,Path,stressor_lists=STRESSOR_DICT_GHG_MAT_DETAIL)"
   ]
  },
  {
   "cell_type": "code",
   "execution_count": null,
   "metadata": {},
   "outputs": [],
   "source": []
  }
 ],
 "metadata": {
  "kernelspec": {
   "display_name": "MatMat-Trade-env",
   "language": "python",
   "name": "python3"
  },
  "language_info": {
   "codemirror_mode": {
    "name": "ipython",
    "version": 3
   },
   "file_extension": ".py",
   "mimetype": "text/x-python",
   "name": "python",
   "nbconvert_exporter": "python",
   "pygments_lexer": "ipython3",
   "version": "3.8.15"
  },
  "orig_nbformat": 4
 },
 "nbformat": 4,
 "nbformat_minor": 2
}
