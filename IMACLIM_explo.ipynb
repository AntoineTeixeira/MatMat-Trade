{
 "cells": [
  {
   "cell_type": "markdown",
   "metadata": {},
   "source": [
    "# Exploratory notebook for IMACLIM within MATMat-Trade"
   ]
  },
  {
   "cell_type": "markdown",
   "metadata": {},
   "source": [
    "## Creating the MatMat-Trade model base on IMACLIM regions and sectors but on EXIOBASE 3 data"
   ]
  },
  {
   "cell_type": "code",
   "execution_count": 1,
   "metadata": {},
   "outputs": [],
   "source": [
    "# make the necessary imports\n",
    "import tqdm\n",
    "import shutil\n",
    "import warnings\n",
    "import pandas as pd\n",
    "import numpy as np\n",
    "import multiprocessing\n",
    "\n",
    "\n",
    "from main import Model,load_model\n",
    "from src.utils import footprint_extractor,get_import_mean_stressor,get_total_imports_region\n",
    "from src.scenarios import DICT_SCENARIOS\n",
    "from src.advance import extract_data"
   ]
  },
  {
   "cell_type": "code",
   "execution_count": 2,
   "metadata": {},
   "outputs": [],
   "source": [
    "# for some reason saved model has issues with the names of regions so we rebuild the model each times\n",
    "\n",
    "\n",
    "shutil.rmtree('data/models/2015__pxp__IMACLIM_format__ghg')"
   ]
  },
  {
   "cell_type": "code",
   "execution_count": 3,
   "metadata": {},
   "outputs": [
    {
     "name": "stdout",
     "output_type": "stream",
     "text": [
      "Loading data... (may take a few minutes)\n",
      "Data loaded successfully !\n"
     ]
    }
   ],
   "source": [
    "\n",
    "\n",
    "model = Model(aggregation_name=\"IMACLIM_format\")\n",
    "\n",
    "#ignore performace warnings\n",
    "warnings.simplefilter(action='ignore', category=pd.errors.PerformanceWarning)"
   ]
  },
  {
   "cell_type": "markdown",
   "metadata": {},
   "source": [
    "## Creating the scenarios based on IMACLIM scenarios and the projected changes "
   ]
  },
  {
   "cell_type": "code",
   "execution_count": 4,
   "metadata": {},
   "outputs": [
    {
     "name": "stderr",
     "output_type": "stream",
     "text": [
      "  0%|          | 0/1 [00:02<?, ?it/s]\n"
     ]
    },
    {
     "ename": "KeyboardInterrupt",
     "evalue": "",
     "output_type": "error",
     "traceback": [
      "\u001b[0;31m---------------------------------------------------------------------------\u001b[0m",
      "\u001b[0;31mKeyboardInterrupt\u001b[0m                         Traceback (most recent call last)",
      "Cell \u001b[0;32mIn [4], line 8\u001b[0m\n\u001b[1;32m      4\u001b[0m scenario_list\u001b[39m=\u001b[39m[\u001b[39m\"\u001b[39m\u001b[39mINDC\u001b[39m\u001b[39m\"\u001b[39m,\u001b[39m\"\u001b[39m\u001b[39mINDC2020_1000\u001b[39m\u001b[39m\"\u001b[39m,\u001b[39m\"\u001b[39m\u001b[39mINDC2030_1000\u001b[39m\u001b[39m\"\u001b[39m,\u001b[39m\"\u001b[39m\u001b[39mINDC2020_1600\u001b[39m\u001b[39m\"\u001b[39m,\u001b[39m\"\u001b[39m\u001b[39mINDC2020_400\u001b[39m\u001b[39m\"\u001b[39m,\u001b[39m\"\u001b[39m\u001b[39mINDC2030_1600\u001b[39m\u001b[39m\"\u001b[39m,\u001b[39m\"\u001b[39m\u001b[39mbaseline\u001b[39m\u001b[39m\"\u001b[39m]\n\u001b[1;32m      6\u001b[0m \u001b[39mfor\u001b[39;00m scenario \u001b[39min\u001b[39;00m tqdm\u001b[39m.\u001b[39mtqdm(scenario_list[:\u001b[39m1\u001b[39m]):\n\u001b[1;32m      7\u001b[0m     \u001b[39m# create 2050 version of each scenarios applying emissivity changes and then technological changes\u001b[39;00m\n\u001b[0;32m----> 8\u001b[0m     model\u001b[39m.\u001b[39;49mnew_counterfactual(\u001b[39m\"\u001b[39;49m\u001b[39mIMACLIM_all_2050_\u001b[39;49m\u001b[39m\"\u001b[39;49m\u001b[39m+\u001b[39;49mscenario, DICT_SCENARIOS[\u001b[39m\"\u001b[39;49m\u001b[39memissivity_IMACLIM\u001b[39;49m\u001b[39m\"\u001b[39;49m], year\u001b[39m=\u001b[39;49m\u001b[39m2050\u001b[39;49m,scenario\u001b[39m=\u001b[39;49mscenario)\n\u001b[1;32m      9\u001b[0m     model\u001b[39m.\u001b[39mmodify_counterfactual(\u001b[39m\"\u001b[39m\u001b[39mIMACLIM_all_2050_\u001b[39m\u001b[39m\"\u001b[39m\u001b[39m+\u001b[39mscenario,DICT_SCENARIOS[\u001b[39m\"\u001b[39m\u001b[39mtechnical_change_IMACLIM\u001b[39m\u001b[39m\"\u001b[39m], year\u001b[39m=\u001b[39m\u001b[39m2050\u001b[39m,scenario\u001b[39m=\u001b[39mscenario)\n\u001b[1;32m     10\u001b[0m     \u001b[39m# create the 2050 version based on production changes observed in IMACLIM (since we work on groos output, we need a reference to apply relative change : x_ref), with name new_name\u001b[39;00m\n",
      "File \u001b[0;32m~/Documents/Stage/MatMat-Trade/src/model.py:126\u001b[0m, in \u001b[0;36mModel.new_counterfactual\u001b[0;34m(self, name, scenar_function, **kwargs)\u001b[0m\n\u001b[1;32m    113\u001b[0m \u001b[39mdef\u001b[39;00m \u001b[39mnew_counterfactual\u001b[39m(\n\u001b[1;32m    114\u001b[0m     \u001b[39mself\u001b[39m,\n\u001b[1;32m    115\u001b[0m     name: \u001b[39mstr\u001b[39m,\n\u001b[1;32m    116\u001b[0m     scenar_function: Callable[[\u001b[39m\"\u001b[39m\u001b[39mModel\u001b[39m\u001b[39m\"\u001b[39m, ], pymrio\u001b[39m.\u001b[39mIOSystem],\n\u001b[1;32m    117\u001b[0m     \u001b[39m*\u001b[39m\u001b[39m*\u001b[39mkwargs\n\u001b[1;32m    118\u001b[0m     ) \u001b[39m-\u001b[39m\u001b[39m>\u001b[39m \u001b[39mNone\u001b[39;00m:\n\u001b[1;32m    119\u001b[0m     \u001b[39m\"\"\"Creates a new counterfactual from scenario_parameters in self.counterfactuals\u001b[39;00m\n\u001b[1;32m    120\u001b[0m \n\u001b[1;32m    121\u001b[0m \u001b[39m    Args:\u001b[39;00m\n\u001b[0;32m   (...)\u001b[0m\n\u001b[1;32m    124\u001b[0m \u001b[39m        reloc (bool, optional): True if relocation is allowed. Defaults to False.\u001b[39;00m\n\u001b[1;32m    125\u001b[0m \u001b[39m    \"\"\"\u001b[39;00m\n\u001b[0;32m--> 126\u001b[0m     \u001b[39mself\u001b[39m\u001b[39m.\u001b[39mcounterfactuals[name] \u001b[39m=\u001b[39m Counterfactual(name, \u001b[39mself\u001b[39;49m, scenar_function, \u001b[39m*\u001b[39;49m\u001b[39m*\u001b[39;49mkwargs)\n",
      "File \u001b[0;32m~/Documents/Stage/MatMat-Trade/src/model.py:382\u001b[0m, in \u001b[0;36mCounterfactual.__init__\u001b[0;34m(self, name, model, scenar_function, **kwargs)\u001b[0m\n\u001b[1;32m    380\u001b[0m \u001b[39mself\u001b[39m\u001b[39m.\u001b[39mname \u001b[39m=\u001b[39m name\n\u001b[1;32m    381\u001b[0m \u001b[39mself\u001b[39m\u001b[39m.\u001b[39mreloc\u001b[39m=\u001b[39mkwargs\u001b[39m.\u001b[39mget(\u001b[39m\"\u001b[39m\u001b[39mreloc\u001b[39m\u001b[39m\"\u001b[39m,\u001b[39mFalse\u001b[39;00m)\n\u001b[0;32m--> 382\u001b[0m \u001b[39mself\u001b[39m\u001b[39m.\u001b[39miot \u001b[39m=\u001b[39m build_counterfactual_data(\n\u001b[1;32m    383\u001b[0m     model\u001b[39m=\u001b[39;49mmodel, scenar_function\u001b[39m=\u001b[39;49mscenar_function, \u001b[39m*\u001b[39;49m\u001b[39m*\u001b[39;49mkwargs\n\u001b[1;32m    384\u001b[0m )\n\u001b[1;32m    385\u001b[0m \u001b[39mself\u001b[39m\u001b[39m.\u001b[39mfigures_dir \u001b[39m=\u001b[39m model\u001b[39m.\u001b[39mfigures_dir \u001b[39m/\u001b[39m name\n\u001b[1;32m    386\u001b[0m \u001b[39mif\u001b[39;00m \u001b[39mnot\u001b[39;00m os\u001b[39m.\u001b[39mpath\u001b[39m.\u001b[39misdir(\u001b[39mself\u001b[39m\u001b[39m.\u001b[39mfigures_dir):\n",
      "File \u001b[0;32m~/Documents/Stage/MatMat-Trade/src/utils.py:329\u001b[0m, in \u001b[0;36mbuild_counterfactual_data\u001b[0;34m(model, scenar_function, **kwargs)\u001b[0m\n\u001b[1;32m    312\u001b[0m \u001b[39mdef\u001b[39;00m \u001b[39mbuild_counterfactual_data\u001b[39m(\n\u001b[1;32m    313\u001b[0m     model,\n\u001b[1;32m    314\u001b[0m     scenar_function,\n\u001b[1;32m    315\u001b[0m     \u001b[39m*\u001b[39m\u001b[39m*\u001b[39mkwargs\n\u001b[1;32m    316\u001b[0m ) \u001b[39m-\u001b[39m\u001b[39m>\u001b[39m pymrio\u001b[39m.\u001b[39mIOSystem:\n\u001b[1;32m    317\u001b[0m     \u001b[39m\"\"\"Builds the pymrio object given reference's settings and the scenario parameters\u001b[39;00m\n\u001b[1;32m    318\u001b[0m \n\u001b[1;32m    319\u001b[0m \u001b[39m    Args:\u001b[39;00m\n\u001b[0;32m   (...)\u001b[0m\n\u001b[1;32m    326\u001b[0m \u001b[39m        pymrio.IOSystem: modified pymrio model\u001b[39;00m\n\u001b[1;32m    327\u001b[0m \u001b[39m    \"\"\"\u001b[39;00m\n\u001b[0;32m--> 329\u001b[0m     iot\u001b[39m=\u001b[39mscenar_function(model\u001b[39m=\u001b[39;49mmodel,\u001b[39m*\u001b[39;49m\u001b[39m*\u001b[39;49mkwargs)\n\u001b[1;32m    331\u001b[0m     iot\u001b[39m.\u001b[39mcalc_all()\n\u001b[1;32m    333\u001b[0m     iot\u001b[39m.\u001b[39mstressor_extension \u001b[39m=\u001b[39m recal_stressor_per_region(\n\u001b[1;32m    334\u001b[0m         iot\u001b[39m=\u001b[39miot,\n\u001b[1;32m    335\u001b[0m     )\n",
      "File \u001b[0;32m~/Documents/Stage/MatMat-Trade/src/scenarios.py:427\u001b[0m, in \u001b[0;36memissivity_imaclim\u001b[0;34m(model, year, scenario, **kwargs)\u001b[0m\n\u001b[1;32m    425\u001b[0m \u001b[39mdef\u001b[39;00m \u001b[39memissivity_imaclim\u001b[39m(model,year:\u001b[39mint\u001b[39m \u001b[39m=\u001b[39m \u001b[39m2050\u001b[39m,scenario\u001b[39m=\u001b[39m\u001b[39m\"\u001b[39m\u001b[39mINDC\u001b[39m\u001b[39m\"\u001b[39m,\u001b[39m*\u001b[39m\u001b[39m*\u001b[39mkwargs) \u001b[39m-\u001b[39m\u001b[39m>\u001b[39m pymrio\u001b[39m.\u001b[39mIOSystem:\n\u001b[0;32m--> 427\u001b[0m     data\u001b[39m=\u001b[39mextract_data(aggregation\u001b[39m=\u001b[39;49mmodel\u001b[39m.\u001b[39;49maggregation_name)\n\u001b[1;32m    428\u001b[0m     final_data_ratio,Link_country\u001b[39m=\u001b[39mdata[\u001b[39m0\u001b[39m],data[\u001b[39m2\u001b[39m]\n\u001b[1;32m    430\u001b[0m     final_data_ratio\u001b[39m=\u001b[39mfinal_data_ratio\u001b[39m.\u001b[39mswaplevel()\u001b[39m.\u001b[39msort_index()\n",
      "File \u001b[0;32m~/Documents/Stage/MatMat-Trade/src/advance.py:56\u001b[0m, in \u001b[0;36mextract_data\u001b[0;34m(aggregation, folder)\u001b[0m\n\u001b[1;32m     52\u001b[0m scenario_name \u001b[39m=\u001b[39m scenario_name\u001b[39m.\u001b[39mloc[\u001b[39m~\u001b[39mscenario_name\u001b[39m.\u001b[39mequivalent\u001b[39m.\u001b[39misin([\u001b[39m'\u001b[39m\u001b[39m-\u001b[39m\u001b[39m'\u001b[39m])]\n\u001b[1;32m     54\u001b[0m \u001b[39m# read data\u001b[39;00m\n\u001b[1;32m     55\u001b[0m data \u001b[39m=\u001b[39m pd\u001b[39m.\u001b[39mconcat(\n\u001b[0;32m---> 56\u001b[0m \t[\n\u001b[1;32m     57\u001b[0m \t\tpd\u001b[39m.\u001b[39mDataFrame(\n\u001b[1;32m     58\u001b[0m \t\t\tnp\u001b[39m.\u001b[39mgenfromtxt(\n\u001b[1;32m     59\u001b[0m \t\t\t\t(folder \u001b[39m+\u001b[39m (\u001b[39m'\u001b[39m\u001b[39m/outputs_advance_wp6\u001b[39m\u001b[39m'\u001b[39m \u001b[39m+\u001b[39m \u001b[39mstr\u001b[39m(scenario_name\u001b[39m.\u001b[39mnb[x]) \u001b[39m+\u001b[39m \u001b[39m'\u001b[39m\u001b[39m.tsv\u001b[39m\u001b[39m'\u001b[39m)),\n\u001b[1;32m     60\u001b[0m \t\t\t\tdelimiter \u001b[39m=\u001b[39m \u001b[39m'\u001b[39m\u001b[39m\\t\u001b[39;00m\u001b[39m'\u001b[39m\n\u001b[1;32m     61\u001b[0m \t\t\t),\n\u001b[1;32m     62\u001b[0m \t\t\tindex \u001b[39m=\u001b[39m template\u001b[39m.\u001b[39mindex,\n\u001b[1;32m     63\u001b[0m \t\t\tcolumns \u001b[39m=\u001b[39m template\u001b[39m.\u001b[39mcolumns\n\u001b[1;32m     64\u001b[0m \t\t) \u001b[39mfor\u001b[39;00m x \u001b[39min\u001b[39;00m scenario_name\u001b[39m.\u001b[39mindex \n\u001b[1;32m     65\u001b[0m \t],\n\u001b[1;32m     66\u001b[0m \taxis \u001b[39m=\u001b[39m \u001b[39m0\u001b[39m,\n\u001b[1;32m     67\u001b[0m \tkeys \u001b[39m=\u001b[39m scenario_name\u001b[39m.\u001b[39mequivalent,\u001b[39m#.tolist(),\u001b[39;00m\n\u001b[1;32m     68\u001b[0m \tnames \u001b[39m=\u001b[39m [\u001b[39m'\u001b[39m\u001b[39mScenario\u001b[39m\u001b[39m'\u001b[39m]\n\u001b[1;32m     69\u001b[0m )\n\u001b[1;32m     70\u001b[0m data\u001b[39m.\u001b[39mdrop(template\u001b[39m.\u001b[39mcolumns[\u001b[39m-\u001b[39m\u001b[39m1\u001b[39m], axis \u001b[39m=\u001b[39m \u001b[39m1\u001b[39m, inplace \u001b[39m=\u001b[39m \u001b[39mTrue\u001b[39;00m)\n\u001b[1;32m     72\u001b[0m \u001b[39m# reset index\u001b[39;00m\n",
      "File \u001b[0;32m~/Documents/Stage/MatMat-Trade/src/advance.py:58\u001b[0m, in \u001b[0;36m<listcomp>\u001b[0;34m(.0)\u001b[0m\n\u001b[1;32m     52\u001b[0m scenario_name \u001b[39m=\u001b[39m scenario_name\u001b[39m.\u001b[39mloc[\u001b[39m~\u001b[39mscenario_name\u001b[39m.\u001b[39mequivalent\u001b[39m.\u001b[39misin([\u001b[39m'\u001b[39m\u001b[39m-\u001b[39m\u001b[39m'\u001b[39m])]\n\u001b[1;32m     54\u001b[0m \u001b[39m# read data\u001b[39;00m\n\u001b[1;32m     55\u001b[0m data \u001b[39m=\u001b[39m pd\u001b[39m.\u001b[39mconcat(\n\u001b[1;32m     56\u001b[0m \t[\n\u001b[1;32m     57\u001b[0m \t\tpd\u001b[39m.\u001b[39mDataFrame(\n\u001b[0;32m---> 58\u001b[0m \t\t\tnp\u001b[39m.\u001b[39;49mgenfromtxt(\n\u001b[1;32m     59\u001b[0m \t\t\t\t(folder \u001b[39m+\u001b[39;49m (\u001b[39m'\u001b[39;49m\u001b[39m/outputs_advance_wp6\u001b[39;49m\u001b[39m'\u001b[39;49m \u001b[39m+\u001b[39;49m \u001b[39mstr\u001b[39;49m(scenario_name\u001b[39m.\u001b[39;49mnb[x]) \u001b[39m+\u001b[39;49m \u001b[39m'\u001b[39;49m\u001b[39m.tsv\u001b[39;49m\u001b[39m'\u001b[39;49m)),\n\u001b[1;32m     60\u001b[0m \t\t\t\tdelimiter \u001b[39m=\u001b[39;49m \u001b[39m'\u001b[39;49m\u001b[39m\\t\u001b[39;49;00m\u001b[39m'\u001b[39;49m\n\u001b[1;32m     61\u001b[0m \t\t\t),\n\u001b[1;32m     62\u001b[0m \t\t\tindex \u001b[39m=\u001b[39m template\u001b[39m.\u001b[39mindex,\n\u001b[1;32m     63\u001b[0m \t\t\tcolumns \u001b[39m=\u001b[39m template\u001b[39m.\u001b[39mcolumns\n\u001b[1;32m     64\u001b[0m \t\t) \u001b[39mfor\u001b[39;00m x \u001b[39min\u001b[39;00m scenario_name\u001b[39m.\u001b[39mindex \n\u001b[1;32m     65\u001b[0m \t],\n\u001b[1;32m     66\u001b[0m \taxis \u001b[39m=\u001b[39m \u001b[39m0\u001b[39m,\n\u001b[1;32m     67\u001b[0m \tkeys \u001b[39m=\u001b[39m scenario_name\u001b[39m.\u001b[39mequivalent,\u001b[39m#.tolist(),\u001b[39;00m\n\u001b[1;32m     68\u001b[0m \tnames \u001b[39m=\u001b[39m [\u001b[39m'\u001b[39m\u001b[39mScenario\u001b[39m\u001b[39m'\u001b[39m]\n\u001b[1;32m     69\u001b[0m )\n\u001b[1;32m     70\u001b[0m data\u001b[39m.\u001b[39mdrop(template\u001b[39m.\u001b[39mcolumns[\u001b[39m-\u001b[39m\u001b[39m1\u001b[39m], axis \u001b[39m=\u001b[39m \u001b[39m1\u001b[39m, inplace \u001b[39m=\u001b[39m \u001b[39mTrue\u001b[39;00m)\n\u001b[1;32m     72\u001b[0m \u001b[39m# reset index\u001b[39;00m\n",
      "File \u001b[0;32m~/miniforge3/envs/MatMat-Trade-env/lib/python3.8/site-packages/numpy/lib/npyio.py:2138\u001b[0m, in \u001b[0;36mgenfromtxt\u001b[0;34m(fname, dtype, comments, delimiter, skip_header, skip_footer, converters, missing_values, filling_values, usecols, names, excludelist, deletechars, replace_space, autostrip, case_sensitive, defaultfmt, unpack, usemask, loose, invalid_raise, max_rows, encoding, like)\u001b[0m\n\u001b[1;32m   2135\u001b[0m \u001b[39m# Convert each value according to the converter:\u001b[39;00m\n\u001b[1;32m   2136\u001b[0m \u001b[39m# We want to modify the list in place to avoid creating a new one...\u001b[39;00m\n\u001b[1;32m   2137\u001b[0m \u001b[39mif\u001b[39;00m loose:\n\u001b[0;32m-> 2138\u001b[0m     rows \u001b[39m=\u001b[39m \u001b[39mlist\u001b[39;49m(\n\u001b[1;32m   2139\u001b[0m         \u001b[39mzip\u001b[39;49m(\u001b[39m*\u001b[39;49m[[conv\u001b[39m.\u001b[39;49m_loose_call(_r) \u001b[39mfor\u001b[39;49;00m _r \u001b[39min\u001b[39;49;00m \u001b[39mmap\u001b[39;49m(itemgetter(i), rows)]\n\u001b[1;32m   2140\u001b[0m               \u001b[39mfor\u001b[39;49;00m (i, conv) \u001b[39min\u001b[39;49;00m \u001b[39menumerate\u001b[39;49m(converters)]))\n\u001b[1;32m   2141\u001b[0m \u001b[39melse\u001b[39;00m:\n\u001b[1;32m   2142\u001b[0m     rows \u001b[39m=\u001b[39m \u001b[39mlist\u001b[39m(\n\u001b[1;32m   2143\u001b[0m         \u001b[39mzip\u001b[39m(\u001b[39m*\u001b[39m[[conv\u001b[39m.\u001b[39m_strict_call(_r) \u001b[39mfor\u001b[39;00m _r \u001b[39min\u001b[39;00m \u001b[39mmap\u001b[39m(itemgetter(i), rows)]\n\u001b[1;32m   2144\u001b[0m               \u001b[39mfor\u001b[39;00m (i, conv) \u001b[39min\u001b[39;00m \u001b[39menumerate\u001b[39m(converters)]))\n",
      "\u001b[0;31mKeyboardInterrupt\u001b[0m: "
     ]
    }
   ],
   "source": [
    "\n",
    "scenario_list=[\"INDC\",\"INDC2020_1000\",\"INDC2030_1000\",\"INDC2020_1600\",\"INDC2020_400\",\"INDC2030_1600\",\"baseline\"]\n",
    "\n",
    "for scenario in tqdm.tqdm(scenario_list[:1]):\n",
    "    # create 2050 version of each scenarios applying emissivity changes and then technological changes\n",
    "    model.new_counterfactual(\"IMACLIM_all_2050_\"+scenario, DICT_SCENARIOS[\"emissivity_IMACLIM\"], year=2050,scenario=scenario)\n",
    "    model.modify_counterfactual(\"IMACLIM_all_2050_\"+scenario,DICT_SCENARIOS[\"technical_change_IMACLIM\"], year=2050,scenario=scenario)\n",
    "    # create the 2050 version based on production changes observed in IMACLIM (since we work on groos output, we need a reference to apply relative change : x_ref), with name new_name\n",
    "    model.modify_counterfactual(\"IMACLIM_all_2050_\"+scenario,DICT_SCENARIOS[\"production_change_IMACLIM\"], year=2050,scenario=\"INDC\",new_name=\"IMACLIM_all_prod_change_2050_\"+scenario,x_ref=model.iot.x.sort_index())\n",
    "    \n",
    "    model.modify_counterfactual(\"IMACLIM_all_2050_\"+scenario,DICT_SCENARIOS[\"consumption_change_imaclim\"], year=2050,scenario=\"INDC\",new_name=\"IMACLIM_all_cons_change_2050_\"+scenario)"
   ]
  },
  {
   "cell_type": "markdown",
   "metadata": {},
   "source": [
    "## Getting the emissions per scenario "
   ]
  },
  {
   "cell_type": "markdown",
   "metadata": {},
   "source": [
    "### Single process version, might be long to run "
   ]
  },
  {
   "cell_type": "code",
   "execution_count": null,
   "metadata": {},
   "outputs": [],
   "source": [
    "\n",
    "scenario_list=[\"INDC\",\"INDC2020_1000\",\"INDC2030_1000\",\"INDC2020_1600\",\"INDC2020_400\",\"INDC2030_1600\",\"baseline\"]\n",
    "\n",
    "start_year=pd.concat([ pd.concat([pd.DataFrame(footprint_extractor(model,region=region),index=[2015]).T  for region in model.regions],\n",
    "                      keys=model.regions,\n",
    "                      names=(\"regions\",\"types\")) for scenario in scenario_list],\n",
    "          keys=scenario_list,\n",
    "          names=(\"scenario\",\"regions\",\"types\"))\n",
    "\n",
    "Emissions=pd.concat([start_year for i in range(4)],axis=1,keys=[\"2015\",\"2050\",\"2050-Prod\",\"2050-Cons\"]).sort_index()\n",
    "Emissions.columns=[\"2015\",\"2050\",\"2050-Prod\",\"2050-Cons\"]\n",
    "\n",
    "production_based_emissions=pd. concat([ pd.concat([ model.iot.stressor_extension.D_pba.sum(axis=0,level=1).loc[\"CO2\"]for i in range(4)],axis=1,keys=[\"2015\",\"2050\",\"2050-Prod\",\"2050-Cons\"]) for scenario in scenario_list],\n",
    "                                        keys=scenario_list,\n",
    "                                        names=(\"scenario\",\"region\",\"sector\"),\n",
    "                                        axis=0).sort_index()\n",
    "\n",
    "\n",
    "for scenario in tqdm.tqdm(scenario_list):\n",
    "    # create 2050 version of each scenarios applying emissivity changes and then technological changes\n",
    "    model.new_counterfactual(\"IMACLIM_all_2050_\"+scenario, DICT_SCENARIOS[\"emissivity_IMACLIM\"], year=2050,scenario=scenario)\n",
    "    model.modify_counterfactual(\"IMACLIM_all_2050_\"+scenario,DICT_SCENARIOS[\"technical_change_IMACLIM\"], year=2050,scenario=scenario)\n",
    "    # create the 2050 version based on production changes observed in IMACLIM (since we work on groos output, we need a reference to apply relative change : x_ref), with name new_name\n",
    "    model.modify_counterfactual(\"IMACLIM_all_2050_\"+scenario,DICT_SCENARIOS[\"production_change_IMACLIM\"], year=2050,scenario=scenario,new_name=\"IMACLIM_all_prod_change_2050_\"+scenario,x_ref=model.iot.x.sort_index())\n",
    "    \n",
    "    model.modify_counterfactual(\"IMACLIM_all_2050_\"+scenario,DICT_SCENARIOS[\"consumption_change_imaclim\"], year=2050,scenario=scenario,new_name=\"IMACLIM_all_cons_change_2050_\"+scenario)\n",
    "    \n",
    "    Emissions.loc[(scenario),\"2050\"]=pd.concat([pd.DataFrame(footprint_extractor(model.counterfactuals[\"IMACLIM_all_2050_\"+scenario],region=region),index=[2050]).T  for region in model.regions],\n",
    "                        keys=model.regions,\n",
    "                        names=(\"regions\",\"types\")).sort_index().values\n",
    "    \n",
    "    Emissions.loc[(scenario),\"2050-Prod\"]=pd.concat([pd.DataFrame(footprint_extractor(model.counterfactuals[\"IMACLIM_all_prod_change_2050_\"+scenario],region=region),index=[2050]).T  for region in model.regions],\n",
    "                        keys=model.regions,\n",
    "                        names=(\"regions\",\"types\")).sort_index().values\n",
    "    \n",
    "    Emissions.loc[(scenario),\"2050-Cons\"]=pd.concat([pd.DataFrame(footprint_extractor(model.counterfactuals[\"IMACLIM_all_cons_change_2050_\"+scenario],region=region),index=[2050]).T  for region in model.regions],\n",
    "                        keys=model.regions,\n",
    "                        names=(\"regions\",\"types\")).sort_index().values\n",
    "    \n",
    "    production_based_emissions.loc[(scenario),\"2050-Cons\"]=model.counterfactuals[\"IMACLIM_all_cons_change_2050_\"+scenario].iot.stressor_extension.D_pba.sum(axis=0,level=1).loc[\"CO2\"].sort_index().values\n",
    "    \n",
    "    production_based_emissions.loc[(scenario),\"2050-Prod\"]=model.counterfactuals[\"IMACLIM_all_prod_change_2050_\"+scenario].iot.stressor_extension.D_pba.sum(axis=0,level=1).loc[\"CO2\"].sort_index().values\n",
    "    \n",
    "    production_based_emissions.loc[(scenario),\"2050\"]=model.counterfactuals[\"IMACLIM_all_2050_\"+scenario].iot.stressor_extension.D_pba.sum(axis=0,level=1).loc[\"CO2\"].sort_index().values\n",
    "    \n",
    "    del(model.counterfactuals[\"IMACLIM_all_2050_\"+scenario])\n",
    "    del(model.counterfactuals[\"IMACLIM_all_cons_change_2050_\"+scenario])\n",
    "    del(model.counterfactuals[\"IMACLIM_all_prod_change_2050_\"+scenario])\n",
    "    \n",
    "    "
   ]
  },
  {
   "cell_type": "markdown",
   "metadata": {},
   "source": [
    "### Multiple Process versio, should be faster"
   ]
  },
  {
   "cell_type": "code",
   "execution_count": 6,
   "metadata": {},
   "outputs": [
    {
     "name": "stdout",
     "output_type": "stream",
     "text": [
      "Problems on sums of columns  {('AFR', 'Terrestrial transport'): MultiIndex([('AFR', 'Elec')],\n",
      "           names=['region', 'sector']), ('MDE', 'Terrestrial transport'): MultiIndex([('MDE', 'Elec')],\n",
      "           names=['region', 'sector']), ('RAL', 'Terrestrial transport'): MultiIndex([('RAL', 'Elec')],\n",
      "           names=['region', 'sector'])}\n",
      "Problems on sums of columns  {('AFR', 'Terrestrial transport'): MultiIndex([('AFR', 'Elec'),\n",
      "            ('EUR', 'Elec')],\n",
      "           names=['region', 'sector']), ('MDE', 'Terrestrial transport'): MultiIndex([('MDE', 'Elec')],\n",
      "           names=['region', 'sector']), ('RAL', 'Terrestrial transport'): MultiIndex([('RAL', 'Elec')],\n",
      "           names=['region', 'sector'])}\n",
      "Problems on sums of columns  {('AFR', 'Terrestrial transport'): MultiIndex([('AFR', 'Elec')],\n",
      "           names=['region', 'sector']), ('MDE', 'Terrestrial transport'): MultiIndex([('MDE', 'Elec')],\n",
      "           names=['region', 'sector']), ('RAL', 'Terrestrial transport'): MultiIndex([('RAL', 'Elec')],\n",
      "           names=['region', 'sector'])}\n",
      "Problems on sums of columns  {('AFR', 'Terrestrial transport'): MultiIndex([('AFR', 'Elec'),\n",
      "            ('EUR', 'Elec')],\n",
      "           names=['region', 'sector']), ('MDE', 'Terrestrial transport'): MultiIndex([('MDE', 'Elec')],\n",
      "           names=['region', 'sector']), ('RAL', 'Terrestrial transport'): MultiIndex([('RAL', 'Elec')],\n",
      "           names=['region', 'sector'])}\n",
      "Problems on sums of columns  {('AFR', 'Terrestrial transport'): MultiIndex([('AFR', 'Elec')],\n",
      "           names=['region', 'sector']), ('MDE', 'Terrestrial transport'): MultiIndex([('MDE', 'Elec')],\n",
      "           names=['region', 'sector']), ('RAL', 'Terrestrial transport'): MultiIndex([('RAL', 'Elec')],\n",
      "           names=['region', 'sector'])}\n"
     ]
    }
   ],
   "source": [
    "\n",
    "NBR_PROCESS=4\n",
    "\n",
    "scenario_list=[\"INDC\",\"INDC2020_1000\",\"INDC2030_1000\",\"INDC2020_1600\",\"INDC2020_400\",\"INDC2030_1600\",\"baseline\"]\n",
    "\n",
    "start_year=pd.concat([ pd.concat([pd.DataFrame(footprint_extractor(model,region=region),index=[2015]).T  for region in model.regions],\n",
    "                      keys=model.regions,\n",
    "                      names=(\"regions\",\"types\")) for scenario in scenario_list],\n",
    "          keys=scenario_list,\n",
    "          names=(\"scenario\",\"regions\",\"types\"))\n",
    "\n",
    "Emissions=pd.concat([start_year for i in range(4)],axis=1,keys=[\"2015\",\"2050\",\"2050-Prod\",\"2050-Cons\"]).sort_index()\n",
    "Emissions.columns=[\"2015\",\"2050\",\"2050-Prod\",\"2050-Cons\"]\n",
    "\n",
    "production_based_emissions=pd. concat([ pd.concat([ model.iot.stressor_extension.D_pba.sum(axis=0,level=1).loc[\"CO2 - combustion\"]for i in range(4)],axis=1,keys=[\"2015\",\"2050\",\"2050-Prod\",\"2050-Cons\"]) for scenario in scenario_list],\n",
    "                                        keys=scenario_list,\n",
    "                                        names=(\"scenario\",\"region\",\"sector\"),\n",
    "                                        axis=0).sort_index()\n",
    "\n",
    "\n",
    "def task(scenario):\n",
    "    model.new_counterfactual(\"IMACLIM_all_2050_\"+scenario, DICT_SCENARIOS[\"emissivity_IMACLIM\"], year=2050,scenario=scenario)\n",
    "    model.modify_counterfactual(\"IMACLIM_all_2050_\"+scenario,DICT_SCENARIOS[\"technical_change_IMACLIM\"], year=2050,scenario=scenario)\n",
    "    # create the 2050 version based on production changes observed in IMACLIM (since we work on groos output, we need a reference to apply relative change : x_ref), with name new_name\n",
    "    model.modify_counterfactual(\"IMACLIM_all_2050_\"+scenario,DICT_SCENARIOS[\"production_change_IMACLIM\"], year=2050,scenario=scenario,new_name=\"IMACLIM_all_prod_change_2050_\"+scenario,x_ref=model.iot.x.sort_index())\n",
    "    \n",
    "    model.modify_counterfactual(\"IMACLIM_all_2050_\"+scenario,DICT_SCENARIOS[\"consumption_change_imaclim\"], year=2050,scenario=scenario,new_name=\"IMACLIM_all_cons_change_2050_\"+scenario)\n",
    "    \n",
    "    ret1=pd.concat([pd.DataFrame(footprint_extractor(model.counterfactuals[\"IMACLIM_all_2050_\"+scenario],region=region),index=[2050]).T  for region in model.regions],\n",
    "                        keys=model.regions,\n",
    "                        names=(\"regions\",\"types\")).sort_index().values\n",
    "    \n",
    "    ret2=pd.concat([pd.DataFrame(footprint_extractor(model.counterfactuals[\"IMACLIM_all_prod_change_2050_\"+scenario],region=region),index=[2050]).T  for region in model.regions],\n",
    "                        keys=model.regions,\n",
    "                        names=(\"regions\",\"types\")).sort_index().values\n",
    "    \n",
    "    ret3=pd.concat([pd.DataFrame(footprint_extractor(model.counterfactuals[\"IMACLIM_all_cons_change_2050_\"+scenario],region=region),index=[2050]).T  for region in model.regions],\n",
    "                        keys=model.regions,\n",
    "                        names=(\"regions\",\"types\")).sort_index().values\n",
    "    \n",
    "    ret4=model.counterfactuals[\"IMACLIM_all_cons_change_2050_\"+scenario].iot.stressor_extension.D_pba.sum(axis=0,level=1).loc[\"CO2 - combustion\"].sort_index().values\n",
    "    \n",
    "    ret5=model.counterfactuals[\"IMACLIM_all_prod_change_2050_\"+scenario].iot.stressor_extension.D_pba.sum(axis=0,level=1).loc[\"CO2 - combustion\"].sort_index().values\n",
    "    \n",
    "    ret6=model.counterfactuals[\"IMACLIM_all_2050_\"+scenario].iot.stressor_extension.D_pba.sum(axis=0,level=1).loc[\"CO2 - combustion\"].sort_index().values\n",
    "    \n",
    "    del(model.counterfactuals[\"IMACLIM_all_2050_\"+scenario])\n",
    "    del(model.counterfactuals[\"IMACLIM_all_cons_change_2050_\"+scenario])\n",
    "    del(model.counterfactuals[\"IMACLIM_all_prod_change_2050_\"+scenario])\n",
    "    \n",
    "    return ret1,ret2,ret3,ret4,ret5,ret6\n",
    "\n",
    "\n",
    "pool = multiprocessing.Pool(processes=NBR_PROCESS)\n",
    "result_list=pool.map(task,scenario_list)\n",
    "\n",
    "for i in range(len(scenario_list)):\n",
    "    scenario=scenario_list[i]\n",
    "    Emissions.loc[(scenario),\"2050\"],Emissions.loc[(scenario),\"2050-Prod\"],Emissions.loc[(scenario),\"2050-Cons\"],production_based_emissions.loc[(scenario),\"2050-Cons\"],production_based_emissions.loc[(scenario),\"2050-Prod\"],production_based_emissions.loc[(scenario),\"2050\"]=result_list[i]\n",
    "        \n",
    "    "
   ]
  },
  {
   "cell_type": "markdown",
   "metadata": {},
   "source": [
    "## Exploring the results"
   ]
  },
  {
   "cell_type": "code",
   "execution_count": 7,
   "metadata": {},
   "outputs": [],
   "source": [
    "#adding IMACLIM direct emissions to the df\n",
    "IMACLIM_emissions=extract_data(aggregation=\"IMACLIM_format\")[6]\n",
    "\n",
    "production_based_emissions[\"2050-IMACLIM\"]=IMACLIM_emissions.drop(\"World\",level=1)[2050].rename_axis(index=str.lower)*1e9\n",
    "production_based_emissions[\"2015-IMACLIM\"]=IMACLIM_emissions.drop(\"World\",level=1)[2015].rename_axis(index=str.lower)*1e9"
   ]
  },
  {
   "cell_type": "code",
   "execution_count": 8,
   "metadata": {},
   "outputs": [
    {
     "name": "stdout",
     "output_type": "stream",
     "text": [
      "INDC -0.00013934485218389248\n",
      "INDC2020_1000 -0.0003276979823503834\n",
      "INDC2030_1000 -0.00037101368998671\n",
      "INDC2020_1600 -0.0004776521976939535\n",
      "INDC2020_400 -6.822528301587971e-05\n",
      "INDC2030_1600 -0.00030601870675950327\n",
      "baseline -0.00040758794010420374\n"
     ]
    }
   ],
   "source": [
    "diff_rapport =((production_based_emissions[\"2050-IMACLIM\"]/production_based_emissions[\"2015-IMACLIM\"])-(production_based_emissions[\"2050-Prod\"]/production_based_emissions[\"2015\"]))\n",
    "\n",
    "for scenario in scenario_list:\n",
    "    print(scenario,diff_rapport.loc[scenario].max())"
   ]
  },
  {
   "cell_type": "code",
   "execution_count": 9,
   "metadata": {},
   "outputs": [
    {
     "data": {
      "text/html": [
       "<div>\n",
       "<style scoped>\n",
       "    .dataframe tbody tr th:only-of-type {\n",
       "        vertical-align: middle;\n",
       "    }\n",
       "\n",
       "    .dataframe tbody tr th {\n",
       "        vertical-align: top;\n",
       "    }\n",
       "\n",
       "    .dataframe thead th {\n",
       "        text-align: right;\n",
       "    }\n",
       "</style>\n",
       "<table border=\"1\" class=\"dataframe\">\n",
       "  <thead>\n",
       "    <tr style=\"text-align: right;\">\n",
       "      <th>region</th>\n",
       "      <th>AFR</th>\n",
       "      <th>BRA</th>\n",
       "      <th>CAN</th>\n",
       "      <th>CHN</th>\n",
       "      <th>CIS</th>\n",
       "      <th>EUR</th>\n",
       "      <th>IND</th>\n",
       "      <th>JAN</th>\n",
       "      <th>MDE</th>\n",
       "      <th>RAL</th>\n",
       "      <th>RAS</th>\n",
       "      <th>USA</th>\n",
       "    </tr>\n",
       "    <tr>\n",
       "      <th>sector</th>\n",
       "      <th></th>\n",
       "      <th></th>\n",
       "      <th></th>\n",
       "      <th></th>\n",
       "      <th></th>\n",
       "      <th></th>\n",
       "      <th></th>\n",
       "      <th></th>\n",
       "      <th></th>\n",
       "      <th></th>\n",
       "      <th></th>\n",
       "      <th></th>\n",
       "    </tr>\n",
       "  </thead>\n",
       "  <tbody>\n",
       "    <tr>\n",
       "      <th>Agriculture</th>\n",
       "      <td>-51.816572</td>\n",
       "      <td>-15.701008</td>\n",
       "      <td>11.178873</td>\n",
       "      <td>-49.972742</td>\n",
       "      <td>-79.250130</td>\n",
       "      <td>-15.293091</td>\n",
       "      <td>33.024779</td>\n",
       "      <td>-79.025188</td>\n",
       "      <td>-64.793266</td>\n",
       "      <td>-23.903528</td>\n",
       "      <td>25.993297</td>\n",
       "      <td>-10.790350</td>\n",
       "    </tr>\n",
       "    <tr>\n",
       "      <th>Air</th>\n",
       "      <td>-45.371885</td>\n",
       "      <td>-22.186058</td>\n",
       "      <td>12.026622</td>\n",
       "      <td>71.750897</td>\n",
       "      <td>-2.508423</td>\n",
       "      <td>22.239882</td>\n",
       "      <td>46.981273</td>\n",
       "      <td>-44.709538</td>\n",
       "      <td>47.311707</td>\n",
       "      <td>-67.793709</td>\n",
       "      <td>38.894410</td>\n",
       "      <td>-7.363546</td>\n",
       "    </tr>\n",
       "    <tr>\n",
       "      <th>Coal</th>\n",
       "      <td>36.384218</td>\n",
       "      <td>43.351854</td>\n",
       "      <td>-88.326434</td>\n",
       "      <td>4.551393</td>\n",
       "      <td>-52.581795</td>\n",
       "      <td>-51.686621</td>\n",
       "      <td>96.477606</td>\n",
       "      <td>-35.200343</td>\n",
       "      <td>100.000000</td>\n",
       "      <td>100.000000</td>\n",
       "      <td>99.599996</td>\n",
       "      <td>-67.145126</td>\n",
       "    </tr>\n",
       "    <tr>\n",
       "      <th>Construction</th>\n",
       "      <td>61.881947</td>\n",
       "      <td>98.301694</td>\n",
       "      <td>62.704530</td>\n",
       "      <td>88.132228</td>\n",
       "      <td>38.973969</td>\n",
       "      <td>89.920362</td>\n",
       "      <td>91.211247</td>\n",
       "      <td>32.869386</td>\n",
       "      <td>56.161626</td>\n",
       "      <td>96.946692</td>\n",
       "      <td>91.685658</td>\n",
       "      <td>78.316846</td>\n",
       "    </tr>\n",
       "    <tr>\n",
       "      <th>Elec</th>\n",
       "      <td>-39.143883</td>\n",
       "      <td>72.813771</td>\n",
       "      <td>-61.752687</td>\n",
       "      <td>38.125084</td>\n",
       "      <td>-96.831505</td>\n",
       "      <td>-56.272538</td>\n",
       "      <td>27.299278</td>\n",
       "      <td>-32.720686</td>\n",
       "      <td>15.987074</td>\n",
       "      <td>-21.769088</td>\n",
       "      <td>5.532301</td>\n",
       "      <td>-39.344545</td>\n",
       "    </tr>\n",
       "    <tr>\n",
       "      <th>Gas</th>\n",
       "      <td>49.862377</td>\n",
       "      <td>81.877660</td>\n",
       "      <td>8.400798</td>\n",
       "      <td>97.880386</td>\n",
       "      <td>4.630082</td>\n",
       "      <td>87.338991</td>\n",
       "      <td>68.912723</td>\n",
       "      <td>100.000000</td>\n",
       "      <td>-13.884805</td>\n",
       "      <td>-2.750222</td>\n",
       "      <td>49.480106</td>\n",
       "      <td>71.617183</td>\n",
       "    </tr>\n",
       "    <tr>\n",
       "      <th>Industry</th>\n",
       "      <td>-46.905764</td>\n",
       "      <td>3.454600</td>\n",
       "      <td>-53.631422</td>\n",
       "      <td>21.681645</td>\n",
       "      <td>-72.993368</td>\n",
       "      <td>-32.036645</td>\n",
       "      <td>-11.448268</td>\n",
       "      <td>-61.345385</td>\n",
       "      <td>36.645702</td>\n",
       "      <td>7.997643</td>\n",
       "      <td>7.809473</td>\n",
       "      <td>-54.594166</td>\n",
       "    </tr>\n",
       "    <tr>\n",
       "      <th>Liquid fuels</th>\n",
       "      <td>-91.659408</td>\n",
       "      <td>-76.416717</td>\n",
       "      <td>-38.014303</td>\n",
       "      <td>-44.130341</td>\n",
       "      <td>-55.236263</td>\n",
       "      <td>-77.632867</td>\n",
       "      <td>-2.684573</td>\n",
       "      <td>-82.068727</td>\n",
       "      <td>100.000000</td>\n",
       "      <td>100.000000</td>\n",
       "      <td>-61.479094</td>\n",
       "      <td>99.869401</td>\n",
       "    </tr>\n",
       "    <tr>\n",
       "      <th>Maritime</th>\n",
       "      <td>-89.679597</td>\n",
       "      <td>-69.921130</td>\n",
       "      <td>46.180283</td>\n",
       "      <td>70.196181</td>\n",
       "      <td>100.000000</td>\n",
       "      <td>41.035336</td>\n",
       "      <td>93.972451</td>\n",
       "      <td>40.129431</td>\n",
       "      <td>-24.899951</td>\n",
       "      <td>-70.254840</td>\n",
       "      <td>-23.664139</td>\n",
       "      <td>-42.914006</td>\n",
       "    </tr>\n",
       "    <tr>\n",
       "      <th>Oil</th>\n",
       "      <td>-79.356931</td>\n",
       "      <td>100.000000</td>\n",
       "      <td>89.279220</td>\n",
       "      <td>11.924715</td>\n",
       "      <td>7.308426</td>\n",
       "      <td>100.000000</td>\n",
       "      <td>-94.391698</td>\n",
       "      <td>100.000000</td>\n",
       "      <td>-45.849099</td>\n",
       "      <td>-49.414102</td>\n",
       "      <td>100.000000</td>\n",
       "      <td>-73.251995</td>\n",
       "    </tr>\n",
       "    <tr>\n",
       "      <th>Services</th>\n",
       "      <td>14.971784</td>\n",
       "      <td>72.389589</td>\n",
       "      <td>22.402951</td>\n",
       "      <td>50.262087</td>\n",
       "      <td>33.551991</td>\n",
       "      <td>59.000141</td>\n",
       "      <td>58.165747</td>\n",
       "      <td>-30.604411</td>\n",
       "      <td>67.293030</td>\n",
       "      <td>46.465068</td>\n",
       "      <td>74.092518</td>\n",
       "      <td>9.817567</td>\n",
       "    </tr>\n",
       "    <tr>\n",
       "      <th>Terrestrial transport</th>\n",
       "      <td>-92.098096</td>\n",
       "      <td>-64.849750</td>\n",
       "      <td>-42.306051</td>\n",
       "      <td>-20.483900</td>\n",
       "      <td>-25.038833</td>\n",
       "      <td>-43.130244</td>\n",
       "      <td>-53.336423</td>\n",
       "      <td>-62.234308</td>\n",
       "      <td>-25.706163</td>\n",
       "      <td>-76.852475</td>\n",
       "      <td>-73.320542</td>\n",
       "      <td>-41.367293</td>\n",
       "    </tr>\n",
       "  </tbody>\n",
       "</table>\n",
       "</div>"
      ],
      "text/plain": [
       "region                       AFR         BRA        CAN        CHN  \\\n",
       "sector                                                               \n",
       "Agriculture           -51.816572  -15.701008  11.178873 -49.972742   \n",
       "Air                   -45.371885  -22.186058  12.026622  71.750897   \n",
       "Coal                   36.384218   43.351854 -88.326434   4.551393   \n",
       "Construction           61.881947   98.301694  62.704530  88.132228   \n",
       "Elec                  -39.143883   72.813771 -61.752687  38.125084   \n",
       "Gas                    49.862377   81.877660   8.400798  97.880386   \n",
       "Industry              -46.905764    3.454600 -53.631422  21.681645   \n",
       "Liquid fuels          -91.659408  -76.416717 -38.014303 -44.130341   \n",
       "Maritime              -89.679597  -69.921130  46.180283  70.196181   \n",
       "Oil                   -79.356931  100.000000  89.279220  11.924715   \n",
       "Services               14.971784   72.389589  22.402951  50.262087   \n",
       "Terrestrial transport -92.098096  -64.849750 -42.306051 -20.483900   \n",
       "\n",
       "region                        CIS         EUR        IND         JAN  \\\n",
       "sector                                                                 \n",
       "Agriculture            -79.250130  -15.293091  33.024779  -79.025188   \n",
       "Air                     -2.508423   22.239882  46.981273  -44.709538   \n",
       "Coal                   -52.581795  -51.686621  96.477606  -35.200343   \n",
       "Construction            38.973969   89.920362  91.211247   32.869386   \n",
       "Elec                   -96.831505  -56.272538  27.299278  -32.720686   \n",
       "Gas                      4.630082   87.338991  68.912723  100.000000   \n",
       "Industry               -72.993368  -32.036645 -11.448268  -61.345385   \n",
       "Liquid fuels           -55.236263  -77.632867  -2.684573  -82.068727   \n",
       "Maritime               100.000000   41.035336  93.972451   40.129431   \n",
       "Oil                      7.308426  100.000000 -94.391698  100.000000   \n",
       "Services                33.551991   59.000141  58.165747  -30.604411   \n",
       "Terrestrial transport  -25.038833  -43.130244 -53.336423  -62.234308   \n",
       "\n",
       "region                        MDE         RAL         RAS        USA  \n",
       "sector                                                                \n",
       "Agriculture            -64.793266  -23.903528   25.993297 -10.790350  \n",
       "Air                     47.311707  -67.793709   38.894410  -7.363546  \n",
       "Coal                   100.000000  100.000000   99.599996 -67.145126  \n",
       "Construction            56.161626   96.946692   91.685658  78.316846  \n",
       "Elec                    15.987074  -21.769088    5.532301 -39.344545  \n",
       "Gas                    -13.884805   -2.750222   49.480106  71.617183  \n",
       "Industry                36.645702    7.997643    7.809473 -54.594166  \n",
       "Liquid fuels           100.000000  100.000000  -61.479094  99.869401  \n",
       "Maritime               -24.899951  -70.254840  -23.664139 -42.914006  \n",
       "Oil                    -45.849099  -49.414102  100.000000 -73.251995  \n",
       "Services                67.293030   46.465068   74.092518   9.817567  \n",
       "Terrestrial transport  -25.706163  -76.852475  -73.320542 -41.367293  "
      ]
     },
     "execution_count": 9,
     "metadata": {},
     "output_type": "execute_result"
    }
   ],
   "source": [
    "Relative_error_2015=production_based_emissions.groupby([\"scenario\",\"region\",\"sector\"]).sum().loc[\"baseline\"] \n",
    "Relative_error_2015=(Relative_error_2015[\"2015\"]-Relative_error_2015[\"2015-IMACLIM\"])/np.max([Relative_error_2015[\"2015\"],Relative_error_2015[\"2015-IMACLIM\"]],axis=0)\n",
    "Relative_error_2015=Relative_error_2015*100\n",
    "pd.concat([Relative_error_2015.loc[region] for region in Relative_error_2015.index.get_level_values(\"region\").unique()],keys=Relative_error_2015.index.get_level_values(\"region\").unique(),axis=1)"
   ]
  },
  {
   "cell_type": "code",
   "execution_count": 10,
   "metadata": {},
   "outputs": [
    {
     "data": {
      "text/html": [
       "<div>\n",
       "<style scoped>\n",
       "    .dataframe tbody tr th:only-of-type {\n",
       "        vertical-align: middle;\n",
       "    }\n",
       "\n",
       "    .dataframe tbody tr th {\n",
       "        vertical-align: top;\n",
       "    }\n",
       "\n",
       "    .dataframe thead th {\n",
       "        text-align: right;\n",
       "    }\n",
       "</style>\n",
       "<table border=\"1\" class=\"dataframe\">\n",
       "  <thead>\n",
       "    <tr style=\"text-align: right;\">\n",
       "      <th>region</th>\n",
       "      <th>AFR</th>\n",
       "      <th>BRA</th>\n",
       "      <th>CAN</th>\n",
       "      <th>CHN</th>\n",
       "      <th>CIS</th>\n",
       "      <th>EUR</th>\n",
       "      <th>IND</th>\n",
       "      <th>JAN</th>\n",
       "      <th>MDE</th>\n",
       "      <th>RAL</th>\n",
       "      <th>RAS</th>\n",
       "      <th>USA</th>\n",
       "    </tr>\n",
       "    <tr>\n",
       "      <th>sector</th>\n",
       "      <th></th>\n",
       "      <th></th>\n",
       "      <th></th>\n",
       "      <th></th>\n",
       "      <th></th>\n",
       "      <th></th>\n",
       "      <th></th>\n",
       "      <th></th>\n",
       "      <th></th>\n",
       "      <th></th>\n",
       "      <th></th>\n",
       "      <th></th>\n",
       "    </tr>\n",
       "  </thead>\n",
       "  <tbody>\n",
       "    <tr>\n",
       "      <th>Agriculture</th>\n",
       "      <td>-51.656945</td>\n",
       "      <td>-15.266783</td>\n",
       "      <td>11.504655</td>\n",
       "      <td>-49.431557</td>\n",
       "      <td>-79.175735</td>\n",
       "      <td>-15.054691</td>\n",
       "      <td>33.246161</td>\n",
       "      <td>-78.939427</td>\n",
       "      <td>-64.693257</td>\n",
       "      <td>-23.560435</td>\n",
       "      <td>26.220545</td>\n",
       "      <td>-10.512430</td>\n",
       "    </tr>\n",
       "    <tr>\n",
       "      <th>Air</th>\n",
       "      <td>-45.210652</td>\n",
       "      <td>-21.524009</td>\n",
       "      <td>12.070326</td>\n",
       "      <td>81.292785</td>\n",
       "      <td>-2.120032</td>\n",
       "      <td>22.432858</td>\n",
       "      <td>47.484319</td>\n",
       "      <td>-44.655635</td>\n",
       "      <td>47.490449</td>\n",
       "      <td>-67.660621</td>\n",
       "      <td>39.072746</td>\n",
       "      <td>-7.275502</td>\n",
       "    </tr>\n",
       "    <tr>\n",
       "      <th>Coal</th>\n",
       "      <td>72.805685</td>\n",
       "      <td>67.331253</td>\n",
       "      <td>-72.494727</td>\n",
       "      <td>42.191572</td>\n",
       "      <td>-50.648569</td>\n",
       "      <td>-50.612082</td>\n",
       "      <td>99.198178</td>\n",
       "      <td>-32.563916</td>\n",
       "      <td>100.000000</td>\n",
       "      <td>100.000000</td>\n",
       "      <td>99.746911</td>\n",
       "      <td>-65.381141</td>\n",
       "    </tr>\n",
       "    <tr>\n",
       "      <th>Construction</th>\n",
       "      <td>61.900718</td>\n",
       "      <td>98.312907</td>\n",
       "      <td>62.714684</td>\n",
       "      <td>88.138614</td>\n",
       "      <td>39.013063</td>\n",
       "      <td>89.931354</td>\n",
       "      <td>91.237607</td>\n",
       "      <td>32.927130</td>\n",
       "      <td>56.183580</td>\n",
       "      <td>96.957309</td>\n",
       "      <td>91.707537</td>\n",
       "      <td>78.333637</td>\n",
       "    </tr>\n",
       "    <tr>\n",
       "      <th>Elec</th>\n",
       "      <td>-38.618422</td>\n",
       "      <td>82.936624</td>\n",
       "      <td>-61.340095</td>\n",
       "      <td>52.834612</td>\n",
       "      <td>-96.819542</td>\n",
       "      <td>-55.683932</td>\n",
       "      <td>27.820876</td>\n",
       "      <td>-32.451852</td>\n",
       "      <td>25.486279</td>\n",
       "      <td>20.096951</td>\n",
       "      <td>6.351936</td>\n",
       "      <td>-39.274913</td>\n",
       "    </tr>\n",
       "    <tr>\n",
       "      <th>Gas</th>\n",
       "      <td>81.736783</td>\n",
       "      <td>95.122844</td>\n",
       "      <td>55.238829</td>\n",
       "      <td>98.430383</td>\n",
       "      <td>7.649642</td>\n",
       "      <td>93.508416</td>\n",
       "      <td>94.419090</td>\n",
       "      <td>100.000000</td>\n",
       "      <td>-10.635473</td>\n",
       "      <td>24.754650</td>\n",
       "      <td>49.843837</td>\n",
       "      <td>80.346227</td>\n",
       "    </tr>\n",
       "    <tr>\n",
       "      <th>Industry</th>\n",
       "      <td>-46.813749</td>\n",
       "      <td>4.063369</td>\n",
       "      <td>-53.488318</td>\n",
       "      <td>22.768406</td>\n",
       "      <td>-72.885539</td>\n",
       "      <td>-31.725858</td>\n",
       "      <td>-10.731620</td>\n",
       "      <td>-61.102874</td>\n",
       "      <td>36.888833</td>\n",
       "      <td>8.376190</td>\n",
       "      <td>8.157572</td>\n",
       "      <td>-54.454310</td>\n",
       "    </tr>\n",
       "    <tr>\n",
       "      <th>Liquid fuels</th>\n",
       "      <td>-91.569440</td>\n",
       "      <td>-59.810837</td>\n",
       "      <td>-37.784950</td>\n",
       "      <td>-22.765704</td>\n",
       "      <td>-53.194232</td>\n",
       "      <td>-77.404329</td>\n",
       "      <td>9.750898</td>\n",
       "      <td>-80.356232</td>\n",
       "      <td>100.000000</td>\n",
       "      <td>100.000000</td>\n",
       "      <td>-54.909713</td>\n",
       "      <td>99.871180</td>\n",
       "    </tr>\n",
       "    <tr>\n",
       "      <th>Maritime</th>\n",
       "      <td>-89.657764</td>\n",
       "      <td>-65.271134</td>\n",
       "      <td>46.508416</td>\n",
       "      <td>70.646569</td>\n",
       "      <td>100.000000</td>\n",
       "      <td>43.329437</td>\n",
       "      <td>94.065216</td>\n",
       "      <td>40.845421</td>\n",
       "      <td>-23.848784</td>\n",
       "      <td>-69.349829</td>\n",
       "      <td>-22.670078</td>\n",
       "      <td>-42.754144</td>\n",
       "    </tr>\n",
       "    <tr>\n",
       "      <th>Oil</th>\n",
       "      <td>-46.314096</td>\n",
       "      <td>100.000000</td>\n",
       "      <td>89.308552</td>\n",
       "      <td>83.206361</td>\n",
       "      <td>21.027000</td>\n",
       "      <td>100.000000</td>\n",
       "      <td>-48.779498</td>\n",
       "      <td>100.000000</td>\n",
       "      <td>-37.777464</td>\n",
       "      <td>-9.168491</td>\n",
       "      <td>100.000000</td>\n",
       "      <td>-64.053286</td>\n",
       "    </tr>\n",
       "    <tr>\n",
       "      <th>Services</th>\n",
       "      <td>15.110424</td>\n",
       "      <td>72.600721</td>\n",
       "      <td>22.477447</td>\n",
       "      <td>50.486134</td>\n",
       "      <td>33.643620</td>\n",
       "      <td>59.077748</td>\n",
       "      <td>58.322195</td>\n",
       "      <td>-30.508418</td>\n",
       "      <td>67.326305</td>\n",
       "      <td>46.686676</td>\n",
       "      <td>74.131603</td>\n",
       "      <td>9.901800</td>\n",
       "    </tr>\n",
       "    <tr>\n",
       "      <th>Terrestrial transport</th>\n",
       "      <td>-92.023355</td>\n",
       "      <td>-64.174061</td>\n",
       "      <td>-42.159232</td>\n",
       "      <td>-18.691037</td>\n",
       "      <td>-24.425028</td>\n",
       "      <td>-42.809645</td>\n",
       "      <td>-52.819456</td>\n",
       "      <td>-62.119267</td>\n",
       "      <td>-25.186415</td>\n",
       "      <td>-76.651420</td>\n",
       "      <td>-73.190347</td>\n",
       "      <td>-41.204545</td>\n",
       "    </tr>\n",
       "  </tbody>\n",
       "</table>\n",
       "</div>"
      ],
      "text/plain": [
       "region                       AFR         BRA        CAN        CHN  \\\n",
       "sector                                                               \n",
       "Agriculture           -51.656945  -15.266783  11.504655 -49.431557   \n",
       "Air                   -45.210652  -21.524009  12.070326  81.292785   \n",
       "Coal                   72.805685   67.331253 -72.494727  42.191572   \n",
       "Construction           61.900718   98.312907  62.714684  88.138614   \n",
       "Elec                  -38.618422   82.936624 -61.340095  52.834612   \n",
       "Gas                    81.736783   95.122844  55.238829  98.430383   \n",
       "Industry              -46.813749    4.063369 -53.488318  22.768406   \n",
       "Liquid fuels          -91.569440  -59.810837 -37.784950 -22.765704   \n",
       "Maritime              -89.657764  -65.271134  46.508416  70.646569   \n",
       "Oil                   -46.314096  100.000000  89.308552  83.206361   \n",
       "Services               15.110424   72.600721  22.477447  50.486134   \n",
       "Terrestrial transport -92.023355  -64.174061 -42.159232 -18.691037   \n",
       "\n",
       "region                        CIS         EUR        IND         JAN  \\\n",
       "sector                                                                 \n",
       "Agriculture            -79.175735  -15.054691  33.246161  -78.939427   \n",
       "Air                     -2.120032   22.432858  47.484319  -44.655635   \n",
       "Coal                   -50.648569  -50.612082  99.198178  -32.563916   \n",
       "Construction            39.013063   89.931354  91.237607   32.927130   \n",
       "Elec                   -96.819542  -55.683932  27.820876  -32.451852   \n",
       "Gas                      7.649642   93.508416  94.419090  100.000000   \n",
       "Industry               -72.885539  -31.725858 -10.731620  -61.102874   \n",
       "Liquid fuels           -53.194232  -77.404329   9.750898  -80.356232   \n",
       "Maritime               100.000000   43.329437  94.065216   40.845421   \n",
       "Oil                     21.027000  100.000000 -48.779498  100.000000   \n",
       "Services                33.643620   59.077748  58.322195  -30.508418   \n",
       "Terrestrial transport  -24.425028  -42.809645 -52.819456  -62.119267   \n",
       "\n",
       "region                        MDE         RAL         RAS        USA  \n",
       "sector                                                                \n",
       "Agriculture            -64.693257  -23.560435   26.220545 -10.512430  \n",
       "Air                     47.490449  -67.660621   39.072746  -7.275502  \n",
       "Coal                   100.000000  100.000000   99.746911 -65.381141  \n",
       "Construction            56.183580   96.957309   91.707537  78.333637  \n",
       "Elec                    25.486279   20.096951    6.351936 -39.274913  \n",
       "Gas                    -10.635473   24.754650   49.843837  80.346227  \n",
       "Industry                36.888833    8.376190    8.157572 -54.454310  \n",
       "Liquid fuels           100.000000  100.000000  -54.909713  99.871180  \n",
       "Maritime               -23.848784  -69.349829  -22.670078 -42.754144  \n",
       "Oil                    -37.777464   -9.168491  100.000000 -64.053286  \n",
       "Services                67.326305   46.686676   74.131603   9.901800  \n",
       "Terrestrial transport  -25.186415  -76.651420  -73.190347 -41.204545  "
      ]
     },
     "execution_count": 10,
     "metadata": {},
     "output_type": "execute_result"
    }
   ],
   "source": [
    "Relative_error_2015=production_based_emissions.groupby([\"scenario\",\"region\",\"sector\"]).sum().loc[\"baseline\"] \n",
    "Relative_error_2015=(Relative_error_2015[\"2050-Prod\"]-Relative_error_2015[\"2050-IMACLIM\"])/np.max([Relative_error_2015[\"2050-Prod\"],Relative_error_2015[\"2050-IMACLIM\"]],axis=0)\n",
    "Relative_error_2015=Relative_error_2015*100\n",
    "pd.concat([Relative_error_2015.loc[region] for region in Relative_error_2015.index.get_level_values(\"region\").unique()],keys=Relative_error_2015.index.get_level_values(\"region\").unique(),axis=1)"
   ]
  },
  {
   "cell_type": "code",
   "execution_count": 11,
   "metadata": {},
   "outputs": [
    {
     "data": {
      "text/html": [
       "<div>\n",
       "<style scoped>\n",
       "    .dataframe tbody tr th:only-of-type {\n",
       "        vertical-align: middle;\n",
       "    }\n",
       "\n",
       "    .dataframe tbody tr th {\n",
       "        vertical-align: top;\n",
       "    }\n",
       "\n",
       "    .dataframe thead th {\n",
       "        text-align: right;\n",
       "    }\n",
       "</style>\n",
       "<table border=\"1\" class=\"dataframe\">\n",
       "  <thead>\n",
       "    <tr style=\"text-align: right;\">\n",
       "      <th></th>\n",
       "      <th>0</th>\n",
       "    </tr>\n",
       "    <tr>\n",
       "      <th>region</th>\n",
       "      <th></th>\n",
       "    </tr>\n",
       "  </thead>\n",
       "  <tbody>\n",
       "    <tr>\n",
       "      <th>AFR</th>\n",
       "      <td>-46.954518</td>\n",
       "    </tr>\n",
       "    <tr>\n",
       "      <th>BRA</th>\n",
       "      <td>-0.561951</td>\n",
       "    </tr>\n",
       "    <tr>\n",
       "      <th>CAN</th>\n",
       "      <td>-22.995197</td>\n",
       "    </tr>\n",
       "    <tr>\n",
       "      <th>CHN</th>\n",
       "      <td>36.267118</td>\n",
       "    </tr>\n",
       "    <tr>\n",
       "      <th>CIS</th>\n",
       "      <td>-59.025546</td>\n",
       "    </tr>\n",
       "    <tr>\n",
       "      <th>EUR</th>\n",
       "      <td>-20.285232</td>\n",
       "    </tr>\n",
       "    <tr>\n",
       "      <th>IND</th>\n",
       "      <td>21.172125</td>\n",
       "    </tr>\n",
       "    <tr>\n",
       "      <th>JAN</th>\n",
       "      <td>-40.775450</td>\n",
       "    </tr>\n",
       "    <tr>\n",
       "      <th>MDE</th>\n",
       "      <td>15.702620</td>\n",
       "    </tr>\n",
       "    <tr>\n",
       "      <th>RAL</th>\n",
       "      <td>-22.319446</td>\n",
       "    </tr>\n",
       "    <tr>\n",
       "      <th>RAS</th>\n",
       "      <td>13.121042</td>\n",
       "    </tr>\n",
       "    <tr>\n",
       "      <th>USA</th>\n",
       "      <td>-33.278147</td>\n",
       "    </tr>\n",
       "  </tbody>\n",
       "</table>\n",
       "</div>"
      ],
      "text/plain": [
       "                0\n",
       "region           \n",
       "AFR    -46.954518\n",
       "BRA     -0.561951\n",
       "CAN    -22.995197\n",
       "CHN     36.267118\n",
       "CIS    -59.025546\n",
       "EUR    -20.285232\n",
       "IND     21.172125\n",
       "JAN    -40.775450\n",
       "MDE     15.702620\n",
       "RAL    -22.319446\n",
       "RAS     13.121042\n",
       "USA    -33.278147"
      ]
     },
     "execution_count": 11,
     "metadata": {},
     "output_type": "execute_result"
    }
   ],
   "source": [
    "Relative_error_2015=production_based_emissions.groupby([\"scenario\",\"region\"]).sum().loc[\"baseline\"]\n",
    "Relative_error_2015_ratio=(Relative_error_2015[\"2015\"]-Relative_error_2015[\"2015-IMACLIM\"])/np.max([Relative_error_2015[\"2015\"],Relative_error_2015[\"2015-IMACLIM\"]],axis=0)\n",
    "Relative_error_2015_ratio=Relative_error_2015_ratio*100\n",
    "pd.DataFrame(Relative_error_2015_ratio)"
   ]
  },
  {
   "cell_type": "code",
   "execution_count": 10,
   "metadata": {},
   "outputs": [
    {
     "data": {
      "text/plain": [
       "region\n",
       "AFR    1.075643e+12\n",
       "BRA    4.973495e+11\n",
       "CAN    5.678739e+11\n",
       "CHN    9.929628e+12\n",
       "CIS    1.475975e+12\n",
       "EUR    4.548643e+12\n",
       "IND    2.118380e+12\n",
       "JAN    1.628660e+12\n",
       "MDE    2.189486e+12\n",
       "RAL    1.286805e+12\n",
       "RAS    3.212389e+12\n",
       "USA    5.145479e+12\n",
       "dtype: float64"
      ]
     },
     "execution_count": 10,
     "metadata": {},
     "output_type": "execute_result"
    }
   ],
   "source": [
    "Relative_error_2015[\"2015\"]+model.iot.stressor_extension.F_Y.sum(axis=1,level=0).loc[\"CO2\"]"
   ]
  },
  {
   "cell_type": "code",
   "execution_count": 11,
   "metadata": {},
   "outputs": [],
   "source": [
    "import src.advance\n",
    "final_data_ratio,final_technical_coef,Link_country,Link,Production_volumes,total_consumption,direct_emissions=src.advance.extract_data(\"IMACLIM_format\")"
   ]
  },
  {
   "attachments": {},
   "cell_type": "markdown",
   "metadata": {},
   "source": [
    "### Comparing Consumption direct emission"
   ]
  },
  {
   "cell_type": "code",
   "execution_count": 12,
   "metadata": {},
   "outputs": [
    {
     "name": "stderr",
     "output_type": "stream",
     "text": [
      "/home/ubuntu/miniforge3/envs/MatMat-Trade-env/lib/python3.8/site-packages/pandas/core/indexing.py:1773: SettingWithCopyWarning: \n",
      "A value is trying to be set on a copy of a slice from a DataFrame.\n",
      "Try using .loc[row_indexer,col_indexer] = value instead\n",
      "\n",
      "See the caveats in the documentation: https://pandas.pydata.org/pandas-docs/stable/user_guide/indexing.html#returning-a-view-versus-a-copy\n",
      "  self._setitem_single_column(ilocs[0], value, pi)\n"
     ]
    }
   ],
   "source": [
    "import src.advance\n",
    "conso=src.advance.exctract_consumption_emission(\"IMACLIM_format\")"
   ]
  },
  {
   "cell_type": "code",
   "execution_count": 15,
   "metadata": {},
   "outputs": [
    {
     "data": {
      "text/html": [
       "<div>\n",
       "<style scoped>\n",
       "    .dataframe tbody tr th:only-of-type {\n",
       "        vertical-align: middle;\n",
       "    }\n",
       "\n",
       "    .dataframe tbody tr th {\n",
       "        vertical-align: top;\n",
       "    }\n",
       "\n",
       "    .dataframe thead th {\n",
       "        text-align: right;\n",
       "    }\n",
       "</style>\n",
       "<table border=\"1\" class=\"dataframe\">\n",
       "  <thead>\n",
       "    <tr style=\"text-align: right;\">\n",
       "      <th></th>\n",
       "      <th>MRIO</th>\n",
       "      <th>IMACLIM</th>\n",
       "    </tr>\n",
       "  </thead>\n",
       "  <tbody>\n",
       "    <tr>\n",
       "      <th>AFR</th>\n",
       "      <td>3.122832e+11</td>\n",
       "      <td>3.058000e+11</td>\n",
       "    </tr>\n",
       "    <tr>\n",
       "      <th>BRA</th>\n",
       "      <td>8.498662e+10</td>\n",
       "      <td>1.121000e+11</td>\n",
       "    </tr>\n",
       "    <tr>\n",
       "      <th>CAN</th>\n",
       "      <td>1.266648e+11</td>\n",
       "      <td>1.297600e+11</td>\n",
       "    </tr>\n",
       "    <tr>\n",
       "      <th>CHN</th>\n",
       "      <td>4.574793e+11</td>\n",
       "      <td>5.429000e+11</td>\n",
       "    </tr>\n",
       "    <tr>\n",
       "      <th>CIS</th>\n",
       "      <td>2.479844e+11</td>\n",
       "      <td>5.006000e+11</td>\n",
       "    </tr>\n",
       "    <tr>\n",
       "      <th>EUR</th>\n",
       "      <td>9.358370e+11</td>\n",
       "      <td>1.360400e+12</td>\n",
       "    </tr>\n",
       "    <tr>\n",
       "      <th>IND</th>\n",
       "      <td>2.191543e+11</td>\n",
       "      <td>1.737400e+11</td>\n",
       "    </tr>\n",
       "    <tr>\n",
       "      <th>JAN</th>\n",
       "      <td>2.213855e+11</td>\n",
       "      <td>5.126000e+11</td>\n",
       "    </tr>\n",
       "    <tr>\n",
       "      <th>MDE</th>\n",
       "      <td>3.301295e+11</td>\n",
       "      <td>3.148000e+11</td>\n",
       "    </tr>\n",
       "    <tr>\n",
       "      <th>RAL</th>\n",
       "      <td>2.712905e+11</td>\n",
       "      <td>3.603000e+11</td>\n",
       "    </tr>\n",
       "    <tr>\n",
       "      <th>RAS</th>\n",
       "      <td>3.966320e+11</td>\n",
       "      <td>3.098000e+11</td>\n",
       "    </tr>\n",
       "    <tr>\n",
       "      <th>USA</th>\n",
       "      <td>1.513567e+12</td>\n",
       "      <td>1.696000e+12</td>\n",
       "    </tr>\n",
       "    <tr>\n",
       "      <th>World</th>\n",
       "      <td>5.117394e+12</td>\n",
       "      <td>6.319000e+12</td>\n",
       "    </tr>\n",
       "  </tbody>\n",
       "</table>\n",
       "</div>"
      ],
      "text/plain": [
       "               MRIO       IMACLIM\n",
       "AFR    3.122832e+11  3.058000e+11\n",
       "BRA    8.498662e+10  1.121000e+11\n",
       "CAN    1.266648e+11  1.297600e+11\n",
       "CHN    4.574793e+11  5.429000e+11\n",
       "CIS    2.479844e+11  5.006000e+11\n",
       "EUR    9.358370e+11  1.360400e+12\n",
       "IND    2.191543e+11  1.737400e+11\n",
       "JAN    2.213855e+11  5.126000e+11\n",
       "MDE    3.301295e+11  3.148000e+11\n",
       "RAL    2.712905e+11  3.603000e+11\n",
       "RAS    3.966320e+11  3.098000e+11\n",
       "USA    1.513567e+12  1.696000e+12\n",
       "World  5.117394e+12  6.319000e+12"
      ]
     },
     "execution_count": 15,
     "metadata": {},
     "output_type": "execute_result"
    }
   ],
   "source": [
    "model_base_year_CO2_conso=model.iot.stressor_extension.F_Y.groupby(\"region\",axis=1).sum().loc[\"CO2 - combustion\"]\n",
    "IMACLIM_base_year_CO2_conso=conso.groupby([\"Scenario\",\"Region\"]).sum().loc[\"baseline\",2015]*1e9\n",
    "comparison=pd.DataFrame([model_base_year_CO2_conso,IMACLIM_base_year_CO2_conso]).T\n",
    "comparison.rename(columns={\"CO2 - combustion\":\"MRIO\",2015:\"IMACLIM\"},inplace=True)\n",
    "comparison.loc[\"World\",\"MRIO\"]=comparison.loc[:,\"MRIO\"].fillna(0).sum()\n",
    "comparison"
   ]
  },
  {
   "cell_type": "code",
   "execution_count": 14,
   "metadata": {},
   "outputs": [],
   "source": [
    "residential=conso.loc[(\"INDC\",slice(None),\"Residential\"),2015]*1e9\n",
    "residential.drop(\"World\",level=1,inplace=True)"
   ]
  },
  {
   "cell_type": "code",
   "execution_count": 15,
   "metadata": {},
   "outputs": [
    {
     "data": {
      "text/plain": [
       "Scenario  Region  Variable   \n",
       "INDC      USA     Residential    3.680000e+11\n",
       "          CAN     Residential    4.539000e+10\n",
       "          EUR     Residential    5.168000e+11\n",
       "          JAN     Residential    1.056000e+11\n",
       "          CIS     Residential    3.436000e+11\n",
       "          CHN     Residential    4.092000e+11\n",
       "          IND     Residential    1.220000e+11\n",
       "          BRA     Residential    2.538000e+10\n",
       "          MDE     Residential    1.927000e+11\n",
       "          AFR     Residential    1.121000e+11\n",
       "          RAS     Residential    1.044000e+11\n",
       "          RAL     Residential    1.046000e+11\n",
       "Name: 2015, dtype: float64"
      ]
     },
     "execution_count": 15,
     "metadata": {},
     "output_type": "execute_result"
    }
   ],
   "source": [
    "residential"
   ]
  },
  {
   "cell_type": "markdown",
   "metadata": {},
   "source": [
    "### IMACLIM2"
   ]
  },
  {
   "cell_type": "code",
   "execution_count": 16,
   "metadata": {},
   "outputs": [],
   "source": [
    "imaclim_2=pd.read_excel(\"../Data/IMACLIM/IMACLIM2.0/IMACLIM_navigate_outputs_NAV_NPi_Default.xlsx\",sheet_name=\"data\",index_col=[1,2,3]).drop(columns=[\"Unit\",\"Model\"])"
   ]
  },
  {
   "cell_type": "code",
   "execution_count": 17,
   "metadata": {},
   "outputs": [],
   "source": [
    "emissions=imaclim_2.loc[pd.Series(imaclim_2.index.get_level_values(\"Variable\"),index=imaclim_2.index).apply(lambda x : \"Emissions\" in x)].dropna(axis=0)\n",
    "emissions.reset_index(inplace=True)"
   ]
  },
  {
   "cell_type": "code",
   "execution_count": 18,
   "metadata": {},
   "outputs": [],
   "source": [
    "emissions.loc[:,\"Variable\"]=emissions.loc[:,\"Variable\"].apply(lambda x : x.split('|')[-1])\n",
    "emissions=emissions.loc[emissions.loc[:,\"Variable\"].isin([\"Electricity\",\"Transportation\",\"Industry\",\"Residential and Commercial\",\"Other Sector\"])]\n",
    "emissions.set_index([\"Scenario\",\"Region\",\"Variable\"],inplace=True)"
   ]
  },
  {
   "cell_type": "code",
   "execution_count": 19,
   "metadata": {},
   "outputs": [
    {
     "data": {
      "text/html": [
       "<div>\n",
       "<style scoped>\n",
       "    .dataframe tbody tr th:only-of-type {\n",
       "        vertical-align: middle;\n",
       "    }\n",
       "\n",
       "    .dataframe tbody tr th {\n",
       "        vertical-align: top;\n",
       "    }\n",
       "\n",
       "    .dataframe thead th {\n",
       "        text-align: right;\n",
       "    }\n",
       "</style>\n",
       "<table border=\"1\" class=\"dataframe\">\n",
       "  <thead>\n",
       "    <tr style=\"text-align: right;\">\n",
       "      <th></th>\n",
       "      <th></th>\n",
       "      <th></th>\n",
       "      <th>2015</th>\n",
       "      <th>2020</th>\n",
       "      <th>2025</th>\n",
       "      <th>2030</th>\n",
       "      <th>2035</th>\n",
       "      <th>2040</th>\n",
       "      <th>2045</th>\n",
       "      <th>2050</th>\n",
       "      <th>2055</th>\n",
       "      <th>2060</th>\n",
       "      <th>2065</th>\n",
       "      <th>2070</th>\n",
       "      <th>2075</th>\n",
       "      <th>2080</th>\n",
       "      <th>2085</th>\n",
       "      <th>2090</th>\n",
       "      <th>2095</th>\n",
       "      <th>2100</th>\n",
       "    </tr>\n",
       "    <tr>\n",
       "      <th>Scenario</th>\n",
       "      <th>Region</th>\n",
       "      <th>Variable</th>\n",
       "      <th></th>\n",
       "      <th></th>\n",
       "      <th></th>\n",
       "      <th></th>\n",
       "      <th></th>\n",
       "      <th></th>\n",
       "      <th></th>\n",
       "      <th></th>\n",
       "      <th></th>\n",
       "      <th></th>\n",
       "      <th></th>\n",
       "      <th></th>\n",
       "      <th></th>\n",
       "      <th></th>\n",
       "      <th></th>\n",
       "      <th></th>\n",
       "      <th></th>\n",
       "      <th></th>\n",
       "    </tr>\n",
       "  </thead>\n",
       "  <tbody>\n",
       "    <tr>\n",
       "      <th rowspan=\"11\" valign=\"top\">NAV_NPi_Default</th>\n",
       "      <th rowspan=\"5\" valign=\"top\">USA</th>\n",
       "      <th>Electricity</th>\n",
       "      <td>1971.00</td>\n",
       "      <td>1668.00</td>\n",
       "      <td>1583.00</td>\n",
       "      <td>1528.00</td>\n",
       "      <td>1490.00</td>\n",
       "      <td>1345.00</td>\n",
       "      <td>1198.00</td>\n",
       "      <td>1099.00</td>\n",
       "      <td>1028.00</td>\n",
       "      <td>975.40</td>\n",
       "      <td>951.50</td>\n",
       "      <td>955.6</td>\n",
       "      <td>972.5</td>\n",
       "      <td>958.50</td>\n",
       "      <td>906.70</td>\n",
       "      <td>829.00</td>\n",
       "      <td>746.00</td>\n",
       "      <td>646.90</td>\n",
       "    </tr>\n",
       "    <tr>\n",
       "      <th>Industry</th>\n",
       "      <td>506.30</td>\n",
       "      <td>556.80</td>\n",
       "      <td>638.00</td>\n",
       "      <td>692.70</td>\n",
       "      <td>718.90</td>\n",
       "      <td>717.00</td>\n",
       "      <td>716.90</td>\n",
       "      <td>715.10</td>\n",
       "      <td>722.90</td>\n",
       "      <td>734.00</td>\n",
       "      <td>748.90</td>\n",
       "      <td>760.8</td>\n",
       "      <td>766.9</td>\n",
       "      <td>764.90</td>\n",
       "      <td>759.30</td>\n",
       "      <td>748.70</td>\n",
       "      <td>731.10</td>\n",
       "      <td>706.50</td>\n",
       "    </tr>\n",
       "    <tr>\n",
       "      <th>Residential and Commercial</th>\n",
       "      <td>495.90</td>\n",
       "      <td>526.00</td>\n",
       "      <td>558.00</td>\n",
       "      <td>574.50</td>\n",
       "      <td>578.50</td>\n",
       "      <td>568.10</td>\n",
       "      <td>552.80</td>\n",
       "      <td>539.10</td>\n",
       "      <td>533.90</td>\n",
       "      <td>528.30</td>\n",
       "      <td>521.60</td>\n",
       "      <td>510.9</td>\n",
       "      <td>496.2</td>\n",
       "      <td>478.70</td>\n",
       "      <td>461.30</td>\n",
       "      <td>442.60</td>\n",
       "      <td>423.70</td>\n",
       "      <td>405.20</td>\n",
       "    </tr>\n",
       "    <tr>\n",
       "      <th>Transportation</th>\n",
       "      <td>1952.00</td>\n",
       "      <td>2058.00</td>\n",
       "      <td>2130.00</td>\n",
       "      <td>2119.00</td>\n",
       "      <td>1978.00</td>\n",
       "      <td>1790.00</td>\n",
       "      <td>1667.00</td>\n",
       "      <td>1631.00</td>\n",
       "      <td>1669.00</td>\n",
       "      <td>1732.00</td>\n",
       "      <td>1788.00</td>\n",
       "      <td>1823.0</td>\n",
       "      <td>1832.0</td>\n",
       "      <td>1818.00</td>\n",
       "      <td>1790.00</td>\n",
       "      <td>1746.00</td>\n",
       "      <td>1684.00</td>\n",
       "      <td>1596.00</td>\n",
       "    </tr>\n",
       "    <tr>\n",
       "      <th>Other Sector</th>\n",
       "      <td>25.85</td>\n",
       "      <td>24.73</td>\n",
       "      <td>26.92</td>\n",
       "      <td>29.08</td>\n",
       "      <td>30.95</td>\n",
       "      <td>32.12</td>\n",
       "      <td>33.28</td>\n",
       "      <td>34.67</td>\n",
       "      <td>36.75</td>\n",
       "      <td>39.07</td>\n",
       "      <td>41.19</td>\n",
       "      <td>43.1</td>\n",
       "      <td>44.5</td>\n",
       "      <td>45.26</td>\n",
       "      <td>45.64</td>\n",
       "      <td>45.49</td>\n",
       "      <td>44.74</td>\n",
       "      <td>43.36</td>\n",
       "    </tr>\n",
       "    <tr>\n",
       "      <th>...</th>\n",
       "      <th>...</th>\n",
       "      <td>...</td>\n",
       "      <td>...</td>\n",
       "      <td>...</td>\n",
       "      <td>...</td>\n",
       "      <td>...</td>\n",
       "      <td>...</td>\n",
       "      <td>...</td>\n",
       "      <td>...</td>\n",
       "      <td>...</td>\n",
       "      <td>...</td>\n",
       "      <td>...</td>\n",
       "      <td>...</td>\n",
       "      <td>...</td>\n",
       "      <td>...</td>\n",
       "      <td>...</td>\n",
       "      <td>...</td>\n",
       "      <td>...</td>\n",
       "      <td>...</td>\n",
       "    </tr>\n",
       "    <tr>\n",
       "      <th rowspan=\"5\" valign=\"top\">World</th>\n",
       "      <th>Electricity</th>\n",
       "      <td>11750.00</td>\n",
       "      <td>10470.00</td>\n",
       "      <td>9801.00</td>\n",
       "      <td>9563.00</td>\n",
       "      <td>9267.00</td>\n",
       "      <td>8967.00</td>\n",
       "      <td>9071.00</td>\n",
       "      <td>9434.00</td>\n",
       "      <td>9400.00</td>\n",
       "      <td>9391.00</td>\n",
       "      <td>9577.00</td>\n",
       "      <td>9847.0</td>\n",
       "      <td>9891.0</td>\n",
       "      <td>9976.00</td>\n",
       "      <td>9889.00</td>\n",
       "      <td>9742.00</td>\n",
       "      <td>9577.00</td>\n",
       "      <td>9559.00</td>\n",
       "    </tr>\n",
       "    <tr>\n",
       "      <th>Industry</th>\n",
       "      <td>8078.00</td>\n",
       "      <td>8718.00</td>\n",
       "      <td>10580.00</td>\n",
       "      <td>11930.00</td>\n",
       "      <td>12910.00</td>\n",
       "      <td>13690.00</td>\n",
       "      <td>14320.00</td>\n",
       "      <td>14930.00</td>\n",
       "      <td>15400.00</td>\n",
       "      <td>15820.00</td>\n",
       "      <td>16190.00</td>\n",
       "      <td>16470.0</td>\n",
       "      <td>16660.0</td>\n",
       "      <td>16740.00</td>\n",
       "      <td>16780.00</td>\n",
       "      <td>16780.00</td>\n",
       "      <td>16790.00</td>\n",
       "      <td>16710.00</td>\n",
       "    </tr>\n",
       "    <tr>\n",
       "      <th>Residential and Commercial</th>\n",
       "      <td>2688.00</td>\n",
       "      <td>2912.00</td>\n",
       "      <td>3178.00</td>\n",
       "      <td>3313.00</td>\n",
       "      <td>3328.00</td>\n",
       "      <td>3268.00</td>\n",
       "      <td>3170.00</td>\n",
       "      <td>3105.00</td>\n",
       "      <td>3106.00</td>\n",
       "      <td>3110.00</td>\n",
       "      <td>3090.00</td>\n",
       "      <td>3023.0</td>\n",
       "      <td>2944.0</td>\n",
       "      <td>2875.00</td>\n",
       "      <td>2798.00</td>\n",
       "      <td>2729.00</td>\n",
       "      <td>2679.00</td>\n",
       "      <td>2633.00</td>\n",
       "    </tr>\n",
       "    <tr>\n",
       "      <th>Transportation</th>\n",
       "      <td>7413.00</td>\n",
       "      <td>7635.00</td>\n",
       "      <td>8566.00</td>\n",
       "      <td>9252.00</td>\n",
       "      <td>9622.00</td>\n",
       "      <td>9763.00</td>\n",
       "      <td>9865.00</td>\n",
       "      <td>10050.00</td>\n",
       "      <td>10470.00</td>\n",
       "      <td>11050.00</td>\n",
       "      <td>11540.00</td>\n",
       "      <td>11900.0</td>\n",
       "      <td>12090.0</td>\n",
       "      <td>12150.00</td>\n",
       "      <td>12140.00</td>\n",
       "      <td>12070.00</td>\n",
       "      <td>11960.00</td>\n",
       "      <td>11680.00</td>\n",
       "    </tr>\n",
       "    <tr>\n",
       "      <th>Other Sector</th>\n",
       "      <td>138.10</td>\n",
       "      <td>146.60</td>\n",
       "      <td>177.60</td>\n",
       "      <td>201.10</td>\n",
       "      <td>218.50</td>\n",
       "      <td>233.60</td>\n",
       "      <td>248.30</td>\n",
       "      <td>261.70</td>\n",
       "      <td>275.30</td>\n",
       "      <td>289.40</td>\n",
       "      <td>305.30</td>\n",
       "      <td>320.9</td>\n",
       "      <td>333.4</td>\n",
       "      <td>341.20</td>\n",
       "      <td>347.20</td>\n",
       "      <td>350.60</td>\n",
       "      <td>354.00</td>\n",
       "      <td>356.00</td>\n",
       "    </tr>\n",
       "  </tbody>\n",
       "</table>\n",
       "<p>65 rows × 18 columns</p>\n",
       "</div>"
      ],
      "text/plain": [
       "                                                       2015      2020  \\\n",
       "Scenario        Region Variable                                         \n",
       "NAV_NPi_Default USA    Electricity                  1971.00   1668.00   \n",
       "                       Industry                      506.30    556.80   \n",
       "                       Residential and Commercial    495.90    526.00   \n",
       "                       Transportation               1952.00   2058.00   \n",
       "                       Other Sector                   25.85     24.73   \n",
       "...                                                     ...       ...   \n",
       "                World  Electricity                 11750.00  10470.00   \n",
       "                       Industry                     8078.00   8718.00   \n",
       "                       Residential and Commercial   2688.00   2912.00   \n",
       "                       Transportation               7413.00   7635.00   \n",
       "                       Other Sector                  138.10    146.60   \n",
       "\n",
       "                                                       2025      2030  \\\n",
       "Scenario        Region Variable                                         \n",
       "NAV_NPi_Default USA    Electricity                  1583.00   1528.00   \n",
       "                       Industry                      638.00    692.70   \n",
       "                       Residential and Commercial    558.00    574.50   \n",
       "                       Transportation               2130.00   2119.00   \n",
       "                       Other Sector                   26.92     29.08   \n",
       "...                                                     ...       ...   \n",
       "                World  Electricity                  9801.00   9563.00   \n",
       "                       Industry                    10580.00  11930.00   \n",
       "                       Residential and Commercial   3178.00   3313.00   \n",
       "                       Transportation               8566.00   9252.00   \n",
       "                       Other Sector                  177.60    201.10   \n",
       "\n",
       "                                                       2035      2040  \\\n",
       "Scenario        Region Variable                                         \n",
       "NAV_NPi_Default USA    Electricity                  1490.00   1345.00   \n",
       "                       Industry                      718.90    717.00   \n",
       "                       Residential and Commercial    578.50    568.10   \n",
       "                       Transportation               1978.00   1790.00   \n",
       "                       Other Sector                   30.95     32.12   \n",
       "...                                                     ...       ...   \n",
       "                World  Electricity                  9267.00   8967.00   \n",
       "                       Industry                    12910.00  13690.00   \n",
       "                       Residential and Commercial   3328.00   3268.00   \n",
       "                       Transportation               9622.00   9763.00   \n",
       "                       Other Sector                  218.50    233.60   \n",
       "\n",
       "                                                       2045      2050  \\\n",
       "Scenario        Region Variable                                         \n",
       "NAV_NPi_Default USA    Electricity                  1198.00   1099.00   \n",
       "                       Industry                      716.90    715.10   \n",
       "                       Residential and Commercial    552.80    539.10   \n",
       "                       Transportation               1667.00   1631.00   \n",
       "                       Other Sector                   33.28     34.67   \n",
       "...                                                     ...       ...   \n",
       "                World  Electricity                  9071.00   9434.00   \n",
       "                       Industry                    14320.00  14930.00   \n",
       "                       Residential and Commercial   3170.00   3105.00   \n",
       "                       Transportation               9865.00  10050.00   \n",
       "                       Other Sector                  248.30    261.70   \n",
       "\n",
       "                                                       2055      2060  \\\n",
       "Scenario        Region Variable                                         \n",
       "NAV_NPi_Default USA    Electricity                  1028.00    975.40   \n",
       "                       Industry                      722.90    734.00   \n",
       "                       Residential and Commercial    533.90    528.30   \n",
       "                       Transportation               1669.00   1732.00   \n",
       "                       Other Sector                   36.75     39.07   \n",
       "...                                                     ...       ...   \n",
       "                World  Electricity                  9400.00   9391.00   \n",
       "                       Industry                    15400.00  15820.00   \n",
       "                       Residential and Commercial   3106.00   3110.00   \n",
       "                       Transportation              10470.00  11050.00   \n",
       "                       Other Sector                  275.30    289.40   \n",
       "\n",
       "                                                       2065     2070     2075  \\\n",
       "Scenario        Region Variable                                                 \n",
       "NAV_NPi_Default USA    Electricity                   951.50    955.6    972.5   \n",
       "                       Industry                      748.90    760.8    766.9   \n",
       "                       Residential and Commercial    521.60    510.9    496.2   \n",
       "                       Transportation               1788.00   1823.0   1832.0   \n",
       "                       Other Sector                   41.19     43.1     44.5   \n",
       "...                                                     ...      ...      ...   \n",
       "                World  Electricity                  9577.00   9847.0   9891.0   \n",
       "                       Industry                    16190.00  16470.0  16660.0   \n",
       "                       Residential and Commercial   3090.00   3023.0   2944.0   \n",
       "                       Transportation              11540.00  11900.0  12090.0   \n",
       "                       Other Sector                  305.30    320.9    333.4   \n",
       "\n",
       "                                                       2080      2085  \\\n",
       "Scenario        Region Variable                                         \n",
       "NAV_NPi_Default USA    Electricity                   958.50    906.70   \n",
       "                       Industry                      764.90    759.30   \n",
       "                       Residential and Commercial    478.70    461.30   \n",
       "                       Transportation               1818.00   1790.00   \n",
       "                       Other Sector                   45.26     45.64   \n",
       "...                                                     ...       ...   \n",
       "                World  Electricity                  9976.00   9889.00   \n",
       "                       Industry                    16740.00  16780.00   \n",
       "                       Residential and Commercial   2875.00   2798.00   \n",
       "                       Transportation              12150.00  12140.00   \n",
       "                       Other Sector                  341.20    347.20   \n",
       "\n",
       "                                                       2090      2095  \\\n",
       "Scenario        Region Variable                                         \n",
       "NAV_NPi_Default USA    Electricity                   829.00    746.00   \n",
       "                       Industry                      748.70    731.10   \n",
       "                       Residential and Commercial    442.60    423.70   \n",
       "                       Transportation               1746.00   1684.00   \n",
       "                       Other Sector                   45.49     44.74   \n",
       "...                                                     ...       ...   \n",
       "                World  Electricity                  9742.00   9577.00   \n",
       "                       Industry                    16780.00  16790.00   \n",
       "                       Residential and Commercial   2729.00   2679.00   \n",
       "                       Transportation              12070.00  11960.00   \n",
       "                       Other Sector                  350.60    354.00   \n",
       "\n",
       "                                                       2100  \n",
       "Scenario        Region Variable                              \n",
       "NAV_NPi_Default USA    Electricity                   646.90  \n",
       "                       Industry                      706.50  \n",
       "                       Residential and Commercial    405.20  \n",
       "                       Transportation               1596.00  \n",
       "                       Other Sector                   43.36  \n",
       "...                                                     ...  \n",
       "                World  Electricity                  9559.00  \n",
       "                       Industry                    16710.00  \n",
       "                       Residential and Commercial   2633.00  \n",
       "                       Transportation              11680.00  \n",
       "                       Other Sector                  356.00  \n",
       "\n",
       "[65 rows x 18 columns]"
      ]
     },
     "execution_count": 19,
     "metadata": {},
     "output_type": "execute_result"
    }
   ],
   "source": [
    "emissions"
   ]
  },
  {
   "cell_type": "code",
   "execution_count": 20,
   "metadata": {},
   "outputs": [
    {
     "data": {
      "text/html": [
       "<div>\n",
       "<style scoped>\n",
       "    .dataframe tbody tr th:only-of-type {\n",
       "        vertical-align: middle;\n",
       "    }\n",
       "\n",
       "    .dataframe tbody tr th {\n",
       "        vertical-align: top;\n",
       "    }\n",
       "\n",
       "    .dataframe thead th {\n",
       "        text-align: right;\n",
       "    }\n",
       "</style>\n",
       "<table border=\"1\" class=\"dataframe\">\n",
       "  <thead>\n",
       "    <tr style=\"text-align: right;\">\n",
       "      <th></th>\n",
       "      <th>2015-IMACLIM2</th>\n",
       "      <th>2015</th>\n",
       "      <th>2015-IMACLIM</th>\n",
       "    </tr>\n",
       "    <tr>\n",
       "      <th>region</th>\n",
       "      <th></th>\n",
       "      <th></th>\n",
       "      <th></th>\n",
       "    </tr>\n",
       "  </thead>\n",
       "  <tbody>\n",
       "    <tr>\n",
       "      <th>AFR</th>\n",
       "      <td>1.014076e+12</td>\n",
       "      <td>6.967100e+11</td>\n",
       "      <td>1.313420e+12</td>\n",
       "    </tr>\n",
       "    <tr>\n",
       "      <th>BRA</th>\n",
       "      <td>4.820300e+11</td>\n",
       "      <td>3.606668e+11</td>\n",
       "      <td>3.627050e+11</td>\n",
       "    </tr>\n",
       "    <tr>\n",
       "      <th>CAN</th>\n",
       "      <td>4.454790e+11</td>\n",
       "      <td>4.310182e+11</td>\n",
       "      <td>5.597290e+11</td>\n",
       "    </tr>\n",
       "    <tr>\n",
       "      <th>CHN</th>\n",
       "      <td>9.255410e+12</td>\n",
       "      <td>8.500557e+12</td>\n",
       "      <td>5.417650e+12</td>\n",
       "    </tr>\n",
       "    <tr>\n",
       "      <th>CIS</th>\n",
       "      <td>1.939190e+12</td>\n",
       "      <td>1.197946e+12</td>\n",
       "      <td>2.923640e+12</td>\n",
       "    </tr>\n",
       "    <tr>\n",
       "      <th>EUR</th>\n",
       "      <td>3.348060e+12</td>\n",
       "      <td>3.431673e+12</td>\n",
       "      <td>4.304940e+12</td>\n",
       "    </tr>\n",
       "    <tr>\n",
       "      <th>IND</th>\n",
       "      <td>2.021034e+12</td>\n",
       "      <td>1.773271e+12</td>\n",
       "      <td>1.397832e+12</td>\n",
       "    </tr>\n",
       "    <tr>\n",
       "      <th>JAN</th>\n",
       "      <td>2.088313e+12</td>\n",
       "      <td>1.357136e+12</td>\n",
       "      <td>2.291510e+12</td>\n",
       "    </tr>\n",
       "    <tr>\n",
       "      <th>MDE</th>\n",
       "      <td>1.725960e+12</td>\n",
       "      <td>1.744467e+12</td>\n",
       "      <td>1.470540e+12</td>\n",
       "    </tr>\n",
       "    <tr>\n",
       "      <th>RAL</th>\n",
       "      <td>1.030408e+12</td>\n",
       "      <td>9.404855e+11</td>\n",
       "      <td>1.210709e+12</td>\n",
       "    </tr>\n",
       "    <tr>\n",
       "      <th>RAS</th>\n",
       "      <td>1.765382e+12</td>\n",
       "      <td>2.636518e+12</td>\n",
       "      <td>2.290580e+12</td>\n",
       "    </tr>\n",
       "    <tr>\n",
       "      <th>USA</th>\n",
       "      <td>4.951050e+12</td>\n",
       "      <td>3.558924e+12</td>\n",
       "      <td>5.333971e+12</td>\n",
       "    </tr>\n",
       "    <tr>\n",
       "      <th>World</th>\n",
       "      <td>3.006639e+13</td>\n",
       "      <td>2.662937e+13</td>\n",
       "      <td>2.887723e+13</td>\n",
       "    </tr>\n",
       "  </tbody>\n",
       "</table>\n",
       "</div>"
      ],
      "text/plain": [
       "        2015-IMACLIM2          2015  2015-IMACLIM\n",
       "region                                           \n",
       "AFR      1.014076e+12  6.967100e+11  1.313420e+12\n",
       "BRA      4.820300e+11  3.606668e+11  3.627050e+11\n",
       "CAN      4.454790e+11  4.310182e+11  5.597290e+11\n",
       "CHN      9.255410e+12  8.500557e+12  5.417650e+12\n",
       "CIS      1.939190e+12  1.197946e+12  2.923640e+12\n",
       "EUR      3.348060e+12  3.431673e+12  4.304940e+12\n",
       "IND      2.021034e+12  1.773271e+12  1.397832e+12\n",
       "JAN      2.088313e+12  1.357136e+12  2.291510e+12\n",
       "MDE      1.725960e+12  1.744467e+12  1.470540e+12\n",
       "RAL      1.030408e+12  9.404855e+11  1.210709e+12\n",
       "RAS      1.765382e+12  2.636518e+12  2.290580e+12\n",
       "USA      4.951050e+12  3.558924e+12  5.333971e+12\n",
       "World    3.006639e+13  2.662937e+13  2.887723e+13"
      ]
     },
     "execution_count": 20,
     "metadata": {},
     "output_type": "execute_result"
    }
   ],
   "source": [
    "total_per_region=production_based_emissions.groupby([\"scenario\",\"region\"]).sum().loc[\"baseline\"] \n",
    "total_per_region[\"2015-IMACLIM2\"]=emissions.groupby(\"Region\").sum()[2015]*1e9\n",
    "total_per_region[\"2050-IMACLIM2\"]=emissions.groupby(\"Region\").sum()[2050]*1e9\n",
    "total_per_region.loc[\"World\",:]=total_per_region.sum(axis=0)\n",
    "total_per_region[[\"2015-IMACLIM2\",\"2015\",\"2015-IMACLIM\"]]"
   ]
  },
  {
   "cell_type": "code",
   "execution_count": 21,
   "metadata": {},
   "outputs": [
    {
     "data": {
      "text/html": [
       "<div>\n",
       "<style scoped>\n",
       "    .dataframe tbody tr th:only-of-type {\n",
       "        vertical-align: middle;\n",
       "    }\n",
       "\n",
       "    .dataframe tbody tr th {\n",
       "        vertical-align: top;\n",
       "    }\n",
       "\n",
       "    .dataframe thead th {\n",
       "        text-align: right;\n",
       "    }\n",
       "</style>\n",
       "<table border=\"1\" class=\"dataframe\">\n",
       "  <thead>\n",
       "    <tr style=\"text-align: right;\">\n",
       "      <th></th>\n",
       "      <th>2015-IMACLIM2</th>\n",
       "      <th>2015-IMACLIM</th>\n",
       "    </tr>\n",
       "    <tr>\n",
       "      <th>region</th>\n",
       "      <th></th>\n",
       "      <th></th>\n",
       "    </tr>\n",
       "  </thead>\n",
       "  <tbody>\n",
       "    <tr>\n",
       "      <th>AFR</th>\n",
       "      <td>45.552101</td>\n",
       "      <td>88.517469</td>\n",
       "    </tr>\n",
       "    <tr>\n",
       "      <th>BRA</th>\n",
       "      <td>33.649682</td>\n",
       "      <td>0.565126</td>\n",
       "    </tr>\n",
       "    <tr>\n",
       "      <th>CAN</th>\n",
       "      <td>3.355028</td>\n",
       "      <td>29.862029</td>\n",
       "    </tr>\n",
       "    <tr>\n",
       "      <th>CHN</th>\n",
       "      <td>8.880041</td>\n",
       "      <td>-36.267118</td>\n",
       "    </tr>\n",
       "    <tr>\n",
       "      <th>CIS</th>\n",
       "      <td>61.876310</td>\n",
       "      <td>144.054504</td>\n",
       "    </tr>\n",
       "    <tr>\n",
       "      <th>EUR</th>\n",
       "      <td>-2.436506</td>\n",
       "      <td>25.447270</td>\n",
       "    </tr>\n",
       "    <tr>\n",
       "      <th>IND</th>\n",
       "      <td>13.972060</td>\n",
       "      <td>-21.172125</td>\n",
       "    </tr>\n",
       "    <tr>\n",
       "      <th>JAN</th>\n",
       "      <td>53.876417</td>\n",
       "      <td>68.848898</td>\n",
       "    </tr>\n",
       "    <tr>\n",
       "      <th>MDE</th>\n",
       "      <td>-1.060898</td>\n",
       "      <td>-15.702620</td>\n",
       "    </tr>\n",
       "    <tr>\n",
       "      <th>RAL</th>\n",
       "      <td>9.561290</td>\n",
       "      <td>28.732347</td>\n",
       "    </tr>\n",
       "    <tr>\n",
       "      <th>RAS</th>\n",
       "      <td>-33.041159</td>\n",
       "      <td>-13.121042</td>\n",
       "    </tr>\n",
       "    <tr>\n",
       "      <th>USA</th>\n",
       "      <td>39.116472</td>\n",
       "      <td>49.875934</td>\n",
       "    </tr>\n",
       "    <tr>\n",
       "      <th>World</th>\n",
       "      <td>12.906870</td>\n",
       "      <td>8.441252</td>\n",
       "    </tr>\n",
       "  </tbody>\n",
       "</table>\n",
       "</div>"
      ],
      "text/plain": [
       "        2015-IMACLIM2  2015-IMACLIM\n",
       "region                             \n",
       "AFR         45.552101     88.517469\n",
       "BRA         33.649682      0.565126\n",
       "CAN          3.355028     29.862029\n",
       "CHN          8.880041    -36.267118\n",
       "CIS         61.876310    144.054504\n",
       "EUR         -2.436506     25.447270\n",
       "IND         13.972060    -21.172125\n",
       "JAN         53.876417     68.848898\n",
       "MDE         -1.060898    -15.702620\n",
       "RAL          9.561290     28.732347\n",
       "RAS        -33.041159    -13.121042\n",
       "USA         39.116472     49.875934\n",
       "World       12.906870      8.441252"
      ]
     },
     "execution_count": 21,
     "metadata": {},
     "output_type": "execute_result"
    }
   ],
   "source": [
    "percentage_error=(total_per_region[[\"2015-IMACLIM2\",\"2015-IMACLIM\"]]/total_per_region[[\"2015\"]].values-1)*100\n",
    "percentage_error"
   ]
  },
  {
   "cell_type": "code",
   "execution_count": 22,
   "metadata": {},
   "outputs": [
    {
     "data": {
      "text/html": [
       "<div>\n",
       "<style scoped>\n",
       "    .dataframe tbody tr th:only-of-type {\n",
       "        vertical-align: middle;\n",
       "    }\n",
       "\n",
       "    .dataframe tbody tr th {\n",
       "        vertical-align: top;\n",
       "    }\n",
       "\n",
       "    .dataframe thead th {\n",
       "        text-align: right;\n",
       "    }\n",
       "</style>\n",
       "<table border=\"1\" class=\"dataframe\">\n",
       "  <thead>\n",
       "    <tr style=\"text-align: right;\">\n",
       "      <th></th>\n",
       "      <th>2050-IMACLIM2</th>\n",
       "      <th>2050-IMACLIM</th>\n",
       "    </tr>\n",
       "    <tr>\n",
       "      <th>region</th>\n",
       "      <th></th>\n",
       "      <th></th>\n",
       "    </tr>\n",
       "  </thead>\n",
       "  <tbody>\n",
       "    <tr>\n",
       "      <th>AFR</th>\n",
       "      <td>-20.261034</td>\n",
       "      <td>83.027552</td>\n",
       "    </tr>\n",
       "    <tr>\n",
       "      <th>BRA</th>\n",
       "      <td>7.731991</td>\n",
       "      <td>-1.031889</td>\n",
       "    </tr>\n",
       "    <tr>\n",
       "      <th>CAN</th>\n",
       "      <td>-46.683456</td>\n",
       "      <td>-22.261010</td>\n",
       "    </tr>\n",
       "    <tr>\n",
       "      <th>CHN</th>\n",
       "      <td>-34.258348</td>\n",
       "      <td>-46.192811</td>\n",
       "    </tr>\n",
       "    <tr>\n",
       "      <th>CIS</th>\n",
       "      <td>41.349406</td>\n",
       "      <td>112.587057</td>\n",
       "    </tr>\n",
       "    <tr>\n",
       "      <th>EUR</th>\n",
       "      <td>-10.830296</td>\n",
       "      <td>13.419089</td>\n",
       "    </tr>\n",
       "    <tr>\n",
       "      <th>IND</th>\n",
       "      <td>20.017411</td>\n",
       "      <td>-26.651958</td>\n",
       "    </tr>\n",
       "    <tr>\n",
       "      <th>JAN</th>\n",
       "      <td>36.155157</td>\n",
       "      <td>59.804005</td>\n",
       "    </tr>\n",
       "    <tr>\n",
       "      <th>MDE</th>\n",
       "      <td>-29.932055</td>\n",
       "      <td>-22.692426</td>\n",
       "    </tr>\n",
       "    <tr>\n",
       "      <th>RAL</th>\n",
       "      <td>-2.274930</td>\n",
       "      <td>5.863214</td>\n",
       "    </tr>\n",
       "    <tr>\n",
       "      <th>RAS</th>\n",
       "      <td>-39.447365</td>\n",
       "      <td>-19.245847</td>\n",
       "    </tr>\n",
       "    <tr>\n",
       "      <th>USA</th>\n",
       "      <td>4.571948</td>\n",
       "      <td>45.624084</td>\n",
       "    </tr>\n",
       "    <tr>\n",
       "      <th>World</th>\n",
       "      <td>-17.843314</td>\n",
       "      <td>-7.843144</td>\n",
       "    </tr>\n",
       "  </tbody>\n",
       "</table>\n",
       "</div>"
      ],
      "text/plain": [
       "        2050-IMACLIM2  2050-IMACLIM\n",
       "region                             \n",
       "AFR        -20.261034     83.027552\n",
       "BRA          7.731991     -1.031889\n",
       "CAN        -46.683456    -22.261010\n",
       "CHN        -34.258348    -46.192811\n",
       "CIS         41.349406    112.587057\n",
       "EUR        -10.830296     13.419089\n",
       "IND         20.017411    -26.651958\n",
       "JAN         36.155157     59.804005\n",
       "MDE        -29.932055    -22.692426\n",
       "RAL         -2.274930      5.863214\n",
       "RAS        -39.447365    -19.245847\n",
       "USA          4.571948     45.624084\n",
       "World      -17.843314     -7.843144"
      ]
     },
     "execution_count": 22,
     "metadata": {},
     "output_type": "execute_result"
    }
   ],
   "source": [
    "percentage_error=(total_per_region[[\"2050-IMACLIM2\",\"2050-IMACLIM\"]]/total_per_region[[\"2050-Prod\"]].values-1)*100\n",
    "percentage_error"
   ]
  },
  {
   "cell_type": "code",
   "execution_count": null,
   "metadata": {},
   "outputs": [],
   "source": []
  },
  {
   "cell_type": "markdown",
   "metadata": {},
   "source": []
  },
  {
   "cell_type": "code",
   "execution_count": 4,
   "metadata": {},
   "outputs": [
    {
     "name": "stderr",
     "output_type": "stream",
     "text": [
      " 14%|█▍        | 1/7 [00:40<04:02, 40.40s/it]"
     ]
    },
    {
     "name": "stdout",
     "output_type": "stream",
     "text": [
      "Problems on sums of columns  region  sector               \n",
      "AFR     Terrestrial transport     333.209566\n",
      "MDE     Terrestrial transport    4486.348277\n",
      "RAL     Terrestrial transport     172.151602\n",
      "dtype: float64\n"
     ]
    },
    {
     "name": "stderr",
     "output_type": "stream",
     "text": [
      " 29%|██▊       | 2/7 [01:20<03:20, 40.09s/it]"
     ]
    },
    {
     "name": "stdout",
     "output_type": "stream",
     "text": [
      "Problems on sums of columns  region  sector               \n",
      "AFR     Terrestrial transport     237.323465\n",
      "MDE     Terrestrial transport    3148.991362\n",
      "RAL     Terrestrial transport     124.123202\n",
      "dtype: float64\n"
     ]
    },
    {
     "name": "stderr",
     "output_type": "stream",
     "text": [
      " 43%|████▎     | 3/7 [02:00<02:40, 40.14s/it]"
     ]
    },
    {
     "name": "stdout",
     "output_type": "stream",
     "text": [
      "Problems on sums of columns  region  sector               \n",
      "AFR     Terrestrial transport     47.043673\n",
      "MDE     Terrestrial transport    146.430499\n",
      "RAL     Terrestrial transport     25.875496\n",
      "dtype: float64\n"
     ]
    },
    {
     "name": "stderr",
     "output_type": "stream",
     "text": [
      " 57%|█████▋    | 4/7 [02:40<01:59, 39.93s/it]"
     ]
    },
    {
     "name": "stdout",
     "output_type": "stream",
     "text": [
      "Problems on sums of columns  region  sector               \n",
      "AFR     Terrestrial transport     282.256477\n",
      "MDE     Terrestrial transport    6422.740342\n",
      "RAL     Terrestrial transport     173.155012\n",
      "dtype: float64\n"
     ]
    },
    {
     "name": "stderr",
     "output_type": "stream",
     "text": [
      " 71%|███████▏  | 5/7 [03:19<01:19, 39.78s/it]"
     ]
    },
    {
     "name": "stdout",
     "output_type": "stream",
     "text": [
      "Problems on sums of columns  region  sector               \n",
      "AFR     Terrestrial transport     169.042045\n",
      "MDE     Terrestrial transport    2024.383010\n",
      "RAL     Terrestrial transport      89.719931\n",
      "dtype: float64\n"
     ]
    },
    {
     "name": "stderr",
     "output_type": "stream",
     "text": [
      "100%|██████████| 7/7 [04:39<00:00, 39.87s/it]\n"
     ]
    }
   ],
   "source": [
    "from src.utils import get_import_mean_stressor\n",
    "\n",
    "scenario_list=[\"INDC\",\"INDC2020_1000\",\"INDC2030_1000\",\"INDC2020_1600\",\"INDC2020_400\",\"INDC2030_1600\",\"baseline\"]\n",
    "\n",
    "\n",
    "NBR_PROCESS=2\n",
    "\n",
    "start_year=pd.concat([ pd.concat([pd.DataFrame(get_import_mean_stressor(model.iot,region=region),columns=[\"2015\"])  for region in model.regions],\n",
    "                      keys=model.regions,\n",
    "                      names=(\"regions\",\"stressor\",\"sector\")) for scenario in scenario_list],\n",
    "          keys=scenario_list,\n",
    "          names=(\"scenario\",\"regions\",\"stressor\",\"sector\"))\n",
    "\n",
    "Emissions=pd.concat([start_year for i in range(4)],axis=1,keys=[\"2015\",\"2050-all\",\"2050-Prod\",\"2050-emissi\"]).sort_index()\n",
    "Emissions.columns=[\"2015\",\"2050-all\",\"2050-Prod\",\"2050-emissi\"]\n",
    "\n",
    "for scenario in tqdm.tqdm(scenario_list):\n",
    "    model.new_counterfactual(\"IMACLIM_emissi_2050_\"+scenario, DICT_SCENARIOS[\"emissivity_IMACLIM\"], year=2050,scenario=scenario)\n",
    "    model.modify_counterfactual(\"IMACLIM_emissi_2050_\"+scenario,DICT_SCENARIOS[\"technical_change_IMACLIM\"], year=2050,scenario=scenario,new_name=\"IMACLIM_all_2050_\"+scenario)\n",
    "    # create the 2050 version based on production changes observed in IMACLIM (since we work on groos output, we need a reference to apply relative change : x_ref), with name new_name\n",
    "    model.modify_counterfactual(\"IMACLIM_all_2050_\"+scenario,DICT_SCENARIOS[\"production_change_IMACLIM\"], year=2050,scenario=scenario,new_name=\"IMACLIM_all_prod_change_2050_\"+scenario,x_ref=model.iot.x.sort_index())\n",
    "    \n",
    "    \n",
    "    ret1=pd.concat([pd.DataFrame(get_import_mean_stressor(model.counterfactuals[\"IMACLIM_all_2050_\"+scenario].iot,region=region),columns=[\"2050-emiss\"])  for region in model.regions],\n",
    "                        keys=model.regions,\n",
    "                        names=(\"regions\",\"stressor\",\"sector\")).sort_index().values\n",
    "    \n",
    "    ret2=pd.concat([pd.DataFrame(get_import_mean_stressor(model.counterfactuals[\"IMACLIM_emissi_2050_\"+scenario].iot,region=region),columns=[\"2050-all\"]) for region in model.regions],\n",
    "                        keys=model.regions,\n",
    "                        names=(\"regions\",\"stressor\",\"sector\")).sort_index().values\n",
    "    \n",
    "    ret3=pd.concat([pd.DataFrame(get_import_mean_stressor(model.counterfactuals[\"IMACLIM_all_prod_change_2050_\"+scenario].iot,region=region),columns=[\"2050-Prod\"])  for region in model.regions],\n",
    "                        keys=model.regions,\n",
    "                        names=(\"regions\",\"stressor\",\"sector\")).sort_index().values\n",
    "    \n",
    "    Emissions.loc[(scenario),\"2050-all\"],Emissions.loc[(scenario),\"2050-emissi\"],Emissions.loc[(scenario),\"2050-Prod\"]=ret1,ret2,ret3\n",
    "    \n",
    "    del(model.counterfactuals[\"IMACLIM_all_2050_\"+scenario])\n",
    "    del(model.counterfactuals[\"IMACLIM_emissi_2050_\"+scenario])\n",
    "    del(model.counterfactuals[\"IMACLIM_all_prod_change_2050_\"+scenario])\n",
    "    \n",
    "     "
   ]
  },
  {
   "cell_type": "code",
   "execution_count": 5,
   "metadata": {},
   "outputs": [
    {
     "data": {
      "text/html": [
       "<div>\n",
       "<style scoped>\n",
       "    .dataframe tbody tr th:only-of-type {\n",
       "        vertical-align: middle;\n",
       "    }\n",
       "\n",
       "    .dataframe tbody tr th {\n",
       "        vertical-align: top;\n",
       "    }\n",
       "\n",
       "    .dataframe thead th {\n",
       "        text-align: right;\n",
       "    }\n",
       "</style>\n",
       "<table border=\"1\" class=\"dataframe\">\n",
       "  <thead>\n",
       "    <tr style=\"text-align: right;\">\n",
       "      <th></th>\n",
       "      <th>2015</th>\n",
       "      <th>2050-all</th>\n",
       "      <th>2050-Prod</th>\n",
       "      <th>2050-emissi</th>\n",
       "    </tr>\n",
       "    <tr>\n",
       "      <th>sector</th>\n",
       "      <th></th>\n",
       "      <th></th>\n",
       "      <th></th>\n",
       "      <th></th>\n",
       "    </tr>\n",
       "  </thead>\n",
       "  <tbody>\n",
       "    <tr>\n",
       "      <th>Agriculture</th>\n",
       "      <td>1.198502e+05</td>\n",
       "      <td>6.332786e+04</td>\n",
       "      <td>6.839165e+04</td>\n",
       "      <td>6.403955e+04</td>\n",
       "    </tr>\n",
       "    <tr>\n",
       "      <th>Air</th>\n",
       "      <td>8.779416e+05</td>\n",
       "      <td>5.838790e+05</td>\n",
       "      <td>7.535973e+05</td>\n",
       "      <td>5.721953e+05</td>\n",
       "    </tr>\n",
       "    <tr>\n",
       "      <th>Coal</th>\n",
       "      <td>8.134852e+04</td>\n",
       "      <td>8.980721e+04</td>\n",
       "      <td>1.429777e+05</td>\n",
       "      <td>7.111147e+04</td>\n",
       "    </tr>\n",
       "    <tr>\n",
       "      <th>Construction</th>\n",
       "      <td>1.646471e+06</td>\n",
       "      <td>9.327030e+05</td>\n",
       "      <td>7.718633e+05</td>\n",
       "      <td>9.822063e+05</td>\n",
       "    </tr>\n",
       "    <tr>\n",
       "      <th>Elec</th>\n",
       "      <td>8.086624e+05</td>\n",
       "      <td>2.942236e+05</td>\n",
       "      <td>1.882874e+05</td>\n",
       "      <td>7.133841e+05</td>\n",
       "    </tr>\n",
       "    <tr>\n",
       "      <th>Gas</th>\n",
       "      <td>3.237626e+06</td>\n",
       "      <td>3.809109e+06</td>\n",
       "      <td>2.131206e+06</td>\n",
       "      <td>3.174741e+06</td>\n",
       "    </tr>\n",
       "    <tr>\n",
       "      <th>Industry</th>\n",
       "      <td>3.191321e+05</td>\n",
       "      <td>1.607073e+05</td>\n",
       "      <td>1.523475e+05</td>\n",
       "      <td>1.639820e+05</td>\n",
       "    </tr>\n",
       "    <tr>\n",
       "      <th>Liquid fuels</th>\n",
       "      <td>3.892697e+05</td>\n",
       "      <td>3.231350e+05</td>\n",
       "      <td>4.694397e+04</td>\n",
       "      <td>3.109035e+05</td>\n",
       "    </tr>\n",
       "    <tr>\n",
       "      <th>Maritime</th>\n",
       "      <td>5.082742e+05</td>\n",
       "      <td>4.296368e+05</td>\n",
       "      <td>3.328277e+05</td>\n",
       "      <td>4.034701e+05</td>\n",
       "    </tr>\n",
       "    <tr>\n",
       "      <th>Oil</th>\n",
       "      <td>5.526285e+03</td>\n",
       "      <td>5.521939e+03</td>\n",
       "      <td>1.331168e+02</td>\n",
       "      <td>4.742872e+03</td>\n",
       "    </tr>\n",
       "    <tr>\n",
       "      <th>Services</th>\n",
       "      <td>2.531242e+05</td>\n",
       "      <td>1.237934e+05</td>\n",
       "      <td>1.344296e+05</td>\n",
       "      <td>1.519766e+05</td>\n",
       "    </tr>\n",
       "    <tr>\n",
       "      <th>Terrestrial transport</th>\n",
       "      <td>3.191731e+05</td>\n",
       "      <td>2.449955e+05</td>\n",
       "      <td>1.466390e+05</td>\n",
       "      <td>1.997934e+05</td>\n",
       "    </tr>\n",
       "  </tbody>\n",
       "</table>\n",
       "</div>"
      ],
      "text/plain": [
       "                               2015      2050-all     2050-Prod   2050-emissi\n",
       "sector                                                                       \n",
       "Agriculture            1.198502e+05  6.332786e+04  6.839165e+04  6.403955e+04\n",
       "Air                    8.779416e+05  5.838790e+05  7.535973e+05  5.721953e+05\n",
       "Coal                   8.134852e+04  8.980721e+04  1.429777e+05  7.111147e+04\n",
       "Construction           1.646471e+06  9.327030e+05  7.718633e+05  9.822063e+05\n",
       "Elec                   8.086624e+05  2.942236e+05  1.882874e+05  7.133841e+05\n",
       "Gas                    3.237626e+06  3.809109e+06  2.131206e+06  3.174741e+06\n",
       "Industry               3.191321e+05  1.607073e+05  1.523475e+05  1.639820e+05\n",
       "Liquid fuels           3.892697e+05  3.231350e+05  4.694397e+04  3.109035e+05\n",
       "Maritime               5.082742e+05  4.296368e+05  3.328277e+05  4.034701e+05\n",
       "Oil                    5.526285e+03  5.521939e+03  1.331168e+02  4.742872e+03\n",
       "Services               2.531242e+05  1.237934e+05  1.344296e+05  1.519766e+05\n",
       "Terrestrial transport  3.191731e+05  2.449955e+05  1.466390e+05  1.997934e+05"
      ]
     },
     "execution_count": 5,
     "metadata": {},
     "output_type": "execute_result"
    }
   ],
   "source": [
    "Emissions.loc[(\"INDC\",\"EUR\",\"CO2\")]"
   ]
  },
  {
   "cell_type": "code",
   "execution_count": 7,
   "metadata": {},
   "outputs": [],
   "source": [
    "\n",
    "    "
   ]
  },
  {
   "cell_type": "code",
   "execution_count": 8,
   "metadata": {},
   "outputs": [
    {
     "data": {
      "text/plain": [
       "9245804602704.096"
      ]
     },
     "execution_count": 8,
     "metadata": {},
     "output_type": "execute_result"
    }
   ],
   "source": [
    "model.counterfactuals[\"IMACLIM_all_prod_change_2050_INDC\"].iot.stressor_extension.D_imp.loc[(slice(None),\"CO2\"),:].sum().sum()"
   ]
  },
  {
   "cell_type": "code",
   "execution_count": 51,
   "metadata": {},
   "outputs": [
    {
     "data": {
      "text/plain": [
       "9245804602704.096"
      ]
     },
     "execution_count": 51,
     "metadata": {},
     "output_type": "execute_result"
    }
   ],
   "source": [
    "from src.utils import recal_stressor_per_region\n",
    "iot_cop=model.counterfactuals[\"IMACLIM_all_prod_change_2050_INDC\"].iot.copy()\n",
    "\n",
    "recal_stressor_per_region(iot_cop).D_imp.loc[(slice(None),\"CO2\"),:].sum().sum()"
   ]
  },
  {
   "cell_type": "code",
   "execution_count": 53,
   "metadata": {},
   "outputs": [
    {
     "data": {
      "text/plain": [
       "region  sector               \n",
       "AFR     Agriculture              6.966692e+05\n",
       "        Air                      8.393734e+04\n",
       "        Coal                    -2.977175e+04\n",
       "        Construction             1.393772e+06\n",
       "        Elec                     3.349517e+04\n",
       "                                     ...     \n",
       "USA     Liquid fuels             1.225408e+04\n",
       "        Maritime                 4.137891e+03\n",
       "        Oil                     -3.305607e+04\n",
       "        Services                 2.906190e+07\n",
       "        Terrestrial transport    9.210930e+05\n",
       "Length: 144, dtype: float64"
      ]
     },
     "execution_count": 53,
     "metadata": {},
     "output_type": "execute_result"
    }
   ],
   "source": [
    "model.counterfactuals[\"IMACLIM_all_prod_change_2050_INDC\"].iot.Y.sum(axis=1)"
   ]
  },
  {
   "cell_type": "markdown",
   "metadata": {},
   "source": [
    "## Tests with standard MatMat sectors"
   ]
  },
  {
   "attachments": {},
   "cell_type": "markdown",
   "metadata": {},
   "source": [
    "### Building the modl and the counterfactuals"
   ]
  },
  {
   "cell_type": "code",
   "execution_count": 23,
   "metadata": {},
   "outputs": [],
   "source": [
    "\n",
    "model = Model(aggregation_name=\"MatMat_sectors_all_countries\")\n",
    "\n",
    "#ignore performace warnings\n",
    "warnings.simplefilter(action='ignore', category=pd.errors.PerformanceWarning)"
   ]
  },
  {
   "cell_type": "code",
   "execution_count": 24,
   "metadata": {},
   "outputs": [
    {
     "name": "stdout",
     "output_type": "stream",
     "text": [
      "Problems on sums of columns  {('Greece', 'Iron_ores'): MultiIndex([], names=['region', 'sector']), ('Malta', 'Electricity_distribution'): MultiIndex([], names=['region', 'sector']), ('Malta', 'Oth_transport_equipment'): MultiIndex([], names=['region', 'sector']), ('Malta', 'Primary_Steel_iron'): MultiIndex([], names=['region', 'sector']), ('Netherlands', 'Primary_Copper'): MultiIndex([], names=['region', 'sector']), ('Japan', 'Iron_ores'): MultiIndex([], names=['region', 'sector']), ('Japan', 'Natural_gas'): MultiIndex([], names=['region', 'sector']), ('Japan', 'Precious metal ores and concentrates'): MultiIndex([], names=['region', 'sector']), ('China', 'Natural_gas'): MultiIndex([], names=['region', 'sector']), ('South Korea', 'Copper_ores'): MultiIndex([], names=['region', 'sector']), ('South Korea', 'Lead_Zinc_Tin_ores'): MultiIndex([], names=['region', 'sector']), ('South Korea', 'Nuclear_fuel'): MultiIndex([], names=['region', 'sector']), ('South Korea', 'Other_metal_ores'): MultiIndex([], names=['region', 'sector']), ('South Korea', 'Precious metal ores and concentrates'): MultiIndex([], names=['region', 'sector']), ('Brazil', 'Electricity_by_gas'): MultiIndex([], names=['region', 'sector']), ('Mexico', 'Rail_transport'): MultiIndex([], names=['region', 'sector']), ('Taiwan', 'Paddy rice'): MultiIndex([], names=['region', 'sector']), ('Taiwan', 'Plant-based fibers'): MultiIndex([], names=['region', 'sector']), ('Indonesia', 'Nuclear_fuel'): MultiIndex([('Indonesia', 'Other land transport'),\n",
      "            ('Indonesia',          'Other_fuels')],\n",
      "           names=['region', 'sector'])}\n"
     ]
    }
   ],
   "source": [
    "scenario= \"INDC\"\n",
    "model.new_counterfactual(\"IMACLIM_emissi_2050_\"+scenario, DICT_SCENARIOS[\"emissivity_IMACLIM\"], year=2050,scenario=scenario)\n",
    "model.modify_counterfactual(\"IMACLIM_emissi_2050_\"+scenario,DICT_SCENARIOS[\"technical_change_IMACLIM\"], year=2050,scenario=scenario,new_name=\"IMACLIM_all_2050_\"+scenario)\n",
    "# create the 2050 version based on production changes observed in IMACLIM (since we work on groos output, we need a reference to apply relative change : x_ref), with name new_name\n",
    "model.modify_counterfactual(\"IMACLIM_all_2050_\"+scenario,DICT_SCENARIOS[\"production_change_IMACLIM\"], year=2050,scenario=scenario,new_name=\"IMACLIM_all_prod_change_2050_\"+scenario,x_ref=model.iot.x.sort_index())\n"
   ]
  },
  {
   "cell_type": "code",
   "execution_count": 25,
   "metadata": {},
   "outputs": [],
   "source": [
    "model.new_counterfactual(\"best_final\",DICT_SCENARIOS[\"best final demand\"])\n",
    "model.new_counterfactual(\"best\",DICT_SCENARIOS[\"best\"])\n",
    "model.modify_counterfactual(\"IMACLIM_all_2050_INDC\",DICT_SCENARIOS[\"best final demand\"],new_name=\"best_final_2050\")\n",
    "model.modify_counterfactual(\"IMACLIM_all_2050_INDC\",DICT_SCENARIOS[\"best\"],new_name=\"best_2050\")"
   ]
  },
  {
   "cell_type": "code",
   "execution_count": 26,
   "metadata": {},
   "outputs": [],
   "source": [
    "model.save()"
   ]
  },
  {
   "attachments": {},
   "cell_type": "markdown",
   "metadata": {},
   "source": [
    "### Loading already built models"
   ]
  },
  {
   "cell_type": "code",
   "execution_count": 2,
   "metadata": {},
   "outputs": [],
   "source": [
    "\n",
    "\n",
    "model= load_model(aggregation_name=\"MatMat_sectors_all_countries\")"
   ]
  },
  {
   "cell_type": "code",
   "execution_count": 3,
   "metadata": {},
   "outputs": [
    {
     "data": {
      "text/plain": [
       "['IMACLIM_emissi_2050_INDC',\n",
       " 'IMACLIM_all_2050_INDC',\n",
       " 'IMACLIM_all_prod_change_2050_INDC',\n",
       " 'best_final',\n",
       " 'best',\n",
       " 'best_final_2050',\n",
       " 'best_2050']"
      ]
     },
     "execution_count": 3,
     "metadata": {},
     "output_type": "execute_result"
    }
   ],
   "source": [
    "model.get_counterfactuals_list()"
   ]
  },
  {
   "attachments": {},
   "cell_type": "markdown",
   "metadata": {},
   "source": [
    "### Checking the emissivity distributions "
   ]
  },
  {
   "cell_type": "code",
   "execution_count": 4,
   "metadata": {},
   "outputs": [
    {
     "name": "stderr",
     "output_type": "stream",
     "text": [
      "100%|██████████| 7/7 [00:51<00:00,  7.36s/it]\n"
     ]
    }
   ],
   "source": [
    "list_emissi_stat={}\n",
    "for counterfactual in tqdm.tqdm(model.get_counterfactuals_list()):\n",
    "    iot=model.counterfactuals[counterfactual].iot\n",
    "    emissiv_df=pd.DataFrame([iot.stressor_extension.M.sum(),iot.x[\"indout\"]],index=[\"emissivity\",\"quantity\"]).T\n",
    "    emissiv_df[\"rel_quantity\"]=emissiv_df[\"quantity\"]/emissiv_df[\"quantity\"].groupby(\"sector\").sum()*1000000\n",
    "    emissiv_df_stat=emissiv_df[\"emissivity\"].repeat(emissiv_df[\"rel_quantity\"]).groupby(\"sector\").describe().T\n",
    "    list_emissi_stat[counterfactual]=emissiv_df_stat\n",
    "    \n",
    "\n",
    "emissiv_df=pd.DataFrame([model.iot.stressor_extension.M.sum(),model.iot.x[\"indout\"]],index=[\"emissivity\",\"quantity\"]).T\n",
    "emissiv_df[\"rel_quantity\"]=emissiv_df[\"quantity\"]/emissiv_df[\"quantity\"].groupby(\"sector\").sum()*1000000\n",
    "emissiv_df_stat=emissiv_df[\"emissivity\"].repeat(emissiv_df[\"rel_quantity\"]).groupby(\"sector\").describe().T\n",
    "list_emissi_stat[\"base\"]=emissiv_df_stat\n",
    "\n",
    "\n",
    "pd.concat([list_emissi_stat[key] for key in list_emissi_stat.keys()],keys=list_emissi_stat.keys(),names=(\"scenario\",\"stat\")).to_excel('../Outputs/World_emissivity_stats.xlsx')"
   ]
  },
  {
   "cell_type": "code",
   "execution_count": 5,
   "metadata": {},
   "outputs": [
    {
     "data": {
      "text/plain": [
       "<AxesSubplot:xlabel='stat'>"
      ]
     },
     "execution_count": 5,
     "metadata": {},
     "output_type": "execute_result"
    },
    {
     "data": {
      "image/png": "[encoded data removed]",
      "text/plain": [
       "<Figure size 640x480 with 1 Axes>"
      ]
     },
     "metadata": {},
     "output_type": "display_data"
    }
   ],
   "source": [
    "SCENARIO=\"IMACLIM_all_2050_INDC\"\n",
    "\n",
    "sectors_selection_criterion=\"std\"   # from max,std,mean\n",
    "sectors_number=5\n",
    "\n",
    "\n",
    "emissivity_dataframe=pd.concat([list_emissi_stat[key] for key in list_emissi_stat.keys()],keys=list_emissi_stat.keys(),names=(\"scenario\",\"stat\"))\n",
    "\n",
    "SECTORS_INDEX=emissivity_dataframe.loc[(SCENARIO,sectors_selection_criterion)].argsort()[-sectors_number:]\n",
    "SECTORS=emissivity_dataframe.columns[SECTORS_INDEX]\n",
    "\n",
    "emissivity_dataframe.loc[emissivity_dataframe.index.get_level_values(\"stat\").isin([\"min\",\"25%\",\"50%\",\"75%\",\"max\"])].loc[SCENARIO,SECTORS].plot(logy=True)"
   ]
  },
  {
   "cell_type": "code",
   "execution_count": 90,
   "metadata": {},
   "outputs": [
    {
     "name": "stderr",
     "output_type": "stream",
     "text": [
      "100%|██████████| 7/7 [00:49<00:00,  7.03s/it]\n"
     ]
    }
   ],
   "source": [
    "list_emissi_stat={}\n",
    "for counterfactual in tqdm.tqdm(model.get_counterfactuals_list()):\n",
    "    iot=model.counterfactuals[counterfactual].iot\n",
    "    emissiv_df=pd.DataFrame([iot.stressor_extension.M.sum(),get_total_imports_region(iot,\"FR\")],index=[\"emissivity\",\"quantity\"]).T\n",
    "    emissiv_df[\"rel_quantity\"]=emissiv_df[\"quantity\"]/emissiv_df[\"quantity\"].groupby(\"sector\").sum()*1000000\n",
    "    emissiv_df_stat=emissiv_df[\"emissivity\"].repeat(emissiv_df[\"rel_quantity\"]).groupby(\"sector\").describe().T\n",
    "    list_emissi_stat[counterfactual]=emissiv_df_stat\n",
    "    \n",
    "\n",
    "emissiv_df=pd.DataFrame([model.iot.stressor_extension.M.sum(),get_total_imports_region(model.iot,\"FR\")],index=[\"emissivity\",\"quantity\"]).T\n",
    "emissiv_df[\"rel_quantity\"]=emissiv_df[\"quantity\"]/emissiv_df[\"quantity\"].groupby(\"sector\").sum()*1000000\n",
    "emissiv_df_stat=emissiv_df[\"emissivity\"].repeat(emissiv_df[\"rel_quantity\"]).groupby(\"sector\").describe().T\n",
    "list_emissi_stat[\"base\"]=emissiv_df_stat\n",
    "\n",
    "\n",
    "pd.concat([list_emissi_stat[key] for key in list_emissi_stat.keys()],keys=list_emissi_stat.keys(),names=(\"scenario\",\"stat\")).to_excel('../Outputs/French_imports_emissivity_stats.xlsx')\n"
   ]
  },
  {
   "cell_type": "code",
   "execution_count": 112,
   "metadata": {},
   "outputs": [
    {
     "data": {
      "application/vnd.plotly.v1+json": {
       "config": {
        "plotlyServerURL": "https://plot.ly"
       },
       "data": [
        {
         "hovertemplate": "sector=Paddy rice<br>stat=%{x}<br>value=%{y}<extra></extra>",
         "legendgroup": "Paddy rice",
         "line": {
          "color": "#636efa",
          "dash": "solid"
         },
         "marker": {
          "symbol": "circle"
         },
         "mode": "lines",
         "name": "Paddy rice",
         "orientation": "v",
         "showlegend": true,
         "type": "scatter",
         "x": [
          "min",
          "25%",
          "50%",
          "75%",
          "max"
         ],
         "xaxis": "x",
         "y": [
          348549.1052555241,
          3696281.2512738537,
          6510501.545248211,
          6510501.545248211,
          17879177.015145823
         ],
         "yaxis": "y"
        },
        {
         "hovertemplate": "sector=Precious metal ores and concentrates<br>stat=%{x}<br>value=%{y}<extra></extra>",
         "legendgroup": "Precious metal ores and concentrates",
         "line": {
          "color": "#EF553B",
          "dash": "solid"
         },
         "marker": {
          "symbol": "circle"
         },
         "mode": "lines",
         "name": "Precious metal ores and concentrates",
         "orientation": "v",
         "showlegend": true,
         "type": "scatter",
         "x": [
          "min",
          "25%",
          "50%",
          "75%",
          "max"
         ],
         "xaxis": "x",
         "y": [
          284312.97507656855,
          18189739.103332628,
          18189739.103332628,
          18189739.103332628,
          18189739.103332628
         ],
         "yaxis": "y"
        },
        {
         "hovertemplate": "sector=Primary_Cement_lime_plaster<br>stat=%{x}<br>value=%{y}<extra></extra>",
         "legendgroup": "Primary_Cement_lime_plaster",
         "line": {
          "color": "#00cc96",
          "dash": "solid"
         },
         "marker": {
          "symbol": "circle"
         },
         "mode": "lines",
         "name": "Primary_Cement_lime_plaster",
         "orientation": "v",
         "showlegend": true,
         "type": "scatter",
         "x": [
          "min",
          "25%",
          "50%",
          "75%",
          "max"
         ],
         "xaxis": "x",
         "y": [
          680898.433023601,
          1321920.9546885735,
          1373816.027253701,
          2153283.266602948,
          19538182.79575818
         ],
         "yaxis": "y"
        },
        {
         "hovertemplate": "sector=Water_Other_waste_Treatment<br>stat=%{x}<br>value=%{y}<extra></extra>",
         "legendgroup": "Water_Other_waste_Treatment",
         "line": {
          "color": "#ab63fa",
          "dash": "solid"
         },
         "marker": {
          "symbol": "circle"
         },
         "mode": "lines",
         "name": "Water_Other_waste_Treatment",
         "orientation": "v",
         "showlegend": true,
         "type": "scatter",
         "x": [
          "min",
          "25%",
          "50%",
          "75%",
          "max"
         ],
         "xaxis": "x",
         "y": [
          202157.17786110865,
          492615.8152207411,
          812917.8050943045,
          1789398.6025287714,
          22107494.592424978
         ],
         "yaxis": "y"
        },
        {
         "hovertemplate": "sector=Crude_coal<br>stat=%{x}<br>value=%{y}<extra></extra>",
         "legendgroup": "Crude_coal",
         "line": {
          "color": "#FFA15A",
          "dash": "solid"
         },
         "marker": {
          "symbol": "circle"
         },
         "mode": "lines",
         "name": "Crude_coal",
         "orientation": "v",
         "showlegend": true,
         "type": "scatter",
         "x": [
          "min",
          "25%",
          "50%",
          "75%",
          "max"
         ],
         "xaxis": "x",
         "y": [
          169725.51427767935,
          2320359.944858734,
          3607046.8527002237,
          5827936.940443642,
          23391973.866137914
         ],
         "yaxis": "y"
        },
        {
         "hovertemplate": "sector=Stone<br>stat=%{x}<br>value=%{y}<extra></extra>",
         "legendgroup": "Stone",
         "line": {
          "color": "#19d3f3",
          "dash": "solid"
         },
         "marker": {
          "symbol": "circle"
         },
         "mode": "lines",
         "name": "Stone",
         "orientation": "v",
         "showlegend": true,
         "type": "scatter",
         "x": [
          "min",
          "25%",
          "50%",
          "75%",
          "max"
         ],
         "xaxis": "x",
         "y": [
          231733.15716896072,
          578699.286944439,
          872314.3811311502,
          1124280.8941900355,
          23617111.91708699
         ],
         "yaxis": "y"
        },
        {
         "hovertemplate": "sector=Other_Waste_incineration<br>stat=%{x}<br>value=%{y}<extra></extra>",
         "legendgroup": "Other_Waste_incineration",
         "line": {
          "color": "#FF6692",
          "dash": "solid"
         },
         "marker": {
          "symbol": "circle"
         },
         "mode": "lines",
         "name": "Other_Waste_incineration",
         "orientation": "v",
         "showlegend": true,
         "type": "scatter",
         "x": [
          "min",
          "25%",
          "50%",
          "75%",
          "max"
         ],
         "xaxis": "x",
         "y": [
          133035.52690731816,
          259035.33476292584,
          357847.29002121964,
          850542.5944122545,
          30698422.49482704
         ],
         "yaxis": "y"
        },
        {
         "hovertemplate": "sector=Water_transport<br>stat=%{x}<br>value=%{y}<extra></extra>",
         "legendgroup": "Water_transport",
         "line": {
          "color": "#B6E880",
          "dash": "solid"
         },
         "marker": {
          "symbol": "circle"
         },
         "mode": "lines",
         "name": "Water_transport",
         "orientation": "v",
         "showlegend": true,
         "type": "scatter",
         "x": [
          "min",
          "25%",
          "50%",
          "75%",
          "max"
         ],
         "xaxis": "x",
         "y": [
          333752.097928443,
          1208076.9887875973,
          1549034.0581380979,
          2386609.7739457916,
          40744766.15648616
         ],
         "yaxis": "y"
        },
        {
         "hovertemplate": "sector=Natural_gas<br>stat=%{x}<br>value=%{y}<extra></extra>",
         "legendgroup": "Natural_gas",
         "line": {
          "color": "#FF97FF",
          "dash": "solid"
         },
         "marker": {
          "symbol": "circle"
         },
         "mode": "lines",
         "name": "Natural_gas",
         "orientation": "v",
         "showlegend": true,
         "type": "scatter",
         "x": [
          "min",
          "25%",
          "50%",
          "75%",
          "max"
         ],
         "xaxis": "x",
         "y": [
          350045.0168610984,
          350045.0168610984,
          350045.0168610984,
          2589383.246597353,
          87367704.24762198
         ],
         "yaxis": "y"
        },
        {
         "hovertemplate": "sector=Landfill<br>stat=%{x}<br>value=%{y}<extra></extra>",
         "legendgroup": "Landfill",
         "line": {
          "color": "#FECB52",
          "dash": "solid"
         },
         "marker": {
          "symbol": "circle"
         },
         "mode": "lines",
         "name": "Landfill",
         "orientation": "v",
         "showlegend": true,
         "type": "scatter",
         "x": [
          "min",
          "25%",
          "50%",
          "75%",
          "max"
         ],
         "xaxis": "x",
         "y": [
          391471.51548889105,
          2762012.0688845143,
          5594431.210120768,
          14863399.66532576,
          153517908.9815459
         ],
         "yaxis": "y"
        }
       ],
       "layout": {
        "legend": {
         "title": {
          "text": "sector"
         },
         "tracegroupgap": 0
        },
        "margin": {
         "t": 60
        },
        "template": {
         "data": {
          "bar": [
           {
            "error_x": {
             "color": "#2a3f5f"
            },
            "error_y": {
             "color": "#2a3f5f"
            },
            "marker": {
             "line": {
              "color": "#E5ECF6",
              "width": 0.5
             },
             "pattern": {
              "fillmode": "overlay",
              "size": 10,
              "solidity": 0.2
             }
            },
            "type": "bar"
           }
          ],
          "barpolar": [
           {
            "marker": {
             "line": {
              "color": "#E5ECF6",
              "width": 0.5
             },
             "pattern": {
              "fillmode": "overlay",
              "size": 10,
              "solidity": 0.2
             }
            },
            "type": "barpolar"
           }
          ],
          "carpet": [
           {
            "aaxis": {
             "endlinecolor": "#2a3f5f",
             "gridcolor": "white",
             "linecolor": "white",
             "minorgridcolor": "white",
             "startlinecolor": "#2a3f5f"
            },
            "baxis": {
             "endlinecolor": "#2a3f5f",
             "gridcolor": "white",
             "linecolor": "white",
             "minorgridcolor": "white",
             "startlinecolor": "#2a3f5f"
            },
            "type": "carpet"
           }
          ],
          "choropleth": [
           {
            "colorbar": {
             "outlinewidth": 0,
             "ticks": ""
            },
            "type": "choropleth"
           }
          ],
          "contour": [
           {
            "colorbar": {
             "outlinewidth": 0,
             "ticks": ""
            },
            "colorscale": [
             [
              0,
              "#0d0887"
             ],
             [
              0.1111111111111111,
              "#46039f"
             ],
             [
              0.2222222222222222,
              "#7201a8"
             ],
             [
              0.3333333333333333,
              "#9c179e"
             ],
             [
              0.4444444444444444,
              "#bd3786"
             ],
             [
              0.5555555555555556,
              "#d8576b"
             ],
             [
              0.6666666666666666,
              "#ed7953"
             ],
             [
              0.7777777777777778,
              "#fb9f3a"
             ],
             [
              0.8888888888888888,
              "#fdca26"
             ],
             [
              1,
              "#f0f921"
             ]
            ],
            "type": "contour"
           }
          ],
          "contourcarpet": [
           {
            "colorbar": {
             "outlinewidth": 0,
             "ticks": ""
            },
            "type": "contourcarpet"
           }
          ],
          "heatmap": [
           {
            "colorbar": {
             "outlinewidth": 0,
             "ticks": ""
            },
            "colorscale": [
             [
              0,
              "#0d0887"
             ],
             [
              0.1111111111111111,
              "#46039f"
             ],
             [
              0.2222222222222222,
              "#7201a8"
             ],
             [
              0.3333333333333333,
              "#9c179e"
             ],
             [
              0.4444444444444444,
              "#bd3786"
             ],
             [
              0.5555555555555556,
              "#d8576b"
             ],
             [
              0.6666666666666666,
              "#ed7953"
             ],
             [
              0.7777777777777778,
              "#fb9f3a"
             ],
             [
              0.8888888888888888,
              "#fdca26"
             ],
             [
              1,
              "#f0f921"
             ]
            ],
            "type": "heatmap"
           }
          ],
          "heatmapgl": [
           {
            "colorbar": {
             "outlinewidth": 0,
             "ticks": ""
            },
            "colorscale": [
             [
              0,
              "#0d0887"
             ],
             [
              0.1111111111111111,
              "#46039f"
             ],
             [
              0.2222222222222222,
              "#7201a8"
             ],
             [
              0.3333333333333333,
              "#9c179e"
             ],
             [
              0.4444444444444444,
              "#bd3786"
             ],
             [
              0.5555555555555556,
              "#d8576b"
             ],
             [
              0.6666666666666666,
              "#ed7953"
             ],
             [
              0.7777777777777778,
              "#fb9f3a"
             ],
             [
              0.8888888888888888,
              "#fdca26"
             ],
             [
              1,
              "#f0f921"
             ]
            ],
            "type": "heatmapgl"
           }
          ],
          "histogram": [
           {
            "marker": {
             "pattern": {
              "fillmode": "overlay",
              "size": 10,
              "solidity": 0.2
             }
            },
            "type": "histogram"
           }
          ],
          "histogram2d": [
           {
            "colorbar": {
             "outlinewidth": 0,
             "ticks": ""
            },
            "colorscale": [
             [
              0,
              "#0d0887"
             ],
             [
              0.1111111111111111,
              "#46039f"
             ],
             [
              0.2222222222222222,
              "#7201a8"
             ],
             [
              0.3333333333333333,
              "#9c179e"
             ],
             [
              0.4444444444444444,
              "#bd3786"
             ],
             [
              0.5555555555555556,
              "#d8576b"
             ],
             [
              0.6666666666666666,
              "#ed7953"
             ],
             [
              0.7777777777777778,
              "#fb9f3a"
             ],
             [
              0.8888888888888888,
              "#fdca26"
             ],
             [
              1,
              "#f0f921"
             ]
            ],
            "type": "histogram2d"
           }
          ],
          "histogram2dcontour": [
           {
            "colorbar": {
             "outlinewidth": 0,
             "ticks": ""
            },
            "colorscale": [
             [
              0,
              "#0d0887"
             ],
             [
              0.1111111111111111,
              "#46039f"
             ],
             [
              0.2222222222222222,
              "#7201a8"
             ],
             [
              0.3333333333333333,
              "#9c179e"
             ],
             [
              0.4444444444444444,
              "#bd3786"
             ],
             [
              0.5555555555555556,
              "#d8576b"
             ],
             [
              0.6666666666666666,
              "#ed7953"
             ],
             [
              0.7777777777777778,
              "#fb9f3a"
             ],
             [
              0.8888888888888888,
              "#fdca26"
             ],
             [
              1,
              "#f0f921"
             ]
            ],
            "type": "histogram2dcontour"
           }
          ],
          "mesh3d": [
           {
            "colorbar": {
             "outlinewidth": 0,
             "ticks": ""
            },
            "type": "mesh3d"
           }
          ],
          "parcoords": [
           {
            "line": {
             "colorbar": {
              "outlinewidth": 0,
              "ticks": ""
             }
            },
            "type": "parcoords"
           }
          ],
          "pie": [
           {
            "automargin": true,
            "type": "pie"
           }
          ],
          "scatter": [
           {
            "fillpattern": {
             "fillmode": "overlay",
             "size": 10,
             "solidity": 0.2
            },
            "type": "scatter"
           }
          ],
          "scatter3d": [
           {
            "line": {
             "colorbar": {
              "outlinewidth": 0,
              "ticks": ""
             }
            },
            "marker": {
             "colorbar": {
              "outlinewidth": 0,
              "ticks": ""
             }
            },
            "type": "scatter3d"
           }
          ],
          "scattercarpet": [
           {
            "marker": {
             "colorbar": {
              "outlinewidth": 0,
              "ticks": ""
             }
            },
            "type": "scattercarpet"
           }
          ],
          "scattergeo": [
           {
            "marker": {
             "colorbar": {
              "outlinewidth": 0,
              "ticks": ""
             }
            },
            "type": "scattergeo"
           }
          ],
          "scattergl": [
           {
            "marker": {
             "colorbar": {
              "outlinewidth": 0,
              "ticks": ""
             }
            },
            "type": "scattergl"
           }
          ],
          "scattermapbox": [
           {
            "marker": {
             "colorbar": {
              "outlinewidth": 0,
              "ticks": ""
             }
            },
            "type": "scattermapbox"
           }
          ],
          "scatterpolar": [
           {
            "marker": {
             "colorbar": {
              "outlinewidth": 0,
              "ticks": ""
             }
            },
            "type": "scatterpolar"
           }
          ],
          "scatterpolargl": [
           {
            "marker": {
             "colorbar": {
              "outlinewidth": 0,
              "ticks": ""
             }
            },
            "type": "scatterpolargl"
           }
          ],
          "scatterternary": [
           {
            "marker": {
             "colorbar": {
              "outlinewidth": 0,
              "ticks": ""
             }
            },
            "type": "scatterternary"
           }
          ],
          "surface": [
           {
            "colorbar": {
             "outlinewidth": 0,
             "ticks": ""
            },
            "colorscale": [
             [
              0,
              "#0d0887"
             ],
             [
              0.1111111111111111,
              "#46039f"
             ],
             [
              0.2222222222222222,
              "#7201a8"
             ],
             [
              0.3333333333333333,
              "#9c179e"
             ],
             [
              0.4444444444444444,
              "#bd3786"
             ],
             [
              0.5555555555555556,
              "#d8576b"
             ],
             [
              0.6666666666666666,
              "#ed7953"
             ],
             [
              0.7777777777777778,
              "#fb9f3a"
             ],
             [
              0.8888888888888888,
              "#fdca26"
             ],
             [
              1,
              "#f0f921"
             ]
            ],
            "type": "surface"
           }
          ],
          "table": [
           {
            "cells": {
             "fill": {
              "color": "#EBF0F8"
             },
             "line": {
              "color": "white"
             }
            },
            "header": {
             "fill": {
              "color": "#C8D4E3"
             },
             "line": {
              "color": "white"
             }
            },
            "type": "table"
           }
          ]
         },
         "layout": {
          "annotationdefaults": {
           "arrowcolor": "#2a3f5f",
           "arrowhead": 0,
           "arrowwidth": 1
          },
          "autotypenumbers": "strict",
          "coloraxis": {
           "colorbar": {
            "outlinewidth": 0,
            "ticks": ""
           }
          },
          "colorscale": {
           "diverging": [
            [
             0,
             "#8e0152"
            ],
            [
             0.1,
             "#c51b7d"
            ],
            [
             0.2,
             "#de77ae"
            ],
            [
             0.3,
             "#f1b6da"
            ],
            [
             0.4,
             "#fde0ef"
            ],
            [
             0.5,
             "#f7f7f7"
            ],
            [
             0.6,
             "#e6f5d0"
            ],
            [
             0.7,
             "#b8e186"
            ],
            [
             0.8,
             "#7fbc41"
            ],
            [
             0.9,
             "#4d9221"
            ],
            [
             1,
             "#276419"
            ]
           ],
           "sequential": [
            [
             0,
             "#0d0887"
            ],
            [
             0.1111111111111111,
             "#46039f"
            ],
            [
             0.2222222222222222,
             "#7201a8"
            ],
            [
             0.3333333333333333,
             "#9c179e"
            ],
            [
             0.4444444444444444,
             "#bd3786"
            ],
            [
             0.5555555555555556,
             "#d8576b"
            ],
            [
             0.6666666666666666,
             "#ed7953"
            ],
            [
             0.7777777777777778,
             "#fb9f3a"
            ],
            [
             0.8888888888888888,
             "#fdca26"
            ],
            [
             1,
             "#f0f921"
            ]
           ],
           "sequentialminus": [
            [
             0,
             "#0d0887"
            ],
            [
             0.1111111111111111,
             "#46039f"
            ],
            [
             0.2222222222222222,
             "#7201a8"
            ],
            [
             0.3333333333333333,
             "#9c179e"
            ],
            [
             0.4444444444444444,
             "#bd3786"
            ],
            [
             0.5555555555555556,
             "#d8576b"
            ],
            [
             0.6666666666666666,
             "#ed7953"
            ],
            [
             0.7777777777777778,
             "#fb9f3a"
            ],
            [
             0.8888888888888888,
             "#fdca26"
            ],
            [
             1,
             "#f0f921"
            ]
           ]
          },
          "colorway": [
           "#636efa",
           "#EF553B",
           "#00cc96",
           "#ab63fa",
           "#FFA15A",
           "#19d3f3",
           "#FF6692",
           "#B6E880",
           "#FF97FF",
           "#FECB52"
          ],
          "font": {
           "color": "#2a3f5f"
          },
          "geo": {
           "bgcolor": "white",
           "lakecolor": "white",
           "landcolor": "#E5ECF6",
           "showlakes": true,
           "showland": true,
           "subunitcolor": "white"
          },
          "hoverlabel": {
           "align": "left"
          },
          "hovermode": "closest",
          "mapbox": {
           "style": "light"
          },
          "paper_bgcolor": "white",
          "plot_bgcolor": "#E5ECF6",
          "polar": {
           "angularaxis": {
            "gridcolor": "white",
            "linecolor": "white",
            "ticks": ""
           },
           "bgcolor": "#E5ECF6",
           "radialaxis": {
            "gridcolor": "white",
            "linecolor": "white",
            "ticks": ""
           }
          },
          "scene": {
           "xaxis": {
            "backgroundcolor": "#E5ECF6",
            "gridcolor": "white",
            "gridwidth": 2,
            "linecolor": "white",
            "showbackground": true,
            "ticks": "",
            "zerolinecolor": "white"
           },
           "yaxis": {
            "backgroundcolor": "#E5ECF6",
            "gridcolor": "white",
            "gridwidth": 2,
            "linecolor": "white",
            "showbackground": true,
            "ticks": "",
            "zerolinecolor": "white"
           },
           "zaxis": {
            "backgroundcolor": "#E5ECF6",
            "gridcolor": "white",
            "gridwidth": 2,
            "linecolor": "white",
            "showbackground": true,
            "ticks": "",
            "zerolinecolor": "white"
           }
          },
          "shapedefaults": {
           "line": {
            "color": "#2a3f5f"
           }
          },
          "ternary": {
           "aaxis": {
            "gridcolor": "white",
            "linecolor": "white",
            "ticks": ""
           },
           "baxis": {
            "gridcolor": "white",
            "linecolor": "white",
            "ticks": ""
           },
           "bgcolor": "#E5ECF6",
           "caxis": {
            "gridcolor": "white",
            "linecolor": "white",
            "ticks": ""
           }
          },
          "title": {
           "x": 0.05
          },
          "xaxis": {
           "automargin": true,
           "gridcolor": "white",
           "linecolor": "white",
           "ticks": "",
           "title": {
            "standoff": 15
           },
           "zerolinecolor": "white",
           "zerolinewidth": 2
          },
          "yaxis": {
           "automargin": true,
           "gridcolor": "white",
           "linecolor": "white",
           "ticks": "",
           "title": {
            "standoff": 15
           },
           "zerolinecolor": "white",
           "zerolinewidth": 2
          }
         }
        },
        "xaxis": {
         "anchor": "y",
         "domain": [
          0,
          1
         ],
         "title": {
          "text": "stat"
         }
        },
        "yaxis": {
         "anchor": "x",
         "domain": [
          0,
          1
         ],
         "title": {
          "text": "value"
         },
         "type": "log"
        }
       }
      },
      "text/html": [
       "<div>                            <div id=\"23479652-03bc-4d5a-aabe-2a4a752d442e\" class=\"plotly-graph-div\" style=\"height:525px; width:100%;\"></div>            <script type=\"text/javascript\">                require([\"plotly\"], function(Plotly) {                    window.PLOTLYENV=window.PLOTLYENV || {};                                    if (document.getElementById(\"23479652-03bc-4d5a-aabe-2a4a752d442e\")) {                    Plotly.newPlot(                        \"23479652-03bc-4d5a-aabe-2a4a752d442e\",                        [{\"hovertemplate\":\"sector=Paddy rice<br>stat=%{x}<br>value=%{y}<extra></extra>\",\"legendgroup\":\"Paddy rice\",\"line\":{\"color\":\"#636efa\",\"dash\":\"solid\"},\"marker\":{\"symbol\":\"circle\"},\"mode\":\"lines\",\"name\":\"Paddy rice\",\"orientation\":\"v\",\"showlegend\":true,\"x\":[\"min\",\"25%\",\"50%\",\"75%\",\"max\"],\"xaxis\":\"x\",\"y\":[348549.1052555241,3696281.2512738537,6510501.545248211,6510501.545248211,17879177.015145823],\"yaxis\":\"y\",\"type\":\"scatter\"},{\"hovertemplate\":\"sector=Precious metal ores and concentrates<br>stat=%{x}<br>value=%{y}<extra></extra>\",\"legendgroup\":\"Precious metal ores and concentrates\",\"line\":{\"color\":\"#EF553B\",\"dash\":\"solid\"},\"marker\":{\"symbol\":\"circle\"},\"mode\":\"lines\",\"name\":\"Precious metal ores and concentrates\",\"orientation\":\"v\",\"showlegend\":true,\"x\":[\"min\",\"25%\",\"50%\",\"75%\",\"max\"],\"xaxis\":\"x\",\"y\":[284312.97507656855,18189739.103332628,18189739.103332628,18189739.103332628,18189739.103332628],\"yaxis\":\"y\",\"type\":\"scatter\"},{\"hovertemplate\":\"sector=Primary_Cement_lime_plaster<br>stat=%{x}<br>value=%{y}<extra></extra>\",\"legendgroup\":\"Primary_Cement_lime_plaster\",\"line\":{\"color\":\"#00cc96\",\"dash\":\"solid\"},\"marker\":{\"symbol\":\"circle\"},\"mode\":\"lines\",\"name\":\"Primary_Cement_lime_plaster\",\"orientation\":\"v\",\"showlegend\":true,\"x\":[\"min\",\"25%\",\"50%\",\"75%\",\"max\"],\"xaxis\":\"x\",\"y\":[680898.433023601,1321920.9546885735,1373816.027253701,2153283.266602948,19538182.79575818],\"yaxis\":\"y\",\"type\":\"scatter\"},{\"hovertemplate\":\"sector=Water_Other_waste_Treatment<br>stat=%{x}<br>value=%{y}<extra></extra>\",\"legendgroup\":\"Water_Other_waste_Treatment\",\"line\":{\"color\":\"#ab63fa\",\"dash\":\"solid\"},\"marker\":{\"symbol\":\"circle\"},\"mode\":\"lines\",\"name\":\"Water_Other_waste_Treatment\",\"orientation\":\"v\",\"showlegend\":true,\"x\":[\"min\",\"25%\",\"50%\",\"75%\",\"max\"],\"xaxis\":\"x\",\"y\":[202157.17786110865,492615.8152207411,812917.8050943045,1789398.6025287714,22107494.592424978],\"yaxis\":\"y\",\"type\":\"scatter\"},{\"hovertemplate\":\"sector=Crude_coal<br>stat=%{x}<br>value=%{y}<extra></extra>\",\"legendgroup\":\"Crude_coal\",\"line\":{\"color\":\"#FFA15A\",\"dash\":\"solid\"},\"marker\":{\"symbol\":\"circle\"},\"mode\":\"lines\",\"name\":\"Crude_coal\",\"orientation\":\"v\",\"showlegend\":true,\"x\":[\"min\",\"25%\",\"50%\",\"75%\",\"max\"],\"xaxis\":\"x\",\"y\":[169725.51427767935,2320359.944858734,3607046.8527002237,5827936.940443642,23391973.866137914],\"yaxis\":\"y\",\"type\":\"scatter\"},{\"hovertemplate\":\"sector=Stone<br>stat=%{x}<br>value=%{y}<extra></extra>\",\"legendgroup\":\"Stone\",\"line\":{\"color\":\"#19d3f3\",\"dash\":\"solid\"},\"marker\":{\"symbol\":\"circle\"},\"mode\":\"lines\",\"name\":\"Stone\",\"orientation\":\"v\",\"showlegend\":true,\"x\":[\"min\",\"25%\",\"50%\",\"75%\",\"max\"],\"xaxis\":\"x\",\"y\":[231733.15716896072,578699.286944439,872314.3811311502,1124280.8941900355,23617111.91708699],\"yaxis\":\"y\",\"type\":\"scatter\"},{\"hovertemplate\":\"sector=Other_Waste_incineration<br>stat=%{x}<br>value=%{y}<extra></extra>\",\"legendgroup\":\"Other_Waste_incineration\",\"line\":{\"color\":\"#FF6692\",\"dash\":\"solid\"},\"marker\":{\"symbol\":\"circle\"},\"mode\":\"lines\",\"name\":\"Other_Waste_incineration\",\"orientation\":\"v\",\"showlegend\":true,\"x\":[\"min\",\"25%\",\"50%\",\"75%\",\"max\"],\"xaxis\":\"x\",\"y\":[133035.52690731816,259035.33476292584,357847.29002121964,850542.5944122545,30698422.49482704],\"yaxis\":\"y\",\"type\":\"scatter\"},{\"hovertemplate\":\"sector=Water_transport<br>stat=%{x}<br>value=%{y}<extra></extra>\",\"legendgroup\":\"Water_transport\",\"line\":{\"color\":\"#B6E880\",\"dash\":\"solid\"},\"marker\":{\"symbol\":\"circle\"},\"mode\":\"lines\",\"name\":\"Water_transport\",\"orientation\":\"v\",\"showlegend\":true,\"x\":[\"min\",\"25%\",\"50%\",\"75%\",\"max\"],\"xaxis\":\"x\",\"y\":[333752.097928443,1208076.9887875973,1549034.0581380979,2386609.7739457916,40744766.15648616],\"yaxis\":\"y\",\"type\":\"scatter\"},{\"hovertemplate\":\"sector=Natural_gas<br>stat=%{x}<br>value=%{y}<extra></extra>\",\"legendgroup\":\"Natural_gas\",\"line\":{\"color\":\"#FF97FF\",\"dash\":\"solid\"},\"marker\":{\"symbol\":\"circle\"},\"mode\":\"lines\",\"name\":\"Natural_gas\",\"orientation\":\"v\",\"showlegend\":true,\"x\":[\"min\",\"25%\",\"50%\",\"75%\",\"max\"],\"xaxis\":\"x\",\"y\":[350045.0168610984,350045.0168610984,350045.0168610984,2589383.246597353,87367704.24762198],\"yaxis\":\"y\",\"type\":\"scatter\"},{\"hovertemplate\":\"sector=Landfill<br>stat=%{x}<br>value=%{y}<extra></extra>\",\"legendgroup\":\"Landfill\",\"line\":{\"color\":\"#FECB52\",\"dash\":\"solid\"},\"marker\":{\"symbol\":\"circle\"},\"mode\":\"lines\",\"name\":\"Landfill\",\"orientation\":\"v\",\"showlegend\":true,\"x\":[\"min\",\"25%\",\"50%\",\"75%\",\"max\"],\"xaxis\":\"x\",\"y\":[391471.51548889105,2762012.0688845143,5594431.210120768,14863399.66532576,153517908.9815459],\"yaxis\":\"y\",\"type\":\"scatter\"}],                        {\"template\":{\"data\":{\"histogram2dcontour\":[{\"type\":\"histogram2dcontour\",\"colorbar\":{\"outlinewidth\":0,\"ticks\":\"\"},\"colorscale\":[[0.0,\"#0d0887\"],[0.1111111111111111,\"#46039f\"],[0.2222222222222222,\"#7201a8\"],[0.3333333333333333,\"#9c179e\"],[0.4444444444444444,\"#bd3786\"],[0.5555555555555556,\"#d8576b\"],[0.6666666666666666,\"#ed7953\"],[0.7777777777777778,\"#fb9f3a\"],[0.8888888888888888,\"#fdca26\"],[1.0,\"#f0f921\"]]}],\"choropleth\":[{\"type\":\"choropleth\",\"colorbar\":{\"outlinewidth\":0,\"ticks\":\"\"}}],\"histogram2d\":[{\"type\":\"histogram2d\",\"colorbar\":{\"outlinewidth\":0,\"ticks\":\"\"},\"colorscale\":[[0.0,\"#0d0887\"],[0.1111111111111111,\"#46039f\"],[0.2222222222222222,\"#7201a8\"],[0.3333333333333333,\"#9c179e\"],[0.4444444444444444,\"#bd3786\"],[0.5555555555555556,\"#d8576b\"],[0.6666666666666666,\"#ed7953\"],[0.7777777777777778,\"#fb9f3a\"],[0.8888888888888888,\"#fdca26\"],[1.0,\"#f0f921\"]]}],\"heatmap\":[{\"type\":\"heatmap\",\"colorbar\":{\"outlinewidth\":0,\"ticks\":\"\"},\"colorscale\":[[0.0,\"#0d0887\"],[0.1111111111111111,\"#46039f\"],[0.2222222222222222,\"#7201a8\"],[0.3333333333333333,\"#9c179e\"],[0.4444444444444444,\"#bd3786\"],[0.5555555555555556,\"#d8576b\"],[0.6666666666666666,\"#ed7953\"],[0.7777777777777778,\"#fb9f3a\"],[0.8888888888888888,\"#fdca26\"],[1.0,\"#f0f921\"]]}],\"heatmapgl\":[{\"type\":\"heatmapgl\",\"colorbar\":{\"outlinewidth\":0,\"ticks\":\"\"},\"colorscale\":[[0.0,\"#0d0887\"],[0.1111111111111111,\"#46039f\"],[0.2222222222222222,\"#7201a8\"],[0.3333333333333333,\"#9c179e\"],[0.4444444444444444,\"#bd3786\"],[0.5555555555555556,\"#d8576b\"],[0.6666666666666666,\"#ed7953\"],[0.7777777777777778,\"#fb9f3a\"],[0.8888888888888888,\"#fdca26\"],[1.0,\"#f0f921\"]]}],\"contourcarpet\":[{\"type\":\"contourcarpet\",\"colorbar\":{\"outlinewidth\":0,\"ticks\":\"\"}}],\"contour\":[{\"type\":\"contour\",\"colorbar\":{\"outlinewidth\":0,\"ticks\":\"\"},\"colorscale\":[[0.0,\"#0d0887\"],[0.1111111111111111,\"#46039f\"],[0.2222222222222222,\"#7201a8\"],[0.3333333333333333,\"#9c179e\"],[0.4444444444444444,\"#bd3786\"],[0.5555555555555556,\"#d8576b\"],[0.6666666666666666,\"#ed7953\"],[0.7777777777777778,\"#fb9f3a\"],[0.8888888888888888,\"#fdca26\"],[1.0,\"#f0f921\"]]}],\"surface\":[{\"type\":\"surface\",\"colorbar\":{\"outlinewidth\":0,\"ticks\":\"\"},\"colorscale\":[[0.0,\"#0d0887\"],[0.1111111111111111,\"#46039f\"],[0.2222222222222222,\"#7201a8\"],[0.3333333333333333,\"#9c179e\"],[0.4444444444444444,\"#bd3786\"],[0.5555555555555556,\"#d8576b\"],[0.6666666666666666,\"#ed7953\"],[0.7777777777777778,\"#fb9f3a\"],[0.8888888888888888,\"#fdca26\"],[1.0,\"#f0f921\"]]}],\"mesh3d\":[{\"type\":\"mesh3d\",\"colorbar\":{\"outlinewidth\":0,\"ticks\":\"\"}}],\"scatter\":[{\"fillpattern\":{\"fillmode\":\"overlay\",\"size\":10,\"solidity\":0.2},\"type\":\"scatter\"}],\"parcoords\":[{\"type\":\"parcoords\",\"line\":{\"colorbar\":{\"outlinewidth\":0,\"ticks\":\"\"}}}],\"scatterpolargl\":[{\"type\":\"scatterpolargl\",\"marker\":{\"colorbar\":{\"outlinewidth\":0,\"ticks\":\"\"}}}],\"bar\":[{\"error_x\":{\"color\":\"#2a3f5f\"},\"error_y\":{\"color\":\"#2a3f5f\"},\"marker\":{\"line\":{\"color\":\"#E5ECF6\",\"width\":0.5},\"pattern\":{\"fillmode\":\"overlay\",\"size\":10,\"solidity\":0.2}},\"type\":\"bar\"}],\"scattergeo\":[{\"type\":\"scattergeo\",\"marker\":{\"colorbar\":{\"outlinewidth\":0,\"ticks\":\"\"}}}],\"scatterpolar\":[{\"type\":\"scatterpolar\",\"marker\":{\"colorbar\":{\"outlinewidth\":0,\"ticks\":\"\"}}}],\"histogram\":[{\"marker\":{\"pattern\":{\"fillmode\":\"overlay\",\"size\":10,\"solidity\":0.2}},\"type\":\"histogram\"}],\"scattergl\":[{\"type\":\"scattergl\",\"marker\":{\"colorbar\":{\"outlinewidth\":0,\"ticks\":\"\"}}}],\"scatter3d\":[{\"type\":\"scatter3d\",\"line\":{\"colorbar\":{\"outlinewidth\":0,\"ticks\":\"\"}},\"marker\":{\"colorbar\":{\"outlinewidth\":0,\"ticks\":\"\"}}}],\"scattermapbox\":[{\"type\":\"scattermapbox\",\"marker\":{\"colorbar\":{\"outlinewidth\":0,\"ticks\":\"\"}}}],\"scatterternary\":[{\"type\":\"scatterternary\",\"marker\":{\"colorbar\":{\"outlinewidth\":0,\"ticks\":\"\"}}}],\"scattercarpet\":[{\"type\":\"scattercarpet\",\"marker\":{\"colorbar\":{\"outlinewidth\":0,\"ticks\":\"\"}}}],\"carpet\":[{\"aaxis\":{\"endlinecolor\":\"#2a3f5f\",\"gridcolor\":\"white\",\"linecolor\":\"white\",\"minorgridcolor\":\"white\",\"startlinecolor\":\"#2a3f5f\"},\"baxis\":{\"endlinecolor\":\"#2a3f5f\",\"gridcolor\":\"white\",\"linecolor\":\"white\",\"minorgridcolor\":\"white\",\"startlinecolor\":\"#2a3f5f\"},\"type\":\"carpet\"}],\"table\":[{\"cells\":{\"fill\":{\"color\":\"#EBF0F8\"},\"line\":{\"color\":\"white\"}},\"header\":{\"fill\":{\"color\":\"#C8D4E3\"},\"line\":{\"color\":\"white\"}},\"type\":\"table\"}],\"barpolar\":[{\"marker\":{\"line\":{\"color\":\"#E5ECF6\",\"width\":0.5},\"pattern\":{\"fillmode\":\"overlay\",\"size\":10,\"solidity\":0.2}},\"type\":\"barpolar\"}],\"pie\":[{\"automargin\":true,\"type\":\"pie\"}]},\"layout\":{\"autotypenumbers\":\"strict\",\"colorway\":[\"#636efa\",\"#EF553B\",\"#00cc96\",\"#ab63fa\",\"#FFA15A\",\"#19d3f3\",\"#FF6692\",\"#B6E880\",\"#FF97FF\",\"#FECB52\"],\"font\":{\"color\":\"#2a3f5f\"},\"hovermode\":\"closest\",\"hoverlabel\":{\"align\":\"left\"},\"paper_bgcolor\":\"white\",\"plot_bgcolor\":\"#E5ECF6\",\"polar\":{\"bgcolor\":\"#E5ECF6\",\"angularaxis\":{\"gridcolor\":\"white\",\"linecolor\":\"white\",\"ticks\":\"\"},\"radialaxis\":{\"gridcolor\":\"white\",\"linecolor\":\"white\",\"ticks\":\"\"}},\"ternary\":{\"bgcolor\":\"#E5ECF6\",\"aaxis\":{\"gridcolor\":\"white\",\"linecolor\":\"white\",\"ticks\":\"\"},\"baxis\":{\"gridcolor\":\"white\",\"linecolor\":\"white\",\"ticks\":\"\"},\"caxis\":{\"gridcolor\":\"white\",\"linecolor\":\"white\",\"ticks\":\"\"}},\"coloraxis\":{\"colorbar\":{\"outlinewidth\":0,\"ticks\":\"\"}},\"colorscale\":{\"sequential\":[[0.0,\"#0d0887\"],[0.1111111111111111,\"#46039f\"],[0.2222222222222222,\"#7201a8\"],[0.3333333333333333,\"#9c179e\"],[0.4444444444444444,\"#bd3786\"],[0.5555555555555556,\"#d8576b\"],[0.6666666666666666,\"#ed7953\"],[0.7777777777777778,\"#fb9f3a\"],[0.8888888888888888,\"#fdca26\"],[1.0,\"#f0f921\"]],\"sequentialminus\":[[0.0,\"#0d0887\"],[0.1111111111111111,\"#46039f\"],[0.2222222222222222,\"#7201a8\"],[0.3333333333333333,\"#9c179e\"],[0.4444444444444444,\"#bd3786\"],[0.5555555555555556,\"#d8576b\"],[0.6666666666666666,\"#ed7953\"],[0.7777777777777778,\"#fb9f3a\"],[0.8888888888888888,\"#fdca26\"],[1.0,\"#f0f921\"]],\"diverging\":[[0,\"#8e0152\"],[0.1,\"#c51b7d\"],[0.2,\"#de77ae\"],[0.3,\"#f1b6da\"],[0.4,\"#fde0ef\"],[0.5,\"#f7f7f7\"],[0.6,\"#e6f5d0\"],[0.7,\"#b8e186\"],[0.8,\"#7fbc41\"],[0.9,\"#4d9221\"],[1,\"#276419\"]]},\"xaxis\":{\"gridcolor\":\"white\",\"linecolor\":\"white\",\"ticks\":\"\",\"title\":{\"standoff\":15},\"zerolinecolor\":\"white\",\"automargin\":true,\"zerolinewidth\":2},\"yaxis\":{\"gridcolor\":\"white\",\"linecolor\":\"white\",\"ticks\":\"\",\"title\":{\"standoff\":15},\"zerolinecolor\":\"white\",\"automargin\":true,\"zerolinewidth\":2},\"scene\":{\"xaxis\":{\"backgroundcolor\":\"#E5ECF6\",\"gridcolor\":\"white\",\"linecolor\":\"white\",\"showbackground\":true,\"ticks\":\"\",\"zerolinecolor\":\"white\",\"gridwidth\":2},\"yaxis\":{\"backgroundcolor\":\"#E5ECF6\",\"gridcolor\":\"white\",\"linecolor\":\"white\",\"showbackground\":true,\"ticks\":\"\",\"zerolinecolor\":\"white\",\"gridwidth\":2},\"zaxis\":{\"backgroundcolor\":\"#E5ECF6\",\"gridcolor\":\"white\",\"linecolor\":\"white\",\"showbackground\":true,\"ticks\":\"\",\"zerolinecolor\":\"white\",\"gridwidth\":2}},\"shapedefaults\":{\"line\":{\"color\":\"#2a3f5f\"}},\"annotationdefaults\":{\"arrowcolor\":\"#2a3f5f\",\"arrowhead\":0,\"arrowwidth\":1},\"geo\":{\"bgcolor\":\"white\",\"landcolor\":\"#E5ECF6\",\"subunitcolor\":\"white\",\"showland\":true,\"showlakes\":true,\"lakecolor\":\"white\"},\"title\":{\"x\":0.05},\"mapbox\":{\"style\":\"light\"}}},\"xaxis\":{\"anchor\":\"y\",\"domain\":[0.0,1.0],\"title\":{\"text\":\"stat\"}},\"yaxis\":{\"anchor\":\"x\",\"domain\":[0.0,1.0],\"title\":{\"text\":\"value\"},\"type\":\"log\"},\"legend\":{\"title\":{\"text\":\"sector\"},\"tracegroupgap\":0},\"margin\":{\"t\":60}},                        {\"responsive\": true}                    ).then(function(){\n",
       "                            \n",
       "var gd = document.getElementById('23479652-03bc-4d5a-aabe-2a4a752d442e');\n",
       "var x = new MutationObserver(function (mutations, observer) {{\n",
       "        var display = window.getComputedStyle(gd).display;\n",
       "        if (!display || display === 'none') {{\n",
       "            console.log([gd, 'removed!']);\n",
       "            Plotly.purge(gd);\n",
       "            observer.disconnect();\n",
       "        }}\n",
       "}});\n",
       "\n",
       "// Listen for the removal of the full notebook cells\n",
       "var notebookContainer = gd.closest('#notebook-container');\n",
       "if (notebookContainer) {{\n",
       "    x.observe(notebookContainer, {childList: true});\n",
       "}}\n",
       "\n",
       "// Listen for the clearing of the current output cell\n",
       "var outputEl = gd.closest('.output');\n",
       "if (outputEl) {{\n",
       "    x.observe(outputEl, {childList: true});\n",
       "}}\n",
       "\n",
       "                        })                };                });            </script>        </div>"
      ]
     },
     "metadata": {},
     "output_type": "display_data"
    }
   ],
   "source": [
    "SCENARIO=\"IMACLIM_all_2050_INDC\"\n",
    "\n",
    "sectors_selection_criterion=\"max\"   # from max,std,mean\n",
    "sectors_number=10\n",
    "\n",
    "\n",
    "emissivity_dataframe=pd.concat([list_emissi_stat[key] for key in list_emissi_stat.keys()],keys=list_emissi_stat.keys(),names=(\"scenario\",\"stat\"))\n",
    "\n",
    "SECTORS_INDEX=emissivity_dataframe.loc[(SCENARIO,sectors_selection_criterion)].argsort()[-sectors_number:]\n",
    "SECTORS=emissivity_dataframe.columns[SECTORS_INDEX]\n",
    "\n",
    "emissivity_dataframe.loc[emissivity_dataframe.index.get_level_values(\"stat\").isin([\"min\",\"25%\",\"50%\",\"75%\",\"max\"])].loc[SCENARIO,SECTORS].plot(log_y=True)"
   ]
  },
  {
   "cell_type": "code",
   "execution_count": 113,
   "metadata": {},
   "outputs": [],
   "source": []
  },
  {
   "cell_type": "code",
   "execution_count": 120,
   "metadata": {},
   "outputs": [
    {
     "data": {
      "application/vnd.plotly.v1+json": {
       "config": {
        "plotlyServerURL": "https://plot.ly"
       },
       "data": [
        {
         "customdata": [
          [
           "Luxembourg"
          ],
          [
           "Germany"
          ],
          [
           "Canada"
          ],
          [
           "Norway"
          ],
          [
           "Belgium"
          ],
          [
           "Sweden"
          ],
          [
           "Switzerland"
          ],
          [
           "Romania"
          ],
          [
           "Italy"
          ],
          [
           "United States"
          ],
          [
           "Ireland"
          ],
          [
           "Malta"
          ],
          [
           "Slovenia"
          ],
          [
           "Cyprus"
          ],
          [
           "Denmark"
          ],
          [
           "Japan"
          ],
          [
           "Poland"
          ],
          [
           "Netherlands"
          ],
          [
           "Croatia"
          ],
          [
           "South Korea"
          ],
          [
           "Bulgaria"
          ],
          [
           "Slovakia"
          ],
          [
           "Austria"
          ],
          [
           "United Kingdom"
          ],
          [
           "Czech Republic"
          ],
          [
           "RoW America"
          ],
          [
           "Hungary"
          ],
          [
           "Spain"
          ],
          [
           "RoW Middle East"
          ],
          [
           "Finland"
          ],
          [
           "RoW Asia and Pacific"
          ],
          [
           "Portugal"
          ],
          [
           "China"
          ],
          [
           "Lithuania"
          ],
          [
           "RoW Africa"
          ],
          [
           "Greece"
          ],
          [
           "RoW Europe"
          ],
          [
           "Estonia"
          ],
          [
           "Taiwan"
          ],
          [
           "Latvia"
          ],
          [
           "Turkey"
          ],
          [
           "Russia"
          ]
         ],
         "hovertemplate": "sector=Other_Waste_incineration<br>fraction of sum of quantity=%{x}<br>emissivity=%{y}<br>region=%{customdata[0]}<extra></extra>",
         "legendgroup": "Other_Waste_incineration",
         "line": {
          "dash": "solid",
          "shape": "hv"
         },
         "marker": {
          "color": "#636efa",
          "symbol": "circle"
         },
         "mode": "lines",
         "name": "Other_Waste_incineration",
         "orientation": "h",
         "showlegend": true,
         "type": "scatter",
         "x": [
          0.02999398912836571,
          0.07745416703348633,
          0.0852950501708049,
          0.14053776276871185,
          0.22849297297677834,
          0.3495884866095528,
          0.38710235300284085,
          0.3891331347482262,
          0.43419526144873455,
          0.48618716637513215,
          0.5025183575531802,
          0.5027216838068548,
          0.5029897742566468,
          0.5031603554433762,
          0.5488784132628987,
          0.5877870194534242,
          0.6102833630041165,
          0.6989959796262003,
          0.6997012900184431,
          0.702793020547283,
          0.7030358115241077,
          0.7045019548093214,
          0.71049326804009,
          0.7618668671633115,
          0.7690854189574391,
          0.772708785059058,
          0.7768610739389645,
          0.7835458388473322,
          0.7996954159468171,
          0.8315151349035396,
          0.955539999354838,
          0.9684227866215925,
          0.9793381253215603,
          0.979505663870527,
          0.9915897255240361,
          0.992207855708708,
          0.9935974468433756,
          0.9941980019799378,
          0.9972614260120314,
          0.9973493749163383,
          0.9975090034178975,
          1.0000000000000002
         ],
         "xaxis": "x",
         "y": [
          198232.889366151,
          284854.634977802,
          332254.437062134,
          344425.727321207,
          362350.478528156,
          388344.526725307,
          397166.56683557597,
          465823.98326499003,
          470187.83954704006,
          502223.66671513993,
          512533.0404270899,
          587873.142404225,
          646429.0847342601,
          766351.3929417799,
          789727.766207785,
          800730.91955875,
          862544.5673904531,
          872891.90287369,
          881588.7343299299,
          921151.2103573799,
          1006187.5082678997,
          1251266.793333268,
          1252201.31804427,
          1402829.634001097,
          1446274.50238139,
          1504226.2180577132,
          1510563.1533663599,
          1520394.76193938,
          1587167.4641874796,
          1954786.9096179497,
          2009524.53720089,
          2739665.0552175394,
          2852416.21307049,
          2958782.6013904293,
          2989098.476516678,
          3156441.2874708422,
          4337922.624641341,
          5882435.257748181,
          8652753.04131449,
          11208649.928241331,
          11326296.367125358,
          45076093.996559985
         ],
         "yaxis": "y"
        },
        {
         "customdata": [
          [
           "Netherlands"
          ],
          [
           "Lithuania"
          ],
          [
           "Ireland"
          ],
          [
           "United Kingdom"
          ],
          [
           "Spain"
          ],
          [
           "United States"
          ],
          [
           "Estonia"
          ],
          [
           "Norway"
          ],
          [
           "Finland"
          ],
          [
           "Poland"
          ],
          [
           "Germany"
          ],
          [
           "Canada"
          ],
          [
           "RoW America"
          ],
          [
           "Australia"
          ],
          [
           "China"
          ],
          [
           "Latvia"
          ],
          [
           "RoW Asia and Pacific"
          ],
          [
           "South Africa"
          ],
          [
           "RoW Europe"
          ],
          [
           "Russia"
          ],
          [
           "Belgium"
          ],
          [
           "Indonesia"
          ],
          [
           "RoW Africa"
          ]
         ],
         "hovertemplate": "sector=Crude_coal<br>fraction of sum of quantity=%{x}<br>emissivity=%{y}<br>region=%{customdata[0]}<extra></extra>",
         "legendgroup": "Crude_coal",
         "line": {
          "dash": "solid",
          "shape": "hv"
         },
         "marker": {
          "color": "#EF553B",
          "symbol": "circle"
         },
         "mode": "lines",
         "name": "Crude_coal",
         "orientation": "h",
         "showlegend": true,
         "type": "scatter",
         "x": [
          0.00010993341468807388,
          0.0016706647004992576,
          0.0033065611196896106,
          0.007411745622373062,
          0.009246549180151678,
          0.2090041186260401,
          0.20970649492059057,
          0.2153099924397265,
          0.21571190201555757,
          0.24536685899878743,
          0.31423967942427183,
          0.31439162438277435,
          0.3913373960740273,
          0.6825941209716766,
          0.6888193947017321,
          0.6967202373121025,
          0.6969152248957794,
          0.7621496208914171,
          0.7649253509616226,
          0.9872129188765121,
          0.9872231132385821,
          0.9919490102781109,
          1.0000000000000004
         ],
         "xaxis": "x",
         "y": [
          233847.32336394297,
          852331.9328998801,
          888711.35596882,
          922723.1621053701,
          968121.0500804898,
          1636484.96699119,
          1642447.84052463,
          2108545.13607758,
          2119367.4617346697,
          2500650.0566299497,
          2521849.7629219093,
          2883695.450042804,
          3197422.07583685,
          3757367.94066879,
          5390708.280445749,
          5794170.89163493,
          5827395.278227011,
          6009753.828241167,
          6296759.14949925,
          8280506.148238559,
          10090088.90435262,
          15480344.44445168,
          23484774.112713065
         ],
         "yaxis": "y"
        },
        {
         "customdata": [
          [
           "Switzerland"
          ],
          [
           "Luxembourg"
          ],
          [
           "Norway"
          ],
          [
           "Romania"
          ],
          [
           "Brazil"
          ],
          [
           "Netherlands"
          ],
          [
           "Belgium"
          ],
          [
           "Denmark"
          ],
          [
           "South Africa"
          ],
          [
           "Sweden"
          ],
          [
           "Canada"
          ],
          [
           "Germany"
          ],
          [
           "United Kingdom"
          ],
          [
           "China"
          ],
          [
           "Taiwan"
          ],
          [
           "Ireland"
          ],
          [
           "Croatia"
          ],
          [
           "Greece"
          ],
          [
           "Australia"
          ],
          [
           "Italy"
          ],
          [
           "Slovenia"
          ],
          [
           "Czech Republic"
          ],
          [
           "RoW Middle East"
          ],
          [
           "Spain"
          ],
          [
           "Indonesia"
          ],
          [
           "Austria"
          ],
          [
           "Finland"
          ],
          [
           "Slovakia"
          ],
          [
           "Malta"
          ],
          [
           "Bulgaria"
          ],
          [
           "RoW Asia and Pacific"
          ],
          [
           "Cyprus"
          ],
          [
           "Latvia"
          ],
          [
           "Hungary"
          ],
          [
           "RoW Africa"
          ],
          [
           "Poland"
          ],
          [
           "United States"
          ],
          [
           "South Korea"
          ],
          [
           "RoW America"
          ],
          [
           "Russia"
          ],
          [
           "Lithuania"
          ],
          [
           "India"
          ],
          [
           "RoW Europe"
          ],
          [
           "Portugal"
          ],
          [
           "Mexico"
          ],
          [
           "Estonia"
          ],
          [
           "Japan"
          ],
          [
           "Turkey"
          ]
         ],
         "hovertemplate": "sector=Water_Other_waste_Treatment<br>fraction of sum of quantity=%{x}<br>emissivity=%{y}<br>region=%{customdata[0]}<extra></extra>",
         "legendgroup": "Water_Other_waste_Treatment",
         "line": {
          "dash": "solid",
          "shape": "hv"
         },
         "marker": {
          "color": "#00cc96",
          "symbol": "circle"
         },
         "mode": "lines",
         "name": "Water_Other_waste_Treatment",
         "orientation": "h",
         "showlegend": true,
         "type": "scatter",
         "x": [
          0.03728379637292114,
          0.05985604766213374,
          0.07615835591337619,
          0.08065712547975944,
          0.08201314941188736,
          0.16999373811892393,
          0.24778900157870767,
          0.27082263092826425,
          0.2817006608300168,
          0.33226263645308235,
          0.3396768054124833,
          0.3799056971870532,
          0.4460342309565606,
          0.4517539597526187,
          0.4541901550542999,
          0.5187147790869131,
          0.5217548583871914,
          0.525077791897905,
          0.5543963741461047,
          0.587871618248122,
          0.5881954411786746,
          0.6108091181320667,
          0.6308983808628065,
          0.6451976956294471,
          0.6597520911143513,
          0.6657384427094166,
          0.6953111547972123,
          0.6983299581635077,
          0.7004585985322697,
          0.7008607079428937,
          0.8101509507922596,
          0.8123406410300851,
          0.8132503674733417,
          0.8228087262595796,
          0.8488690475690257,
          0.8961066637438876,
          0.9465998938863218,
          0.9484159652661653,
          0.9627479618314666,
          0.9646206117804378,
          0.9653659645084188,
          0.9794574574360082,
          0.9820936872167617,
          0.9908852866734119,
          0.9911622335568683,
          0.9926343085822541,
          0.9996779820015667,
          0.9999999999999997
         ],
         "xaxis": "x",
         "y": [
          275859.43203804,
          356463.97677167,
          435796.97550452995,
          553184.85965102,
          587601.1768574901,
          597320.56852414,
          640368.7946442,
          656999.0063762299,
          727097.25270567,
          750602.4815833401,
          770120.9008712581,
          842812.0969311299,
          857437.3197256601,
          890103.3467823402,
          920635.06517672,
          1041906.02241773,
          1132158.94044058,
          1177083.6278696,
          1178458.49574402,
          1265557.56960081,
          1591430.2891364,
          1686542.6242860598,
          1841969.0329696003,
          1846210.90925963,
          1848312.301179083,
          1995910.0004842202,
          2098375.41640975,
          2212270.1818763297,
          2255650.0867721722,
          2315893.6022310704,
          2355759.3769064997,
          2521963.8972291397,
          2551889.76899205,
          2874174.8477289,
          3006510.4107532697,
          3524296.00705287,
          3616968.0063831205,
          3685096.71769815,
          3971478.4016527217,
          4207323.41925944,
          4774315.91966692,
          5025115.290753749,
          5212625.843711301,
          6616429.94575718,
          10208177.75079184,
          10614187.13702446,
          20854516.0476234,
          22305805.480831757
         ],
         "yaxis": "y"
        },
        {
         "customdata": [
          [
           "Switzerland"
          ],
          [
           "Norway"
          ],
          [
           "Romania"
          ],
          [
           "Germany"
          ],
          [
           "United Kingdom"
          ],
          [
           "Sweden"
          ],
          [
           "Spain"
          ],
          [
           "Turkey"
          ],
          [
           "United States"
          ],
          [
           "Brazil"
          ],
          [
           "Ireland"
          ],
          [
           "Slovenia"
          ],
          [
           "Italy"
          ],
          [
           "RoW Africa"
          ],
          [
           "RoW America"
          ],
          [
           "Denmark"
          ],
          [
           "South Africa"
          ],
          [
           "Belgium"
          ],
          [
           "RoW Middle East"
          ],
          [
           "Japan"
          ],
          [
           "Hungary"
          ],
          [
           "Canada"
          ],
          [
           "RoW Asia and Pacific"
          ],
          [
           "India"
          ],
          [
           "China"
          ],
          [
           "Austria"
          ],
          [
           "Indonesia"
          ],
          [
           "Czech Republic"
          ],
          [
           "RoW Europe"
          ],
          [
           "Bulgaria"
          ],
          [
           "Portugal"
          ],
          [
           "Poland"
          ]
         ],
         "hovertemplate": "sector=Stone<br>fraction of sum of quantity=%{x}<br>emissivity=%{y}<br>region=%{customdata[0]}<extra></extra>",
         "legendgroup": "Stone",
         "line": {
          "dash": "solid",
          "shape": "hv"
         },
         "marker": {
          "color": "#ab63fa",
          "symbol": "circle"
         },
         "mode": "lines",
         "name": "Stone",
         "orientation": "h",
         "showlegend": true,
         "type": "scatter",
         "x": [
          0.000774981409563768,
          0.07458951421613098,
          0.07475274942960884,
          0.18487627613793606,
          0.19518959955659865,
          0.19865928123481025,
          0.44593695092977664,
          0.4484835090563818,
          0.45467372635792974,
          0.46595256696866333,
          0.4859622660253525,
          0.48602745339701375,
          0.6178935987243153,
          0.6353559025880332,
          0.6392492504672271,
          0.6392796028112578,
          0.6661018154488773,
          0.7486420393154238,
          0.7733706839187356,
          0.7733823317835723,
          0.7734287424756319,
          0.7742522382368302,
          0.8130431045852645,
          0.8902296390109092,
          0.8983028284383271,
          0.8986753357484311,
          0.8987027342562721,
          0.9001114853344233,
          0.9009112974248656,
          0.901472955832187,
          0.9999302196490385,
          1
         ],
         "xaxis": "x",
         "y": [
          284631.00607103,
          402060.91078673,
          459265.82935715996,
          492414.29259815003,
          622945.7888833539,
          684712.9399595989,
          783244.83711893,
          787767.122086296,
          838283.0059957701,
          861941.6464547399,
          863515.47787733,
          886810.0003708501,
          1139343.42993414,
          1207155.0079208598,
          1304732.956154606,
          1334314.417024127,
          1409696.6850537,
          1435815.65527938,
          1453145.98677286,
          1624088.62980837,
          1674192.3279409402,
          1989725.561622077,
          2014441.0664020898,
          2139778.810675096,
          2423291.1786392503,
          2783120.58539337,
          3103300.520310577,
          3168798.5784554495,
          4194259.63598346,
          4639608.211848291,
          7486090.741846601,
          26298546.8670414
         ],
         "yaxis": "y"
        },
        {
         "customdata": [
          [
           "Norway"
          ],
          [
           "United Kingdom"
          ],
          [
           "United States"
          ],
          [
           "Netherlands"
          ],
          [
           "Germany"
          ],
          [
           "RoW America"
          ],
          [
           "RoW Middle East"
          ],
          [
           "Hungary"
          ],
          [
           "RoW Africa"
          ],
          [
           "Italy"
          ],
          [
           "Ireland"
          ],
          [
           "Czech Republic"
          ],
          [
           "Switzerland"
          ],
          [
           "Slovenia"
          ]
         ],
         "hovertemplate": "sector=Natural_gas<br>fraction of sum of quantity=%{x}<br>emissivity=%{y}<br>region=%{customdata[0]}<extra></extra>",
         "legendgroup": "Natural_gas",
         "line": {
          "dash": "solid",
          "shape": "hv"
         },
         "marker": {
          "color": "#FFA15A",
          "symbol": "circle"
         },
         "mode": "lines",
         "name": "Natural_gas",
         "orientation": "h",
         "showlegend": true,
         "type": "scatter",
         "x": [
          0.6750561563076437,
          0.6750886542011558,
          0.6750894220033696,
          0.6751047457765176,
          0.9872579356582858,
          0.9875879882916546,
          0.9888937868736767,
          0.9888972893472523,
          0.9969551155957206,
          0.9970550268289874,
          0.9970890668212072,
          0.9985130843112622,
          0.9998118794480599,
          1
         ],
         "xaxis": "x",
         "y": [
          375034.84936825605,
          1148744.3127713976,
          1973176.901039444,
          1978514.726713994,
          2642335.7386584003,
          3028567.09411411,
          3623597.9877035073,
          5358823.90615748,
          6900031.946325046,
          11536356.82715381,
          12972956.74637982,
          14325611.11828716,
          16072473.824831871,
          87404669.19444457
         ],
         "yaxis": "y"
        },
        {
         "customdata": [
          [
           "South Africa"
          ],
          [
           "RoW Asia and Pacific"
          ],
          [
           "United Kingdom"
          ]
         ],
         "hovertemplate": "sector=Precious metal ores and concentrates<br>fraction of sum of quantity=%{x}<br>emissivity=%{y}<br>region=%{customdata[0]}<extra></extra>",
         "legendgroup": "Precious metal ores and concentrates",
         "line": {
          "dash": "solid",
          "shape": "hv"
         },
         "marker": {
          "color": "#19d3f3",
          "symbol": "circle"
         },
         "mode": "lines",
         "name": "Precious metal ores and concentrates",
         "orientation": "h",
         "showlegend": true,
         "type": "scatter",
         "x": [
          0.03138495372820493,
          0.09649495885095671,
          1
         ],
         "xaxis": "x",
         "y": [
          418226.224974042,
          1180186.4842081899,
          51435984.49383893
         ],
         "yaxis": "y"
        },
        {
         "customdata": [
          [
           "Slovakia"
          ],
          [
           "Switzerland"
          ],
          [
           "RoW Africa"
          ],
          [
           "Bulgaria"
          ],
          [
           "Hungary"
          ],
          [
           "Sweden"
          ],
          [
           "Brazil"
          ],
          [
           "United States"
          ],
          [
           "Ireland"
          ],
          [
           "Croatia"
          ],
          [
           "South Africa"
          ],
          [
           "Turkey"
          ],
          [
           "Finland"
          ],
          [
           "Malta"
          ],
          [
           "RoW America"
          ],
          [
           "United Kingdom"
          ],
          [
           "Belgium"
          ],
          [
           "Estonia"
          ],
          [
           "RoW Europe"
          ],
          [
           "Spain"
          ],
          [
           "Netherlands"
          ],
          [
           "Slovenia"
          ],
          [
           "Italy"
          ],
          [
           "RoW Asia and Pacific"
          ],
          [
           "Lithuania"
          ],
          [
           "Romania"
          ],
          [
           "Indonesia"
          ],
          [
           "Australia"
          ],
          [
           "India"
          ],
          [
           "RoW Middle East"
          ],
          [
           "Norway"
          ],
          [
           "Russia"
          ],
          [
           "Canada"
          ],
          [
           "Portugal"
          ],
          [
           "Luxembourg"
          ],
          [
           "Mexico"
          ],
          [
           "South Korea"
          ],
          [
           "Denmark"
          ],
          [
           "China"
          ],
          [
           "Japan"
          ],
          [
           "Austria"
          ],
          [
           "Germany"
          ],
          [
           "Cyprus"
          ],
          [
           "Latvia"
          ],
          [
           "Czech Republic"
          ],
          [
           "Greece"
          ],
          [
           "Taiwan"
          ]
         ],
         "hovertemplate": "sector=Water_transport<br>fraction of sum of quantity=%{x}<br>emissivity=%{y}<br>region=%{customdata[0]}<extra></extra>",
         "legendgroup": "Water_transport",
         "line": {
          "dash": "solid",
          "shape": "hv"
         },
         "marker": {
          "color": "#FF6692",
          "symbol": "circle"
         },
         "mode": "lines",
         "name": "Water_transport",
         "orientation": "h",
         "showlegend": true,
         "type": "scatter",
         "x": [
          0.0002251469647045228,
          0.026625704951860375,
          0.05348639190481664,
          0.054511035157046264,
          0.05473740917720543,
          0.07415579410758322,
          0.09443970024073278,
          0.12504126087049,
          0.1330854639452459,
          0.1383698423216792,
          0.14020569003489614,
          0.14961541281730137,
          0.15510855391656697,
          0.15560638440470698,
          0.17870864266057856,
          0.23500808516164412,
          0.27365696061333106,
          0.2758550551914331,
          0.2874187298867168,
          0.298445393574371,
          0.3331278827997651,
          0.33430526949083333,
          0.354480663942517,
          0.5601580988531007,
          0.5605743948057126,
          0.5616562591668292,
          0.5655218078563462,
          0.5793728910360733,
          0.6146947326537294,
          0.6775817402735096,
          0.6898801251619822,
          0.7140920053561808,
          0.7230677336518413,
          0.7243328150387701,
          0.7244349784540103,
          0.7286847231488985,
          0.7774555475094469,
          0.7871444731086674,
          0.8744063577740718,
          0.9333558193503723,
          0.9335384853942488,
          0.9929619672982547,
          0.9944589109883164,
          0.9948912963746889,
          0.9950517866893007,
          0.9987400801758308,
          1
         ],
         "xaxis": "x",
         "y": [
          455487.496495914,
          680197.02435519,
          809562.6903549032,
          857165.190799721,
          876248.50187368,
          934064.200623908,
          978879.737543007,
          1057755.472251428,
          1066703.49748677,
          1083614.4103710258,
          1147250.6916966932,
          1161276.964981362,
          1252243.3252941982,
          1305452.3036897096,
          1388917.4051482081,
          1426144.021856379,
          1493076.6570135069,
          1494607.7055192098,
          1572567.938555755,
          1667188.8703655463,
          1736126.644465734,
          1813678.4796794339,
          1875605.2180729199,
          1890445.8000870699,
          1892880.994458881,
          1900830.92585756,
          2016895.560743448,
          2064516.278382384,
          2199695.9993158556,
          2254953.2013769085,
          2295294.451846648,
          2391950.1731089107,
          2562409.217480524,
          2602860.985654831,
          2654029.875343638,
          2886616.687655218,
          2905106.27462707,
          2910547.0199373625,
          3157473.8496042923,
          3366355.3990019206,
          3494428.7546925945,
          3567421.299530137,
          7237122.276297698,
          8711646.456122132,
          9994014.08882583,
          13539789.984900536,
          48734602.89466524
         ],
         "yaxis": "y"
        },
        {
         "customdata": [
          [
           "Greece"
          ],
          [
           "Italy"
          ],
          [
           "Spain"
          ],
          [
           "RoW America"
          ],
          [
           "RoW Asia and Pacific"
          ],
          [
           "Turkey"
          ]
         ],
         "hovertemplate": "sector=Paddy rice<br>fraction of sum of quantity=%{x}<br>emissivity=%{y}<br>region=%{customdata[0]}<extra></extra>",
         "legendgroup": "Paddy rice",
         "line": {
          "dash": "solid",
          "shape": "hv"
         },
         "marker": {
          "color": "#B6E880",
          "symbol": "circle"
         },
         "mode": "lines",
         "name": "Paddy rice",
         "orientation": "h",
         "showlegend": true,
         "type": "scatter",
         "x": [
          0.1582721987183993,
          0.3296853366150054,
          0.40135526736821303,
          0.9482801402688938,
          0.9957203781352657,
          1
         ],
         "xaxis": "x",
         "y": [
          703906.850890095,
          5038937.918594609,
          5764228.605167707,
          6721848.1817877805,
          18792532.994304307,
          20761016.42284554
         ],
         "yaxis": "y"
        },
        {
         "customdata": [
          [
           "Taiwan"
          ],
          [
           "Malta"
          ],
          [
           "Russia"
          ],
          [
           "Switzerland"
          ],
          [
           "Canada"
          ],
          [
           "Ireland"
          ],
          [
           "Norway"
          ],
          [
           "Brazil"
          ],
          [
           "Italy"
          ],
          [
           "Luxembourg"
          ],
          [
           "Slovenia"
          ],
          [
           "Netherlands"
          ],
          [
           "Romania"
          ],
          [
           "United States"
          ],
          [
           "Belgium"
          ],
          [
           "Latvia"
          ],
          [
           "Spain"
          ],
          [
           "Denmark"
          ],
          [
           "Czech Republic"
          ],
          [
           "Greece"
          ],
          [
           "United Kingdom"
          ],
          [
           "Japan"
          ],
          [
           "Poland"
          ],
          [
           "Slovakia"
          ],
          [
           "Croatia"
          ],
          [
           "Lithuania"
          ],
          [
           "Hungary"
          ],
          [
           "RoW America"
          ],
          [
           "China"
          ],
          [
           "Cyprus"
          ],
          [
           "Austria"
          ],
          [
           "Portugal"
          ],
          [
           "RoW Middle East"
          ],
          [
           "Germany"
          ],
          [
           "RoW Asia and Pacific"
          ],
          [
           "Finland"
          ],
          [
           "Australia"
          ],
          [
           "Bulgaria"
          ],
          [
           "Sweden"
          ],
          [
           "Estonia"
          ],
          [
           "RoW Africa"
          ],
          [
           "RoW Europe"
          ],
          [
           "Turkey"
          ],
          [
           "Mexico"
          ]
         ],
         "hovertemplate": "sector=Landfill<br>fraction of sum of quantity=%{x}<br>emissivity=%{y}<br>region=%{customdata[0]}<extra></extra>",
         "legendgroup": "Landfill",
         "line": {
          "dash": "solid",
          "shape": "hv"
         },
         "marker": {
          "color": "#FF97FF",
          "symbol": "circle"
         },
         "mode": "lines",
         "name": "Landfill",
         "orientation": "h",
         "showlegend": true,
         "type": "scatter",
         "x": [
          0.002983406343157007,
          0.009762352408752268,
          0.06148799896735641,
          0.08649141220555306,
          0.11190687191537523,
          0.15337468455656078,
          0.16893170767830681,
          0.1715893667316819,
          0.20918089594842443,
          0.21473911295127143,
          0.21531371197618057,
          0.2650732468652464,
          0.2706472797153839,
          0.3095524132327081,
          0.35540481755922376,
          0.35759540689098596,
          0.37575412793399776,
          0.3860941496648943,
          0.40452387038039034,
          0.41241563307368817,
          0.46060884575912747,
          0.4717131069126636,
          0.5125628266066748,
          0.5191956696902117,
          0.5269360771619346,
          0.5287551900873776,
          0.5388307877817545,
          0.6152161092643454,
          0.6252321612894849,
          0.633974242894177,
          0.6365603146909119,
          0.6569876943023687,
          0.6988720613607347,
          0.7288791214163178,
          0.8679728555581768,
          0.9097312105993772,
          0.927781247317912,
          0.9298850914427572,
          0.9567365085572532,
          0.9597027932066816,
          0.9917254722497524,
          0.9989310484273319,
          0.9995113990494789,
          0.9999999999999999
         ],
         "xaxis": "x",
         "y": [
          843763.9399012699,
          1345912.556426394,
          1539456.6120177,
          1809987.488084922,
          1832094.450535486,
          1970142.84602692,
          2006362.55182528,
          2231904.178756595,
          2440649.3505304004,
          2806073.2896482497,
          2902431.5525502097,
          2927548.2028919696,
          3269525.25048947,
          3565131.4857435296,
          3738062.34944927,
          4087919.5165081997,
          4596539.61171504,
          4629661.92411959,
          4805204.94843267,
          5188476.707284871,
          5559632.120474061,
          5813811.9957122905,
          5903545.253020311,
          6505138.297839501,
          7591611.2609745,
          7698659.25527041,
          9553534.551543871,
          9769927.33250861,
          10158709.20791701,
          11219604.181417847,
          11516061.99819904,
          12006954.212968431,
          12871363.309022179,
          13858914.64246397,
          15446563.461235022,
          16124552.78357315,
          18337544.04529447,
          19410398.45950872,
          23319056.772603612,
          28177893.373622023,
          37074798.82416923,
          44439241.30482638,
          62042346.81692025,
          153655935.36280772
         ],
         "yaxis": "y"
        },
        {
         "customdata": [
          [
           "Ireland"
          ],
          [
           "Finland"
          ],
          [
           "Sweden"
          ],
          [
           "Switzerland"
          ],
          [
           "United Kingdom"
          ],
          [
           "Austria"
          ],
          [
           "Italy"
          ],
          [
           "Netherlands"
          ],
          [
           "Denmark"
          ],
          [
           "Slovenia"
          ],
          [
           "Germany"
          ],
          [
           "Hungary"
          ],
          [
           "Spain"
          ],
          [
           "Belgium"
          ],
          [
           "Estonia"
          ],
          [
           "Norway"
          ],
          [
           "Romania"
          ],
          [
           "United States"
          ],
          [
           "Australia"
          ],
          [
           "Croatia"
          ],
          [
           "Latvia"
          ],
          [
           "Poland"
          ],
          [
           "Slovakia"
          ],
          [
           "Czech Republic"
          ],
          [
           "Greece"
          ],
          [
           "Bulgaria"
          ],
          [
           "RoW America"
          ],
          [
           "South Korea"
          ],
          [
           "Lithuania"
          ],
          [
           "South Africa"
          ],
          [
           "Russia"
          ],
          [
           "Portugal"
          ],
          [
           "Canada"
          ],
          [
           "Mexico"
          ],
          [
           "Taiwan"
          ],
          [
           "RoW Middle East"
          ],
          [
           "Luxembourg"
          ],
          [
           "Brazil"
          ],
          [
           "RoW Africa"
          ],
          [
           "Japan"
          ],
          [
           "India"
          ],
          [
           "RoW Europe"
          ],
          [
           "Indonesia"
          ],
          [
           "China"
          ],
          [
           "RoW Asia and Pacific"
          ],
          [
           "Turkey"
          ]
         ],
         "hovertemplate": "sector=Primary_Cement_lime_plaster<br>fraction of sum of quantity=%{x}<br>emissivity=%{y}<br>region=%{customdata[0]}<extra></extra>",
         "legendgroup": "Primary_Cement_lime_plaster",
         "line": {
          "dash": "solid",
          "shape": "hv"
         },
         "marker": {
          "color": "#FECB52",
          "symbol": "circle"
         },
         "mode": "lines",
         "name": "Primary_Cement_lime_plaster",
         "orientation": "h",
         "showlegend": true,
         "type": "scatter",
         "x": [
          0.0009390287481607022,
          0.002120825049019586,
          0.0022272760532380574,
          0.006519182162293594,
          0.034455696914423004,
          0.03710973640527942,
          0.1398322818344188,
          0.16958226349588593,
          0.17991209408519107,
          0.1816358891023892,
          0.34693067467817146,
          0.34793483639644196,
          0.5235782969358126,
          0.7234511334022644,
          0.7263230424107846,
          0.7263355963866571,
          0.7337055474387044,
          0.7426145070846204,
          0.742769134661933,
          0.7440052962515198,
          0.7448757780345467,
          0.7613824184338442,
          0.7624139555635563,
          0.7683634541799182,
          0.7751279179381315,
          0.7754841612781481,
          0.8093791566197895,
          0.8094108615307829,
          0.8113256195764554,
          0.8114729587963763,
          0.811483703756646,
          0.830991291192123,
          0.8311151655113999,
          0.8314660782768418,
          0.8358766784310887,
          0.8557006549737008,
          0.9041871154781084,
          0.9042153321718125,
          0.9125205965018901,
          0.9125798372241295,
          0.9128565379119842,
          0.9133419246202689,
          0.9141847458767957,
          0.9407095185138078,
          0.9990039813753814,
          0.9999999999999997
         ],
         "xaxis": "x",
         "y": [
          910802.21503566,
          995856.01248239,
          1103632.51995116,
          1115420.1669290802,
          1253553.4538528498,
          1270348.137921,
          1352241.8424898998,
          1354443.6951552199,
          1367176.363292922,
          1668837.3638827,
          1827383.65451604,
          1856447.8461009997,
          1860812.94718579,
          1871864.76572439,
          1918419.9400038102,
          2109866.6851022397,
          2142624.0448138104,
          2158384.7664734903,
          2161029.6569214757,
          2554643.0093440902,
          2645568.9955737703,
          2779671.5774271796,
          2850484.9593373802,
          3905551.15940347,
          4188953.4111171705,
          4244409.694456389,
          4245039.816711225,
          4668828.0676910505,
          5023721.25886516,
          5232541.301507996,
          5295640.5659483895,
          5349152.89807556,
          6468707.882355827,
          6559970.838967552,
          6745428.4039695,
          7420765.116139839,
          7795776.59291454,
          8496465.751201978,
          8952391.13673016,
          11627843.92912357,
          12066621.387290778,
          13245046.868710078,
          13810253.926672371,
          14882819.137282101,
          16570156.781483501,
          21325930.403380543
         ],
         "yaxis": "y"
        }
       ],
       "layout": {
        "legend": {
         "title": {
          "text": "sector"
         },
         "tracegroupgap": 0
        },
        "margin": {
         "t": 60
        },
        "template": {
         "data": {
          "bar": [
           {
            "error_x": {
             "color": "#2a3f5f"
            },
            "error_y": {
             "color": "#2a3f5f"
            },
            "marker": {
             "line": {
              "color": "#E5ECF6",
              "width": 0.5
             },
             "pattern": {
              "fillmode": "overlay",
              "size": 10,
              "solidity": 0.2
             }
            },
            "type": "bar"
           }
          ],
          "barpolar": [
           {
            "marker": {
             "line": {
              "color": "#E5ECF6",
              "width": 0.5
             },
             "pattern": {
              "fillmode": "overlay",
              "size": 10,
              "solidity": 0.2
             }
            },
            "type": "barpolar"
           }
          ],
          "carpet": [
           {
            "aaxis": {
             "endlinecolor": "#2a3f5f",
             "gridcolor": "white",
             "linecolor": "white",
             "minorgridcolor": "white",
             "startlinecolor": "#2a3f5f"
            },
            "baxis": {
             "endlinecolor": "#2a3f5f",
             "gridcolor": "white",
             "linecolor": "white",
             "minorgridcolor": "white",
             "startlinecolor": "#2a3f5f"
            },
            "type": "carpet"
           }
          ],
          "choropleth": [
           {
            "colorbar": {
             "outlinewidth": 0,
             "ticks": ""
            },
            "type": "choropleth"
           }
          ],
          "contour": [
           {
            "colorbar": {
             "outlinewidth": 0,
             "ticks": ""
            },
            "colorscale": [
             [
              0,
              "#0d0887"
             ],
             [
              0.1111111111111111,
              "#46039f"
             ],
             [
              0.2222222222222222,
              "#7201a8"
             ],
             [
              0.3333333333333333,
              "#9c179e"
             ],
             [
              0.4444444444444444,
              "#bd3786"
             ],
             [
              0.5555555555555556,
              "#d8576b"
             ],
             [
              0.6666666666666666,
              "#ed7953"
             ],
             [
              0.7777777777777778,
              "#fb9f3a"
             ],
             [
              0.8888888888888888,
              "#fdca26"
             ],
             [
              1,
              "#f0f921"
             ]
            ],
            "type": "contour"
           }
          ],
          "contourcarpet": [
           {
            "colorbar": {
             "outlinewidth": 0,
             "ticks": ""
            },
            "type": "contourcarpet"
           }
          ],
          "heatmap": [
           {
            "colorbar": {
             "outlinewidth": 0,
             "ticks": ""
            },
            "colorscale": [
             [
              0,
              "#0d0887"
             ],
             [
              0.1111111111111111,
              "#46039f"
             ],
             [
              0.2222222222222222,
              "#7201a8"
             ],
             [
              0.3333333333333333,
              "#9c179e"
             ],
             [
              0.4444444444444444,
              "#bd3786"
             ],
             [
              0.5555555555555556,
              "#d8576b"
             ],
             [
              0.6666666666666666,
              "#ed7953"
             ],
             [
              0.7777777777777778,
              "#fb9f3a"
             ],
             [
              0.8888888888888888,
              "#fdca26"
             ],
             [
              1,
              "#f0f921"
             ]
            ],
            "type": "heatmap"
           }
          ],
          "heatmapgl": [
           {
            "colorbar": {
             "outlinewidth": 0,
             "ticks": ""
            },
            "colorscale": [
             [
              0,
              "#0d0887"
             ],
             [
              0.1111111111111111,
              "#46039f"
             ],
             [
              0.2222222222222222,
              "#7201a8"
             ],
             [
              0.3333333333333333,
              "#9c179e"
             ],
             [
              0.4444444444444444,
              "#bd3786"
             ],
             [
              0.5555555555555556,
              "#d8576b"
             ],
             [
              0.6666666666666666,
              "#ed7953"
             ],
             [
              0.7777777777777778,
              "#fb9f3a"
             ],
             [
              0.8888888888888888,
              "#fdca26"
             ],
             [
              1,
              "#f0f921"
             ]
            ],
            "type": "heatmapgl"
           }
          ],
          "histogram": [
           {
            "marker": {
             "pattern": {
              "fillmode": "overlay",
              "size": 10,
              "solidity": 0.2
             }
            },
            "type": "histogram"
           }
          ],
          "histogram2d": [
           {
            "colorbar": {
             "outlinewidth": 0,
             "ticks": ""
            },
            "colorscale": [
             [
              0,
              "#0d0887"
             ],
             [
              0.1111111111111111,
              "#46039f"
             ],
             [
              0.2222222222222222,
              "#7201a8"
             ],
             [
              0.3333333333333333,
              "#9c179e"
             ],
             [
              0.4444444444444444,
              "#bd3786"
             ],
             [
              0.5555555555555556,
              "#d8576b"
             ],
             [
              0.6666666666666666,
              "#ed7953"
             ],
             [
              0.7777777777777778,
              "#fb9f3a"
             ],
             [
              0.8888888888888888,
              "#fdca26"
             ],
             [
              1,
              "#f0f921"
             ]
            ],
            "type": "histogram2d"
           }
          ],
          "histogram2dcontour": [
           {
            "colorbar": {
             "outlinewidth": 0,
             "ticks": ""
            },
            "colorscale": [
             [
              0,
              "#0d0887"
             ],
             [
              0.1111111111111111,
              "#46039f"
             ],
             [
              0.2222222222222222,
              "#7201a8"
             ],
             [
              0.3333333333333333,
              "#9c179e"
             ],
             [
              0.4444444444444444,
              "#bd3786"
             ],
             [
              0.5555555555555556,
              "#d8576b"
             ],
             [
              0.6666666666666666,
              "#ed7953"
             ],
             [
              0.7777777777777778,
              "#fb9f3a"
             ],
             [
              0.8888888888888888,
              "#fdca26"
             ],
             [
              1,
              "#f0f921"
             ]
            ],
            "type": "histogram2dcontour"
           }
          ],
          "mesh3d": [
           {
            "colorbar": {
             "outlinewidth": 0,
             "ticks": ""
            },
            "type": "mesh3d"
           }
          ],
          "parcoords": [
           {
            "line": {
             "colorbar": {
              "outlinewidth": 0,
              "ticks": ""
             }
            },
            "type": "parcoords"
           }
          ],
          "pie": [
           {
            "automargin": true,
            "type": "pie"
           }
          ],
          "scatter": [
           {
            "fillpattern": {
             "fillmode": "overlay",
             "size": 10,
             "solidity": 0.2
            },
            "type": "scatter"
           }
          ],
          "scatter3d": [
           {
            "line": {
             "colorbar": {
              "outlinewidth": 0,
              "ticks": ""
             }
            },
            "marker": {
             "colorbar": {
              "outlinewidth": 0,
              "ticks": ""
             }
            },
            "type": "scatter3d"
           }
          ],
          "scattercarpet": [
           {
            "marker": {
             "colorbar": {
              "outlinewidth": 0,
              "ticks": ""
             }
            },
            "type": "scattercarpet"
           }
          ],
          "scattergeo": [
           {
            "marker": {
             "colorbar": {
              "outlinewidth": 0,
              "ticks": ""
             }
            },
            "type": "scattergeo"
           }
          ],
          "scattergl": [
           {
            "marker": {
             "colorbar": {
              "outlinewidth": 0,
              "ticks": ""
             }
            },
            "type": "scattergl"
           }
          ],
          "scattermapbox": [
           {
            "marker": {
             "colorbar": {
              "outlinewidth": 0,
              "ticks": ""
             }
            },
            "type": "scattermapbox"
           }
          ],
          "scatterpolar": [
           {
            "marker": {
             "colorbar": {
              "outlinewidth": 0,
              "ticks": ""
             }
            },
            "type": "scatterpolar"
           }
          ],
          "scatterpolargl": [
           {
            "marker": {
             "colorbar": {
              "outlinewidth": 0,
              "ticks": ""
             }
            },
            "type": "scatterpolargl"
           }
          ],
          "scatterternary": [
           {
            "marker": {
             "colorbar": {
              "outlinewidth": 0,
              "ticks": ""
             }
            },
            "type": "scatterternary"
           }
          ],
          "surface": [
           {
            "colorbar": {
             "outlinewidth": 0,
             "ticks": ""
            },
            "colorscale": [
             [
              0,
              "#0d0887"
             ],
             [
              0.1111111111111111,
              "#46039f"
             ],
             [
              0.2222222222222222,
              "#7201a8"
             ],
             [
              0.3333333333333333,
              "#9c179e"
             ],
             [
              0.4444444444444444,
              "#bd3786"
             ],
             [
              0.5555555555555556,
              "#d8576b"
             ],
             [
              0.6666666666666666,
              "#ed7953"
             ],
             [
              0.7777777777777778,
              "#fb9f3a"
             ],
             [
              0.8888888888888888,
              "#fdca26"
             ],
             [
              1,
              "#f0f921"
             ]
            ],
            "type": "surface"
           }
          ],
          "table": [
           {
            "cells": {
             "fill": {
              "color": "#EBF0F8"
             },
             "line": {
              "color": "white"
             }
            },
            "header": {
             "fill": {
              "color": "#C8D4E3"
             },
             "line": {
              "color": "white"
             }
            },
            "type": "table"
           }
          ]
         },
         "layout": {
          "annotationdefaults": {
           "arrowcolor": "#2a3f5f",
           "arrowhead": 0,
           "arrowwidth": 1
          },
          "autotypenumbers": "strict",
          "coloraxis": {
           "colorbar": {
            "outlinewidth": 0,
            "ticks": ""
           }
          },
          "colorscale": {
           "diverging": [
            [
             0,
             "#8e0152"
            ],
            [
             0.1,
             "#c51b7d"
            ],
            [
             0.2,
             "#de77ae"
            ],
            [
             0.3,
             "#f1b6da"
            ],
            [
             0.4,
             "#fde0ef"
            ],
            [
             0.5,
             "#f7f7f7"
            ],
            [
             0.6,
             "#e6f5d0"
            ],
            [
             0.7,
             "#b8e186"
            ],
            [
             0.8,
             "#7fbc41"
            ],
            [
             0.9,
             "#4d9221"
            ],
            [
             1,
             "#276419"
            ]
           ],
           "sequential": [
            [
             0,
             "#0d0887"
            ],
            [
             0.1111111111111111,
             "#46039f"
            ],
            [
             0.2222222222222222,
             "#7201a8"
            ],
            [
             0.3333333333333333,
             "#9c179e"
            ],
            [
             0.4444444444444444,
             "#bd3786"
            ],
            [
             0.5555555555555556,
             "#d8576b"
            ],
            [
             0.6666666666666666,
             "#ed7953"
            ],
            [
             0.7777777777777778,
             "#fb9f3a"
            ],
            [
             0.8888888888888888,
             "#fdca26"
            ],
            [
             1,
             "#f0f921"
            ]
           ],
           "sequentialminus": [
            [
             0,
             "#0d0887"
            ],
            [
             0.1111111111111111,
             "#46039f"
            ],
            [
             0.2222222222222222,
             "#7201a8"
            ],
            [
             0.3333333333333333,
             "#9c179e"
            ],
            [
             0.4444444444444444,
             "#bd3786"
            ],
            [
             0.5555555555555556,
             "#d8576b"
            ],
            [
             0.6666666666666666,
             "#ed7953"
            ],
            [
             0.7777777777777778,
             "#fb9f3a"
            ],
            [
             0.8888888888888888,
             "#fdca26"
            ],
            [
             1,
             "#f0f921"
            ]
           ]
          },
          "colorway": [
           "#636efa",
           "#EF553B",
           "#00cc96",
           "#ab63fa",
           "#FFA15A",
           "#19d3f3",
           "#FF6692",
           "#B6E880",
           "#FF97FF",
           "#FECB52"
          ],
          "font": {
           "color": "#2a3f5f"
          },
          "geo": {
           "bgcolor": "white",
           "lakecolor": "white",
           "landcolor": "#E5ECF6",
           "showlakes": true,
           "showland": true,
           "subunitcolor": "white"
          },
          "hoverlabel": {
           "align": "left"
          },
          "hovermode": "closest",
          "mapbox": {
           "style": "light"
          },
          "paper_bgcolor": "white",
          "plot_bgcolor": "#E5ECF6",
          "polar": {
           "angularaxis": {
            "gridcolor": "white",
            "linecolor": "white",
            "ticks": ""
           },
           "bgcolor": "#E5ECF6",
           "radialaxis": {
            "gridcolor": "white",
            "linecolor": "white",
            "ticks": ""
           }
          },
          "scene": {
           "xaxis": {
            "backgroundcolor": "#E5ECF6",
            "gridcolor": "white",
            "gridwidth": 2,
            "linecolor": "white",
            "showbackground": true,
            "ticks": "",
            "zerolinecolor": "white"
           },
           "yaxis": {
            "backgroundcolor": "#E5ECF6",
            "gridcolor": "white",
            "gridwidth": 2,
            "linecolor": "white",
            "showbackground": true,
            "ticks": "",
            "zerolinecolor": "white"
           },
           "zaxis": {
            "backgroundcolor": "#E5ECF6",
            "gridcolor": "white",
            "gridwidth": 2,
            "linecolor": "white",
            "showbackground": true,
            "ticks": "",
            "zerolinecolor": "white"
           }
          },
          "shapedefaults": {
           "line": {
            "color": "#2a3f5f"
           }
          },
          "ternary": {
           "aaxis": {
            "gridcolor": "white",
            "linecolor": "white",
            "ticks": ""
           },
           "baxis": {
            "gridcolor": "white",
            "linecolor": "white",
            "ticks": ""
           },
           "bgcolor": "#E5ECF6",
           "caxis": {
            "gridcolor": "white",
            "linecolor": "white",
            "ticks": ""
           }
          },
          "title": {
           "x": 0.05
          },
          "xaxis": {
           "automargin": true,
           "gridcolor": "white",
           "linecolor": "white",
           "ticks": "",
           "title": {
            "standoff": 15
           },
           "zerolinecolor": "white",
           "zerolinewidth": 2
          },
          "yaxis": {
           "automargin": true,
           "gridcolor": "white",
           "linecolor": "white",
           "ticks": "",
           "title": {
            "standoff": 15
           },
           "zerolinecolor": "white",
           "zerolinewidth": 2
          }
         }
        },
        "xaxis": {
         "anchor": "y",
         "domain": [
          0,
          1
         ],
         "rangemode": "tozero",
         "title": {
          "text": "fraction of sum of quantity"
         }
        },
        "yaxis": {
         "anchor": "x",
         "domain": [
          0,
          1
         ],
         "title": {
          "text": "emissivity"
         },
         "type": "log"
        }
       }
      },
      "text/html": [
       "<div>                            <div id=\"0909b4d9-43f1-4a04-b9f7-4d0961a49bf8\" class=\"plotly-graph-div\" style=\"height:525px; width:100%;\"></div>            <script type=\"text/javascript\">                require([\"plotly\"], function(Plotly) {                    window.PLOTLYENV=window.PLOTLYENV || {};                                    if (document.getElementById(\"0909b4d9-43f1-4a04-b9f7-4d0961a49bf8\")) {                    Plotly.newPlot(                        \"0909b4d9-43f1-4a04-b9f7-4d0961a49bf8\",                        [{\"customdata\":[[\"Luxembourg\"],[\"Germany\"],[\"Canada\"],[\"Norway\"],[\"Belgium\"],[\"Sweden\"],[\"Switzerland\"],[\"Romania\"],[\"Italy\"],[\"United States\"],[\"Ireland\"],[\"Malta\"],[\"Slovenia\"],[\"Cyprus\"],[\"Denmark\"],[\"Japan\"],[\"Poland\"],[\"Netherlands\"],[\"Croatia\"],[\"South Korea\"],[\"Bulgaria\"],[\"Slovakia\"],[\"Austria\"],[\"United Kingdom\"],[\"Czech Republic\"],[\"RoW America\"],[\"Hungary\"],[\"Spain\"],[\"RoW Middle East\"],[\"Finland\"],[\"RoW Asia and Pacific\"],[\"Portugal\"],[\"China\"],[\"Lithuania\"],[\"RoW Africa\"],[\"Greece\"],[\"RoW Europe\"],[\"Estonia\"],[\"Taiwan\"],[\"Latvia\"],[\"Turkey\"],[\"Russia\"]],\"hovertemplate\":\"sector=Other_Waste_incineration<br>fraction of sum of quantity=%{x}<br>emissivity=%{y}<br>region=%{customdata[0]}<extra></extra>\",\"legendgroup\":\"Other_Waste_incineration\",\"line\":{\"dash\":\"solid\",\"shape\":\"hv\"},\"marker\":{\"color\":\"#636efa\",\"symbol\":\"circle\"},\"mode\":\"lines\",\"name\":\"Other_Waste_incineration\",\"orientation\":\"h\",\"showlegend\":true,\"x\":[0.02999398912836571,0.07745416703348633,0.0852950501708049,0.14053776276871185,0.22849297297677834,0.3495884866095528,0.38710235300284085,0.3891331347482262,0.43419526144873455,0.48618716637513215,0.5025183575531802,0.5027216838068548,0.5029897742566468,0.5031603554433762,0.5488784132628987,0.5877870194534242,0.6102833630041165,0.6989959796262003,0.6997012900184431,0.702793020547283,0.7030358115241077,0.7045019548093214,0.71049326804009,0.7618668671633115,0.7690854189574391,0.772708785059058,0.7768610739389645,0.7835458388473322,0.7996954159468171,0.8315151349035396,0.955539999354838,0.9684227866215925,0.9793381253215603,0.979505663870527,0.9915897255240361,0.992207855708708,0.9935974468433756,0.9941980019799378,0.9972614260120314,0.9973493749163383,0.9975090034178975,1.0000000000000002],\"xaxis\":\"x\",\"y\":[198232.889366151,284854.634977802,332254.437062134,344425.727321207,362350.478528156,388344.526725307,397166.56683557597,465823.98326499003,470187.83954704006,502223.66671513993,512533.0404270899,587873.142404225,646429.0847342601,766351.3929417799,789727.766207785,800730.91955875,862544.5673904531,872891.90287369,881588.7343299299,921151.2103573799,1006187.5082678997,1251266.793333268,1252201.31804427,1402829.634001097,1446274.50238139,1504226.2180577132,1510563.1533663599,1520394.76193938,1587167.4641874796,1954786.9096179497,2009524.53720089,2739665.0552175394,2852416.21307049,2958782.6013904293,2989098.476516678,3156441.2874708422,4337922.624641341,5882435.257748181,8652753.04131449,11208649.928241331,11326296.367125358,45076093.996559985],\"yaxis\":\"y\",\"type\":\"scatter\"},{\"customdata\":[[\"Netherlands\"],[\"Lithuania\"],[\"Ireland\"],[\"United Kingdom\"],[\"Spain\"],[\"United States\"],[\"Estonia\"],[\"Norway\"],[\"Finland\"],[\"Poland\"],[\"Germany\"],[\"Canada\"],[\"RoW America\"],[\"Australia\"],[\"China\"],[\"Latvia\"],[\"RoW Asia and Pacific\"],[\"South Africa\"],[\"RoW Europe\"],[\"Russia\"],[\"Belgium\"],[\"Indonesia\"],[\"RoW Africa\"]],\"hovertemplate\":\"sector=Crude_coal<br>fraction of sum of quantity=%{x}<br>emissivity=%{y}<br>region=%{customdata[0]}<extra></extra>\",\"legendgroup\":\"Crude_coal\",\"line\":{\"dash\":\"solid\",\"shape\":\"hv\"},\"marker\":{\"color\":\"#EF553B\",\"symbol\":\"circle\"},\"mode\":\"lines\",\"name\":\"Crude_coal\",\"orientation\":\"h\",\"showlegend\":true,\"x\":[0.00010993341468807388,0.0016706647004992576,0.0033065611196896106,0.007411745622373062,0.009246549180151678,0.2090041186260401,0.20970649492059057,0.2153099924397265,0.21571190201555757,0.24536685899878743,0.31423967942427183,0.31439162438277435,0.3913373960740273,0.6825941209716766,0.6888193947017321,0.6967202373121025,0.6969152248957794,0.7621496208914171,0.7649253509616226,0.9872129188765121,0.9872231132385821,0.9919490102781109,1.0000000000000004],\"xaxis\":\"x\",\"y\":[233847.32336394297,852331.9328998801,888711.35596882,922723.1621053701,968121.0500804898,1636484.96699119,1642447.84052463,2108545.13607758,2119367.4617346697,2500650.0566299497,2521849.7629219093,2883695.450042804,3197422.07583685,3757367.94066879,5390708.280445749,5794170.89163493,5827395.278227011,6009753.828241167,6296759.14949925,8280506.148238559,10090088.90435262,15480344.44445168,23484774.112713065],\"yaxis\":\"y\",\"type\":\"scatter\"},{\"customdata\":[[\"Switzerland\"],[\"Luxembourg\"],[\"Norway\"],[\"Romania\"],[\"Brazil\"],[\"Netherlands\"],[\"Belgium\"],[\"Denmark\"],[\"South Africa\"],[\"Sweden\"],[\"Canada\"],[\"Germany\"],[\"United Kingdom\"],[\"China\"],[\"Taiwan\"],[\"Ireland\"],[\"Croatia\"],[\"Greece\"],[\"Australia\"],[\"Italy\"],[\"Slovenia\"],[\"Czech Republic\"],[\"RoW Middle East\"],[\"Spain\"],[\"Indonesia\"],[\"Austria\"],[\"Finland\"],[\"Slovakia\"],[\"Malta\"],[\"Bulgaria\"],[\"RoW Asia and Pacific\"],[\"Cyprus\"],[\"Latvia\"],[\"Hungary\"],[\"RoW Africa\"],[\"Poland\"],[\"United States\"],[\"South Korea\"],[\"RoW America\"],[\"Russia\"],[\"Lithuania\"],[\"India\"],[\"RoW Europe\"],[\"Portugal\"],[\"Mexico\"],[\"Estonia\"],[\"Japan\"],[\"Turkey\"]],\"hovertemplate\":\"sector=Water_Other_waste_Treatment<br>fraction of sum of quantity=%{x}<br>emissivity=%{y}<br>region=%{customdata[0]}<extra></extra>\",\"legendgroup\":\"Water_Other_waste_Treatment\",\"line\":{\"dash\":\"solid\",\"shape\":\"hv\"},\"marker\":{\"color\":\"#00cc96\",\"symbol\":\"circle\"},\"mode\":\"lines\",\"name\":\"Water_Other_waste_Treatment\",\"orientation\":\"h\",\"showlegend\":true,\"x\":[0.03728379637292114,0.05985604766213374,0.07615835591337619,0.08065712547975944,0.08201314941188736,0.16999373811892393,0.24778900157870767,0.27082263092826425,0.2817006608300168,0.33226263645308235,0.3396768054124833,0.3799056971870532,0.4460342309565606,0.4517539597526187,0.4541901550542999,0.5187147790869131,0.5217548583871914,0.525077791897905,0.5543963741461047,0.587871618248122,0.5881954411786746,0.6108091181320667,0.6308983808628065,0.6451976956294471,0.6597520911143513,0.6657384427094166,0.6953111547972123,0.6983299581635077,0.7004585985322697,0.7008607079428937,0.8101509507922596,0.8123406410300851,0.8132503674733417,0.8228087262595796,0.8488690475690257,0.8961066637438876,0.9465998938863218,0.9484159652661653,0.9627479618314666,0.9646206117804378,0.9653659645084188,0.9794574574360082,0.9820936872167617,0.9908852866734119,0.9911622335568683,0.9926343085822541,0.9996779820015667,0.9999999999999997],\"xaxis\":\"x\",\"y\":[275859.43203804,356463.97677167,435796.97550452995,553184.85965102,587601.1768574901,597320.56852414,640368.7946442,656999.0063762299,727097.25270567,750602.4815833401,770120.9008712581,842812.0969311299,857437.3197256601,890103.3467823402,920635.06517672,1041906.02241773,1132158.94044058,1177083.6278696,1178458.49574402,1265557.56960081,1591430.2891364,1686542.6242860598,1841969.0329696003,1846210.90925963,1848312.301179083,1995910.0004842202,2098375.41640975,2212270.1818763297,2255650.0867721722,2315893.6022310704,2355759.3769064997,2521963.8972291397,2551889.76899205,2874174.8477289,3006510.4107532697,3524296.00705287,3616968.0063831205,3685096.71769815,3971478.4016527217,4207323.41925944,4774315.91966692,5025115.290753749,5212625.843711301,6616429.94575718,10208177.75079184,10614187.13702446,20854516.0476234,22305805.480831757],\"yaxis\":\"y\",\"type\":\"scatter\"},{\"customdata\":[[\"Switzerland\"],[\"Norway\"],[\"Romania\"],[\"Germany\"],[\"United Kingdom\"],[\"Sweden\"],[\"Spain\"],[\"Turkey\"],[\"United States\"],[\"Brazil\"],[\"Ireland\"],[\"Slovenia\"],[\"Italy\"],[\"RoW Africa\"],[\"RoW America\"],[\"Denmark\"],[\"South Africa\"],[\"Belgium\"],[\"RoW Middle East\"],[\"Japan\"],[\"Hungary\"],[\"Canada\"],[\"RoW Asia and Pacific\"],[\"India\"],[\"China\"],[\"Austria\"],[\"Indonesia\"],[\"Czech Republic\"],[\"RoW Europe\"],[\"Bulgaria\"],[\"Portugal\"],[\"Poland\"]],\"hovertemplate\":\"sector=Stone<br>fraction of sum of quantity=%{x}<br>emissivity=%{y}<br>region=%{customdata[0]}<extra></extra>\",\"legendgroup\":\"Stone\",\"line\":{\"dash\":\"solid\",\"shape\":\"hv\"},\"marker\":{\"color\":\"#ab63fa\",\"symbol\":\"circle\"},\"mode\":\"lines\",\"name\":\"Stone\",\"orientation\":\"h\",\"showlegend\":true,\"x\":[0.000774981409563768,0.07458951421613098,0.07475274942960884,0.18487627613793606,0.19518959955659865,0.19865928123481025,0.44593695092977664,0.4484835090563818,0.45467372635792974,0.46595256696866333,0.4859622660253525,0.48602745339701375,0.6178935987243153,0.6353559025880332,0.6392492504672271,0.6392796028112578,0.6661018154488773,0.7486420393154238,0.7733706839187356,0.7733823317835723,0.7734287424756319,0.7742522382368302,0.8130431045852645,0.8902296390109092,0.8983028284383271,0.8986753357484311,0.8987027342562721,0.9001114853344233,0.9009112974248656,0.901472955832187,0.9999302196490385,1.0],\"xaxis\":\"x\",\"y\":[284631.00607103,402060.91078673,459265.82935715996,492414.29259815003,622945.7888833539,684712.9399595989,783244.83711893,787767.122086296,838283.0059957701,861941.6464547399,863515.47787733,886810.0003708501,1139343.42993414,1207155.0079208598,1304732.956154606,1334314.417024127,1409696.6850537,1435815.65527938,1453145.98677286,1624088.62980837,1674192.3279409402,1989725.561622077,2014441.0664020898,2139778.810675096,2423291.1786392503,2783120.58539337,3103300.520310577,3168798.5784554495,4194259.63598346,4639608.211848291,7486090.741846601,26298546.8670414],\"yaxis\":\"y\",\"type\":\"scatter\"},{\"customdata\":[[\"Norway\"],[\"United Kingdom\"],[\"United States\"],[\"Netherlands\"],[\"Germany\"],[\"RoW America\"],[\"RoW Middle East\"],[\"Hungary\"],[\"RoW Africa\"],[\"Italy\"],[\"Ireland\"],[\"Czech Republic\"],[\"Switzerland\"],[\"Slovenia\"]],\"hovertemplate\":\"sector=Natural_gas<br>fraction of sum of quantity=%{x}<br>emissivity=%{y}<br>region=%{customdata[0]}<extra></extra>\",\"legendgroup\":\"Natural_gas\",\"line\":{\"dash\":\"solid\",\"shape\":\"hv\"},\"marker\":{\"color\":\"#FFA15A\",\"symbol\":\"circle\"},\"mode\":\"lines\",\"name\":\"Natural_gas\",\"orientation\":\"h\",\"showlegend\":true,\"x\":[0.6750561563076437,0.6750886542011558,0.6750894220033696,0.6751047457765176,0.9872579356582858,0.9875879882916546,0.9888937868736767,0.9888972893472523,0.9969551155957206,0.9970550268289874,0.9970890668212072,0.9985130843112622,0.9998118794480599,1.0],\"xaxis\":\"x\",\"y\":[375034.84936825605,1148744.3127713976,1973176.901039444,1978514.726713994,2642335.7386584003,3028567.09411411,3623597.9877035073,5358823.90615748,6900031.946325046,11536356.82715381,12972956.74637982,14325611.11828716,16072473.824831871,87404669.19444457],\"yaxis\":\"y\",\"type\":\"scatter\"},{\"customdata\":[[\"South Africa\"],[\"RoW Asia and Pacific\"],[\"United Kingdom\"]],\"hovertemplate\":\"sector=Precious metal ores and concentrates<br>fraction of sum of quantity=%{x}<br>emissivity=%{y}<br>region=%{customdata[0]}<extra></extra>\",\"legendgroup\":\"Precious metal ores and concentrates\",\"line\":{\"dash\":\"solid\",\"shape\":\"hv\"},\"marker\":{\"color\":\"#19d3f3\",\"symbol\":\"circle\"},\"mode\":\"lines\",\"name\":\"Precious metal ores and concentrates\",\"orientation\":\"h\",\"showlegend\":true,\"x\":[0.03138495372820493,0.09649495885095671,1.0],\"xaxis\":\"x\",\"y\":[418226.224974042,1180186.4842081899,51435984.49383893],\"yaxis\":\"y\",\"type\":\"scatter\"},{\"customdata\":[[\"Slovakia\"],[\"Switzerland\"],[\"RoW Africa\"],[\"Bulgaria\"],[\"Hungary\"],[\"Sweden\"],[\"Brazil\"],[\"United States\"],[\"Ireland\"],[\"Croatia\"],[\"South Africa\"],[\"Turkey\"],[\"Finland\"],[\"Malta\"],[\"RoW America\"],[\"United Kingdom\"],[\"Belgium\"],[\"Estonia\"],[\"RoW Europe\"],[\"Spain\"],[\"Netherlands\"],[\"Slovenia\"],[\"Italy\"],[\"RoW Asia and Pacific\"],[\"Lithuania\"],[\"Romania\"],[\"Indonesia\"],[\"Australia\"],[\"India\"],[\"RoW Middle East\"],[\"Norway\"],[\"Russia\"],[\"Canada\"],[\"Portugal\"],[\"Luxembourg\"],[\"Mexico\"],[\"South Korea\"],[\"Denmark\"],[\"China\"],[\"Japan\"],[\"Austria\"],[\"Germany\"],[\"Cyprus\"],[\"Latvia\"],[\"Czech Republic\"],[\"Greece\"],[\"Taiwan\"]],\"hovertemplate\":\"sector=Water_transport<br>fraction of sum of quantity=%{x}<br>emissivity=%{y}<br>region=%{customdata[0]}<extra></extra>\",\"legendgroup\":\"Water_transport\",\"line\":{\"dash\":\"solid\",\"shape\":\"hv\"},\"marker\":{\"color\":\"#FF6692\",\"symbol\":\"circle\"},\"mode\":\"lines\",\"name\":\"Water_transport\",\"orientation\":\"h\",\"showlegend\":true,\"x\":[0.0002251469647045228,0.026625704951860375,0.05348639190481664,0.054511035157046264,0.05473740917720543,0.07415579410758322,0.09443970024073278,0.12504126087049,0.1330854639452459,0.1383698423216792,0.14020569003489614,0.14961541281730137,0.15510855391656697,0.15560638440470698,0.17870864266057856,0.23500808516164412,0.27365696061333106,0.2758550551914331,0.2874187298867168,0.298445393574371,0.3331278827997651,0.33430526949083333,0.354480663942517,0.5601580988531007,0.5605743948057126,0.5616562591668292,0.5655218078563462,0.5793728910360733,0.6146947326537294,0.6775817402735096,0.6898801251619822,0.7140920053561808,0.7230677336518413,0.7243328150387701,0.7244349784540103,0.7286847231488985,0.7774555475094469,0.7871444731086674,0.8744063577740718,0.9333558193503723,0.9335384853942488,0.9929619672982547,0.9944589109883164,0.9948912963746889,0.9950517866893007,0.9987400801758308,1.0],\"xaxis\":\"x\",\"y\":[455487.496495914,680197.02435519,809562.6903549032,857165.190799721,876248.50187368,934064.200623908,978879.737543007,1057755.472251428,1066703.49748677,1083614.4103710258,1147250.6916966932,1161276.964981362,1252243.3252941982,1305452.3036897096,1388917.4051482081,1426144.021856379,1493076.6570135069,1494607.7055192098,1572567.938555755,1667188.8703655463,1736126.644465734,1813678.4796794339,1875605.2180729199,1890445.8000870699,1892880.994458881,1900830.92585756,2016895.560743448,2064516.278382384,2199695.9993158556,2254953.2013769085,2295294.451846648,2391950.1731089107,2562409.217480524,2602860.985654831,2654029.875343638,2886616.687655218,2905106.27462707,2910547.0199373625,3157473.8496042923,3366355.3990019206,3494428.7546925945,3567421.299530137,7237122.276297698,8711646.456122132,9994014.08882583,13539789.984900536,48734602.89466524],\"yaxis\":\"y\",\"type\":\"scatter\"},{\"customdata\":[[\"Greece\"],[\"Italy\"],[\"Spain\"],[\"RoW America\"],[\"RoW Asia and Pacific\"],[\"Turkey\"]],\"hovertemplate\":\"sector=Paddy rice<br>fraction of sum of quantity=%{x}<br>emissivity=%{y}<br>region=%{customdata[0]}<extra></extra>\",\"legendgroup\":\"Paddy rice\",\"line\":{\"dash\":\"solid\",\"shape\":\"hv\"},\"marker\":{\"color\":\"#B6E880\",\"symbol\":\"circle\"},\"mode\":\"lines\",\"name\":\"Paddy rice\",\"orientation\":\"h\",\"showlegend\":true,\"x\":[0.1582721987183993,0.3296853366150054,0.40135526736821303,0.9482801402688938,0.9957203781352657,1.0],\"xaxis\":\"x\",\"y\":[703906.850890095,5038937.918594609,5764228.605167707,6721848.1817877805,18792532.994304307,20761016.42284554],\"yaxis\":\"y\",\"type\":\"scatter\"},{\"customdata\":[[\"Taiwan\"],[\"Malta\"],[\"Russia\"],[\"Switzerland\"],[\"Canada\"],[\"Ireland\"],[\"Norway\"],[\"Brazil\"],[\"Italy\"],[\"Luxembourg\"],[\"Slovenia\"],[\"Netherlands\"],[\"Romania\"],[\"United States\"],[\"Belgium\"],[\"Latvia\"],[\"Spain\"],[\"Denmark\"],[\"Czech Republic\"],[\"Greece\"],[\"United Kingdom\"],[\"Japan\"],[\"Poland\"],[\"Slovakia\"],[\"Croatia\"],[\"Lithuania\"],[\"Hungary\"],[\"RoW America\"],[\"China\"],[\"Cyprus\"],[\"Austria\"],[\"Portugal\"],[\"RoW Middle East\"],[\"Germany\"],[\"RoW Asia and Pacific\"],[\"Finland\"],[\"Australia\"],[\"Bulgaria\"],[\"Sweden\"],[\"Estonia\"],[\"RoW Africa\"],[\"RoW Europe\"],[\"Turkey\"],[\"Mexico\"]],\"hovertemplate\":\"sector=Landfill<br>fraction of sum of quantity=%{x}<br>emissivity=%{y}<br>region=%{customdata[0]}<extra></extra>\",\"legendgroup\":\"Landfill\",\"line\":{\"dash\":\"solid\",\"shape\":\"hv\"},\"marker\":{\"color\":\"#FF97FF\",\"symbol\":\"circle\"},\"mode\":\"lines\",\"name\":\"Landfill\",\"orientation\":\"h\",\"showlegend\":true,\"x\":[0.002983406343157007,0.009762352408752268,0.06148799896735641,0.08649141220555306,0.11190687191537523,0.15337468455656078,0.16893170767830681,0.1715893667316819,0.20918089594842443,0.21473911295127143,0.21531371197618057,0.2650732468652464,0.2706472797153839,0.3095524132327081,0.35540481755922376,0.35759540689098596,0.37575412793399776,0.3860941496648943,0.40452387038039034,0.41241563307368817,0.46060884575912747,0.4717131069126636,0.5125628266066748,0.5191956696902117,0.5269360771619346,0.5287551900873776,0.5388307877817545,0.6152161092643454,0.6252321612894849,0.633974242894177,0.6365603146909119,0.6569876943023687,0.6988720613607347,0.7288791214163178,0.8679728555581768,0.9097312105993772,0.927781247317912,0.9298850914427572,0.9567365085572532,0.9597027932066816,0.9917254722497524,0.9989310484273319,0.9995113990494789,0.9999999999999999],\"xaxis\":\"x\",\"y\":[843763.9399012699,1345912.556426394,1539456.6120177,1809987.488084922,1832094.450535486,1970142.84602692,2006362.55182528,2231904.178756595,2440649.3505304004,2806073.2896482497,2902431.5525502097,2927548.2028919696,3269525.25048947,3565131.4857435296,3738062.34944927,4087919.5165081997,4596539.61171504,4629661.92411959,4805204.94843267,5188476.707284871,5559632.120474061,5813811.9957122905,5903545.253020311,6505138.297839501,7591611.2609745,7698659.25527041,9553534.551543871,9769927.33250861,10158709.20791701,11219604.181417847,11516061.99819904,12006954.212968431,12871363.309022179,13858914.64246397,15446563.461235022,16124552.78357315,18337544.04529447,19410398.45950872,23319056.772603612,28177893.373622023,37074798.82416923,44439241.30482638,62042346.81692025,153655935.36280772],\"yaxis\":\"y\",\"type\":\"scatter\"},{\"customdata\":[[\"Ireland\"],[\"Finland\"],[\"Sweden\"],[\"Switzerland\"],[\"United Kingdom\"],[\"Austria\"],[\"Italy\"],[\"Netherlands\"],[\"Denmark\"],[\"Slovenia\"],[\"Germany\"],[\"Hungary\"],[\"Spain\"],[\"Belgium\"],[\"Estonia\"],[\"Norway\"],[\"Romania\"],[\"United States\"],[\"Australia\"],[\"Croatia\"],[\"Latvia\"],[\"Poland\"],[\"Slovakia\"],[\"Czech Republic\"],[\"Greece\"],[\"Bulgaria\"],[\"RoW America\"],[\"South Korea\"],[\"Lithuania\"],[\"South Africa\"],[\"Russia\"],[\"Portugal\"],[\"Canada\"],[\"Mexico\"],[\"Taiwan\"],[\"RoW Middle East\"],[\"Luxembourg\"],[\"Brazil\"],[\"RoW Africa\"],[\"Japan\"],[\"India\"],[\"RoW Europe\"],[\"Indonesia\"],[\"China\"],[\"RoW Asia and Pacific\"],[\"Turkey\"]],\"hovertemplate\":\"sector=Primary_Cement_lime_plaster<br>fraction of sum of quantity=%{x}<br>emissivity=%{y}<br>region=%{customdata[0]}<extra></extra>\",\"legendgroup\":\"Primary_Cement_lime_plaster\",\"line\":{\"dash\":\"solid\",\"shape\":\"hv\"},\"marker\":{\"color\":\"#FECB52\",\"symbol\":\"circle\"},\"mode\":\"lines\",\"name\":\"Primary_Cement_lime_plaster\",\"orientation\":\"h\",\"showlegend\":true,\"x\":[0.0009390287481607022,0.002120825049019586,0.0022272760532380574,0.006519182162293594,0.034455696914423004,0.03710973640527942,0.1398322818344188,0.16958226349588593,0.17991209408519107,0.1816358891023892,0.34693067467817146,0.34793483639644196,0.5235782969358126,0.7234511334022644,0.7263230424107846,0.7263355963866571,0.7337055474387044,0.7426145070846204,0.742769134661933,0.7440052962515198,0.7448757780345467,0.7613824184338442,0.7624139555635563,0.7683634541799182,0.7751279179381315,0.7754841612781481,0.8093791566197895,0.8094108615307829,0.8113256195764554,0.8114729587963763,0.811483703756646,0.830991291192123,0.8311151655113999,0.8314660782768418,0.8358766784310887,0.8557006549737008,0.9041871154781084,0.9042153321718125,0.9125205965018901,0.9125798372241295,0.9128565379119842,0.9133419246202689,0.9141847458767957,0.9407095185138078,0.9990039813753814,0.9999999999999997],\"xaxis\":\"x\",\"y\":[910802.21503566,995856.01248239,1103632.51995116,1115420.1669290802,1253553.4538528498,1270348.137921,1352241.8424898998,1354443.6951552199,1367176.363292922,1668837.3638827,1827383.65451604,1856447.8461009997,1860812.94718579,1871864.76572439,1918419.9400038102,2109866.6851022397,2142624.0448138104,2158384.7664734903,2161029.6569214757,2554643.0093440902,2645568.9955737703,2779671.5774271796,2850484.9593373802,3905551.15940347,4188953.4111171705,4244409.694456389,4245039.816711225,4668828.0676910505,5023721.25886516,5232541.301507996,5295640.5659483895,5349152.89807556,6468707.882355827,6559970.838967552,6745428.4039695,7420765.116139839,7795776.59291454,8496465.751201978,8952391.13673016,11627843.92912357,12066621.387290778,13245046.868710078,13810253.926672371,14882819.137282101,16570156.781483501,21325930.403380543],\"yaxis\":\"y\",\"type\":\"scatter\"}],                        {\"template\":{\"data\":{\"histogram2dcontour\":[{\"type\":\"histogram2dcontour\",\"colorbar\":{\"outlinewidth\":0,\"ticks\":\"\"},\"colorscale\":[[0.0,\"#0d0887\"],[0.1111111111111111,\"#46039f\"],[0.2222222222222222,\"#7201a8\"],[0.3333333333333333,\"#9c179e\"],[0.4444444444444444,\"#bd3786\"],[0.5555555555555556,\"#d8576b\"],[0.6666666666666666,\"#ed7953\"],[0.7777777777777778,\"#fb9f3a\"],[0.8888888888888888,\"#fdca26\"],[1.0,\"#f0f921\"]]}],\"choropleth\":[{\"type\":\"choropleth\",\"colorbar\":{\"outlinewidth\":0,\"ticks\":\"\"}}],\"histogram2d\":[{\"type\":\"histogram2d\",\"colorbar\":{\"outlinewidth\":0,\"ticks\":\"\"},\"colorscale\":[[0.0,\"#0d0887\"],[0.1111111111111111,\"#46039f\"],[0.2222222222222222,\"#7201a8\"],[0.3333333333333333,\"#9c179e\"],[0.4444444444444444,\"#bd3786\"],[0.5555555555555556,\"#d8576b\"],[0.6666666666666666,\"#ed7953\"],[0.7777777777777778,\"#fb9f3a\"],[0.8888888888888888,\"#fdca26\"],[1.0,\"#f0f921\"]]}],\"heatmap\":[{\"type\":\"heatmap\",\"colorbar\":{\"outlinewidth\":0,\"ticks\":\"\"},\"colorscale\":[[0.0,\"#0d0887\"],[0.1111111111111111,\"#46039f\"],[0.2222222222222222,\"#7201a8\"],[0.3333333333333333,\"#9c179e\"],[0.4444444444444444,\"#bd3786\"],[0.5555555555555556,\"#d8576b\"],[0.6666666666666666,\"#ed7953\"],[0.7777777777777778,\"#fb9f3a\"],[0.8888888888888888,\"#fdca26\"],[1.0,\"#f0f921\"]]}],\"heatmapgl\":[{\"type\":\"heatmapgl\",\"colorbar\":{\"outlinewidth\":0,\"ticks\":\"\"},\"colorscale\":[[0.0,\"#0d0887\"],[0.1111111111111111,\"#46039f\"],[0.2222222222222222,\"#7201a8\"],[0.3333333333333333,\"#9c179e\"],[0.4444444444444444,\"#bd3786\"],[0.5555555555555556,\"#d8576b\"],[0.6666666666666666,\"#ed7953\"],[0.7777777777777778,\"#fb9f3a\"],[0.8888888888888888,\"#fdca26\"],[1.0,\"#f0f921\"]]}],\"contourcarpet\":[{\"type\":\"contourcarpet\",\"colorbar\":{\"outlinewidth\":0,\"ticks\":\"\"}}],\"contour\":[{\"type\":\"contour\",\"colorbar\":{\"outlinewidth\":0,\"ticks\":\"\"},\"colorscale\":[[0.0,\"#0d0887\"],[0.1111111111111111,\"#46039f\"],[0.2222222222222222,\"#7201a8\"],[0.3333333333333333,\"#9c179e\"],[0.4444444444444444,\"#bd3786\"],[0.5555555555555556,\"#d8576b\"],[0.6666666666666666,\"#ed7953\"],[0.7777777777777778,\"#fb9f3a\"],[0.8888888888888888,\"#fdca26\"],[1.0,\"#f0f921\"]]}],\"surface\":[{\"type\":\"surface\",\"colorbar\":{\"outlinewidth\":0,\"ticks\":\"\"},\"colorscale\":[[0.0,\"#0d0887\"],[0.1111111111111111,\"#46039f\"],[0.2222222222222222,\"#7201a8\"],[0.3333333333333333,\"#9c179e\"],[0.4444444444444444,\"#bd3786\"],[0.5555555555555556,\"#d8576b\"],[0.6666666666666666,\"#ed7953\"],[0.7777777777777778,\"#fb9f3a\"],[0.8888888888888888,\"#fdca26\"],[1.0,\"#f0f921\"]]}],\"mesh3d\":[{\"type\":\"mesh3d\",\"colorbar\":{\"outlinewidth\":0,\"ticks\":\"\"}}],\"scatter\":[{\"fillpattern\":{\"fillmode\":\"overlay\",\"size\":10,\"solidity\":0.2},\"type\":\"scatter\"}],\"parcoords\":[{\"type\":\"parcoords\",\"line\":{\"colorbar\":{\"outlinewidth\":0,\"ticks\":\"\"}}}],\"scatterpolargl\":[{\"type\":\"scatterpolargl\",\"marker\":{\"colorbar\":{\"outlinewidth\":0,\"ticks\":\"\"}}}],\"bar\":[{\"error_x\":{\"color\":\"#2a3f5f\"},\"error_y\":{\"color\":\"#2a3f5f\"},\"marker\":{\"line\":{\"color\":\"#E5ECF6\",\"width\":0.5},\"pattern\":{\"fillmode\":\"overlay\",\"size\":10,\"solidity\":0.2}},\"type\":\"bar\"}],\"scattergeo\":[{\"type\":\"scattergeo\",\"marker\":{\"colorbar\":{\"outlinewidth\":0,\"ticks\":\"\"}}}],\"scatterpolar\":[{\"type\":\"scatterpolar\",\"marker\":{\"colorbar\":{\"outlinewidth\":0,\"ticks\":\"\"}}}],\"histogram\":[{\"marker\":{\"pattern\":{\"fillmode\":\"overlay\",\"size\":10,\"solidity\":0.2}},\"type\":\"histogram\"}],\"scattergl\":[{\"type\":\"scattergl\",\"marker\":{\"colorbar\":{\"outlinewidth\":0,\"ticks\":\"\"}}}],\"scatter3d\":[{\"type\":\"scatter3d\",\"line\":{\"colorbar\":{\"outlinewidth\":0,\"ticks\":\"\"}},\"marker\":{\"colorbar\":{\"outlinewidth\":0,\"ticks\":\"\"}}}],\"scattermapbox\":[{\"type\":\"scattermapbox\",\"marker\":{\"colorbar\":{\"outlinewidth\":0,\"ticks\":\"\"}}}],\"scatterternary\":[{\"type\":\"scatterternary\",\"marker\":{\"colorbar\":{\"outlinewidth\":0,\"ticks\":\"\"}}}],\"scattercarpet\":[{\"type\":\"scattercarpet\",\"marker\":{\"colorbar\":{\"outlinewidth\":0,\"ticks\":\"\"}}}],\"carpet\":[{\"aaxis\":{\"endlinecolor\":\"#2a3f5f\",\"gridcolor\":\"white\",\"linecolor\":\"white\",\"minorgridcolor\":\"white\",\"startlinecolor\":\"#2a3f5f\"},\"baxis\":{\"endlinecolor\":\"#2a3f5f\",\"gridcolor\":\"white\",\"linecolor\":\"white\",\"minorgridcolor\":\"white\",\"startlinecolor\":\"#2a3f5f\"},\"type\":\"carpet\"}],\"table\":[{\"cells\":{\"fill\":{\"color\":\"#EBF0F8\"},\"line\":{\"color\":\"white\"}},\"header\":{\"fill\":{\"color\":\"#C8D4E3\"},\"line\":{\"color\":\"white\"}},\"type\":\"table\"}],\"barpolar\":[{\"marker\":{\"line\":{\"color\":\"#E5ECF6\",\"width\":0.5},\"pattern\":{\"fillmode\":\"overlay\",\"size\":10,\"solidity\":0.2}},\"type\":\"barpolar\"}],\"pie\":[{\"automargin\":true,\"type\":\"pie\"}]},\"layout\":{\"autotypenumbers\":\"strict\",\"colorway\":[\"#636efa\",\"#EF553B\",\"#00cc96\",\"#ab63fa\",\"#FFA15A\",\"#19d3f3\",\"#FF6692\",\"#B6E880\",\"#FF97FF\",\"#FECB52\"],\"font\":{\"color\":\"#2a3f5f\"},\"hovermode\":\"closest\",\"hoverlabel\":{\"align\":\"left\"},\"paper_bgcolor\":\"white\",\"plot_bgcolor\":\"#E5ECF6\",\"polar\":{\"bgcolor\":\"#E5ECF6\",\"angularaxis\":{\"gridcolor\":\"white\",\"linecolor\":\"white\",\"ticks\":\"\"},\"radialaxis\":{\"gridcolor\":\"white\",\"linecolor\":\"white\",\"ticks\":\"\"}},\"ternary\":{\"bgcolor\":\"#E5ECF6\",\"aaxis\":{\"gridcolor\":\"white\",\"linecolor\":\"white\",\"ticks\":\"\"},\"baxis\":{\"gridcolor\":\"white\",\"linecolor\":\"white\",\"ticks\":\"\"},\"caxis\":{\"gridcolor\":\"white\",\"linecolor\":\"white\",\"ticks\":\"\"}},\"coloraxis\":{\"colorbar\":{\"outlinewidth\":0,\"ticks\":\"\"}},\"colorscale\":{\"sequential\":[[0.0,\"#0d0887\"],[0.1111111111111111,\"#46039f\"],[0.2222222222222222,\"#7201a8\"],[0.3333333333333333,\"#9c179e\"],[0.4444444444444444,\"#bd3786\"],[0.5555555555555556,\"#d8576b\"],[0.6666666666666666,\"#ed7953\"],[0.7777777777777778,\"#fb9f3a\"],[0.8888888888888888,\"#fdca26\"],[1.0,\"#f0f921\"]],\"sequentialminus\":[[0.0,\"#0d0887\"],[0.1111111111111111,\"#46039f\"],[0.2222222222222222,\"#7201a8\"],[0.3333333333333333,\"#9c179e\"],[0.4444444444444444,\"#bd3786\"],[0.5555555555555556,\"#d8576b\"],[0.6666666666666666,\"#ed7953\"],[0.7777777777777778,\"#fb9f3a\"],[0.8888888888888888,\"#fdca26\"],[1.0,\"#f0f921\"]],\"diverging\":[[0,\"#8e0152\"],[0.1,\"#c51b7d\"],[0.2,\"#de77ae\"],[0.3,\"#f1b6da\"],[0.4,\"#fde0ef\"],[0.5,\"#f7f7f7\"],[0.6,\"#e6f5d0\"],[0.7,\"#b8e186\"],[0.8,\"#7fbc41\"],[0.9,\"#4d9221\"],[1,\"#276419\"]]},\"xaxis\":{\"gridcolor\":\"white\",\"linecolor\":\"white\",\"ticks\":\"\",\"title\":{\"standoff\":15},\"zerolinecolor\":\"white\",\"automargin\":true,\"zerolinewidth\":2},\"yaxis\":{\"gridcolor\":\"white\",\"linecolor\":\"white\",\"ticks\":\"\",\"title\":{\"standoff\":15},\"zerolinecolor\":\"white\",\"automargin\":true,\"zerolinewidth\":2},\"scene\":{\"xaxis\":{\"backgroundcolor\":\"#E5ECF6\",\"gridcolor\":\"white\",\"linecolor\":\"white\",\"showbackground\":true,\"ticks\":\"\",\"zerolinecolor\":\"white\",\"gridwidth\":2},\"yaxis\":{\"backgroundcolor\":\"#E5ECF6\",\"gridcolor\":\"white\",\"linecolor\":\"white\",\"showbackground\":true,\"ticks\":\"\",\"zerolinecolor\":\"white\",\"gridwidth\":2},\"zaxis\":{\"backgroundcolor\":\"#E5ECF6\",\"gridcolor\":\"white\",\"linecolor\":\"white\",\"showbackground\":true,\"ticks\":\"\",\"zerolinecolor\":\"white\",\"gridwidth\":2}},\"shapedefaults\":{\"line\":{\"color\":\"#2a3f5f\"}},\"annotationdefaults\":{\"arrowcolor\":\"#2a3f5f\",\"arrowhead\":0,\"arrowwidth\":1},\"geo\":{\"bgcolor\":\"white\",\"landcolor\":\"#E5ECF6\",\"subunitcolor\":\"white\",\"showland\":true,\"showlakes\":true,\"lakecolor\":\"white\"},\"title\":{\"x\":0.05},\"mapbox\":{\"style\":\"light\"}}},\"xaxis\":{\"anchor\":\"y\",\"domain\":[0.0,1.0],\"title\":{\"text\":\"fraction of sum of quantity\"},\"rangemode\":\"tozero\"},\"yaxis\":{\"anchor\":\"x\",\"domain\":[0.0,1.0],\"title\":{\"text\":\"emissivity\"},\"type\":\"log\"},\"legend\":{\"title\":{\"text\":\"sector\"},\"tracegroupgap\":0},\"margin\":{\"t\":60}},                        {\"responsive\": true}                    ).then(function(){\n",
       "                            \n",
       "var gd = document.getElementById('0909b4d9-43f1-4a04-b9f7-4d0961a49bf8');\n",
       "var x = new MutationObserver(function (mutations, observer) {{\n",
       "        var display = window.getComputedStyle(gd).display;\n",
       "        if (!display || display === 'none') {{\n",
       "            console.log([gd, 'removed!']);\n",
       "            Plotly.purge(gd);\n",
       "            observer.disconnect();\n",
       "        }}\n",
       "}});\n",
       "\n",
       "// Listen for the removal of the full notebook cells\n",
       "var notebookContainer = gd.closest('#notebook-container');\n",
       "if (notebookContainer) {{\n",
       "    x.observe(notebookContainer, {childList: true});\n",
       "}}\n",
       "\n",
       "// Listen for the clearing of the current output cell\n",
       "var outputEl = gd.closest('.output');\n",
       "if (outputEl) {{\n",
       "    x.observe(outputEl, {childList: true});\n",
       "}}\n",
       "\n",
       "                        })                };                });            </script>        </div>"
      ]
     },
     "metadata": {},
     "output_type": "display_data"
    }
   ],
   "source": [
    "import plotly.express as px\n",
    "emissiv_df=pd.DataFrame([model.iot.stressor_extension.M.sum(),get_total_imports_region(model.iot,\"FR\")],index=[\"emissivity\",\"quantity\"]).T\n",
    "emissiv_df_sorted=emissiv_df.sort_values(by=\"emissivity\")\n",
    "sector_needed_emssiv=emissiv_df_sorted.loc[emissiv_df_sorted.index.get_level_values(\"sector\").isin(SECTORS.to_list())].reset_index()\n",
    "\n",
    "sector_needed_emssiv=sector_needed_emssiv.drop(index=sector_needed_emssiv.loc[sector_needed_emssiv[\"quantity\"]==0].index)\n",
    "\n",
    "fig=px.ecdf(sector_needed_emssiv,y=\"emissivity\",color=\"sector\",x=\"quantity\",orientation=\"h\",log_y=True,hover_data=[\"region\",\"emissivity\",\"quantity\"])\n",
    "\n",
    "fig.show()"
   ]
  },
  {
   "cell_type": "code",
   "execution_count": 117,
   "metadata": {},
   "outputs": [
    {
     "data": {
      "text/plain": [
       "sector\n",
       "Air_transport                   8935.520336\n",
       "Aluminium_ores                    96.340709\n",
       "Animal_Products                 7160.096088\n",
       "Biofuels                          17.019586\n",
       "Biogas                             0.111627\n",
       "                                   ...     \n",
       "Vegetables, fruit, nuts         6947.430017\n",
       "Water_Other_waste_Treatment      340.598394\n",
       "Water_transport                18076.143973\n",
       "Wheat                            213.418065\n",
       "Wood_Waste_incineration           39.089024\n",
       "Name: quantity, Length: 87, dtype: float64"
      ]
     },
     "execution_count": 117,
     "metadata": {},
     "output_type": "execute_result"
    }
   ],
   "source": [
    "emissiv_df[\"quantity\"].groupby(\"sector\").sum()"
   ]
  },
  {
   "attachments": {},
   "cell_type": "markdown",
   "metadata": {},
   "source": [
    "### Plot footprint of scenarios"
   ]
  },
  {
   "cell_type": "code",
   "execution_count": 6,
   "metadata": {},
   "outputs": [
    {
     "data": {
      "text/plain": [
       "<AxesSubplot:>"
      ]
     },
     "execution_count": 6,
     "metadata": {},
     "output_type": "execute_result"
    },
    {
     "data": {
      "image/png": "[encoded data removed]",
      "text/plain": [
       "<Figure size 640x480 with 1 Axes>"
      ]
     },
     "metadata": {},
     "output_type": "display_data"
    }
   ],
   "source": [
    "\n",
    "pd.concat([pd.Series(footprint_extractor(model.counterfactuals[counterfactual],\"FR\")) for counterfactual in model.get_counterfactuals_list() if counterfactual!='IMACLIM_all_prod_change_2050_INDC'],axis=1,keys=model.get_counterfactuals_list()).T.plot(kind=\"bar\",stacked=True)\n",
    "\n"
   ]
  },
  {
   "cell_type": "code",
   "execution_count": null,
   "metadata": {},
   "outputs": [],
   "source": []
  },
  {
   "cell_type": "markdown",
   "metadata": {},
   "source": [
    "### Sensitivity analysis of CoefRow change based on final demands "
   ]
  },
  {
   "cell_type": "code",
   "execution_count": 65,
   "metadata": {},
   "outputs": [
    {
     "name": "stderr",
     "output_type": "stream",
     "text": [
      "100%|██████████| 3773/3773 [21:02<00:00,  2.99it/s]\n"
     ]
    }
   ],
   "source": [
    "iot=model.counterfactuals[\"IMACLIM_emissi_2050_INDC2030_1000\"].iot\n",
    "CoefRoW=get_import_mean_stressor(iot,\"FR\")\n",
    "temp_iot=iot.copy()\n",
    "res=[]\n",
    "for index in tqdm.tqdm(iot.Y.index):\n",
    "    temp_Y=iot.Y.copy()\n",
    "    temp_Y.loc[index,(\"United States\",\"Final consumption expenditure by households\")]+=temp_Y.loc[index].sum()*1\n",
    "    temp_iot.reset_to_coefficients()\n",
    "    temp_iot.Y=temp_Y\n",
    "    temp_iot.calc_all()\n",
    "    res.append(((get_import_mean_stressor(temp_iot,\"FR\")-CoefRoW)/CoefRoW))\n",
    "    "
   ]
  },
  {
   "cell_type": "code",
   "execution_count": 66,
   "metadata": {},
   "outputs": [
    {
     "data": {
      "text/html": [
       "<div>\n",
       "<style scoped>\n",
       "    .dataframe tbody tr th:only-of-type {\n",
       "        vertical-align: middle;\n",
       "    }\n",
       "\n",
       "    .dataframe tbody tr th {\n",
       "        vertical-align: top;\n",
       "    }\n",
       "\n",
       "    .dataframe thead th {\n",
       "        text-align: right;\n",
       "    }\n",
       "</style>\n",
       "<table border=\"1\" class=\"dataframe\">\n",
       "  <thead>\n",
       "    <tr style=\"text-align: right;\">\n",
       "      <th>sector</th>\n",
       "      <th>Air_transport</th>\n",
       "      <th>Aluminium_ores</th>\n",
       "      <th>Animal_Products</th>\n",
       "      <th>Biofuels</th>\n",
       "      <th>Biogas</th>\n",
       "      <th>Chemicals</th>\n",
       "      <th>Clothing_Industry</th>\n",
       "      <th>Coal</th>\n",
       "      <th>Coal-fired_electricity</th>\n",
       "      <th>Computers_communication_equipments</th>\n",
       "      <th>...</th>\n",
       "      <th>Secondary_Other_metals</th>\n",
       "      <th>Secondary_Plastics</th>\n",
       "      <th>Secondary_Pulp_and_paper</th>\n",
       "      <th>Secondary_Steel_iron</th>\n",
       "      <th>Secondary_Wood</th>\n",
       "      <th>Stone</th>\n",
       "      <th>Vegetable_Products</th>\n",
       "      <th>Water_Other_waste_Treatment</th>\n",
       "      <th>Water_transport</th>\n",
       "      <th>Wood_Waste_incineration</th>\n",
       "    </tr>\n",
       "  </thead>\n",
       "  <tbody>\n",
       "    <tr>\n",
       "      <th>with FR</th>\n",
       "      <td>3.531583e-16</td>\n",
       "      <td>1.544184e-14</td>\n",
       "      <td>0.003664</td>\n",
       "      <td>0.000689</td>\n",
       "      <td>2.580279e-14</td>\n",
       "      <td>0.001889</td>\n",
       "      <td>0.004631</td>\n",
       "      <td>0.031327</td>\n",
       "      <td>2.297564e-16</td>\n",
       "      <td>0.00024</td>\n",
       "      <td>...</td>\n",
       "      <td>NaN</td>\n",
       "      <td>NaN</td>\n",
       "      <td>NaN</td>\n",
       "      <td>NaN</td>\n",
       "      <td>NaN</td>\n",
       "      <td>2.307280e-14</td>\n",
       "      <td>0.005223</td>\n",
       "      <td>0.000021</td>\n",
       "      <td>0.000085</td>\n",
       "      <td>9.326421e-15</td>\n",
       "    </tr>\n",
       "    <tr>\n",
       "      <th>without FR</th>\n",
       "      <td>3.531583e-16</td>\n",
       "      <td>2.394083e-16</td>\n",
       "      <td>0.000175</td>\n",
       "      <td>0.000076</td>\n",
       "      <td>3.794528e-16</td>\n",
       "      <td>0.000051</td>\n",
       "      <td>0.000147</td>\n",
       "      <td>0.000190</td>\n",
       "      <td>2.297564e-16</td>\n",
       "      <td>0.00001</td>\n",
       "      <td>...</td>\n",
       "      <td>0.0</td>\n",
       "      <td>0.0</td>\n",
       "      <td>0.0</td>\n",
       "      <td>0.0</td>\n",
       "      <td>0.0</td>\n",
       "      <td>6.469008e-16</td>\n",
       "      <td>0.000254</td>\n",
       "      <td>0.000001</td>\n",
       "      <td>0.000002</td>\n",
       "      <td>4.974091e-16</td>\n",
       "    </tr>\n",
       "  </tbody>\n",
       "</table>\n",
       "<p>2 rows × 77 columns</p>\n",
       "</div>"
      ],
      "text/plain": [
       "sector      Air_transport  Aluminium_ores  Animal_Products  Biofuels  \\\n",
       "with FR      3.531583e-16    1.544184e-14         0.003664  0.000689   \n",
       "without FR   3.531583e-16    2.394083e-16         0.000175  0.000076   \n",
       "\n",
       "sector            Biogas  Chemicals  Clothing_Industry      Coal  \\\n",
       "with FR     2.580279e-14   0.001889           0.004631  0.031327   \n",
       "without FR  3.794528e-16   0.000051           0.000147  0.000190   \n",
       "\n",
       "sector      Coal-fired_electricity  Computers_communication_equipments  ...  \\\n",
       "with FR               2.297564e-16                             0.00024  ...   \n",
       "without FR            2.297564e-16                             0.00001  ...   \n",
       "\n",
       "sector      Secondary_Other_metals  Secondary_Plastics  \\\n",
       "with FR                        NaN                 NaN   \n",
       "without FR                     0.0                 0.0   \n",
       "\n",
       "sector      Secondary_Pulp_and_paper  Secondary_Steel_iron  Secondary_Wood  \\\n",
       "with FR                          NaN                   NaN             NaN   \n",
       "without FR                       0.0                   0.0             0.0   \n",
       "\n",
       "sector             Stone  Vegetable_Products  Water_Other_waste_Treatment  \\\n",
       "with FR     2.307280e-14            0.005223                     0.000021   \n",
       "without FR  6.469008e-16            0.000254                     0.000001   \n",
       "\n",
       "sector      Water_transport  Wood_Waste_incineration  \n",
       "with FR            0.000085             9.326421e-15  \n",
       "without FR         0.000002             4.974091e-16  \n",
       "\n",
       "[2 rows x 77 columns]"
      ]
     },
     "execution_count": 66,
     "metadata": {},
     "output_type": "execute_result"
    }
   ],
   "source": [
    "res_df=pd.DataFrame(res,index=iot.Y.index)\n",
    "res_df_fr=res_df.copy()\n",
    "res_df_fr.loc[\"FR\"]=0\n",
    "pd.DataFrame([res_df.max(axis=0).loc[\"CO2\"],res_df_fr.max(axis=0).loc[\"CO2\"]],index=[\"with FR\",\"without FR\"])\n"
   ]
  },
  {
   "cell_type": "code",
   "execution_count": 68,
   "metadata": {},
   "outputs": [
    {
     "data": {
      "text/plain": [
       "with FR       0.031327\n",
       "without FR    0.000523\n",
       "dtype: float64"
      ]
     },
     "execution_count": 68,
     "metadata": {},
     "output_type": "execute_result"
    }
   ],
   "source": [
    "pd.DataFrame([res_df.max(axis=0).loc[\"CO2\"],res_df_fr.max(axis=0).loc[\"CO2\"]],index=[\"with FR\",\"without FR\"]).max(axis=1)\n"
   ]
  },
  {
   "cell_type": "code",
   "execution_count": 10,
   "metadata": {},
   "outputs": [
    {
     "data": {
      "text/html": [
       "<div>\n",
       "<style scoped>\n",
       "    .dataframe tbody tr th:only-of-type {\n",
       "        vertical-align: middle;\n",
       "    }\n",
       "\n",
       "    .dataframe tbody tr th {\n",
       "        vertical-align: top;\n",
       "    }\n",
       "\n",
       "    .dataframe thead tr th {\n",
       "        text-align: left;\n",
       "    }\n",
       "</style>\n",
       "<table border=\"1\" class=\"dataframe\">\n",
       "  <thead>\n",
       "    <tr>\n",
       "      <th>region</th>\n",
       "      <th colspan=\"10\" halign=\"left\">Austria</th>\n",
       "      <th>...</th>\n",
       "      <th colspan=\"10\" halign=\"left\">RoW Middle East</th>\n",
       "    </tr>\n",
       "    <tr>\n",
       "      <th>sector</th>\n",
       "      <th>Paddy rice</th>\n",
       "      <th>Wheat</th>\n",
       "      <th>Cereal grains nec</th>\n",
       "      <th>Vegetables, fruit, nuts</th>\n",
       "      <th>Oil seeds</th>\n",
       "      <th>Sugar cane, sugar beet</th>\n",
       "      <th>Plant-based fibers</th>\n",
       "      <th>Crops nec</th>\n",
       "      <th>Farm_animals</th>\n",
       "      <th>Forestry</th>\n",
       "      <th>...</th>\n",
       "      <th>Air_transport</th>\n",
       "      <th>Wood_Waste_incineration</th>\n",
       "      <th>Other_Waste_incineration</th>\n",
       "      <th>Landfill</th>\n",
       "      <th>Water_Other_waste_Treatment</th>\n",
       "      <th>Real estate</th>\n",
       "      <th>Hotel_Restaurant</th>\n",
       "      <th>Commerce</th>\n",
       "      <th>Other_Business_Services</th>\n",
       "      <th>Public_Services</th>\n",
       "    </tr>\n",
       "  </thead>\n",
       "  <tbody>\n",
       "    <tr>\n",
       "      <th>CO2</th>\n",
       "      <td>0.0</td>\n",
       "      <td>832099.331411</td>\n",
       "      <td>416392.789571</td>\n",
       "      <td>156723.516872</td>\n",
       "      <td>387412.916063</td>\n",
       "      <td>263944.616931</td>\n",
       "      <td>41608.651565</td>\n",
       "      <td>256506.989563</td>\n",
       "      <td>3.316405e+05</td>\n",
       "      <td>159999.179550</td>\n",
       "      <td>...</td>\n",
       "      <td>2.739039e+06</td>\n",
       "      <td>1.184395e+06</td>\n",
       "      <td>1.131557e+06</td>\n",
       "      <td>1.004687e+06</td>\n",
       "      <td>834370.076256</td>\n",
       "      <td>379805.263212</td>\n",
       "      <td>296990.100117</td>\n",
       "      <td>228157.219883</td>\n",
       "      <td>585940.780799</td>\n",
       "      <td>374894.070844</td>\n",
       "    </tr>\n",
       "    <tr>\n",
       "      <th>CH4</th>\n",
       "      <td>0.0</td>\n",
       "      <td>47196.876775</td>\n",
       "      <td>41244.061166</td>\n",
       "      <td>18550.084641</td>\n",
       "      <td>24727.841789</td>\n",
       "      <td>25513.060412</td>\n",
       "      <td>2766.729734</td>\n",
       "      <td>56392.793123</td>\n",
       "      <td>1.972513e+06</td>\n",
       "      <td>30392.758278</td>\n",
       "      <td>...</td>\n",
       "      <td>6.219835e+04</td>\n",
       "      <td>3.206686e+05</td>\n",
       "      <td>3.684967e+05</td>\n",
       "      <td>1.174967e+07</td>\n",
       "      <td>411760.289959</td>\n",
       "      <td>57665.602009</td>\n",
       "      <td>89901.344198</td>\n",
       "      <td>37220.133608</td>\n",
       "      <td>74163.647856</td>\n",
       "      <td>84002.025300</td>\n",
       "    </tr>\n",
       "    <tr>\n",
       "      <th>N2O</th>\n",
       "      <td>0.0</td>\n",
       "      <td>850626.732098</td>\n",
       "      <td>544900.209090</td>\n",
       "      <td>71935.030775</td>\n",
       "      <td>852249.534107</td>\n",
       "      <td>603232.382821</td>\n",
       "      <td>300478.862143</td>\n",
       "      <td>167286.238994</td>\n",
       "      <td>5.302199e+05</td>\n",
       "      <td>17092.750347</td>\n",
       "      <td>...</td>\n",
       "      <td>4.406544e+04</td>\n",
       "      <td>7.396881e+04</td>\n",
       "      <td>6.699214e+04</td>\n",
       "      <td>5.355065e+04</td>\n",
       "      <td>33875.881506</td>\n",
       "      <td>10663.801456</td>\n",
       "      <td>31967.111474</td>\n",
       "      <td>6105.228739</td>\n",
       "      <td>15601.601916</td>\n",
       "      <td>15408.865705</td>\n",
       "    </tr>\n",
       "    <tr>\n",
       "      <th>SF6</th>\n",
       "      <td>0.0</td>\n",
       "      <td>3042.211396</td>\n",
       "      <td>2913.801145</td>\n",
       "      <td>1704.439422</td>\n",
       "      <td>1799.489659</td>\n",
       "      <td>15202.408341</td>\n",
       "      <td>98.381754</td>\n",
       "      <td>12416.242153</td>\n",
       "      <td>4.972533e+03</td>\n",
       "      <td>8709.950625</td>\n",
       "      <td>...</td>\n",
       "      <td>3.951672e+02</td>\n",
       "      <td>2.790932e+03</td>\n",
       "      <td>3.196961e+03</td>\n",
       "      <td>1.041698e+04</td>\n",
       "      <td>93803.077388</td>\n",
       "      <td>435.685397</td>\n",
       "      <td>418.115942</td>\n",
       "      <td>236.199430</td>\n",
       "      <td>384.556593</td>\n",
       "      <td>564.056340</td>\n",
       "    </tr>\n",
       "    <tr>\n",
       "      <th>HFC</th>\n",
       "      <td>0.0</td>\n",
       "      <td>79365.963693</td>\n",
       "      <td>78748.303333</td>\n",
       "      <td>36847.080534</td>\n",
       "      <td>38024.725776</td>\n",
       "      <td>506514.385324</td>\n",
       "      <td>793.335839</td>\n",
       "      <td>337902.499274</td>\n",
       "      <td>7.032755e+04</td>\n",
       "      <td>221995.605870</td>\n",
       "      <td>...</td>\n",
       "      <td>2.276876e+03</td>\n",
       "      <td>1.328547e+04</td>\n",
       "      <td>1.517944e+04</td>\n",
       "      <td>4.934033e+04</td>\n",
       "      <td>438418.362367</td>\n",
       "      <td>2285.104477</td>\n",
       "      <td>2434.526534</td>\n",
       "      <td>1299.855625</td>\n",
       "      <td>2114.784358</td>\n",
       "      <td>3547.997248</td>\n",
       "    </tr>\n",
       "    <tr>\n",
       "      <th>PFC</th>\n",
       "      <td>0.0</td>\n",
       "      <td>122561.918129</td>\n",
       "      <td>119471.166629</td>\n",
       "      <td>55356.575304</td>\n",
       "      <td>55767.799027</td>\n",
       "      <td>773345.494924</td>\n",
       "      <td>1025.391772</td>\n",
       "      <td>539137.191270</td>\n",
       "      <td>6.870564e+04</td>\n",
       "      <td>329175.784173</td>\n",
       "      <td>...</td>\n",
       "      <td>5.432513e+02</td>\n",
       "      <td>1.476781e+03</td>\n",
       "      <td>1.744967e+03</td>\n",
       "      <td>3.697796e+03</td>\n",
       "      <td>29741.345492</td>\n",
       "      <td>386.809151</td>\n",
       "      <td>332.055655</td>\n",
       "      <td>282.095841</td>\n",
       "      <td>420.623676</td>\n",
       "      <td>573.835864</td>\n",
       "    </tr>\n",
       "  </tbody>\n",
       "</table>\n",
       "<p>6 rows × 4263 columns</p>\n",
       "</div>"
      ],
      "text/plain": [
       "region    Austria                                                           \\\n",
       "sector Paddy rice          Wheat Cereal grains nec Vegetables, fruit, nuts   \n",
       "CO2           0.0  832099.331411     416392.789571           156723.516872   \n",
       "CH4           0.0   47196.876775      41244.061166            18550.084641   \n",
       "N2O           0.0  850626.732098     544900.209090            71935.030775   \n",
       "SF6           0.0    3042.211396       2913.801145             1704.439422   \n",
       "HFC           0.0   79365.963693      78748.303333            36847.080534   \n",
       "PFC           0.0  122561.918129     119471.166629            55356.575304   \n",
       "\n",
       "region                                                           \\\n",
       "sector      Oil seeds Sugar cane, sugar beet Plant-based fibers   \n",
       "CO2     387412.916063          263944.616931       41608.651565   \n",
       "CH4      24727.841789           25513.060412        2766.729734   \n",
       "N2O     852249.534107          603232.382821      300478.862143   \n",
       "SF6       1799.489659           15202.408341          98.381754   \n",
       "HFC      38024.725776          506514.385324         793.335839   \n",
       "PFC      55767.799027          773345.494924        1025.391772   \n",
       "\n",
       "region                                              ... RoW Middle East  \\\n",
       "sector      Crops nec  Farm_animals       Forestry  ...   Air_transport   \n",
       "CO2     256506.989563  3.316405e+05  159999.179550  ...    2.739039e+06   \n",
       "CH4      56392.793123  1.972513e+06   30392.758278  ...    6.219835e+04   \n",
       "N2O     167286.238994  5.302199e+05   17092.750347  ...    4.406544e+04   \n",
       "SF6      12416.242153  4.972533e+03    8709.950625  ...    3.951672e+02   \n",
       "HFC     337902.499274  7.032755e+04  221995.605870  ...    2.276876e+03   \n",
       "PFC     539137.191270  6.870564e+04  329175.784173  ...    5.432513e+02   \n",
       "\n",
       "region                                                                 \\\n",
       "sector Wood_Waste_incineration Other_Waste_incineration      Landfill   \n",
       "CO2               1.184395e+06             1.131557e+06  1.004687e+06   \n",
       "CH4               3.206686e+05             3.684967e+05  1.174967e+07   \n",
       "N2O               7.396881e+04             6.699214e+04  5.355065e+04   \n",
       "SF6               2.790932e+03             3.196961e+03  1.041698e+04   \n",
       "HFC               1.328547e+04             1.517944e+04  4.934033e+04   \n",
       "PFC               1.476781e+03             1.744967e+03  3.697796e+03   \n",
       "\n",
       "region                                                              \\\n",
       "sector Water_Other_waste_Treatment    Real estate Hotel_Restaurant   \n",
       "CO2                  834370.076256  379805.263212    296990.100117   \n",
       "CH4                  411760.289959   57665.602009     89901.344198   \n",
       "N2O                   33875.881506   10663.801456     31967.111474   \n",
       "SF6                   93803.077388     435.685397       418.115942   \n",
       "HFC                  438418.362367    2285.104477      2434.526534   \n",
       "PFC                   29741.345492     386.809151       332.055655   \n",
       "\n",
       "region                                                         \n",
       "sector       Commerce Other_Business_Services Public_Services  \n",
       "CO2     228157.219883           585940.780799   374894.070844  \n",
       "CH4      37220.133608            74163.647856    84002.025300  \n",
       "N2O       6105.228739            15601.601916    15408.865705  \n",
       "SF6        236.199430              384.556593      564.056340  \n",
       "HFC       1299.855625             2114.784358     3547.997248  \n",
       "PFC        282.095841              420.623676      573.835864  \n",
       "\n",
       "[6 rows x 4263 columns]"
      ]
     },
     "execution_count": 10,
     "metadata": {},
     "output_type": "execute_result"
    }
   ],
   "source": [
    "model.iot.stressor_extension.S@model.iot.L"
   ]
  },
  {
   "cell_type": "code",
   "execution_count": 70,
   "metadata": {},
   "outputs": [
    {
     "data": {
      "text/html": [
       "<div>\n",
       "<style scoped>\n",
       "    .dataframe tbody tr th:only-of-type {\n",
       "        vertical-align: middle;\n",
       "    }\n",
       "\n",
       "    .dataframe tbody tr th {\n",
       "        vertical-align: top;\n",
       "    }\n",
       "\n",
       "    .dataframe thead tr th {\n",
       "        text-align: left;\n",
       "    }\n",
       "</style>\n",
       "<table border=\"1\" class=\"dataframe\">\n",
       "  <thead>\n",
       "    <tr>\n",
       "      <th>region</th>\n",
       "      <th colspan=\"10\" halign=\"left\">Austria</th>\n",
       "      <th>...</th>\n",
       "      <th colspan=\"10\" halign=\"left\">RoW Middle East</th>\n",
       "    </tr>\n",
       "    <tr>\n",
       "      <th>sector</th>\n",
       "      <th>Paddy rice</th>\n",
       "      <th>Wheat</th>\n",
       "      <th>Cereal grains nec</th>\n",
       "      <th>Vegetables, fruit, nuts</th>\n",
       "      <th>Oil seeds</th>\n",
       "      <th>Sugar cane, sugar beet</th>\n",
       "      <th>Plant-based fibers</th>\n",
       "      <th>Crops nec</th>\n",
       "      <th>Farm_animals</th>\n",
       "      <th>Forestry</th>\n",
       "      <th>...</th>\n",
       "      <th>Air_transport</th>\n",
       "      <th>Wood_Waste_incineration</th>\n",
       "      <th>Other_Waste_incineration</th>\n",
       "      <th>Landfill</th>\n",
       "      <th>Water_Other_waste_Treatment</th>\n",
       "      <th>Real estate</th>\n",
       "      <th>Hotel_Restaurant</th>\n",
       "      <th>Commerce</th>\n",
       "      <th>Other_Business_Services</th>\n",
       "      <th>Public_Services</th>\n",
       "    </tr>\n",
       "  </thead>\n",
       "  <tbody>\n",
       "    <tr>\n",
       "      <th>CO2</th>\n",
       "      <td>0</td>\n",
       "      <td>268732.293190</td>\n",
       "      <td>120622.778922</td>\n",
       "      <td>25769.307953</td>\n",
       "      <td>122100.624709</td>\n",
       "      <td>65067.523654</td>\n",
       "      <td>10487.722403</td>\n",
       "      <td>-29420.233768</td>\n",
       "      <td>5.740863e+04</td>\n",
       "      <td>15540.836933</td>\n",
       "      <td>...</td>\n",
       "      <td>1.546197e+06</td>\n",
       "      <td>516475.223668</td>\n",
       "      <td>478843.461771</td>\n",
       "      <td>8.456410e+04</td>\n",
       "      <td>155498.363605</td>\n",
       "      <td>45101.324562</td>\n",
       "      <td>10894.629171</td>\n",
       "      <td>17786.873681</td>\n",
       "      <td>115180.944406</td>\n",
       "      <td>7518.328372</td>\n",
       "    </tr>\n",
       "    <tr>\n",
       "      <th>CH4</th>\n",
       "      <td>0</td>\n",
       "      <td>851.156700</td>\n",
       "      <td>519.465431</td>\n",
       "      <td>176.960741</td>\n",
       "      <td>758.976397</td>\n",
       "      <td>497.808857</td>\n",
       "      <td>82.585009</td>\n",
       "      <td>185.404804</td>\n",
       "      <td>1.864531e+06</td>\n",
       "      <td>1293.069099</td>\n",
       "      <td>...</td>\n",
       "      <td>1.533334e+02</td>\n",
       "      <td>71397.205813</td>\n",
       "      <td>60899.900635</td>\n",
       "      <td>1.132541e+07</td>\n",
       "      <td>22222.767272</td>\n",
       "      <td>5275.038535</td>\n",
       "      <td>6396.259402</td>\n",
       "      <td>4084.463636</td>\n",
       "      <td>11516.104753</td>\n",
       "      <td>1850.374092</td>\n",
       "    </tr>\n",
       "    <tr>\n",
       "      <th>N2O</th>\n",
       "      <td>0</td>\n",
       "      <td>817211.040789</td>\n",
       "      <td>533672.061525</td>\n",
       "      <td>62441.880373</td>\n",
       "      <td>845963.937891</td>\n",
       "      <td>569008.605306</td>\n",
       "      <td>299571.955486</td>\n",
       "      <td>159851.747572</td>\n",
       "      <td>4.683195e+05</td>\n",
       "      <td>8413.211575</td>\n",
       "      <td>...</td>\n",
       "      <td>3.220244e+04</td>\n",
       "      <td>51146.081403</td>\n",
       "      <td>43881.395180</td>\n",
       "      <td>1.182622e+04</td>\n",
       "      <td>14509.851237</td>\n",
       "      <td>961.216008</td>\n",
       "      <td>2267.409193</td>\n",
       "      <td>653.619990</td>\n",
       "      <td>2378.495123</td>\n",
       "      <td>200.919215</td>\n",
       "    </tr>\n",
       "    <tr>\n",
       "      <th>SF6</th>\n",
       "      <td>0</td>\n",
       "      <td>2144.563511</td>\n",
       "      <td>2125.373083</td>\n",
       "      <td>915.952165</td>\n",
       "      <td>1022.961075</td>\n",
       "      <td>13779.941996</td>\n",
       "      <td>0.000000</td>\n",
       "      <td>11202.087644</td>\n",
       "      <td>8.458450e+02</td>\n",
       "      <td>3804.121358</td>\n",
       "      <td>...</td>\n",
       "      <td>5.559213e-02</td>\n",
       "      <td>451.086429</td>\n",
       "      <td>429.290807</td>\n",
       "      <td>8.605230e+03</td>\n",
       "      <td>90837.901132</td>\n",
       "      <td>28.073622</td>\n",
       "      <td>5.614781</td>\n",
       "      <td>12.391408</td>\n",
       "      <td>22.493427</td>\n",
       "      <td>1.952957</td>\n",
       "    </tr>\n",
       "    <tr>\n",
       "      <th>HFC</th>\n",
       "      <td>0</td>\n",
       "      <td>70107.854630</td>\n",
       "      <td>71326.116356</td>\n",
       "      <td>29540.878753</td>\n",
       "      <td>32522.272039</td>\n",
       "      <td>474403.610882</td>\n",
       "      <td>0.000000</td>\n",
       "      <td>327997.348033</td>\n",
       "      <td>2.718720e+04</td>\n",
       "      <td>118545.111065</td>\n",
       "      <td>...</td>\n",
       "      <td>1.929846e-01</td>\n",
       "      <td>1981.343094</td>\n",
       "      <td>1880.109298</td>\n",
       "      <td>4.007167e+04</td>\n",
       "      <td>424193.790180</td>\n",
       "      <td>123.066094</td>\n",
       "      <td>24.156083</td>\n",
       "      <td>51.660310</td>\n",
       "      <td>98.552421</td>\n",
       "      <td>7.973267</td>\n",
       "    </tr>\n",
       "    <tr>\n",
       "      <th>PFC</th>\n",
       "      <td>0</td>\n",
       "      <td>114082.841035</td>\n",
       "      <td>113891.429475</td>\n",
       "      <td>47610.902336</td>\n",
       "      <td>53263.366033</td>\n",
       "      <td>728516.849910</td>\n",
       "      <td>0.000000</td>\n",
       "      <td>531692.819824</td>\n",
       "      <td>4.496283e+04</td>\n",
       "      <td>186383.873403</td>\n",
       "      <td>...</td>\n",
       "      <td>1.294082e-02</td>\n",
       "      <td>217.245954</td>\n",
       "      <td>339.923870</td>\n",
       "      <td>2.704770e+03</td>\n",
       "      <td>28309.226175</td>\n",
       "      <td>16.113249</td>\n",
       "      <td>4.790730</td>\n",
       "      <td>15.089892</td>\n",
       "      <td>17.711794</td>\n",
       "      <td>5.834999</td>\n",
       "    </tr>\n",
       "  </tbody>\n",
       "</table>\n",
       "<p>6 rows × 4263 columns</p>\n",
       "</div>"
      ],
      "text/plain": [
       "region    Austria                                                           \\\n",
       "sector Paddy rice          Wheat Cereal grains nec Vegetables, fruit, nuts   \n",
       "CO2             0  268732.293190     120622.778922            25769.307953   \n",
       "CH4             0     851.156700        519.465431              176.960741   \n",
       "N2O             0  817211.040789     533672.061525            62441.880373   \n",
       "SF6             0    2144.563511       2125.373083              915.952165   \n",
       "HFC             0   70107.854630      71326.116356            29540.878753   \n",
       "PFC             0  114082.841035     113891.429475            47610.902336   \n",
       "\n",
       "region                                                           \\\n",
       "sector      Oil seeds Sugar cane, sugar beet Plant-based fibers   \n",
       "CO2     122100.624709           65067.523654       10487.722403   \n",
       "CH4        758.976397             497.808857          82.585009   \n",
       "N2O     845963.937891          569008.605306      299571.955486   \n",
       "SF6       1022.961075           13779.941996           0.000000   \n",
       "HFC      32522.272039          474403.610882           0.000000   \n",
       "PFC      53263.366033          728516.849910           0.000000   \n",
       "\n",
       "region                                              ... RoW Middle East  \\\n",
       "sector      Crops nec  Farm_animals       Forestry  ...   Air_transport   \n",
       "CO2     -29420.233768  5.740863e+04   15540.836933  ...    1.546197e+06   \n",
       "CH4        185.404804  1.864531e+06    1293.069099  ...    1.533334e+02   \n",
       "N2O     159851.747572  4.683195e+05    8413.211575  ...    3.220244e+04   \n",
       "SF6      11202.087644  8.458450e+02    3804.121358  ...    5.559213e-02   \n",
       "HFC     327997.348033  2.718720e+04  118545.111065  ...    1.929846e-01   \n",
       "PFC     531692.819824  4.496283e+04  186383.873403  ...    1.294082e-02   \n",
       "\n",
       "region                                                                 \\\n",
       "sector Wood_Waste_incineration Other_Waste_incineration      Landfill   \n",
       "CO2              516475.223668            478843.461771  8.456410e+04   \n",
       "CH4               71397.205813             60899.900635  1.132541e+07   \n",
       "N2O               51146.081403             43881.395180  1.182622e+04   \n",
       "SF6                 451.086429               429.290807  8.605230e+03   \n",
       "HFC                1981.343094              1880.109298  4.007167e+04   \n",
       "PFC                 217.245954               339.923870  2.704770e+03   \n",
       "\n",
       "region                                                             \\\n",
       "sector Water_Other_waste_Treatment   Real estate Hotel_Restaurant   \n",
       "CO2                  155498.363605  45101.324562     10894.629171   \n",
       "CH4                   22222.767272   5275.038535      6396.259402   \n",
       "N2O                   14509.851237    961.216008      2267.409193   \n",
       "SF6                   90837.901132     28.073622         5.614781   \n",
       "HFC                  424193.790180    123.066094        24.156083   \n",
       "PFC                   28309.226175     16.113249         4.790730   \n",
       "\n",
       "region                                                        \n",
       "sector      Commerce Other_Business_Services Public_Services  \n",
       "CO2     17786.873681           115180.944406     7518.328372  \n",
       "CH4      4084.463636            11516.104753     1850.374092  \n",
       "N2O       653.619990             2378.495123      200.919215  \n",
       "SF6        12.391408               22.493427        1.952957  \n",
       "HFC        51.660310               98.552421        7.973267  \n",
       "PFC        15.089892               17.711794        5.834999  \n",
       "\n",
       "[6 rows x 4263 columns]"
      ]
     },
     "execution_count": 70,
     "metadata": {},
     "output_type": "execute_result"
    }
   ],
   "source": [
    "model.counterfactuals[\"IMACLIM_all_2050_INDC\"].iot.stressor_extension.S"
   ]
  },
  {
   "cell_type": "code",
   "execution_count": 73,
   "metadata": {},
   "outputs": [],
   "source": [
    "model.iot.stressor_extension.M=None"
   ]
  },
  {
   "cell_type": "code",
   "execution_count": 12,
   "metadata": {},
   "outputs": [
    {
     "data": {
      "text/plain": [
       "region           sector                 \n",
       "Austria          Paddy rice                 0.000000\n",
       "                 Wheat                      0.054163\n",
       "                 Cereal grains nec          0.101688\n",
       "                 Vegetables, fruit, nuts    0.106172\n",
       "                 Oil seeds                  0.010295\n",
       "                                              ...   \n",
       "RoW Middle East  Real estate                0.548047\n",
       "                 Hotel_Restaurant           1.273994\n",
       "                 Commerce                   6.756831\n",
       "                 Other_Business_Services    6.959924\n",
       "                 Public_Services            0.183809\n",
       "Length: 4263, dtype: float64"
      ]
     },
     "execution_count": 12,
     "metadata": {},
     "output_type": "execute_result"
    }
   ],
   "source": [
    "model.iot.A.sum(axis=1)"
   ]
  },
  {
   "cell_type": "code",
   "execution_count": 75,
   "metadata": {},
   "outputs": [
    {
     "data": {
      "text/html": [
       "<div>\n",
       "<style scoped>\n",
       "    .dataframe tbody tr th:only-of-type {\n",
       "        vertical-align: middle;\n",
       "    }\n",
       "\n",
       "    .dataframe tbody tr th {\n",
       "        vertical-align: top;\n",
       "    }\n",
       "\n",
       "    .dataframe thead tr th {\n",
       "        text-align: left;\n",
       "    }\n",
       "</style>\n",
       "<table border=\"1\" class=\"dataframe\">\n",
       "  <thead>\n",
       "    <tr>\n",
       "      <th>region</th>\n",
       "      <th colspan=\"10\" halign=\"left\">Austria</th>\n",
       "      <th>...</th>\n",
       "      <th colspan=\"10\" halign=\"left\">RoW Middle East</th>\n",
       "    </tr>\n",
       "    <tr>\n",
       "      <th>sector</th>\n",
       "      <th>Paddy rice</th>\n",
       "      <th>Wheat</th>\n",
       "      <th>Cereal grains nec</th>\n",
       "      <th>Vegetables, fruit, nuts</th>\n",
       "      <th>Oil seeds</th>\n",
       "      <th>Sugar cane, sugar beet</th>\n",
       "      <th>Plant-based fibers</th>\n",
       "      <th>Crops nec</th>\n",
       "      <th>Farm_animals</th>\n",
       "      <th>Forestry</th>\n",
       "      <th>...</th>\n",
       "      <th>Air_transport</th>\n",
       "      <th>Wood_Waste_incineration</th>\n",
       "      <th>Other_Waste_incineration</th>\n",
       "      <th>Landfill</th>\n",
       "      <th>Water_Other_waste_Treatment</th>\n",
       "      <th>Real estate</th>\n",
       "      <th>Hotel_Restaurant</th>\n",
       "      <th>Commerce</th>\n",
       "      <th>Other_Business_Services</th>\n",
       "      <th>Public_Services</th>\n",
       "    </tr>\n",
       "  </thead>\n",
       "  <tbody>\n",
       "    <tr>\n",
       "      <th>CO2</th>\n",
       "      <td>0.0</td>\n",
       "      <td>832099.331411</td>\n",
       "      <td>416392.789571</td>\n",
       "      <td>156723.516872</td>\n",
       "      <td>387412.916063</td>\n",
       "      <td>263944.616931</td>\n",
       "      <td>41608.651565</td>\n",
       "      <td>256506.989563</td>\n",
       "      <td>3.316405e+05</td>\n",
       "      <td>159999.179550</td>\n",
       "      <td>...</td>\n",
       "      <td>2.739039e+06</td>\n",
       "      <td>1.184395e+06</td>\n",
       "      <td>1.131557e+06</td>\n",
       "      <td>1.004687e+06</td>\n",
       "      <td>834370.076256</td>\n",
       "      <td>379805.263212</td>\n",
       "      <td>296990.100117</td>\n",
       "      <td>228157.219883</td>\n",
       "      <td>585940.780799</td>\n",
       "      <td>374894.070844</td>\n",
       "    </tr>\n",
       "    <tr>\n",
       "      <th>CH4</th>\n",
       "      <td>0.0</td>\n",
       "      <td>47196.876775</td>\n",
       "      <td>41244.061166</td>\n",
       "      <td>18550.084641</td>\n",
       "      <td>24727.841789</td>\n",
       "      <td>25513.060412</td>\n",
       "      <td>2766.729734</td>\n",
       "      <td>56392.793123</td>\n",
       "      <td>1.972513e+06</td>\n",
       "      <td>30392.758278</td>\n",
       "      <td>...</td>\n",
       "      <td>6.219835e+04</td>\n",
       "      <td>3.206686e+05</td>\n",
       "      <td>3.684967e+05</td>\n",
       "      <td>1.174967e+07</td>\n",
       "      <td>411760.289959</td>\n",
       "      <td>57665.602009</td>\n",
       "      <td>89901.344198</td>\n",
       "      <td>37220.133608</td>\n",
       "      <td>74163.647856</td>\n",
       "      <td>84002.025300</td>\n",
       "    </tr>\n",
       "    <tr>\n",
       "      <th>N2O</th>\n",
       "      <td>0.0</td>\n",
       "      <td>850626.732098</td>\n",
       "      <td>544900.209090</td>\n",
       "      <td>71935.030775</td>\n",
       "      <td>852249.534107</td>\n",
       "      <td>603232.382821</td>\n",
       "      <td>300478.862143</td>\n",
       "      <td>167286.238994</td>\n",
       "      <td>5.302199e+05</td>\n",
       "      <td>17092.750347</td>\n",
       "      <td>...</td>\n",
       "      <td>4.406544e+04</td>\n",
       "      <td>7.396881e+04</td>\n",
       "      <td>6.699214e+04</td>\n",
       "      <td>5.355065e+04</td>\n",
       "      <td>33875.881506</td>\n",
       "      <td>10663.801456</td>\n",
       "      <td>31967.111474</td>\n",
       "      <td>6105.228739</td>\n",
       "      <td>15601.601916</td>\n",
       "      <td>15408.865705</td>\n",
       "    </tr>\n",
       "    <tr>\n",
       "      <th>SF6</th>\n",
       "      <td>0.0</td>\n",
       "      <td>3042.211396</td>\n",
       "      <td>2913.801145</td>\n",
       "      <td>1704.439422</td>\n",
       "      <td>1799.489659</td>\n",
       "      <td>15202.408341</td>\n",
       "      <td>98.381754</td>\n",
       "      <td>12416.242153</td>\n",
       "      <td>4.972533e+03</td>\n",
       "      <td>8709.950625</td>\n",
       "      <td>...</td>\n",
       "      <td>3.951672e+02</td>\n",
       "      <td>2.790932e+03</td>\n",
       "      <td>3.196961e+03</td>\n",
       "      <td>1.041698e+04</td>\n",
       "      <td>93803.077388</td>\n",
       "      <td>435.685397</td>\n",
       "      <td>418.115942</td>\n",
       "      <td>236.199430</td>\n",
       "      <td>384.556593</td>\n",
       "      <td>564.056340</td>\n",
       "    </tr>\n",
       "    <tr>\n",
       "      <th>HFC</th>\n",
       "      <td>0.0</td>\n",
       "      <td>79365.963693</td>\n",
       "      <td>78748.303333</td>\n",
       "      <td>36847.080534</td>\n",
       "      <td>38024.725776</td>\n",
       "      <td>506514.385324</td>\n",
       "      <td>793.335839</td>\n",
       "      <td>337902.499274</td>\n",
       "      <td>7.032755e+04</td>\n",
       "      <td>221995.605870</td>\n",
       "      <td>...</td>\n",
       "      <td>2.276876e+03</td>\n",
       "      <td>1.328547e+04</td>\n",
       "      <td>1.517944e+04</td>\n",
       "      <td>4.934033e+04</td>\n",
       "      <td>438418.362367</td>\n",
       "      <td>2285.104477</td>\n",
       "      <td>2434.526534</td>\n",
       "      <td>1299.855625</td>\n",
       "      <td>2114.784358</td>\n",
       "      <td>3547.997248</td>\n",
       "    </tr>\n",
       "    <tr>\n",
       "      <th>PFC</th>\n",
       "      <td>0.0</td>\n",
       "      <td>122561.918129</td>\n",
       "      <td>119471.166629</td>\n",
       "      <td>55356.575304</td>\n",
       "      <td>55767.799027</td>\n",
       "      <td>773345.494924</td>\n",
       "      <td>1025.391772</td>\n",
       "      <td>539137.191270</td>\n",
       "      <td>6.870564e+04</td>\n",
       "      <td>329175.784173</td>\n",
       "      <td>...</td>\n",
       "      <td>5.432513e+02</td>\n",
       "      <td>1.476781e+03</td>\n",
       "      <td>1.744967e+03</td>\n",
       "      <td>3.697796e+03</td>\n",
       "      <td>29741.345492</td>\n",
       "      <td>386.809151</td>\n",
       "      <td>332.055655</td>\n",
       "      <td>282.095841</td>\n",
       "      <td>420.623676</td>\n",
       "      <td>573.835864</td>\n",
       "    </tr>\n",
       "  </tbody>\n",
       "</table>\n",
       "<p>6 rows × 4263 columns</p>\n",
       "</div>"
      ],
      "text/plain": [
       "region    Austria                                                           \\\n",
       "sector Paddy rice          Wheat Cereal grains nec Vegetables, fruit, nuts   \n",
       "CO2           0.0  832099.331411     416392.789571           156723.516872   \n",
       "CH4           0.0   47196.876775      41244.061166            18550.084641   \n",
       "N2O           0.0  850626.732098     544900.209090            71935.030775   \n",
       "SF6           0.0    3042.211396       2913.801145             1704.439422   \n",
       "HFC           0.0   79365.963693      78748.303333            36847.080534   \n",
       "PFC           0.0  122561.918129     119471.166629            55356.575304   \n",
       "\n",
       "region                                                           \\\n",
       "sector      Oil seeds Sugar cane, sugar beet Plant-based fibers   \n",
       "CO2     387412.916063          263944.616931       41608.651565   \n",
       "CH4      24727.841789           25513.060412        2766.729734   \n",
       "N2O     852249.534107          603232.382821      300478.862143   \n",
       "SF6       1799.489659           15202.408341          98.381754   \n",
       "HFC      38024.725776          506514.385324         793.335839   \n",
       "PFC      55767.799027          773345.494924        1025.391772   \n",
       "\n",
       "region                                              ... RoW Middle East  \\\n",
       "sector      Crops nec  Farm_animals       Forestry  ...   Air_transport   \n",
       "CO2     256506.989563  3.316405e+05  159999.179550  ...    2.739039e+06   \n",
       "CH4      56392.793123  1.972513e+06   30392.758278  ...    6.219835e+04   \n",
       "N2O     167286.238994  5.302199e+05   17092.750347  ...    4.406544e+04   \n",
       "SF6      12416.242153  4.972533e+03    8709.950625  ...    3.951672e+02   \n",
       "HFC     337902.499274  7.032755e+04  221995.605870  ...    2.276876e+03   \n",
       "PFC     539137.191270  6.870564e+04  329175.784173  ...    5.432513e+02   \n",
       "\n",
       "region                                                                 \\\n",
       "sector Wood_Waste_incineration Other_Waste_incineration      Landfill   \n",
       "CO2               1.184395e+06             1.131557e+06  1.004687e+06   \n",
       "CH4               3.206686e+05             3.684967e+05  1.174967e+07   \n",
       "N2O               7.396881e+04             6.699214e+04  5.355065e+04   \n",
       "SF6               2.790932e+03             3.196961e+03  1.041698e+04   \n",
       "HFC               1.328547e+04             1.517944e+04  4.934033e+04   \n",
       "PFC               1.476781e+03             1.744967e+03  3.697796e+03   \n",
       "\n",
       "region                                                              \\\n",
       "sector Water_Other_waste_Treatment    Real estate Hotel_Restaurant   \n",
       "CO2                  834370.076256  379805.263212    296990.100117   \n",
       "CH4                  411760.289959   57665.602009     89901.344198   \n",
       "N2O                   33875.881506   10663.801456     31967.111474   \n",
       "SF6                   93803.077388     435.685397       418.115942   \n",
       "HFC                  438418.362367    2285.104477      2434.526534   \n",
       "PFC                   29741.345492     386.809151       332.055655   \n",
       "\n",
       "region                                                         \n",
       "sector       Commerce Other_Business_Services Public_Services  \n",
       "CO2     228157.219883           585940.780799   374894.070844  \n",
       "CH4      37220.133608            74163.647856    84002.025300  \n",
       "N2O       6105.228739            15601.601916    15408.865705  \n",
       "SF6        236.199430              384.556593      564.056340  \n",
       "HFC       1299.855625             2114.784358     3547.997248  \n",
       "PFC        282.095841              420.623676      573.835864  \n",
       "\n",
       "[6 rows x 4263 columns]"
      ]
     },
     "execution_count": 75,
     "metadata": {},
     "output_type": "execute_result"
    }
   ],
   "source": [
    "model.iot.stressor_extension.M"
   ]
  },
  {
   "cell_type": "code",
   "execution_count": 80,
   "metadata": {},
   "outputs": [],
   "source": [
    "model.counterfactuals[\"IMACLIM_all_2050_INDC\"].iot.stressor_extension.M=None"
   ]
  },
  {
   "cell_type": "code",
   "execution_count": 81,
   "metadata": {},
   "outputs": [
    {
     "data": {
      "text/plain": [
       "<pymrio.core.mriosystem.IOSystem at 0xffff44dffe20>"
      ]
     },
     "execution_count": 81,
     "metadata": {},
     "output_type": "execute_result"
    }
   ],
   "source": [
    "model.counterfactuals[\"IMACLIM_all_2050_INDC\"].iot.calc_all()"
   ]
  },
  {
   "cell_type": "code",
   "execution_count": 85,
   "metadata": {},
   "outputs": [
    {
     "data": {
      "text/plain": [
       "CO2    0.0\n",
       "CH4    0.0\n",
       "N2O    0.0\n",
       "SF6    0.0\n",
       "HFC    0.0\n",
       "PFC    0.0\n",
       "Name: (Austria, Paddy rice), dtype: float64"
      ]
     },
     "execution_count": 85,
     "metadata": {},
     "output_type": "execute_result"
    }
   ],
   "source": [
    "model.counterfactuals[\"IMACLIM_all_2050_INDC\"].iot.stressor_extension.M.loc[:,(\"Austria\",\"Paddy rice\")]"
   ]
  },
  {
   "cell_type": "code",
   "execution_count": 83,
   "metadata": {},
   "outputs": [
    {
     "data": {
      "text/html": [
       "<div>\n",
       "<style scoped>\n",
       "    .dataframe tbody tr th:only-of-type {\n",
       "        vertical-align: middle;\n",
       "    }\n",
       "\n",
       "    .dataframe tbody tr th {\n",
       "        vertical-align: top;\n",
       "    }\n",
       "\n",
       "    .dataframe thead tr th {\n",
       "        text-align: left;\n",
       "    }\n",
       "</style>\n",
       "<table border=\"1\" class=\"dataframe\">\n",
       "  <thead>\n",
       "    <tr>\n",
       "      <th>region</th>\n",
       "      <th colspan=\"10\" halign=\"left\">Austria</th>\n",
       "      <th>...</th>\n",
       "      <th colspan=\"10\" halign=\"left\">RoW Middle East</th>\n",
       "    </tr>\n",
       "    <tr>\n",
       "      <th>sector</th>\n",
       "      <th>Paddy rice</th>\n",
       "      <th>Wheat</th>\n",
       "      <th>Cereal grains nec</th>\n",
       "      <th>Vegetables, fruit, nuts</th>\n",
       "      <th>Oil seeds</th>\n",
       "      <th>Sugar cane, sugar beet</th>\n",
       "      <th>Plant-based fibers</th>\n",
       "      <th>Crops nec</th>\n",
       "      <th>Farm_animals</th>\n",
       "      <th>Forestry</th>\n",
       "      <th>...</th>\n",
       "      <th>Air_transport</th>\n",
       "      <th>Wood_Waste_incineration</th>\n",
       "      <th>Other_Waste_incineration</th>\n",
       "      <th>Landfill</th>\n",
       "      <th>Water_Other_waste_Treatment</th>\n",
       "      <th>Real estate</th>\n",
       "      <th>Hotel_Restaurant</th>\n",
       "      <th>Commerce</th>\n",
       "      <th>Other_Business_Services</th>\n",
       "      <th>Public_Services</th>\n",
       "    </tr>\n",
       "  </thead>\n",
       "  <tbody>\n",
       "    <tr>\n",
       "      <th>CO2</th>\n",
       "      <td>0</td>\n",
       "      <td>268732.293190</td>\n",
       "      <td>120622.778922</td>\n",
       "      <td>25769.307953</td>\n",
       "      <td>122100.624709</td>\n",
       "      <td>65067.523654</td>\n",
       "      <td>10487.722403</td>\n",
       "      <td>-29420.233768</td>\n",
       "      <td>5.740863e+04</td>\n",
       "      <td>15540.836933</td>\n",
       "      <td>...</td>\n",
       "      <td>1.546197e+06</td>\n",
       "      <td>516475.223668</td>\n",
       "      <td>478843.461771</td>\n",
       "      <td>8.456410e+04</td>\n",
       "      <td>155498.363605</td>\n",
       "      <td>45101.324562</td>\n",
       "      <td>10894.629171</td>\n",
       "      <td>17786.873681</td>\n",
       "      <td>115180.944406</td>\n",
       "      <td>7518.328372</td>\n",
       "    </tr>\n",
       "    <tr>\n",
       "      <th>CH4</th>\n",
       "      <td>0</td>\n",
       "      <td>851.156700</td>\n",
       "      <td>519.465431</td>\n",
       "      <td>176.960741</td>\n",
       "      <td>758.976397</td>\n",
       "      <td>497.808857</td>\n",
       "      <td>82.585009</td>\n",
       "      <td>185.404804</td>\n",
       "      <td>1.864531e+06</td>\n",
       "      <td>1293.069099</td>\n",
       "      <td>...</td>\n",
       "      <td>1.533334e+02</td>\n",
       "      <td>71397.205813</td>\n",
       "      <td>60899.900635</td>\n",
       "      <td>1.132541e+07</td>\n",
       "      <td>22222.767272</td>\n",
       "      <td>5275.038535</td>\n",
       "      <td>6396.259402</td>\n",
       "      <td>4084.463636</td>\n",
       "      <td>11516.104753</td>\n",
       "      <td>1850.374092</td>\n",
       "    </tr>\n",
       "    <tr>\n",
       "      <th>N2O</th>\n",
       "      <td>0</td>\n",
       "      <td>817211.040789</td>\n",
       "      <td>533672.061525</td>\n",
       "      <td>62441.880373</td>\n",
       "      <td>845963.937891</td>\n",
       "      <td>569008.605306</td>\n",
       "      <td>299571.955486</td>\n",
       "      <td>159851.747572</td>\n",
       "      <td>4.683195e+05</td>\n",
       "      <td>8413.211575</td>\n",
       "      <td>...</td>\n",
       "      <td>3.220244e+04</td>\n",
       "      <td>51146.081403</td>\n",
       "      <td>43881.395180</td>\n",
       "      <td>1.182622e+04</td>\n",
       "      <td>14509.851237</td>\n",
       "      <td>961.216008</td>\n",
       "      <td>2267.409193</td>\n",
       "      <td>653.619990</td>\n",
       "      <td>2378.495123</td>\n",
       "      <td>200.919215</td>\n",
       "    </tr>\n",
       "    <tr>\n",
       "      <th>SF6</th>\n",
       "      <td>0</td>\n",
       "      <td>2144.563511</td>\n",
       "      <td>2125.373083</td>\n",
       "      <td>915.952165</td>\n",
       "      <td>1022.961075</td>\n",
       "      <td>13779.941996</td>\n",
       "      <td>0.000000</td>\n",
       "      <td>11202.087644</td>\n",
       "      <td>8.458450e+02</td>\n",
       "      <td>3804.121358</td>\n",
       "      <td>...</td>\n",
       "      <td>5.559213e-02</td>\n",
       "      <td>451.086429</td>\n",
       "      <td>429.290807</td>\n",
       "      <td>8.605230e+03</td>\n",
       "      <td>90837.901132</td>\n",
       "      <td>28.073622</td>\n",
       "      <td>5.614781</td>\n",
       "      <td>12.391408</td>\n",
       "      <td>22.493427</td>\n",
       "      <td>1.952957</td>\n",
       "    </tr>\n",
       "    <tr>\n",
       "      <th>HFC</th>\n",
       "      <td>0</td>\n",
       "      <td>70107.854630</td>\n",
       "      <td>71326.116356</td>\n",
       "      <td>29540.878753</td>\n",
       "      <td>32522.272039</td>\n",
       "      <td>474403.610882</td>\n",
       "      <td>0.000000</td>\n",
       "      <td>327997.348033</td>\n",
       "      <td>2.718720e+04</td>\n",
       "      <td>118545.111065</td>\n",
       "      <td>...</td>\n",
       "      <td>1.929846e-01</td>\n",
       "      <td>1981.343094</td>\n",
       "      <td>1880.109298</td>\n",
       "      <td>4.007167e+04</td>\n",
       "      <td>424193.790180</td>\n",
       "      <td>123.066094</td>\n",
       "      <td>24.156083</td>\n",
       "      <td>51.660310</td>\n",
       "      <td>98.552421</td>\n",
       "      <td>7.973267</td>\n",
       "    </tr>\n",
       "    <tr>\n",
       "      <th>PFC</th>\n",
       "      <td>0</td>\n",
       "      <td>114082.841035</td>\n",
       "      <td>113891.429475</td>\n",
       "      <td>47610.902336</td>\n",
       "      <td>53263.366033</td>\n",
       "      <td>728516.849910</td>\n",
       "      <td>0.000000</td>\n",
       "      <td>531692.819824</td>\n",
       "      <td>4.496283e+04</td>\n",
       "      <td>186383.873403</td>\n",
       "      <td>...</td>\n",
       "      <td>1.294082e-02</td>\n",
       "      <td>217.245954</td>\n",
       "      <td>339.923870</td>\n",
       "      <td>2.704770e+03</td>\n",
       "      <td>28309.226175</td>\n",
       "      <td>16.113249</td>\n",
       "      <td>4.790730</td>\n",
       "      <td>15.089892</td>\n",
       "      <td>17.711794</td>\n",
       "      <td>5.834999</td>\n",
       "    </tr>\n",
       "  </tbody>\n",
       "</table>\n",
       "<p>6 rows × 4263 columns</p>\n",
       "</div>"
      ],
      "text/plain": [
       "region    Austria                                                           \\\n",
       "sector Paddy rice          Wheat Cereal grains nec Vegetables, fruit, nuts   \n",
       "CO2             0  268732.293190     120622.778922            25769.307953   \n",
       "CH4             0     851.156700        519.465431              176.960741   \n",
       "N2O             0  817211.040789     533672.061525            62441.880373   \n",
       "SF6             0    2144.563511       2125.373083              915.952165   \n",
       "HFC             0   70107.854630      71326.116356            29540.878753   \n",
       "PFC             0  114082.841035     113891.429475            47610.902336   \n",
       "\n",
       "region                                                           \\\n",
       "sector      Oil seeds Sugar cane, sugar beet Plant-based fibers   \n",
       "CO2     122100.624709           65067.523654       10487.722403   \n",
       "CH4        758.976397             497.808857          82.585009   \n",
       "N2O     845963.937891          569008.605306      299571.955486   \n",
       "SF6       1022.961075           13779.941996           0.000000   \n",
       "HFC      32522.272039          474403.610882           0.000000   \n",
       "PFC      53263.366033          728516.849910           0.000000   \n",
       "\n",
       "region                                              ... RoW Middle East  \\\n",
       "sector      Crops nec  Farm_animals       Forestry  ...   Air_transport   \n",
       "CO2     -29420.233768  5.740863e+04   15540.836933  ...    1.546197e+06   \n",
       "CH4        185.404804  1.864531e+06    1293.069099  ...    1.533334e+02   \n",
       "N2O     159851.747572  4.683195e+05    8413.211575  ...    3.220244e+04   \n",
       "SF6      11202.087644  8.458450e+02    3804.121358  ...    5.559213e-02   \n",
       "HFC     327997.348033  2.718720e+04  118545.111065  ...    1.929846e-01   \n",
       "PFC     531692.819824  4.496283e+04  186383.873403  ...    1.294082e-02   \n",
       "\n",
       "region                                                                 \\\n",
       "sector Wood_Waste_incineration Other_Waste_incineration      Landfill   \n",
       "CO2              516475.223668            478843.461771  8.456410e+04   \n",
       "CH4               71397.205813             60899.900635  1.132541e+07   \n",
       "N2O               51146.081403             43881.395180  1.182622e+04   \n",
       "SF6                 451.086429               429.290807  8.605230e+03   \n",
       "HFC                1981.343094              1880.109298  4.007167e+04   \n",
       "PFC                 217.245954               339.923870  2.704770e+03   \n",
       "\n",
       "region                                                             \\\n",
       "sector Water_Other_waste_Treatment   Real estate Hotel_Restaurant   \n",
       "CO2                  155498.363605  45101.324562     10894.629171   \n",
       "CH4                   22222.767272   5275.038535      6396.259402   \n",
       "N2O                   14509.851237    961.216008      2267.409193   \n",
       "SF6                   90837.901132     28.073622         5.614781   \n",
       "HFC                  424193.790180    123.066094        24.156083   \n",
       "PFC                   28309.226175     16.113249         4.790730   \n",
       "\n",
       "region                                                        \n",
       "sector      Commerce Other_Business_Services Public_Services  \n",
       "CO2     17786.873681           115180.944406     7518.328372  \n",
       "CH4      4084.463636            11516.104753     1850.374092  \n",
       "N2O       653.619990             2378.495123      200.919215  \n",
       "SF6        12.391408               22.493427        1.952957  \n",
       "HFC        51.660310               98.552421        7.973267  \n",
       "PFC        15.089892               17.711794        5.834999  \n",
       "\n",
       "[6 rows x 4263 columns]"
      ]
     },
     "execution_count": 83,
     "metadata": {},
     "output_type": "execute_result"
    }
   ],
   "source": [
    "model.counterfactuals[\"IMACLIM_all_2050_INDC\"].iot.stressor_extension.S"
   ]
  },
  {
   "cell_type": "code",
   "execution_count": 25,
   "metadata": {},
   "outputs": [
    {
     "data": {
      "text/html": [
       "<div>\n",
       "<style scoped>\n",
       "    .dataframe tbody tr th:only-of-type {\n",
       "        vertical-align: middle;\n",
       "    }\n",
       "\n",
       "    .dataframe tbody tr th {\n",
       "        vertical-align: top;\n",
       "    }\n",
       "\n",
       "    .dataframe thead th {\n",
       "        text-align: right;\n",
       "    }\n",
       "</style>\n",
       "<table border=\"1\" class=\"dataframe\">\n",
       "  <thead>\n",
       "    <tr style=\"text-align: right;\">\n",
       "      <th></th>\n",
       "      <th></th>\n",
       "      <th>0</th>\n",
       "      <th>1</th>\n",
       "      <th>2</th>\n",
       "      <th>3</th>\n",
       "      <th>4</th>\n",
       "      <th>5</th>\n",
       "      <th>6</th>\n",
       "      <th>7</th>\n",
       "      <th>8</th>\n",
       "      <th>9</th>\n",
       "      <th>...</th>\n",
       "      <th>4253</th>\n",
       "      <th>4254</th>\n",
       "      <th>4255</th>\n",
       "      <th>4256</th>\n",
       "      <th>4257</th>\n",
       "      <th>4258</th>\n",
       "      <th>4259</th>\n",
       "      <th>4260</th>\n",
       "      <th>4261</th>\n",
       "      <th>4262</th>\n",
       "    </tr>\n",
       "    <tr>\n",
       "      <th>region</th>\n",
       "      <th>sector</th>\n",
       "      <th></th>\n",
       "      <th></th>\n",
       "      <th></th>\n",
       "      <th></th>\n",
       "      <th></th>\n",
       "      <th></th>\n",
       "      <th></th>\n",
       "      <th></th>\n",
       "      <th></th>\n",
       "      <th></th>\n",
       "      <th></th>\n",
       "      <th></th>\n",
       "      <th></th>\n",
       "      <th></th>\n",
       "      <th></th>\n",
       "      <th></th>\n",
       "      <th></th>\n",
       "      <th></th>\n",
       "      <th></th>\n",
       "      <th></th>\n",
       "      <th></th>\n",
       "    </tr>\n",
       "  </thead>\n",
       "  <tbody>\n",
       "    <tr>\n",
       "      <th rowspan=\"5\" valign=\"top\">Austria</th>\n",
       "      <th>Paddy rice</th>\n",
       "      <td>NaN</td>\n",
       "      <td>0.000000e+00</td>\n",
       "      <td>0.000000e+00</td>\n",
       "      <td>0.000000e+00</td>\n",
       "      <td>0.000000e+00</td>\n",
       "      <td>0.000000e+00</td>\n",
       "      <td>0.000000e+00</td>\n",
       "      <td>0.000000e+00</td>\n",
       "      <td>0.000000e+00</td>\n",
       "      <td>0.000000e+00</td>\n",
       "      <td>...</td>\n",
       "      <td>0.000000e+00</td>\n",
       "      <td>0.000000e+00</td>\n",
       "      <td>0.000000e+00</td>\n",
       "      <td>0.000000e+00</td>\n",
       "      <td>0.000000e+00</td>\n",
       "      <td>0.000000e+00</td>\n",
       "      <td>0.000000e+00</td>\n",
       "      <td>0.000000e+00</td>\n",
       "      <td>0.000000e+00</td>\n",
       "      <td>0.000000e+00</td>\n",
       "    </tr>\n",
       "    <tr>\n",
       "      <th>Wheat</th>\n",
       "      <td>NaN</td>\n",
       "      <td>3.297235e-02</td>\n",
       "      <td>0.000000e+00</td>\n",
       "      <td>0.000000e+00</td>\n",
       "      <td>0.000000e+00</td>\n",
       "      <td>0.000000e+00</td>\n",
       "      <td>0.000000e+00</td>\n",
       "      <td>2.841906e-03</td>\n",
       "      <td>2.907409e-03</td>\n",
       "      <td>0.000000e+00</td>\n",
       "      <td>...</td>\n",
       "      <td>3.042298e-10</td>\n",
       "      <td>7.696287e-10</td>\n",
       "      <td>7.601639e-10</td>\n",
       "      <td>7.157933e-09</td>\n",
       "      <td>1.724366e-09</td>\n",
       "      <td>8.445688e-10</td>\n",
       "      <td>1.125998e-09</td>\n",
       "      <td>3.016092e-10</td>\n",
       "      <td>7.884114e-10</td>\n",
       "      <td>3.759115e-10</td>\n",
       "    </tr>\n",
       "    <tr>\n",
       "      <th>Cereal grains nec</th>\n",
       "      <td>NaN</td>\n",
       "      <td>0.000000e+00</td>\n",
       "      <td>1.467618e-02</td>\n",
       "      <td>0.000000e+00</td>\n",
       "      <td>0.000000e+00</td>\n",
       "      <td>0.000000e+00</td>\n",
       "      <td>0.000000e+00</td>\n",
       "      <td>2.155843e-03</td>\n",
       "      <td>4.541870e-02</td>\n",
       "      <td>0.000000e+00</td>\n",
       "      <td>...</td>\n",
       "      <td>0.000000e+00</td>\n",
       "      <td>0.000000e+00</td>\n",
       "      <td>0.000000e+00</td>\n",
       "      <td>0.000000e+00</td>\n",
       "      <td>0.000000e+00</td>\n",
       "      <td>0.000000e+00</td>\n",
       "      <td>0.000000e+00</td>\n",
       "      <td>0.000000e+00</td>\n",
       "      <td>0.000000e+00</td>\n",
       "      <td>0.000000e+00</td>\n",
       "    </tr>\n",
       "    <tr>\n",
       "      <th>Vegetables, fruit, nuts</th>\n",
       "      <td>NaN</td>\n",
       "      <td>0.000000e+00</td>\n",
       "      <td>0.000000e+00</td>\n",
       "      <td>7.232664e-02</td>\n",
       "      <td>0.000000e+00</td>\n",
       "      <td>0.000000e+00</td>\n",
       "      <td>0.000000e+00</td>\n",
       "      <td>0.000000e+00</td>\n",
       "      <td>2.766029e-04</td>\n",
       "      <td>0.000000e+00</td>\n",
       "      <td>...</td>\n",
       "      <td>6.727140e-08</td>\n",
       "      <td>2.501490e-07</td>\n",
       "      <td>2.760661e-07</td>\n",
       "      <td>2.558886e-06</td>\n",
       "      <td>8.317131e-07</td>\n",
       "      <td>3.269597e-07</td>\n",
       "      <td>1.118129e-06</td>\n",
       "      <td>9.681588e-08</td>\n",
       "      <td>5.247878e-07</td>\n",
       "      <td>2.965591e-07</td>\n",
       "    </tr>\n",
       "    <tr>\n",
       "      <th>Oil seeds</th>\n",
       "      <td>NaN</td>\n",
       "      <td>0.000000e+00</td>\n",
       "      <td>0.000000e+00</td>\n",
       "      <td>0.000000e+00</td>\n",
       "      <td>3.915943e-03</td>\n",
       "      <td>0.000000e+00</td>\n",
       "      <td>0.000000e+00</td>\n",
       "      <td>0.000000e+00</td>\n",
       "      <td>0.000000e+00</td>\n",
       "      <td>0.000000e+00</td>\n",
       "      <td>...</td>\n",
       "      <td>1.684448e-09</td>\n",
       "      <td>1.415283e-08</td>\n",
       "      <td>1.746518e-08</td>\n",
       "      <td>1.954468e-07</td>\n",
       "      <td>5.756010e-08</td>\n",
       "      <td>3.502194e-08</td>\n",
       "      <td>1.332556e-08</td>\n",
       "      <td>7.739246e-09</td>\n",
       "      <td>3.918427e-08</td>\n",
       "      <td>2.271430e-08</td>\n",
       "    </tr>\n",
       "    <tr>\n",
       "      <th>...</th>\n",
       "      <th>...</th>\n",
       "      <td>...</td>\n",
       "      <td>...</td>\n",
       "      <td>...</td>\n",
       "      <td>...</td>\n",
       "      <td>...</td>\n",
       "      <td>...</td>\n",
       "      <td>...</td>\n",
       "      <td>...</td>\n",
       "      <td>...</td>\n",
       "      <td>...</td>\n",
       "      <td>...</td>\n",
       "      <td>...</td>\n",
       "      <td>...</td>\n",
       "      <td>...</td>\n",
       "      <td>...</td>\n",
       "      <td>...</td>\n",
       "      <td>...</td>\n",
       "      <td>...</td>\n",
       "      <td>...</td>\n",
       "      <td>...</td>\n",
       "      <td>...</td>\n",
       "    </tr>\n",
       "    <tr>\n",
       "      <th rowspan=\"5\" valign=\"top\">RoW Middle East</th>\n",
       "      <th>Real estate</th>\n",
       "      <td>NaN</td>\n",
       "      <td>1.083429e-06</td>\n",
       "      <td>9.850312e-07</td>\n",
       "      <td>9.541257e-07</td>\n",
       "      <td>5.375929e-07</td>\n",
       "      <td>1.153877e-06</td>\n",
       "      <td>6.279709e-08</td>\n",
       "      <td>1.082516e-06</td>\n",
       "      <td>1.076605e-06</td>\n",
       "      <td>3.908722e-07</td>\n",
       "      <td>...</td>\n",
       "      <td>3.506838e-03</td>\n",
       "      <td>8.985117e-03</td>\n",
       "      <td>8.379839e-03</td>\n",
       "      <td>1.278856e-03</td>\n",
       "      <td>5.432346e-03</td>\n",
       "      <td>2.978508e-02</td>\n",
       "      <td>1.127629e-02</td>\n",
       "      <td>8.115323e-05</td>\n",
       "      <td>1.305592e-02</td>\n",
       "      <td>1.728926e-02</td>\n",
       "    </tr>\n",
       "    <tr>\n",
       "      <th>Hotel_Restaurant</th>\n",
       "      <td>NaN</td>\n",
       "      <td>1.559697e-05</td>\n",
       "      <td>1.425881e-05</td>\n",
       "      <td>1.394905e-05</td>\n",
       "      <td>7.973566e-06</td>\n",
       "      <td>1.681642e-05</td>\n",
       "      <td>0.000000e+00</td>\n",
       "      <td>1.556570e-05</td>\n",
       "      <td>1.652747e-05</td>\n",
       "      <td>6.719817e-06</td>\n",
       "      <td>...</td>\n",
       "      <td>1.746204e-02</td>\n",
       "      <td>7.294135e-03</td>\n",
       "      <td>6.844745e-03</td>\n",
       "      <td>5.102317e-03</td>\n",
       "      <td>6.569296e-03</td>\n",
       "      <td>2.747157e-03</td>\n",
       "      <td>4.974488e-03</td>\n",
       "      <td>8.961082e-04</td>\n",
       "      <td>1.121224e-02</td>\n",
       "      <td>9.952294e-03</td>\n",
       "    </tr>\n",
       "    <tr>\n",
       "      <th>Commerce</th>\n",
       "      <td>NaN</td>\n",
       "      <td>1.065614e-05</td>\n",
       "      <td>7.073383e-06</td>\n",
       "      <td>5.310118e-06</td>\n",
       "      <td>1.110521e-05</td>\n",
       "      <td>1.833526e-05</td>\n",
       "      <td>1.672716e-05</td>\n",
       "      <td>8.992249e-06</td>\n",
       "      <td>1.076951e-05</td>\n",
       "      <td>3.760968e-06</td>\n",
       "      <td>...</td>\n",
       "      <td>4.052270e-02</td>\n",
       "      <td>9.094253e-02</td>\n",
       "      <td>7.909061e-02</td>\n",
       "      <td>9.697367e-02</td>\n",
       "      <td>6.169805e-02</td>\n",
       "      <td>1.449318e-02</td>\n",
       "      <td>4.129888e-02</td>\n",
       "      <td>3.592878e-02</td>\n",
       "      <td>3.264140e-02</td>\n",
       "      <td>3.630164e-02</td>\n",
       "    </tr>\n",
       "    <tr>\n",
       "      <th>Other_Business_Services</th>\n",
       "      <td>NaN</td>\n",
       "      <td>3.358780e-04</td>\n",
       "      <td>3.006107e-04</td>\n",
       "      <td>2.573084e-04</td>\n",
       "      <td>1.717035e-04</td>\n",
       "      <td>3.644505e-04</td>\n",
       "      <td>4.286416e-05</td>\n",
       "      <td>3.334701e-04</td>\n",
       "      <td>3.132007e-04</td>\n",
       "      <td>9.503655e-05</td>\n",
       "      <td>...</td>\n",
       "      <td>2.230752e-01</td>\n",
       "      <td>1.493678e-01</td>\n",
       "      <td>1.449108e-01</td>\n",
       "      <td>5.686346e-02</td>\n",
       "      <td>1.101255e-01</td>\n",
       "      <td>1.190905e-01</td>\n",
       "      <td>5.980548e-02</td>\n",
       "      <td>6.876590e-02</td>\n",
       "      <td>2.358534e-01</td>\n",
       "      <td>1.280771e-01</td>\n",
       "    </tr>\n",
       "    <tr>\n",
       "      <th>Public_Services</th>\n",
       "      <td>NaN</td>\n",
       "      <td>1.566461e-07</td>\n",
       "      <td>1.435798e-07</td>\n",
       "      <td>1.409723e-07</td>\n",
       "      <td>8.124841e-08</td>\n",
       "      <td>1.698833e-07</td>\n",
       "      <td>0.000000e+00</td>\n",
       "      <td>1.562246e-07</td>\n",
       "      <td>1.711307e-07</td>\n",
       "      <td>1.838764e-07</td>\n",
       "      <td>...</td>\n",
       "      <td>1.177440e-03</td>\n",
       "      <td>7.190032e-03</td>\n",
       "      <td>6.610158e-03</td>\n",
       "      <td>1.383759e-03</td>\n",
       "      <td>3.545463e-03</td>\n",
       "      <td>3.815081e-03</td>\n",
       "      <td>7.018915e-04</td>\n",
       "      <td>1.028837e-03</td>\n",
       "      <td>2.598079e-03</td>\n",
       "      <td>9.525527e-03</td>\n",
       "    </tr>\n",
       "  </tbody>\n",
       "</table>\n",
       "<p>4263 rows × 4263 columns</p>\n",
       "</div>"
      ],
      "text/plain": [
       "                                         0             1             2     \\\n",
       "region          sector                                                      \n",
       "Austria         Paddy rice                NaN  0.000000e+00  0.000000e+00   \n",
       "                Wheat                     NaN  3.297235e-02  0.000000e+00   \n",
       "                Cereal grains nec         NaN  0.000000e+00  1.467618e-02   \n",
       "                Vegetables, fruit, nuts   NaN  0.000000e+00  0.000000e+00   \n",
       "                Oil seeds                 NaN  0.000000e+00  0.000000e+00   \n",
       "...                                       ...           ...           ...   \n",
       "RoW Middle East Real estate               NaN  1.083429e-06  9.850312e-07   \n",
       "                Hotel_Restaurant          NaN  1.559697e-05  1.425881e-05   \n",
       "                Commerce                  NaN  1.065614e-05  7.073383e-06   \n",
       "                Other_Business_Services   NaN  3.358780e-04  3.006107e-04   \n",
       "                Public_Services           NaN  1.566461e-07  1.435798e-07   \n",
       "\n",
       "                                                 3             4     \\\n",
       "region          sector                                                \n",
       "Austria         Paddy rice               0.000000e+00  0.000000e+00   \n",
       "                Wheat                    0.000000e+00  0.000000e+00   \n",
       "                Cereal grains nec        0.000000e+00  0.000000e+00   \n",
       "                Vegetables, fruit, nuts  7.232664e-02  0.000000e+00   \n",
       "                Oil seeds                0.000000e+00  3.915943e-03   \n",
       "...                                               ...           ...   \n",
       "RoW Middle East Real estate              9.541257e-07  5.375929e-07   \n",
       "                Hotel_Restaurant         1.394905e-05  7.973566e-06   \n",
       "                Commerce                 5.310118e-06  1.110521e-05   \n",
       "                Other_Business_Services  2.573084e-04  1.717035e-04   \n",
       "                Public_Services          1.409723e-07  8.124841e-08   \n",
       "\n",
       "                                                 5             6     \\\n",
       "region          sector                                                \n",
       "Austria         Paddy rice               0.000000e+00  0.000000e+00   \n",
       "                Wheat                    0.000000e+00  0.000000e+00   \n",
       "                Cereal grains nec        0.000000e+00  0.000000e+00   \n",
       "                Vegetables, fruit, nuts  0.000000e+00  0.000000e+00   \n",
       "                Oil seeds                0.000000e+00  0.000000e+00   \n",
       "...                                               ...           ...   \n",
       "RoW Middle East Real estate              1.153877e-06  6.279709e-08   \n",
       "                Hotel_Restaurant         1.681642e-05  0.000000e+00   \n",
       "                Commerce                 1.833526e-05  1.672716e-05   \n",
       "                Other_Business_Services  3.644505e-04  4.286416e-05   \n",
       "                Public_Services          1.698833e-07  0.000000e+00   \n",
       "\n",
       "                                                 7             8     \\\n",
       "region          sector                                                \n",
       "Austria         Paddy rice               0.000000e+00  0.000000e+00   \n",
       "                Wheat                    2.841906e-03  2.907409e-03   \n",
       "                Cereal grains nec        2.155843e-03  4.541870e-02   \n",
       "                Vegetables, fruit, nuts  0.000000e+00  2.766029e-04   \n",
       "                Oil seeds                0.000000e+00  0.000000e+00   \n",
       "...                                               ...           ...   \n",
       "RoW Middle East Real estate              1.082516e-06  1.076605e-06   \n",
       "                Hotel_Restaurant         1.556570e-05  1.652747e-05   \n",
       "                Commerce                 8.992249e-06  1.076951e-05   \n",
       "                Other_Business_Services  3.334701e-04  3.132007e-04   \n",
       "                Public_Services          1.562246e-07  1.711307e-07   \n",
       "\n",
       "                                                 9     ...          4253  \\\n",
       "region          sector                                 ...                 \n",
       "Austria         Paddy rice               0.000000e+00  ...  0.000000e+00   \n",
       "                Wheat                    0.000000e+00  ...  3.042298e-10   \n",
       "                Cereal grains nec        0.000000e+00  ...  0.000000e+00   \n",
       "                Vegetables, fruit, nuts  0.000000e+00  ...  6.727140e-08   \n",
       "                Oil seeds                0.000000e+00  ...  1.684448e-09   \n",
       "...                                               ...  ...           ...   \n",
       "RoW Middle East Real estate              3.908722e-07  ...  3.506838e-03   \n",
       "                Hotel_Restaurant         6.719817e-06  ...  1.746204e-02   \n",
       "                Commerce                 3.760968e-06  ...  4.052270e-02   \n",
       "                Other_Business_Services  9.503655e-05  ...  2.230752e-01   \n",
       "                Public_Services          1.838764e-07  ...  1.177440e-03   \n",
       "\n",
       "                                                 4254          4255  \\\n",
       "region          sector                                                \n",
       "Austria         Paddy rice               0.000000e+00  0.000000e+00   \n",
       "                Wheat                    7.696287e-10  7.601639e-10   \n",
       "                Cereal grains nec        0.000000e+00  0.000000e+00   \n",
       "                Vegetables, fruit, nuts  2.501490e-07  2.760661e-07   \n",
       "                Oil seeds                1.415283e-08  1.746518e-08   \n",
       "...                                               ...           ...   \n",
       "RoW Middle East Real estate              8.985117e-03  8.379839e-03   \n",
       "                Hotel_Restaurant         7.294135e-03  6.844745e-03   \n",
       "                Commerce                 9.094253e-02  7.909061e-02   \n",
       "                Other_Business_Services  1.493678e-01  1.449108e-01   \n",
       "                Public_Services          7.190032e-03  6.610158e-03   \n",
       "\n",
       "                                                 4256          4257  \\\n",
       "region          sector                                                \n",
       "Austria         Paddy rice               0.000000e+00  0.000000e+00   \n",
       "                Wheat                    7.157933e-09  1.724366e-09   \n",
       "                Cereal grains nec        0.000000e+00  0.000000e+00   \n",
       "                Vegetables, fruit, nuts  2.558886e-06  8.317131e-07   \n",
       "                Oil seeds                1.954468e-07  5.756010e-08   \n",
       "...                                               ...           ...   \n",
       "RoW Middle East Real estate              1.278856e-03  5.432346e-03   \n",
       "                Hotel_Restaurant         5.102317e-03  6.569296e-03   \n",
       "                Commerce                 9.697367e-02  6.169805e-02   \n",
       "                Other_Business_Services  5.686346e-02  1.101255e-01   \n",
       "                Public_Services          1.383759e-03  3.545463e-03   \n",
       "\n",
       "                                                 4258          4259  \\\n",
       "region          sector                                                \n",
       "Austria         Paddy rice               0.000000e+00  0.000000e+00   \n",
       "                Wheat                    8.445688e-10  1.125998e-09   \n",
       "                Cereal grains nec        0.000000e+00  0.000000e+00   \n",
       "                Vegetables, fruit, nuts  3.269597e-07  1.118129e-06   \n",
       "                Oil seeds                3.502194e-08  1.332556e-08   \n",
       "...                                               ...           ...   \n",
       "RoW Middle East Real estate              2.978508e-02  1.127629e-02   \n",
       "                Hotel_Restaurant         2.747157e-03  4.974488e-03   \n",
       "                Commerce                 1.449318e-02  4.129888e-02   \n",
       "                Other_Business_Services  1.190905e-01  5.980548e-02   \n",
       "                Public_Services          3.815081e-03  7.018915e-04   \n",
       "\n",
       "                                                 4260          4261  \\\n",
       "region          sector                                                \n",
       "Austria         Paddy rice               0.000000e+00  0.000000e+00   \n",
       "                Wheat                    3.016092e-10  7.884114e-10   \n",
       "                Cereal grains nec        0.000000e+00  0.000000e+00   \n",
       "                Vegetables, fruit, nuts  9.681588e-08  5.247878e-07   \n",
       "                Oil seeds                7.739246e-09  3.918427e-08   \n",
       "...                                               ...           ...   \n",
       "RoW Middle East Real estate              8.115323e-05  1.305592e-02   \n",
       "                Hotel_Restaurant         8.961082e-04  1.121224e-02   \n",
       "                Commerce                 3.592878e-02  3.264140e-02   \n",
       "                Other_Business_Services  6.876590e-02  2.358534e-01   \n",
       "                Public_Services          1.028837e-03  2.598079e-03   \n",
       "\n",
       "                                                 4262  \n",
       "region          sector                                 \n",
       "Austria         Paddy rice               0.000000e+00  \n",
       "                Wheat                    3.759115e-10  \n",
       "                Cereal grains nec        0.000000e+00  \n",
       "                Vegetables, fruit, nuts  2.965591e-07  \n",
       "                Oil seeds                2.271430e-08  \n",
       "...                                               ...  \n",
       "RoW Middle East Real estate              1.728926e-02  \n",
       "                Hotel_Restaurant         9.952294e-03  \n",
       "                Commerce                 3.630164e-02  \n",
       "                Other_Business_Services  1.280771e-01  \n",
       "                Public_Services          9.525527e-03  \n",
       "\n",
       "[4263 rows x 4263 columns]"
      ]
     },
     "execution_count": 25,
     "metadata": {},
     "output_type": "execute_result"
    }
   ],
   "source": [
    "iot=model.iot\n",
    "iot.Z.dot(np.diag(1/model.iot.x[\"indout\"].transpose()))"
   ]
  },
  {
   "cell_type": "code",
   "execution_count": 26,
   "metadata": {},
   "outputs": [
    {
     "data": {
      "text/html": [
       "<div>\n",
       "<style scoped>\n",
       "    .dataframe tbody tr th:only-of-type {\n",
       "        vertical-align: middle;\n",
       "    }\n",
       "\n",
       "    .dataframe tbody tr th {\n",
       "        vertical-align: top;\n",
       "    }\n",
       "\n",
       "    .dataframe thead tr th {\n",
       "        text-align: left;\n",
       "    }\n",
       "\n",
       "    .dataframe thead tr:last-of-type th {\n",
       "        text-align: right;\n",
       "    }\n",
       "</style>\n",
       "<table border=\"1\" class=\"dataframe\">\n",
       "  <thead>\n",
       "    <tr>\n",
       "      <th></th>\n",
       "      <th>region</th>\n",
       "      <th colspan=\"10\" halign=\"left\">Austria</th>\n",
       "      <th>...</th>\n",
       "      <th colspan=\"10\" halign=\"left\">RoW Middle East</th>\n",
       "    </tr>\n",
       "    <tr>\n",
       "      <th></th>\n",
       "      <th>sector</th>\n",
       "      <th>Paddy rice</th>\n",
       "      <th>Wheat</th>\n",
       "      <th>Cereal grains nec</th>\n",
       "      <th>Vegetables, fruit, nuts</th>\n",
       "      <th>Oil seeds</th>\n",
       "      <th>Sugar cane, sugar beet</th>\n",
       "      <th>Plant-based fibers</th>\n",
       "      <th>Crops nec</th>\n",
       "      <th>Farm_animals</th>\n",
       "      <th>Forestry</th>\n",
       "      <th>...</th>\n",
       "      <th>Air_transport</th>\n",
       "      <th>Wood_Waste_incineration</th>\n",
       "      <th>Other_Waste_incineration</th>\n",
       "      <th>Landfill</th>\n",
       "      <th>Water_Other_waste_Treatment</th>\n",
       "      <th>Real estate</th>\n",
       "      <th>Hotel_Restaurant</th>\n",
       "      <th>Commerce</th>\n",
       "      <th>Other_Business_Services</th>\n",
       "      <th>Public_Services</th>\n",
       "    </tr>\n",
       "    <tr>\n",
       "      <th>region</th>\n",
       "      <th>sector</th>\n",
       "      <th></th>\n",
       "      <th></th>\n",
       "      <th></th>\n",
       "      <th></th>\n",
       "      <th></th>\n",
       "      <th></th>\n",
       "      <th></th>\n",
       "      <th></th>\n",
       "      <th></th>\n",
       "      <th></th>\n",
       "      <th></th>\n",
       "      <th></th>\n",
       "      <th></th>\n",
       "      <th></th>\n",
       "      <th></th>\n",
       "      <th></th>\n",
       "      <th></th>\n",
       "      <th></th>\n",
       "      <th></th>\n",
       "      <th></th>\n",
       "      <th></th>\n",
       "    </tr>\n",
       "  </thead>\n",
       "  <tbody>\n",
       "    <tr>\n",
       "      <th rowspan=\"5\" valign=\"top\">Austria</th>\n",
       "      <th>Paddy rice</th>\n",
       "      <td>NaN</td>\n",
       "      <td>0.000000e+00</td>\n",
       "      <td>0.000000e+00</td>\n",
       "      <td>0.000000e+00</td>\n",
       "      <td>0.000000e+00</td>\n",
       "      <td>0.000000e+00</td>\n",
       "      <td>0.000000e+00</td>\n",
       "      <td>0.000000e+00</td>\n",
       "      <td>0.000000e+00</td>\n",
       "      <td>0.000000e+00</td>\n",
       "      <td>...</td>\n",
       "      <td>0.000000e+00</td>\n",
       "      <td>0.000000e+00</td>\n",
       "      <td>0.000000e+00</td>\n",
       "      <td>0.000000e+00</td>\n",
       "      <td>0.000000e+00</td>\n",
       "      <td>0.000000e+00</td>\n",
       "      <td>0.000000e+00</td>\n",
       "      <td>0.000000e+00</td>\n",
       "      <td>0.000000e+00</td>\n",
       "      <td>0.000000e+00</td>\n",
       "    </tr>\n",
       "    <tr>\n",
       "      <th>Wheat</th>\n",
       "      <td>NaN</td>\n",
       "      <td>3.297235e-02</td>\n",
       "      <td>0.000000e+00</td>\n",
       "      <td>0.000000e+00</td>\n",
       "      <td>0.000000e+00</td>\n",
       "      <td>0.000000e+00</td>\n",
       "      <td>0.000000e+00</td>\n",
       "      <td>2.841906e-03</td>\n",
       "      <td>2.907409e-03</td>\n",
       "      <td>0.000000e+00</td>\n",
       "      <td>...</td>\n",
       "      <td>3.042298e-10</td>\n",
       "      <td>7.696287e-10</td>\n",
       "      <td>7.601639e-10</td>\n",
       "      <td>7.157933e-09</td>\n",
       "      <td>1.724366e-09</td>\n",
       "      <td>8.445688e-10</td>\n",
       "      <td>1.125998e-09</td>\n",
       "      <td>3.016092e-10</td>\n",
       "      <td>7.884114e-10</td>\n",
       "      <td>3.759115e-10</td>\n",
       "    </tr>\n",
       "    <tr>\n",
       "      <th>Cereal grains nec</th>\n",
       "      <td>NaN</td>\n",
       "      <td>0.000000e+00</td>\n",
       "      <td>1.467618e-02</td>\n",
       "      <td>0.000000e+00</td>\n",
       "      <td>0.000000e+00</td>\n",
       "      <td>0.000000e+00</td>\n",
       "      <td>0.000000e+00</td>\n",
       "      <td>2.155843e-03</td>\n",
       "      <td>4.541870e-02</td>\n",
       "      <td>0.000000e+00</td>\n",
       "      <td>...</td>\n",
       "      <td>0.000000e+00</td>\n",
       "      <td>0.000000e+00</td>\n",
       "      <td>0.000000e+00</td>\n",
       "      <td>0.000000e+00</td>\n",
       "      <td>0.000000e+00</td>\n",
       "      <td>0.000000e+00</td>\n",
       "      <td>0.000000e+00</td>\n",
       "      <td>0.000000e+00</td>\n",
       "      <td>0.000000e+00</td>\n",
       "      <td>0.000000e+00</td>\n",
       "    </tr>\n",
       "    <tr>\n",
       "      <th>Vegetables, fruit, nuts</th>\n",
       "      <td>NaN</td>\n",
       "      <td>0.000000e+00</td>\n",
       "      <td>0.000000e+00</td>\n",
       "      <td>7.232664e-02</td>\n",
       "      <td>0.000000e+00</td>\n",
       "      <td>0.000000e+00</td>\n",
       "      <td>0.000000e+00</td>\n",
       "      <td>0.000000e+00</td>\n",
       "      <td>2.766029e-04</td>\n",
       "      <td>0.000000e+00</td>\n",
       "      <td>...</td>\n",
       "      <td>6.727140e-08</td>\n",
       "      <td>2.501490e-07</td>\n",
       "      <td>2.760661e-07</td>\n",
       "      <td>2.558886e-06</td>\n",
       "      <td>8.317131e-07</td>\n",
       "      <td>3.269597e-07</td>\n",
       "      <td>1.118129e-06</td>\n",
       "      <td>9.681588e-08</td>\n",
       "      <td>5.247878e-07</td>\n",
       "      <td>2.965591e-07</td>\n",
       "    </tr>\n",
       "    <tr>\n",
       "      <th>Oil seeds</th>\n",
       "      <td>NaN</td>\n",
       "      <td>0.000000e+00</td>\n",
       "      <td>0.000000e+00</td>\n",
       "      <td>0.000000e+00</td>\n",
       "      <td>3.915943e-03</td>\n",
       "      <td>0.000000e+00</td>\n",
       "      <td>0.000000e+00</td>\n",
       "      <td>0.000000e+00</td>\n",
       "      <td>0.000000e+00</td>\n",
       "      <td>0.000000e+00</td>\n",
       "      <td>...</td>\n",
       "      <td>1.684448e-09</td>\n",
       "      <td>1.415283e-08</td>\n",
       "      <td>1.746518e-08</td>\n",
       "      <td>1.954468e-07</td>\n",
       "      <td>5.756010e-08</td>\n",
       "      <td>3.502194e-08</td>\n",
       "      <td>1.332556e-08</td>\n",
       "      <td>7.739246e-09</td>\n",
       "      <td>3.918427e-08</td>\n",
       "      <td>2.271430e-08</td>\n",
       "    </tr>\n",
       "    <tr>\n",
       "      <th>...</th>\n",
       "      <th>...</th>\n",
       "      <td>...</td>\n",
       "      <td>...</td>\n",
       "      <td>...</td>\n",
       "      <td>...</td>\n",
       "      <td>...</td>\n",
       "      <td>...</td>\n",
       "      <td>...</td>\n",
       "      <td>...</td>\n",
       "      <td>...</td>\n",
       "      <td>...</td>\n",
       "      <td>...</td>\n",
       "      <td>...</td>\n",
       "      <td>...</td>\n",
       "      <td>...</td>\n",
       "      <td>...</td>\n",
       "      <td>...</td>\n",
       "      <td>...</td>\n",
       "      <td>...</td>\n",
       "      <td>...</td>\n",
       "      <td>...</td>\n",
       "      <td>...</td>\n",
       "    </tr>\n",
       "    <tr>\n",
       "      <th rowspan=\"5\" valign=\"top\">RoW Middle East</th>\n",
       "      <th>Real estate</th>\n",
       "      <td>NaN</td>\n",
       "      <td>1.083429e-06</td>\n",
       "      <td>9.850312e-07</td>\n",
       "      <td>9.541257e-07</td>\n",
       "      <td>5.375929e-07</td>\n",
       "      <td>1.153877e-06</td>\n",
       "      <td>6.279709e-08</td>\n",
       "      <td>1.082516e-06</td>\n",
       "      <td>1.076605e-06</td>\n",
       "      <td>3.908722e-07</td>\n",
       "      <td>...</td>\n",
       "      <td>3.506838e-03</td>\n",
       "      <td>8.985117e-03</td>\n",
       "      <td>8.379839e-03</td>\n",
       "      <td>1.278856e-03</td>\n",
       "      <td>5.432346e-03</td>\n",
       "      <td>2.978508e-02</td>\n",
       "      <td>1.127629e-02</td>\n",
       "      <td>8.115323e-05</td>\n",
       "      <td>1.305592e-02</td>\n",
       "      <td>1.728926e-02</td>\n",
       "    </tr>\n",
       "    <tr>\n",
       "      <th>Hotel_Restaurant</th>\n",
       "      <td>NaN</td>\n",
       "      <td>1.559697e-05</td>\n",
       "      <td>1.425881e-05</td>\n",
       "      <td>1.394905e-05</td>\n",
       "      <td>7.973566e-06</td>\n",
       "      <td>1.681642e-05</td>\n",
       "      <td>0.000000e+00</td>\n",
       "      <td>1.556570e-05</td>\n",
       "      <td>1.652747e-05</td>\n",
       "      <td>6.719817e-06</td>\n",
       "      <td>...</td>\n",
       "      <td>1.746204e-02</td>\n",
       "      <td>7.294135e-03</td>\n",
       "      <td>6.844745e-03</td>\n",
       "      <td>5.102317e-03</td>\n",
       "      <td>6.569296e-03</td>\n",
       "      <td>2.747157e-03</td>\n",
       "      <td>4.974488e-03</td>\n",
       "      <td>8.961082e-04</td>\n",
       "      <td>1.121224e-02</td>\n",
       "      <td>9.952294e-03</td>\n",
       "    </tr>\n",
       "    <tr>\n",
       "      <th>Commerce</th>\n",
       "      <td>NaN</td>\n",
       "      <td>1.065614e-05</td>\n",
       "      <td>7.073383e-06</td>\n",
       "      <td>5.310118e-06</td>\n",
       "      <td>1.110521e-05</td>\n",
       "      <td>1.833526e-05</td>\n",
       "      <td>1.672716e-05</td>\n",
       "      <td>8.992249e-06</td>\n",
       "      <td>1.076951e-05</td>\n",
       "      <td>3.760968e-06</td>\n",
       "      <td>...</td>\n",
       "      <td>4.052270e-02</td>\n",
       "      <td>9.094253e-02</td>\n",
       "      <td>7.909061e-02</td>\n",
       "      <td>9.697367e-02</td>\n",
       "      <td>6.169805e-02</td>\n",
       "      <td>1.449318e-02</td>\n",
       "      <td>4.129888e-02</td>\n",
       "      <td>3.592878e-02</td>\n",
       "      <td>3.264140e-02</td>\n",
       "      <td>3.630164e-02</td>\n",
       "    </tr>\n",
       "    <tr>\n",
       "      <th>Other_Business_Services</th>\n",
       "      <td>NaN</td>\n",
       "      <td>3.358780e-04</td>\n",
       "      <td>3.006107e-04</td>\n",
       "      <td>2.573084e-04</td>\n",
       "      <td>1.717035e-04</td>\n",
       "      <td>3.644505e-04</td>\n",
       "      <td>4.286416e-05</td>\n",
       "      <td>3.334701e-04</td>\n",
       "      <td>3.132007e-04</td>\n",
       "      <td>9.503655e-05</td>\n",
       "      <td>...</td>\n",
       "      <td>2.230752e-01</td>\n",
       "      <td>1.493678e-01</td>\n",
       "      <td>1.449108e-01</td>\n",
       "      <td>5.686346e-02</td>\n",
       "      <td>1.101255e-01</td>\n",
       "      <td>1.190905e-01</td>\n",
       "      <td>5.980548e-02</td>\n",
       "      <td>6.876590e-02</td>\n",
       "      <td>2.358534e-01</td>\n",
       "      <td>1.280771e-01</td>\n",
       "    </tr>\n",
       "    <tr>\n",
       "      <th>Public_Services</th>\n",
       "      <td>NaN</td>\n",
       "      <td>1.566461e-07</td>\n",
       "      <td>1.435798e-07</td>\n",
       "      <td>1.409723e-07</td>\n",
       "      <td>8.124841e-08</td>\n",
       "      <td>1.698833e-07</td>\n",
       "      <td>0.000000e+00</td>\n",
       "      <td>1.562246e-07</td>\n",
       "      <td>1.711307e-07</td>\n",
       "      <td>1.838764e-07</td>\n",
       "      <td>...</td>\n",
       "      <td>1.177440e-03</td>\n",
       "      <td>7.190032e-03</td>\n",
       "      <td>6.610158e-03</td>\n",
       "      <td>1.383759e-03</td>\n",
       "      <td>3.545463e-03</td>\n",
       "      <td>3.815081e-03</td>\n",
       "      <td>7.018915e-04</td>\n",
       "      <td>1.028837e-03</td>\n",
       "      <td>2.598079e-03</td>\n",
       "      <td>9.525527e-03</td>\n",
       "    </tr>\n",
       "  </tbody>\n",
       "</table>\n",
       "<p>4263 rows × 4263 columns</p>\n",
       "</div>"
      ],
      "text/plain": [
       "region                                     Austria                \\\n",
       "sector                                  Paddy rice         Wheat   \n",
       "region          sector                                             \n",
       "Austria         Paddy rice                     NaN  0.000000e+00   \n",
       "                Wheat                          NaN  3.297235e-02   \n",
       "                Cereal grains nec              NaN  0.000000e+00   \n",
       "                Vegetables, fruit, nuts        NaN  0.000000e+00   \n",
       "                Oil seeds                      NaN  0.000000e+00   \n",
       "...                                            ...           ...   \n",
       "RoW Middle East Real estate                    NaN  1.083429e-06   \n",
       "                Hotel_Restaurant               NaN  1.559697e-05   \n",
       "                Commerce                       NaN  1.065614e-05   \n",
       "                Other_Business_Services        NaN  3.358780e-04   \n",
       "                Public_Services                NaN  1.566461e-07   \n",
       "\n",
       "region                                                     \\\n",
       "sector                                  Cereal grains nec   \n",
       "region          sector                                      \n",
       "Austria         Paddy rice                   0.000000e+00   \n",
       "                Wheat                        0.000000e+00   \n",
       "                Cereal grains nec            1.467618e-02   \n",
       "                Vegetables, fruit, nuts      0.000000e+00   \n",
       "                Oil seeds                    0.000000e+00   \n",
       "...                                                   ...   \n",
       "RoW Middle East Real estate                  9.850312e-07   \n",
       "                Hotel_Restaurant             1.425881e-05   \n",
       "                Commerce                     7.073383e-06   \n",
       "                Other_Business_Services      3.006107e-04   \n",
       "                Public_Services              1.435798e-07   \n",
       "\n",
       "region                                                                         \\\n",
       "sector                                  Vegetables, fruit, nuts     Oil seeds   \n",
       "region          sector                                                          \n",
       "Austria         Paddy rice                         0.000000e+00  0.000000e+00   \n",
       "                Wheat                              0.000000e+00  0.000000e+00   \n",
       "                Cereal grains nec                  0.000000e+00  0.000000e+00   \n",
       "                Vegetables, fruit, nuts            7.232664e-02  0.000000e+00   \n",
       "                Oil seeds                          0.000000e+00  3.915943e-03   \n",
       "...                                                         ...           ...   \n",
       "RoW Middle East Real estate                        9.541257e-07  5.375929e-07   \n",
       "                Hotel_Restaurant                   1.394905e-05  7.973566e-06   \n",
       "                Commerce                           5.310118e-06  1.110521e-05   \n",
       "                Other_Business_Services            2.573084e-04  1.717035e-04   \n",
       "                Public_Services                    1.409723e-07  8.124841e-08   \n",
       "\n",
       "region                                                          \\\n",
       "sector                                  Sugar cane, sugar beet   \n",
       "region          sector                                           \n",
       "Austria         Paddy rice                        0.000000e+00   \n",
       "                Wheat                             0.000000e+00   \n",
       "                Cereal grains nec                 0.000000e+00   \n",
       "                Vegetables, fruit, nuts           0.000000e+00   \n",
       "                Oil seeds                         0.000000e+00   \n",
       "...                                                        ...   \n",
       "RoW Middle East Real estate                       1.153877e-06   \n",
       "                Hotel_Restaurant                  1.681642e-05   \n",
       "                Commerce                          1.833526e-05   \n",
       "                Other_Business_Services           3.644505e-04   \n",
       "                Public_Services                   1.698833e-07   \n",
       "\n",
       "region                                                                    \\\n",
       "sector                                  Plant-based fibers     Crops nec   \n",
       "region          sector                                                     \n",
       "Austria         Paddy rice                    0.000000e+00  0.000000e+00   \n",
       "                Wheat                         0.000000e+00  2.841906e-03   \n",
       "                Cereal grains nec             0.000000e+00  2.155843e-03   \n",
       "                Vegetables, fruit, nuts       0.000000e+00  0.000000e+00   \n",
       "                Oil seeds                     0.000000e+00  0.000000e+00   \n",
       "...                                                    ...           ...   \n",
       "RoW Middle East Real estate                   6.279709e-08  1.082516e-06   \n",
       "                Hotel_Restaurant              0.000000e+00  1.556570e-05   \n",
       "                Commerce                      1.672716e-05  8.992249e-06   \n",
       "                Other_Business_Services       4.286416e-05  3.334701e-04   \n",
       "                Public_Services               0.000000e+00  1.562246e-07   \n",
       "\n",
       "region                                                               ...  \\\n",
       "sector                                   Farm_animals      Forestry  ...   \n",
       "region          sector                                               ...   \n",
       "Austria         Paddy rice               0.000000e+00  0.000000e+00  ...   \n",
       "                Wheat                    2.907409e-03  0.000000e+00  ...   \n",
       "                Cereal grains nec        4.541870e-02  0.000000e+00  ...   \n",
       "                Vegetables, fruit, nuts  2.766029e-04  0.000000e+00  ...   \n",
       "                Oil seeds                0.000000e+00  0.000000e+00  ...   \n",
       "...                                               ...           ...  ...   \n",
       "RoW Middle East Real estate              1.076605e-06  3.908722e-07  ...   \n",
       "                Hotel_Restaurant         1.652747e-05  6.719817e-06  ...   \n",
       "                Commerce                 1.076951e-05  3.760968e-06  ...   \n",
       "                Other_Business_Services  3.132007e-04  9.503655e-05  ...   \n",
       "                Public_Services          1.711307e-07  1.838764e-07  ...   \n",
       "\n",
       "region                                  RoW Middle East  \\\n",
       "sector                                    Air_transport   \n",
       "region          sector                                    \n",
       "Austria         Paddy rice                 0.000000e+00   \n",
       "                Wheat                      3.042298e-10   \n",
       "                Cereal grains nec          0.000000e+00   \n",
       "                Vegetables, fruit, nuts    6.727140e-08   \n",
       "                Oil seeds                  1.684448e-09   \n",
       "...                                                 ...   \n",
       "RoW Middle East Real estate                3.506838e-03   \n",
       "                Hotel_Restaurant           1.746204e-02   \n",
       "                Commerce                   4.052270e-02   \n",
       "                Other_Business_Services    2.230752e-01   \n",
       "                Public_Services            1.177440e-03   \n",
       "\n",
       "region                                                           \\\n",
       "sector                                  Wood_Waste_incineration   \n",
       "region          sector                                            \n",
       "Austria         Paddy rice                         0.000000e+00   \n",
       "                Wheat                              7.696287e-10   \n",
       "                Cereal grains nec                  0.000000e+00   \n",
       "                Vegetables, fruit, nuts            2.501490e-07   \n",
       "                Oil seeds                          1.415283e-08   \n",
       "...                                                         ...   \n",
       "RoW Middle East Real estate                        8.985117e-03   \n",
       "                Hotel_Restaurant                   7.294135e-03   \n",
       "                Commerce                           9.094253e-02   \n",
       "                Other_Business_Services            1.493678e-01   \n",
       "                Public_Services                    7.190032e-03   \n",
       "\n",
       "region                                                            \\\n",
       "sector                                  Other_Waste_incineration   \n",
       "region          sector                                             \n",
       "Austria         Paddy rice                          0.000000e+00   \n",
       "                Wheat                               7.601639e-10   \n",
       "                Cereal grains nec                   0.000000e+00   \n",
       "                Vegetables, fruit, nuts             2.760661e-07   \n",
       "                Oil seeds                           1.746518e-08   \n",
       "...                                                          ...   \n",
       "RoW Middle East Real estate                         8.379839e-03   \n",
       "                Hotel_Restaurant                    6.844745e-03   \n",
       "                Commerce                            7.909061e-02   \n",
       "                Other_Business_Services             1.449108e-01   \n",
       "                Public_Services                     6.610158e-03   \n",
       "\n",
       "region                                                 \\\n",
       "sector                                       Landfill   \n",
       "region          sector                                  \n",
       "Austria         Paddy rice               0.000000e+00   \n",
       "                Wheat                    7.157933e-09   \n",
       "                Cereal grains nec        0.000000e+00   \n",
       "                Vegetables, fruit, nuts  2.558886e-06   \n",
       "                Oil seeds                1.954468e-07   \n",
       "...                                               ...   \n",
       "RoW Middle East Real estate              1.278856e-03   \n",
       "                Hotel_Restaurant         5.102317e-03   \n",
       "                Commerce                 9.697367e-02   \n",
       "                Other_Business_Services  5.686346e-02   \n",
       "                Public_Services          1.383759e-03   \n",
       "\n",
       "region                                                               \\\n",
       "sector                                  Water_Other_waste_Treatment   \n",
       "region          sector                                                \n",
       "Austria         Paddy rice                             0.000000e+00   \n",
       "                Wheat                                  1.724366e-09   \n",
       "                Cereal grains nec                      0.000000e+00   \n",
       "                Vegetables, fruit, nuts                8.317131e-07   \n",
       "                Oil seeds                              5.756010e-08   \n",
       "...                                                             ...   \n",
       "RoW Middle East Real estate                            5.432346e-03   \n",
       "                Hotel_Restaurant                       6.569296e-03   \n",
       "                Commerce                               6.169805e-02   \n",
       "                Other_Business_Services                1.101255e-01   \n",
       "                Public_Services                        3.545463e-03   \n",
       "\n",
       "region                                                                  \\\n",
       "sector                                    Real estate Hotel_Restaurant   \n",
       "region          sector                                                   \n",
       "Austria         Paddy rice               0.000000e+00     0.000000e+00   \n",
       "                Wheat                    8.445688e-10     1.125998e-09   \n",
       "                Cereal grains nec        0.000000e+00     0.000000e+00   \n",
       "                Vegetables, fruit, nuts  3.269597e-07     1.118129e-06   \n",
       "                Oil seeds                3.502194e-08     1.332556e-08   \n",
       "...                                               ...              ...   \n",
       "RoW Middle East Real estate              2.978508e-02     1.127629e-02   \n",
       "                Hotel_Restaurant         2.747157e-03     4.974488e-03   \n",
       "                Commerce                 1.449318e-02     4.129888e-02   \n",
       "                Other_Business_Services  1.190905e-01     5.980548e-02   \n",
       "                Public_Services          3.815081e-03     7.018915e-04   \n",
       "\n",
       "region                                                                         \\\n",
       "sector                                       Commerce Other_Business_Services   \n",
       "region          sector                                                          \n",
       "Austria         Paddy rice               0.000000e+00            0.000000e+00   \n",
       "                Wheat                    3.016092e-10            7.884114e-10   \n",
       "                Cereal grains nec        0.000000e+00            0.000000e+00   \n",
       "                Vegetables, fruit, nuts  9.681588e-08            5.247878e-07   \n",
       "                Oil seeds                7.739246e-09            3.918427e-08   \n",
       "...                                               ...                     ...   \n",
       "RoW Middle East Real estate              8.115323e-05            1.305592e-02   \n",
       "                Hotel_Restaurant         8.961082e-04            1.121224e-02   \n",
       "                Commerce                 3.592878e-02            3.264140e-02   \n",
       "                Other_Business_Services  6.876590e-02            2.358534e-01   \n",
       "                Public_Services          1.028837e-03            2.598079e-03   \n",
       "\n",
       "region                                                   \n",
       "sector                                  Public_Services  \n",
       "region          sector                                   \n",
       "Austria         Paddy rice                 0.000000e+00  \n",
       "                Wheat                      3.759115e-10  \n",
       "                Cereal grains nec          0.000000e+00  \n",
       "                Vegetables, fruit, nuts    2.965591e-07  \n",
       "                Oil seeds                  2.271430e-08  \n",
       "...                                                 ...  \n",
       "RoW Middle East Real estate                1.728926e-02  \n",
       "                Hotel_Restaurant           9.952294e-03  \n",
       "                Commerce                   3.630164e-02  \n",
       "                Other_Business_Services    1.280771e-01  \n",
       "                Public_Services            9.525527e-03  \n",
       "\n",
       "[4263 rows x 4263 columns]"
      ]
     },
     "execution_count": 26,
     "metadata": {},
     "output_type": "execute_result"
    }
   ],
   "source": []
  },
  {
   "cell_type": "code",
   "execution_count": 9,
   "metadata": {},
   "outputs": [],
   "source": [
    "from  src.utils import recal_stressor_per_region"
   ]
  },
  {
   "cell_type": "code",
   "execution_count": 4,
   "metadata": {},
   "outputs": [
    {
     "data": {
      "text/html": [
       "<div>\n",
       "<style scoped>\n",
       "    .dataframe tbody tr th:only-of-type {\n",
       "        vertical-align: middle;\n",
       "    }\n",
       "\n",
       "    .dataframe tbody tr th {\n",
       "        vertical-align: top;\n",
       "    }\n",
       "\n",
       "    .dataframe thead tr th {\n",
       "        text-align: left;\n",
       "    }\n",
       "</style>\n",
       "<table border=\"1\" class=\"dataframe\">\n",
       "  <thead>\n",
       "    <tr>\n",
       "      <th>region</th>\n",
       "      <th colspan=\"10\" halign=\"left\">AFR</th>\n",
       "      <th>...</th>\n",
       "      <th colspan=\"10\" halign=\"left\">USA</th>\n",
       "    </tr>\n",
       "    <tr>\n",
       "      <th>sector</th>\n",
       "      <th>Agriculture</th>\n",
       "      <th>Air</th>\n",
       "      <th>Coal</th>\n",
       "      <th>Construction</th>\n",
       "      <th>Elec</th>\n",
       "      <th>Gas</th>\n",
       "      <th>Industry</th>\n",
       "      <th>Liquid fuels</th>\n",
       "      <th>Maritime</th>\n",
       "      <th>Oil</th>\n",
       "      <th>...</th>\n",
       "      <th>Coal</th>\n",
       "      <th>Construction</th>\n",
       "      <th>Elec</th>\n",
       "      <th>Gas</th>\n",
       "      <th>Industry</th>\n",
       "      <th>Liquid fuels</th>\n",
       "      <th>Maritime</th>\n",
       "      <th>Oil</th>\n",
       "      <th>Services</th>\n",
       "      <th>Terrestrial transport</th>\n",
       "    </tr>\n",
       "  </thead>\n",
       "  <tbody>\n",
       "    <tr>\n",
       "      <th>CO2 - combustion</th>\n",
       "      <td>5.338270e+04</td>\n",
       "      <td>718425.561130</td>\n",
       "      <td>1.092772e+06</td>\n",
       "      <td>123256.048928</td>\n",
       "      <td>7.746222e+06</td>\n",
       "      <td>1.260003e+06</td>\n",
       "      <td>204938.884015</td>\n",
       "      <td>314074.001139</td>\n",
       "      <td>119525.403970</td>\n",
       "      <td>1.108133e+05</td>\n",
       "      <td>...</td>\n",
       "      <td>313761.510105</td>\n",
       "      <td>43709.621684</td>\n",
       "      <td>5.275312e+06</td>\n",
       "      <td>1.222799e+06</td>\n",
       "      <td>95280.486048</td>\n",
       "      <td>368557.509974</td>\n",
       "      <td>765322.677532</td>\n",
       "      <td>4.911334e+05</td>\n",
       "      <td>11518.050602</td>\n",
       "      <td>123626.630078</td>\n",
       "    </tr>\n",
       "    <tr>\n",
       "      <th>CO2 - other</th>\n",
       "      <td>9.113891e+03</td>\n",
       "      <td>3014.766753</td>\n",
       "      <td>1.190153e+04</td>\n",
       "      <td>180310.276770</td>\n",
       "      <td>1.024044e+04</td>\n",
       "      <td>7.750485e+03</td>\n",
       "      <td>14323.652732</td>\n",
       "      <td>1956.712774</td>\n",
       "      <td>688.000472</td>\n",
       "      <td>7.053872e+02</td>\n",
       "      <td>...</td>\n",
       "      <td>0.012072</td>\n",
       "      <td>46105.364056</td>\n",
       "      <td>0.000000e+00</td>\n",
       "      <td>6.129270e-02</td>\n",
       "      <td>364.664269</td>\n",
       "      <td>21.088256</td>\n",
       "      <td>0.000000</td>\n",
       "      <td>4.418218e-01</td>\n",
       "      <td>3.587393</td>\n",
       "      <td>1.981176</td>\n",
       "    </tr>\n",
       "    <tr>\n",
       "      <th>CH4</th>\n",
       "      <td>1.438156e+06</td>\n",
       "      <td>156162.396902</td>\n",
       "      <td>5.993423e+06</td>\n",
       "      <td>32223.863588</td>\n",
       "      <td>2.633629e+05</td>\n",
       "      <td>2.144745e+06</td>\n",
       "      <td>546369.293288</td>\n",
       "      <td>621547.274966</td>\n",
       "      <td>435.660192</td>\n",
       "      <td>2.735771e+06</td>\n",
       "      <td>...</td>\n",
       "      <td>991827.323658</td>\n",
       "      <td>45.961185</td>\n",
       "      <td>6.713527e+03</td>\n",
       "      <td>4.265038e+05</td>\n",
       "      <td>27221.768345</td>\n",
       "      <td>96793.628352</td>\n",
       "      <td>610.619636</td>\n",
       "      <td>1.056062e+06</td>\n",
       "      <td>221.607741</td>\n",
       "      <td>8282.570468</td>\n",
       "    </tr>\n",
       "    <tr>\n",
       "      <th>N2O</th>\n",
       "      <td>7.412611e+05</td>\n",
       "      <td>9915.360848</td>\n",
       "      <td>5.435496e+04</td>\n",
       "      <td>13162.671975</td>\n",
       "      <td>1.185237e+05</td>\n",
       "      <td>6.125344e+04</td>\n",
       "      <td>66958.410857</td>\n",
       "      <td>2294.894445</td>\n",
       "      <td>185.641279</td>\n",
       "      <td>2.576261e+03</td>\n",
       "      <td>...</td>\n",
       "      <td>1667.072915</td>\n",
       "      <td>192.468790</td>\n",
       "      <td>4.536317e+04</td>\n",
       "      <td>6.891534e+03</td>\n",
       "      <td>1336.049292</td>\n",
       "      <td>1389.441272</td>\n",
       "      <td>2729.740171</td>\n",
       "      <td>5.247934e+02</td>\n",
       "      <td>106.349177</td>\n",
       "      <td>1165.575399</td>\n",
       "    </tr>\n",
       "    <tr>\n",
       "      <th>SF6</th>\n",
       "      <td>6.388987e+02</td>\n",
       "      <td>202.924811</td>\n",
       "      <td>2.732942e+04</td>\n",
       "      <td>149.210570</td>\n",
       "      <td>3.473807e+02</td>\n",
       "      <td>8.549382e+02</td>\n",
       "      <td>1865.042080</td>\n",
       "      <td>907.560927</td>\n",
       "      <td>0.000397</td>\n",
       "      <td>1.909239e+01</td>\n",
       "      <td>...</td>\n",
       "      <td>9612.065050</td>\n",
       "      <td>36.164977</td>\n",
       "      <td>3.534529e+01</td>\n",
       "      <td>7.864493e+02</td>\n",
       "      <td>3193.988056</td>\n",
       "      <td>772.533336</td>\n",
       "      <td>0.000000</td>\n",
       "      <td>4.914951e+02</td>\n",
       "      <td>0.147536</td>\n",
       "      <td>74.719605</td>\n",
       "    </tr>\n",
       "    <tr>\n",
       "      <th>HFC</th>\n",
       "      <td>1.155491e+03</td>\n",
       "      <td>286.595098</td>\n",
       "      <td>4.808112e+04</td>\n",
       "      <td>250.291199</td>\n",
       "      <td>3.623205e+02</td>\n",
       "      <td>1.432695e+03</td>\n",
       "      <td>2489.238083</td>\n",
       "      <td>1448.976735</td>\n",
       "      <td>0.000387</td>\n",
       "      <td>2.010027e+01</td>\n",
       "      <td>...</td>\n",
       "      <td>180650.864713</td>\n",
       "      <td>680.681172</td>\n",
       "      <td>6.861315e+02</td>\n",
       "      <td>1.768406e+04</td>\n",
       "      <td>56458.952683</td>\n",
       "      <td>15454.879006</td>\n",
       "      <td>0.000000</td>\n",
       "      <td>1.132163e+04</td>\n",
       "      <td>2.835346</td>\n",
       "      <td>1533.099886</td>\n",
       "    </tr>\n",
       "    <tr>\n",
       "      <th>PFC</th>\n",
       "      <td>0.000000e+00</td>\n",
       "      <td>0.809023</td>\n",
       "      <td>9.887138e+01</td>\n",
       "      <td>1.139764</td>\n",
       "      <td>5.991351e+01</td>\n",
       "      <td>8.875786e+01</td>\n",
       "      <td>2547.538582</td>\n",
       "      <td>5.673486</td>\n",
       "      <td>0.000000</td>\n",
       "      <td>3.939628e+00</td>\n",
       "      <td>...</td>\n",
       "      <td>1284.072312</td>\n",
       "      <td>5.622858</td>\n",
       "      <td>4.633899e+00</td>\n",
       "      <td>1.651439e+02</td>\n",
       "      <td>793.719056</td>\n",
       "      <td>136.550856</td>\n",
       "      <td>0.000000</td>\n",
       "      <td>1.074361e+02</td>\n",
       "      <td>0.019307</td>\n",
       "      <td>13.951980</td>\n",
       "    </tr>\n",
       "  </tbody>\n",
       "</table>\n",
       "<p>7 rows × 144 columns</p>\n",
       "</div>"
      ],
      "text/plain": [
       "region                     AFR                                              \\\n",
       "sector             Agriculture            Air          Coal   Construction   \n",
       "CO2 - combustion  5.338270e+04  718425.561130  1.092772e+06  123256.048928   \n",
       "CO2 - other       9.113891e+03    3014.766753  1.190153e+04  180310.276770   \n",
       "CH4               1.438156e+06  156162.396902  5.993423e+06   32223.863588   \n",
       "N2O               7.412611e+05    9915.360848  5.435496e+04   13162.671975   \n",
       "SF6               6.388987e+02     202.924811  2.732942e+04     149.210570   \n",
       "HFC               1.155491e+03     286.595098  4.808112e+04     250.291199   \n",
       "PFC               0.000000e+00       0.809023  9.887138e+01       1.139764   \n",
       "\n",
       "region                                                                      \\\n",
       "sector                    Elec           Gas       Industry   Liquid fuels   \n",
       "CO2 - combustion  7.746222e+06  1.260003e+06  204938.884015  314074.001139   \n",
       "CO2 - other       1.024044e+04  7.750485e+03   14323.652732    1956.712774   \n",
       "CH4               2.633629e+05  2.144745e+06  546369.293288  621547.274966   \n",
       "N2O               1.185237e+05  6.125344e+04   66958.410857    2294.894445   \n",
       "SF6               3.473807e+02  8.549382e+02    1865.042080     907.560927   \n",
       "HFC               3.623205e+02  1.432695e+03    2489.238083    1448.976735   \n",
       "PFC               5.991351e+01  8.875786e+01    2547.538582       5.673486   \n",
       "\n",
       "region                                         ...            USA  \\\n",
       "sector                 Maritime           Oil  ...           Coal   \n",
       "CO2 - combustion  119525.403970  1.108133e+05  ...  313761.510105   \n",
       "CO2 - other          688.000472  7.053872e+02  ...       0.012072   \n",
       "CH4                  435.660192  2.735771e+06  ...  991827.323658   \n",
       "N2O                  185.641279  2.576261e+03  ...    1667.072915   \n",
       "SF6                    0.000397  1.909239e+01  ...    9612.065050   \n",
       "HFC                    0.000387  2.010027e+01  ...  180650.864713   \n",
       "PFC                    0.000000  3.939628e+00  ...    1284.072312   \n",
       "\n",
       "region                                                                    \\\n",
       "sector            Construction          Elec           Gas      Industry   \n",
       "CO2 - combustion  43709.621684  5.275312e+06  1.222799e+06  95280.486048   \n",
       "CO2 - other       46105.364056  0.000000e+00  6.129270e-02    364.664269   \n",
       "CH4                  45.961185  6.713527e+03  4.265038e+05  27221.768345   \n",
       "N2O                 192.468790  4.536317e+04  6.891534e+03   1336.049292   \n",
       "SF6                  36.164977  3.534529e+01  7.864493e+02   3193.988056   \n",
       "HFC                 680.681172  6.861315e+02  1.768406e+04  56458.952683   \n",
       "PFC                   5.622858  4.633899e+00  1.651439e+02    793.719056   \n",
       "\n",
       "region                                                                      \\\n",
       "sector             Liquid fuels       Maritime           Oil      Services   \n",
       "CO2 - combustion  368557.509974  765322.677532  4.911334e+05  11518.050602   \n",
       "CO2 - other           21.088256       0.000000  4.418218e-01      3.587393   \n",
       "CH4                96793.628352     610.619636  1.056062e+06    221.607741   \n",
       "N2O                 1389.441272    2729.740171  5.247934e+02    106.349177   \n",
       "SF6                  772.533336       0.000000  4.914951e+02      0.147536   \n",
       "HFC                15454.879006       0.000000  1.132163e+04      2.835346   \n",
       "PFC                  136.550856       0.000000  1.074361e+02      0.019307   \n",
       "\n",
       "region                                  \n",
       "sector           Terrestrial transport  \n",
       "CO2 - combustion         123626.630078  \n",
       "CO2 - other                   1.981176  \n",
       "CH4                        8282.570468  \n",
       "N2O                        1165.575399  \n",
       "SF6                          74.719605  \n",
       "HFC                        1533.099886  \n",
       "PFC                          13.951980  \n",
       "\n",
       "[7 rows x 144 columns]"
      ]
     },
     "execution_count": 4,
     "metadata": {},
     "output_type": "execute_result"
    }
   ],
   "source": [
    "model.iot.stressor_extension.S"
   ]
  },
  {
   "cell_type": "code",
   "execution_count": 5,
   "metadata": {},
   "outputs": [
    {
     "ename": "AttributeError",
     "evalue": "'list' object has no attribute 'drop'",
     "output_type": "error",
     "traceback": [
      "\u001b[0;31m---------------------------------------------------------------------------\u001b[0m",
      "\u001b[0;31mAttributeError\u001b[0m                            Traceback (most recent call last)",
      "Cell \u001b[0;32mIn [5], line 1\u001b[0m\n\u001b[0;32m----> 1\u001b[0m model\u001b[39m.\u001b[39;49mregions\u001b[39m.\u001b[39;49mdrop(\u001b[39m\"\u001b[39m\u001b[39mFR\u001b[39m\u001b[39m\"\u001b[39m)\n",
      "\u001b[0;31mAttributeError\u001b[0m: 'list' object has no attribute 'drop'"
     ]
    }
   ],
   "source": []
  },
  {
   "cell_type": "code",
   "execution_count": null,
   "metadata": {},
   "outputs": [],
   "source": []
  }
 ],
 "metadata": {
  "kernelspec": {
   "display_name": "Python 3.8.15 ('MatMat-Trade-env')",
   "language": "python",
   "name": "python3"
  },
  "language_info": {
   "codemirror_mode": {
    "name": "ipython",
    "version": 3
   },
   "file_extension": ".py",
   "mimetype": "text/x-python",
   "name": "python",
   "nbconvert_exporter": "python",
   "pygments_lexer": "ipython3",
   "version": "3.8.15"
  },
  "orig_nbformat": 4,
  "vscode": {
   "interpreter": {
    "hash": "e11108c26ae3da575e6cf5b51acda3aee1dc7823ad90f1b166eeb8927eee6f92"
   }
  }
 },
 "nbformat": 4,
 "nbformat_minor": 2
}
